{
 "cells": [
  {
   "cell_type": "markdown",
   "id": "3f2dc42e",
   "metadata": {},
   "source": [
    "#  Название проекта: Аналитический кейс стартапа, который продаёт продукты питания"
   ]
  },
  {
   "cell_type": "markdown",
   "id": "d08656cf",
   "metadata": {},
   "source": [
    "**Описание исследования.**\n",
    "\n",
    "Нужно разобраться, как ведут себя пользователи мобильного приложения. Исследовать результаты A/A/B-эксперимента.\n",
    "\n",
    "**Цель исследования.**\n",
    "\n",
    "- Изучить воронку продаж. Узнать, как пользователи доходят до покупки. Сколько пользователей доходит до покупки, а сколько — «застревает» на предыдущих шагах. На каких именно шагах.\n",
    "\n",
    "- Выяснить, какой шрифт лучше: дизайнеры захотели поменять шрифты во всём приложении, а менеджеры испугались, что пользователям будет непривычно. Договорились принять решение по результатам A/A/B-теста. Пользователей разбили на 3 группы: 2 контрольные со старыми шрифтами и одну экспериментальную — с новыми.\n",
    "\n",
    "**Задачи исследования.**\n",
    "\n",
    "- выгрузить датасеты и изучить по ними общую информацию;\n",
    "- подготовьте данные: проверить названия столбцов, проверьть пропуски и типы данных;\n",
    "- изучить данные;\n",
    "- изучить воронку событий;\n",
    "- изучить результаты эксперимента;\n",
    "- сделать выводы и рекомендации.\n",
    "\n",
    "**Исходные данные.**\n",
    "\n",
    "В нашем распоряжении датасет:\n",
    " - **logs_exp.csv** - каждая запись в логе — это действие пользователя, или событие\n",
    " \n",
    "Структура **logs_exp.csv:**\n",
    "\n",
    "- EventName — название события;\n",
    "- DeviceIDHash — уникальный идентификатор пользователя;\n",
    "- EventTimestamp — время события;\n",
    "- ExpId — номер эксперимента: 246 и 247 — контрольные группы, а 248 — экспериментальная\n",
    "\n",
    "\n",
    "\n",
    "**Данное исследование разделим на несколько частей.**\n",
    "\n",
    "***Часть 1. Изучение общей информации и подготовка данных:***\n",
    "\n",
    "* [1. Изучение файлов с данными, получение общей информации, загрузка библиотек](#1.1-bullet)\n",
    "* [2. Замена названий столбцов](#1.2-bullet)\n",
    "* [3. Обработка дубликатов](#1.3-bullet)\n",
    "* [4. Обработка типов данных](#1.3-bullet)\n",
    "* [5. Проверка данных](#1.4-bullet)\n",
    "\n",
    "***Часть 2. Воронка событий:***\n",
    "\n",
    "* [1. События в логах](#2.1-bullet)\n",
    "* [2. Распределение событий по числу пользователей](#2.2-bullet)\n",
    "* [3. Визуализация воронки событий](#2.3-bullet)\n",
    "* [4. Конверсия событий среди пользователей](#2.4-bullet)\n",
    "\n",
    "***Часть 3. Результаты эксперимента:***\n",
    "\n",
    "* [1. Функция для проверки статистически достоверных отличий между группами](#3.1-bullet)\n",
    "* [2. Уровень статистической значимости alpha](#3.2-bullet)\n",
    "* [3. Статистические отличия между выборками контрольной - 246 и контрольной - 247](#3.3-bullet)\n",
    "* [4. Статистические отличия между выборками контрольной - 246 и экспериментальной - 248](#3.4-bullet)\n",
    "* [5. Статистические отличия между выборками контрольной - 247 и экспериментальной - 248](#3.5-bullet)\n",
    "* [6. Статистические отличия между объединённой контрольной группой - 246+247 и экспериментальной - 248](#3.6-bullet)\n",
    "\n",
    "[***ВЫВОД***](#4-bullet)"
   ]
  },
  {
   "cell_type": "markdown",
   "id": "1cdf31bd",
   "metadata": {},
   "source": [
    "## Загрузка данных и подготовка их к анализу"
   ]
  },
  {
   "cell_type": "code",
   "execution_count": 1,
   "id": "cb563f10",
   "metadata": {},
   "outputs": [],
   "source": [
    "# импортировали библиотеки Pyhton для проведения исследования\n",
    "import pandas as pd \n",
    "from matplotlib import pyplot as plt\n",
    "import numpy as np\n",
    "import math as mth\n",
    "import datetime as dt\n",
    "import plotly.express as px\n",
    "from scipy import stats as st\n",
    "import warnings\n",
    "warnings.filterwarnings('ignore')"
   ]
  },
  {
   "cell_type": "markdown",
   "id": "a8130ffe",
   "metadata": {},
   "source": [
    "<a id='1.1-bullet'></a>\n",
    "### Считывание CSV-файлов с данными с помощью библиотеки pandas"
   ]
  },
  {
   "cell_type": "code",
   "execution_count": 2,
   "id": "a1c9958d",
   "metadata": {},
   "outputs": [],
   "source": [
    "# считали файл из csv-файла в переменную\n",
    "try:\n",
    "    logs = pd.read_csv('/datasets/logs_exp.csv', sep='\\t')\n",
    "except:\n",
    "    logs = pd.read_csv('logs_exp.csv', sep='\\t')"
   ]
  },
  {
   "cell_type": "code",
   "execution_count": 3,
   "id": "e54f7ea1",
   "metadata": {},
   "outputs": [],
   "source": [
    "# создали функцию для просмотра и вывода информации датафрейма\n",
    "def info(df):\n",
    "    display(df.head(10))\n",
    "    print(df.info(), '*'*50, sep='\\n')\n",
    "    print(df.duplicated().sum(), '*'*50, sep='\\n');"
   ]
  },
  {
   "cell_type": "code",
   "execution_count": 4,
   "id": "b37ac89a",
   "metadata": {},
   "outputs": [
    {
     "data": {
      "text/html": [
       "<div>\n",
       "<style scoped>\n",
       "    .dataframe tbody tr th:only-of-type {\n",
       "        vertical-align: middle;\n",
       "    }\n",
       "\n",
       "    .dataframe tbody tr th {\n",
       "        vertical-align: top;\n",
       "    }\n",
       "\n",
       "    .dataframe thead th {\n",
       "        text-align: right;\n",
       "    }\n",
       "</style>\n",
       "<table border=\"1\" class=\"dataframe\">\n",
       "  <thead>\n",
       "    <tr style=\"text-align: right;\">\n",
       "      <th></th>\n",
       "      <th>EventName</th>\n",
       "      <th>DeviceIDHash</th>\n",
       "      <th>EventTimestamp</th>\n",
       "      <th>ExpId</th>\n",
       "    </tr>\n",
       "  </thead>\n",
       "  <tbody>\n",
       "    <tr>\n",
       "      <th>0</th>\n",
       "      <td>MainScreenAppear</td>\n",
       "      <td>4575588528974610257</td>\n",
       "      <td>1564029816</td>\n",
       "      <td>246</td>\n",
       "    </tr>\n",
       "    <tr>\n",
       "      <th>1</th>\n",
       "      <td>MainScreenAppear</td>\n",
       "      <td>7416695313311560658</td>\n",
       "      <td>1564053102</td>\n",
       "      <td>246</td>\n",
       "    </tr>\n",
       "    <tr>\n",
       "      <th>2</th>\n",
       "      <td>PaymentScreenSuccessful</td>\n",
       "      <td>3518123091307005509</td>\n",
       "      <td>1564054127</td>\n",
       "      <td>248</td>\n",
       "    </tr>\n",
       "    <tr>\n",
       "      <th>3</th>\n",
       "      <td>CartScreenAppear</td>\n",
       "      <td>3518123091307005509</td>\n",
       "      <td>1564054127</td>\n",
       "      <td>248</td>\n",
       "    </tr>\n",
       "    <tr>\n",
       "      <th>4</th>\n",
       "      <td>PaymentScreenSuccessful</td>\n",
       "      <td>6217807653094995999</td>\n",
       "      <td>1564055322</td>\n",
       "      <td>248</td>\n",
       "    </tr>\n",
       "    <tr>\n",
       "      <th>5</th>\n",
       "      <td>CartScreenAppear</td>\n",
       "      <td>6217807653094995999</td>\n",
       "      <td>1564055323</td>\n",
       "      <td>248</td>\n",
       "    </tr>\n",
       "    <tr>\n",
       "      <th>6</th>\n",
       "      <td>OffersScreenAppear</td>\n",
       "      <td>8351860793733343758</td>\n",
       "      <td>1564066242</td>\n",
       "      <td>246</td>\n",
       "    </tr>\n",
       "    <tr>\n",
       "      <th>7</th>\n",
       "      <td>MainScreenAppear</td>\n",
       "      <td>5682100281902512875</td>\n",
       "      <td>1564085677</td>\n",
       "      <td>246</td>\n",
       "    </tr>\n",
       "    <tr>\n",
       "      <th>8</th>\n",
       "      <td>MainScreenAppear</td>\n",
       "      <td>1850981295691852772</td>\n",
       "      <td>1564086702</td>\n",
       "      <td>247</td>\n",
       "    </tr>\n",
       "    <tr>\n",
       "      <th>9</th>\n",
       "      <td>MainScreenAppear</td>\n",
       "      <td>5407636962369102641</td>\n",
       "      <td>1564112112</td>\n",
       "      <td>246</td>\n",
       "    </tr>\n",
       "  </tbody>\n",
       "</table>\n",
       "</div>"
      ],
      "text/plain": [
       "                 EventName         DeviceIDHash  EventTimestamp  ExpId\n",
       "0         MainScreenAppear  4575588528974610257      1564029816    246\n",
       "1         MainScreenAppear  7416695313311560658      1564053102    246\n",
       "2  PaymentScreenSuccessful  3518123091307005509      1564054127    248\n",
       "3         CartScreenAppear  3518123091307005509      1564054127    248\n",
       "4  PaymentScreenSuccessful  6217807653094995999      1564055322    248\n",
       "5         CartScreenAppear  6217807653094995999      1564055323    248\n",
       "6       OffersScreenAppear  8351860793733343758      1564066242    246\n",
       "7         MainScreenAppear  5682100281902512875      1564085677    246\n",
       "8         MainScreenAppear  1850981295691852772      1564086702    247\n",
       "9         MainScreenAppear  5407636962369102641      1564112112    246"
      ]
     },
     "metadata": {},
     "output_type": "display_data"
    },
    {
     "name": "stdout",
     "output_type": "stream",
     "text": [
      "<class 'pandas.core.frame.DataFrame'>\n",
      "RangeIndex: 244126 entries, 0 to 244125\n",
      "Data columns (total 4 columns):\n",
      " #   Column          Non-Null Count   Dtype \n",
      "---  ------          --------------   ----- \n",
      " 0   EventName       244126 non-null  object\n",
      " 1   DeviceIDHash    244126 non-null  int64 \n",
      " 2   EventTimestamp  244126 non-null  int64 \n",
      " 3   ExpId           244126 non-null  int64 \n",
      "dtypes: int64(3), object(1)\n",
      "memory usage: 7.5+ MB\n",
      "None\n",
      "**************************************************\n",
      "413\n",
      "**************************************************\n"
     ]
    }
   ],
   "source": [
    "info(logs)"
   ]
  },
  {
   "cell_type": "markdown",
   "id": "c930f1d1",
   "metadata": {},
   "source": [
    "В датафрейме 244126 строк и 5 столбцов, нет пропусков, найдены дубликаты. Столбец с датой EventTimestamp представлен как временная метка в формате Timestamp. Для дальнейшего исследования необходимо будет преобразовать столбец в привычную дату и время."
   ]
  },
  {
   "cell_type": "markdown",
   "id": "ce7c3d49",
   "metadata": {},
   "source": [
    "<a id='1.2-bullet'></a>\n",
    "### Замена названий столбцов"
   ]
  },
  {
   "cell_type": "markdown",
   "id": "23f13d53",
   "metadata": {},
   "source": [
    "Заменим названия столбцов: приведем к змеиному регистру"
   ]
  },
  {
   "cell_type": "code",
   "execution_count": 5,
   "id": "57f6716e",
   "metadata": {},
   "outputs": [],
   "source": [
    "#изменили названия столбцов\n",
    "logs.columns = ['event_name', 'device_id_hash', 'event_timestamp', 'exp_id']"
   ]
  },
  {
   "cell_type": "code",
   "execution_count": 6,
   "id": "5814f475",
   "metadata": {},
   "outputs": [
    {
     "data": {
      "text/plain": [
       "Index(['event_name', 'device_id_hash', 'event_timestamp', 'exp_id'], dtype='object')"
      ]
     },
     "execution_count": 6,
     "metadata": {},
     "output_type": "execute_result"
    }
   ],
   "source": [
    "logs.columns  #вывели исправленные названия"
   ]
  },
  {
   "cell_type": "markdown",
   "id": "a9f4cbad",
   "metadata": {},
   "source": [
    "<a id='1.3-bullet'></a>\n",
    "### Обработка дубликатов"
   ]
  },
  {
   "cell_type": "code",
   "execution_count": 7,
   "id": "0cd9e734",
   "metadata": {
    "scrolled": true
   },
   "outputs": [
    {
     "data": {
      "text/plain": [
       "413"
      ]
     },
     "execution_count": 7,
     "metadata": {},
     "output_type": "execute_result"
    }
   ],
   "source": [
    "# проверили на дубликаты\n",
    "logs.duplicated().sum()"
   ]
  },
  {
   "cell_type": "code",
   "execution_count": 8,
   "id": "e375d282",
   "metadata": {},
   "outputs": [
    {
     "data": {
      "text/plain": [
       "'Доля дубликатов в датафрейме - 0.17%'"
      ]
     },
     "execution_count": 8,
     "metadata": {},
     "output_type": "execute_result"
    }
   ],
   "source": [
    "'Доля дубликатов в датафрейме - {:.2%}'.format(logs.duplicated().sum() / logs.shape[0])"
   ]
  },
  {
   "cell_type": "markdown",
   "id": "e0bb3dd6",
   "metadata": {},
   "source": [
    "Найдено 413 дубликатов, 0.17% от всех строк в датафрейме."
   ]
  },
  {
   "cell_type": "code",
   "execution_count": 9,
   "id": "ffeb59c7",
   "metadata": {},
   "outputs": [],
   "source": [
    "# удалили дубликаты\n",
    "logs.drop_duplicates(inplace=True)"
   ]
  },
  {
   "cell_type": "code",
   "execution_count": 10,
   "id": "2f5efd5a",
   "metadata": {},
   "outputs": [
    {
     "data": {
      "text/plain": [
       "0"
      ]
     },
     "execution_count": 10,
     "metadata": {},
     "output_type": "execute_result"
    }
   ],
   "source": [
    "# проверили еще раз на дубликаты по столбцам\n",
    "logs.duplicated(subset=['event_name', 'device_id_hash', 'event_timestamp']).sum()"
   ]
  },
  {
   "cell_type": "code",
   "execution_count": 11,
   "id": "73d7685a",
   "metadata": {},
   "outputs": [
    {
     "data": {
      "text/plain": [
       "0"
      ]
     },
     "execution_count": 11,
     "metadata": {},
     "output_type": "execute_result"
    }
   ],
   "source": [
    "# проверили удаление дубликатов\n",
    "logs.duplicated().sum()"
   ]
  },
  {
   "cell_type": "markdown",
   "id": "ed938a46",
   "metadata": {},
   "source": [
    "<a id='1.4-bullet'></a>\n",
    "### Обработка типов данных"
   ]
  },
  {
   "cell_type": "markdown",
   "id": "da1cbbd6",
   "metadata": {},
   "source": [
    "Столбец с датой EventTimestamp представлен как временная метка в формате Timestamp. Добавим столбцев с датой и временем, и отдельный столбец с датой"
   ]
  },
  {
   "cell_type": "code",
   "execution_count": 12,
   "id": "c171cab1",
   "metadata": {},
   "outputs": [],
   "source": [
    "# добавили столбец с датой и временем события\n",
    "logs['event_datetime'] = pd.to_datetime(logs['event_timestamp'], unit='s')"
   ]
  },
  {
   "cell_type": "code",
   "execution_count": 13,
   "id": "1aef17a4",
   "metadata": {
    "scrolled": true
   },
   "outputs": [],
   "source": [
    "# добавили столбец с датой\n",
    "logs['event_date'] = pd.to_datetime(logs['event_datetime'].apply(lambda x: x.date()), format='%Y-%m-%d')"
   ]
  },
  {
   "cell_type": "code",
   "execution_count": 14,
   "id": "ed507aab",
   "metadata": {},
   "outputs": [
    {
     "data": {
      "text/html": [
       "<div>\n",
       "<style scoped>\n",
       "    .dataframe tbody tr th:only-of-type {\n",
       "        vertical-align: middle;\n",
       "    }\n",
       "\n",
       "    .dataframe tbody tr th {\n",
       "        vertical-align: top;\n",
       "    }\n",
       "\n",
       "    .dataframe thead th {\n",
       "        text-align: right;\n",
       "    }\n",
       "</style>\n",
       "<table border=\"1\" class=\"dataframe\">\n",
       "  <thead>\n",
       "    <tr style=\"text-align: right;\">\n",
       "      <th></th>\n",
       "      <th>event_name</th>\n",
       "      <th>device_id_hash</th>\n",
       "      <th>event_timestamp</th>\n",
       "      <th>exp_id</th>\n",
       "      <th>event_datetime</th>\n",
       "      <th>event_date</th>\n",
       "    </tr>\n",
       "  </thead>\n",
       "  <tbody>\n",
       "    <tr>\n",
       "      <th>0</th>\n",
       "      <td>MainScreenAppear</td>\n",
       "      <td>4575588528974610257</td>\n",
       "      <td>1564029816</td>\n",
       "      <td>246</td>\n",
       "      <td>2019-07-25 04:43:36</td>\n",
       "      <td>2019-07-25</td>\n",
       "    </tr>\n",
       "    <tr>\n",
       "      <th>1</th>\n",
       "      <td>MainScreenAppear</td>\n",
       "      <td>7416695313311560658</td>\n",
       "      <td>1564053102</td>\n",
       "      <td>246</td>\n",
       "      <td>2019-07-25 11:11:42</td>\n",
       "      <td>2019-07-25</td>\n",
       "    </tr>\n",
       "    <tr>\n",
       "      <th>2</th>\n",
       "      <td>PaymentScreenSuccessful</td>\n",
       "      <td>3518123091307005509</td>\n",
       "      <td>1564054127</td>\n",
       "      <td>248</td>\n",
       "      <td>2019-07-25 11:28:47</td>\n",
       "      <td>2019-07-25</td>\n",
       "    </tr>\n",
       "    <tr>\n",
       "      <th>3</th>\n",
       "      <td>CartScreenAppear</td>\n",
       "      <td>3518123091307005509</td>\n",
       "      <td>1564054127</td>\n",
       "      <td>248</td>\n",
       "      <td>2019-07-25 11:28:47</td>\n",
       "      <td>2019-07-25</td>\n",
       "    </tr>\n",
       "    <tr>\n",
       "      <th>4</th>\n",
       "      <td>PaymentScreenSuccessful</td>\n",
       "      <td>6217807653094995999</td>\n",
       "      <td>1564055322</td>\n",
       "      <td>248</td>\n",
       "      <td>2019-07-25 11:48:42</td>\n",
       "      <td>2019-07-25</td>\n",
       "    </tr>\n",
       "  </tbody>\n",
       "</table>\n",
       "</div>"
      ],
      "text/plain": [
       "                event_name       device_id_hash  event_timestamp  exp_id  \\\n",
       "0         MainScreenAppear  4575588528974610257       1564029816     246   \n",
       "1         MainScreenAppear  7416695313311560658       1564053102     246   \n",
       "2  PaymentScreenSuccessful  3518123091307005509       1564054127     248   \n",
       "3         CartScreenAppear  3518123091307005509       1564054127     248   \n",
       "4  PaymentScreenSuccessful  6217807653094995999       1564055322     248   \n",
       "\n",
       "       event_datetime event_date  \n",
       "0 2019-07-25 04:43:36 2019-07-25  \n",
       "1 2019-07-25 11:11:42 2019-07-25  \n",
       "2 2019-07-25 11:28:47 2019-07-25  \n",
       "3 2019-07-25 11:28:47 2019-07-25  \n",
       "4 2019-07-25 11:48:42 2019-07-25  "
      ]
     },
     "execution_count": 14,
     "metadata": {},
     "output_type": "execute_result"
    }
   ],
   "source": [
    "logs.head() # вывели датафрейм в добавленными столбцами"
   ]
  },
  {
   "cell_type": "code",
   "execution_count": 15,
   "id": "6f3b35d2",
   "metadata": {},
   "outputs": [
    {
     "name": "stdout",
     "output_type": "stream",
     "text": [
      "<class 'pandas.core.frame.DataFrame'>\n",
      "Index: 243713 entries, 0 to 244125\n",
      "Data columns (total 6 columns):\n",
      " #   Column           Non-Null Count   Dtype         \n",
      "---  ------           --------------   -----         \n",
      " 0   event_name       243713 non-null  object        \n",
      " 1   device_id_hash   243713 non-null  int64         \n",
      " 2   event_timestamp  243713 non-null  int64         \n",
      " 3   exp_id           243713 non-null  int64         \n",
      " 4   event_datetime   243713 non-null  datetime64[ns]\n",
      " 5   event_date       243713 non-null  datetime64[ns]\n",
      "dtypes: datetime64[ns](2), int64(3), object(1)\n",
      "memory usage: 13.0+ MB\n"
     ]
    }
   ],
   "source": [
    "# проверили типы данных в добавленных столбцах\n",
    "logs.info()"
   ]
  },
  {
   "cell_type": "markdown",
   "id": "dd944b6a",
   "metadata": {},
   "source": [
    "<a id='1.5-bullet'></a>\n",
    "### Проверка данных"
   ]
  },
  {
   "cell_type": "code",
   "execution_count": 16,
   "id": "93c7fcfa",
   "metadata": {},
   "outputs": [
    {
     "data": {
      "text/plain": [
       "243713"
      ]
     },
     "execution_count": 16,
     "metadata": {},
     "output_type": "execute_result"
    }
   ],
   "source": [
    "# посчитали сколько строк было изначально в датафрейме\n",
    "before = logs.shape[0]\n",
    "before"
   ]
  },
  {
   "cell_type": "code",
   "execution_count": 17,
   "id": "411d4d88",
   "metadata": {},
   "outputs": [
    {
     "data": {
      "text/plain": [
       "5"
      ]
     },
     "execution_count": 17,
     "metadata": {},
     "output_type": "execute_result"
    }
   ],
   "source": [
    "# проверили, сколько событий в логе\n",
    "logs['event_name'].nunique()"
   ]
  },
  {
   "cell_type": "code",
   "execution_count": 18,
   "id": "4ec05ec9",
   "metadata": {},
   "outputs": [
    {
     "data": {
      "text/plain": [
       "array(['MainScreenAppear', 'PaymentScreenSuccessful', 'CartScreenAppear',\n",
       "       'OffersScreenAppear', 'Tutorial'], dtype=object)"
      ]
     },
     "execution_count": 18,
     "metadata": {},
     "output_type": "execute_result"
    }
   ],
   "source": [
    "# вывели назавания событий\n",
    "logs['event_name'].unique()"
   ]
  },
  {
   "cell_type": "markdown",
   "id": "0d6539ec",
   "metadata": {},
   "source": [
    "В датафрейме всего 5 событий: MainScreenAppea - главный экран, PaymentScreenSuccessful - успешная оплата, CartScreenAppear - корзина, OffersScreenAppear - предложения, Tutorial - описание."
   ]
  },
  {
   "cell_type": "code",
   "execution_count": 19,
   "id": "20ca1d01",
   "metadata": {},
   "outputs": [
    {
     "data": {
      "text/plain": [
       "7551"
      ]
     },
     "execution_count": 19,
     "metadata": {},
     "output_type": "execute_result"
    }
   ],
   "source": [
    "# проверили сколько всего пользователей в логе\n",
    "before_users = logs['device_id_hash'].nunique()\n",
    "before_users"
   ]
  },
  {
   "cell_type": "markdown",
   "id": "eafde57d",
   "metadata": {},
   "source": [
    "В датафрейме 7551 уникальный пользователь на начало исследования."
   ]
  },
  {
   "cell_type": "code",
   "execution_count": 20,
   "id": "699cbfc0",
   "metadata": {
    "scrolled": true
   },
   "outputs": [
    {
     "data": {
      "text/plain": [
       "32.0"
      ]
     },
     "execution_count": 20,
     "metadata": {},
     "output_type": "execute_result"
    }
   ],
   "source": [
    "# проверили сколько в среднем событий приходиться на 1 пользователя\n",
    "np.round(\n",
    "    logs.groupby('device_id_hash', as_index=False)\n",
    "    .agg({'event_name': 'count'})['event_name']\n",
    "    .mean()\n",
    ")"
   ]
  },
  {
   "cell_type": "markdown",
   "id": "ce1ebc89",
   "metadata": {},
   "source": [
    "На одного пользователя приходится в среднем 32 события."
   ]
  },
  {
   "cell_type": "code",
   "execution_count": 21,
   "id": "f8145932",
   "metadata": {},
   "outputs": [
    {
     "data": {
      "text/html": [
       "<div>\n",
       "<style scoped>\n",
       "    .dataframe tbody tr th:only-of-type {\n",
       "        vertical-align: middle;\n",
       "    }\n",
       "\n",
       "    .dataframe tbody tr th {\n",
       "        vertical-align: top;\n",
       "    }\n",
       "\n",
       "    .dataframe thead th {\n",
       "        text-align: right;\n",
       "    }\n",
       "</style>\n",
       "<table border=\"1\" class=\"dataframe\">\n",
       "  <thead>\n",
       "    <tr style=\"text-align: right;\">\n",
       "      <th></th>\n",
       "      <th>device_id_hash</th>\n",
       "      <th>event_name</th>\n",
       "    </tr>\n",
       "  </thead>\n",
       "  <tbody>\n",
       "    <tr>\n",
       "      <th>5116</th>\n",
       "      <td>6304868067479728361</td>\n",
       "      <td>2307</td>\n",
       "    </tr>\n",
       "    <tr>\n",
       "      <th>147</th>\n",
       "      <td>197027893265565660</td>\n",
       "      <td>1998</td>\n",
       "    </tr>\n",
       "    <tr>\n",
       "      <th>3714</th>\n",
       "      <td>4623191541214045580</td>\n",
       "      <td>1768</td>\n",
       "    </tr>\n",
       "    <tr>\n",
       "      <th>5590</th>\n",
       "      <td>6932517045703054087</td>\n",
       "      <td>1439</td>\n",
       "    </tr>\n",
       "    <tr>\n",
       "      <th>1391</th>\n",
       "      <td>1754140665440434215</td>\n",
       "      <td>1221</td>\n",
       "    </tr>\n",
       "    <tr>\n",
       "      <th>...</th>\n",
       "      <td>...</td>\n",
       "      <td>...</td>\n",
       "    </tr>\n",
       "    <tr>\n",
       "      <th>6013</th>\n",
       "      <td>7399061063341528729</td>\n",
       "      <td>1</td>\n",
       "    </tr>\n",
       "    <tr>\n",
       "      <th>2356</th>\n",
       "      <td>2968164493349205501</td>\n",
       "      <td>1</td>\n",
       "    </tr>\n",
       "    <tr>\n",
       "      <th>6575</th>\n",
       "      <td>8071397669512236988</td>\n",
       "      <td>1</td>\n",
       "    </tr>\n",
       "    <tr>\n",
       "      <th>311</th>\n",
       "      <td>425817683219936619</td>\n",
       "      <td>1</td>\n",
       "    </tr>\n",
       "    <tr>\n",
       "      <th>0</th>\n",
       "      <td>6888746892508752</td>\n",
       "      <td>1</td>\n",
       "    </tr>\n",
       "  </tbody>\n",
       "</table>\n",
       "<p>7551 rows × 2 columns</p>\n",
       "</div>"
      ],
      "text/plain": [
       "           device_id_hash  event_name\n",
       "5116  6304868067479728361        2307\n",
       "147    197027893265565660        1998\n",
       "3714  4623191541214045580        1768\n",
       "5590  6932517045703054087        1439\n",
       "1391  1754140665440434215        1221\n",
       "...                   ...         ...\n",
       "6013  7399061063341528729           1\n",
       "2356  2968164493349205501           1\n",
       "6575  8071397669512236988           1\n",
       "311    425817683219936619           1\n",
       "0        6888746892508752           1\n",
       "\n",
       "[7551 rows x 2 columns]"
      ]
     },
     "execution_count": 21,
     "metadata": {},
     "output_type": "execute_result"
    }
   ],
   "source": [
    "# вывели сводную таблицу количества событий на пользователя\n",
    "logs_event = logs.groupby(\n",
    "    'device_id_hash', as_index=False\n",
    ").agg(\n",
    "    {'event_name': 'count'}\n",
    ").sort_values('event_name', ascending=False)\n",
    "logs_event"
   ]
  },
  {
   "cell_type": "code",
   "execution_count": 22,
   "id": "884c7089",
   "metadata": {
    "scrolled": true
   },
   "outputs": [
    {
     "data": {
      "text/plain": [
       "count    7551.000000\n",
       "mean       32.275593\n",
       "std        65.154219\n",
       "min         1.000000\n",
       "25%         9.000000\n",
       "50%        20.000000\n",
       "75%        37.000000\n",
       "max      2307.000000\n",
       "Name: event_name, dtype: float64"
      ]
     },
     "execution_count": 22,
     "metadata": {},
     "output_type": "execute_result"
    }
   ],
   "source": [
    "# вывели статистику по событиям на пользователя\n",
    "logs_event['event_name'].describe()"
   ]
  },
  {
   "cell_type": "code",
   "execution_count": 23,
   "id": "53f464ac",
   "metadata": {
    "scrolled": true
   },
   "outputs": [
    {
     "data": {
      "image/png": "[encoded data removed]",
      "text/plain": [
       "<Figure size 800x300 with 1 Axes>"
      ]
     },
     "metadata": {},
     "output_type": "display_data"
    }
   ],
   "source": [
    "# гистограмма событий, совершенных пользователями\n",
    "plt.figure(figsize=(8, 3))\n",
    "logs_event['event_name'].hist(bins=300)\n",
    "plt.xlabel('Количество событий')\n",
    "plt.ylabel('Количество пользователей')\n",
    "plt.title('Гистограмма количества событий на пользователя')\n",
    "plt.show();"
   ]
  },
  {
   "cell_type": "code",
   "execution_count": 24,
   "id": "6e464aae",
   "metadata": {
    "scrolled": true
   },
   "outputs": [
    {
     "name": "stdout",
     "output_type": "stream",
     "text": [
      "[ 89.  200.5]\n"
     ]
    }
   ],
   "source": [
    "#посчитаем 95-й и 99-й перцентили количества событий на пользователя\n",
    "print(np.percentile(logs_event['event_name'], [95, 99]))"
   ]
  },
  {
   "cell_type": "code",
   "execution_count": 25,
   "id": "733ca94d",
   "metadata": {},
   "outputs": [
    {
     "data": {
      "text/html": [
       "<div>\n",
       "<style scoped>\n",
       "    .dataframe tbody tr th:only-of-type {\n",
       "        vertical-align: middle;\n",
       "    }\n",
       "\n",
       "    .dataframe tbody tr th {\n",
       "        vertical-align: top;\n",
       "    }\n",
       "\n",
       "    .dataframe thead th {\n",
       "        text-align: right;\n",
       "    }\n",
       "</style>\n",
       "<table border=\"1\" class=\"dataframe\">\n",
       "  <thead>\n",
       "    <tr style=\"text-align: right;\">\n",
       "      <th></th>\n",
       "      <th>device_id_hash</th>\n",
       "      <th>event_name</th>\n",
       "    </tr>\n",
       "  </thead>\n",
       "  <tbody>\n",
       "    <tr>\n",
       "      <th>5116</th>\n",
       "      <td>6304868067479728361</td>\n",
       "      <td>2307</td>\n",
       "    </tr>\n",
       "    <tr>\n",
       "      <th>147</th>\n",
       "      <td>197027893265565660</td>\n",
       "      <td>1998</td>\n",
       "    </tr>\n",
       "    <tr>\n",
       "      <th>3714</th>\n",
       "      <td>4623191541214045580</td>\n",
       "      <td>1768</td>\n",
       "    </tr>\n",
       "    <tr>\n",
       "      <th>5590</th>\n",
       "      <td>6932517045703054087</td>\n",
       "      <td>1439</td>\n",
       "    </tr>\n",
       "    <tr>\n",
       "      <th>1391</th>\n",
       "      <td>1754140665440434215</td>\n",
       "      <td>1221</td>\n",
       "    </tr>\n",
       "    <tr>\n",
       "      <th>...</th>\n",
       "      <td>...</td>\n",
       "      <td>...</td>\n",
       "    </tr>\n",
       "    <tr>\n",
       "      <th>1216</th>\n",
       "      <td>1553654098241439838</td>\n",
       "      <td>208</td>\n",
       "    </tr>\n",
       "    <tr>\n",
       "      <th>216</th>\n",
       "      <td>284324717439504162</td>\n",
       "      <td>208</td>\n",
       "    </tr>\n",
       "    <tr>\n",
       "      <th>4190</th>\n",
       "      <td>5178884875886952056</td>\n",
       "      <td>207</td>\n",
       "    </tr>\n",
       "    <tr>\n",
       "      <th>1934</th>\n",
       "      <td>2457989834692826118</td>\n",
       "      <td>203</td>\n",
       "    </tr>\n",
       "    <tr>\n",
       "      <th>5043</th>\n",
       "      <td>6220847999332178356</td>\n",
       "      <td>202</td>\n",
       "    </tr>\n",
       "  </tbody>\n",
       "</table>\n",
       "<p>76 rows × 2 columns</p>\n",
       "</div>"
      ],
      "text/plain": [
       "           device_id_hash  event_name\n",
       "5116  6304868067479728361        2307\n",
       "147    197027893265565660        1998\n",
       "3714  4623191541214045580        1768\n",
       "5590  6932517045703054087        1439\n",
       "1391  1754140665440434215        1221\n",
       "...                   ...         ...\n",
       "1216  1553654098241439838         208\n",
       "216    284324717439504162         208\n",
       "4190  5178884875886952056         207\n",
       "1934  2457989834692826118         203\n",
       "5043  6220847999332178356         202\n",
       "\n",
       "[76 rows x 2 columns]"
      ]
     },
     "execution_count": 25,
     "metadata": {},
     "output_type": "execute_result"
    }
   ],
   "source": [
    "# вывели пользователей у которых количество событий превышает 99-й перцентиль\n",
    "logs_event[logs_event['event_name'] > 200.5]"
   ]
  },
  {
   "cell_type": "code",
   "execution_count": 26,
   "id": "c830f43c",
   "metadata": {},
   "outputs": [],
   "source": [
    "#удалили аномальных пользователей\n",
    "logs = logs[~logs['device_id_hash'].isin(logs_event[logs_event['event_name'] > 200.5]['device_id_hash'])]"
   ]
  },
  {
   "cell_type": "markdown",
   "id": "8f82b9e5",
   "metadata": {},
   "source": [
    "Как было отмечено ранее на пользователя приходится в среднем 32 события, медиана количества событий на пользователя составляет 20 событий. Максимальное количество событий, которое совершил пользователь составляет 2307. У 76 пользователей можно обнаружить аномально большое количество событий более 200 - 99 перцентиль количества событий на пользователя."
   ]
  },
  {
   "cell_type": "code",
   "execution_count": 27,
   "id": "12defc47",
   "metadata": {},
   "outputs": [
    {
     "name": "stdout",
     "output_type": "stream",
     "text": [
      "2019-07-25\n",
      "2019-08-07\n"
     ]
    }
   ],
   "source": [
    "# найшли максимальную и минимальную дату.\n",
    "print(logs['event_date'].min().date())\n",
    "print(logs['event_date'].max().date())"
   ]
  },
  {
   "cell_type": "markdown",
   "id": "d8593ba2",
   "metadata": {},
   "source": [
    "В датафрейме данные с 25 июля 2019 года по 07 августа 2019 года"
   ]
  },
  {
   "cell_type": "markdown",
   "id": "2f47bce5",
   "metadata": {},
   "source": [
    "Изучим, как меняется количество данных: построим столбчатую диаграмму, которая отобразит количество событий в зависимости от времени в разрезе групп. "
   ]
  },
  {
   "cell_type": "code",
   "execution_count": 28,
   "id": "d87270b4",
   "metadata": {},
   "outputs": [
    {
     "data": {
      "image/png": "[encoded data removed]",
      "text/plain": [
       "<Figure size 1400x600 with 1 Axes>"
      ]
     },
     "metadata": {},
     "output_type": "display_data"
    }
   ],
   "source": [
    "# построили столбчатую диаграмму\n",
    "pd.pivot_table(\n",
    "    logs, \n",
    "    index = logs['event_date'].dt.date,\n",
    "    columns='exp_id',\n",
    "    values='event_name',\n",
    "    aggfunc='count').plot.bar(figsize=(14, 6))\n",
    "\n",
    "plt.legend(loc='upper left', title='Группа')\n",
    "plt.title('Количество событий в зависимости от времени в разрезе групп')\n",
    "plt.xlabel('Дата')\n",
    "plt.ylabel('Количество событий')\n",
    "plt.xticks(rotation=45)\n",
    "plt.show()"
   ]
  },
  {
   "cell_type": "markdown",
   "id": "ce09852b",
   "metadata": {},
   "source": [
    "Исходя из графика одинаково полные данные есть за период с 01.08.2019 по 07.08.2019."
   ]
  },
  {
   "cell_type": "code",
   "execution_count": 29,
   "id": "b66b3789",
   "metadata": {
    "scrolled": true
   },
   "outputs": [
    {
     "data": {
      "text/html": [
       "<div>\n",
       "<style scoped>\n",
       "    .dataframe tbody tr th:only-of-type {\n",
       "        vertical-align: middle;\n",
       "    }\n",
       "\n",
       "    .dataframe tbody tr th {\n",
       "        vertical-align: top;\n",
       "    }\n",
       "\n",
       "    .dataframe thead th {\n",
       "        text-align: right;\n",
       "    }\n",
       "</style>\n",
       "<table border=\"1\" class=\"dataframe\">\n",
       "  <thead>\n",
       "    <tr style=\"text-align: right;\">\n",
       "      <th></th>\n",
       "      <th>event_name</th>\n",
       "      <th>device_id_hash</th>\n",
       "      <th>event_timestamp</th>\n",
       "      <th>exp_id</th>\n",
       "      <th>event_datetime</th>\n",
       "      <th>event_date</th>\n",
       "    </tr>\n",
       "  </thead>\n",
       "  <tbody>\n",
       "    <tr>\n",
       "      <th>2828</th>\n",
       "      <td>Tutorial</td>\n",
       "      <td>3737462046622621720</td>\n",
       "      <td>1564618048</td>\n",
       "      <td>246</td>\n",
       "      <td>2019-08-01 00:07:28</td>\n",
       "      <td>2019-08-01</td>\n",
       "    </tr>\n",
       "    <tr>\n",
       "      <th>26351</th>\n",
       "      <td>MainScreenAppear</td>\n",
       "      <td>5807560156115311891</td>\n",
       "      <td>1564673017</td>\n",
       "      <td>246</td>\n",
       "      <td>2019-08-01 15:23:37</td>\n",
       "      <td>2019-08-01</td>\n",
       "    </tr>\n",
       "    <tr>\n",
       "      <th>26350</th>\n",
       "      <td>OffersScreenAppear</td>\n",
       "      <td>342904511578898557</td>\n",
       "      <td>1564673016</td>\n",
       "      <td>247</td>\n",
       "      <td>2019-08-01 15:23:36</td>\n",
       "      <td>2019-08-01</td>\n",
       "    </tr>\n",
       "    <tr>\n",
       "      <th>26349</th>\n",
       "      <td>MainScreenAppear</td>\n",
       "      <td>1458354809465956900</td>\n",
       "      <td>1564673015</td>\n",
       "      <td>247</td>\n",
       "      <td>2019-08-01 15:23:35</td>\n",
       "      <td>2019-08-01</td>\n",
       "    </tr>\n",
       "    <tr>\n",
       "      <th>26347</th>\n",
       "      <td>MainScreenAppear</td>\n",
       "      <td>7416695313311560658</td>\n",
       "      <td>1564673012</td>\n",
       "      <td>246</td>\n",
       "      <td>2019-08-01 15:23:32</td>\n",
       "      <td>2019-08-01</td>\n",
       "    </tr>\n",
       "    <tr>\n",
       "      <th>...</th>\n",
       "      <td>...</td>\n",
       "      <td>...</td>\n",
       "      <td>...</td>\n",
       "      <td>...</td>\n",
       "      <td>...</td>\n",
       "      <td>...</td>\n",
       "    </tr>\n",
       "    <tr>\n",
       "      <th>223054</th>\n",
       "      <td>MainScreenAppear</td>\n",
       "      <td>2088762857561440959</td>\n",
       "      <td>1565172081</td>\n",
       "      <td>247</td>\n",
       "      <td>2019-08-07 10:01:21</td>\n",
       "      <td>2019-08-07</td>\n",
       "    </tr>\n",
       "    <tr>\n",
       "      <th>223053</th>\n",
       "      <td>CartScreenAppear</td>\n",
       "      <td>3980825915805890698</td>\n",
       "      <td>1565172080</td>\n",
       "      <td>246</td>\n",
       "      <td>2019-08-07 10:01:20</td>\n",
       "      <td>2019-08-07</td>\n",
       "    </tr>\n",
       "    <tr>\n",
       "      <th>223052</th>\n",
       "      <td>MainScreenAppear</td>\n",
       "      <td>1887002214999686051</td>\n",
       "      <td>1565172067</td>\n",
       "      <td>248</td>\n",
       "      <td>2019-08-07 10:01:07</td>\n",
       "      <td>2019-08-07</td>\n",
       "    </tr>\n",
       "    <tr>\n",
       "      <th>223050</th>\n",
       "      <td>MainScreenAppear</td>\n",
       "      <td>3909945206876963575</td>\n",
       "      <td>1565172058</td>\n",
       "      <td>247</td>\n",
       "      <td>2019-08-07 10:00:58</td>\n",
       "      <td>2019-08-07</td>\n",
       "    </tr>\n",
       "    <tr>\n",
       "      <th>244125</th>\n",
       "      <td>OffersScreenAppear</td>\n",
       "      <td>5746969938801999050</td>\n",
       "      <td>1565212517</td>\n",
       "      <td>246</td>\n",
       "      <td>2019-08-07 21:15:17</td>\n",
       "      <td>2019-08-07</td>\n",
       "    </tr>\n",
       "  </tbody>\n",
       "</table>\n",
       "<p>206615 rows × 6 columns</p>\n",
       "</div>"
      ],
      "text/plain": [
       "                event_name       device_id_hash  event_timestamp  exp_id  \\\n",
       "2828              Tutorial  3737462046622621720       1564618048     246   \n",
       "26351     MainScreenAppear  5807560156115311891       1564673017     246   \n",
       "26350   OffersScreenAppear   342904511578898557       1564673016     247   \n",
       "26349     MainScreenAppear  1458354809465956900       1564673015     247   \n",
       "26347     MainScreenAppear  7416695313311560658       1564673012     246   \n",
       "...                    ...                  ...              ...     ...   \n",
       "223054    MainScreenAppear  2088762857561440959       1565172081     247   \n",
       "223053    CartScreenAppear  3980825915805890698       1565172080     246   \n",
       "223052    MainScreenAppear  1887002214999686051       1565172067     248   \n",
       "223050    MainScreenAppear  3909945206876963575       1565172058     247   \n",
       "244125  OffersScreenAppear  5746969938801999050       1565212517     246   \n",
       "\n",
       "            event_datetime event_date  \n",
       "2828   2019-08-01 00:07:28 2019-08-01  \n",
       "26351  2019-08-01 15:23:37 2019-08-01  \n",
       "26350  2019-08-01 15:23:36 2019-08-01  \n",
       "26349  2019-08-01 15:23:35 2019-08-01  \n",
       "26347  2019-08-01 15:23:32 2019-08-01  \n",
       "...                    ...        ...  \n",
       "223054 2019-08-07 10:01:21 2019-08-07  \n",
       "223053 2019-08-07 10:01:20 2019-08-07  \n",
       "223052 2019-08-07 10:01:07 2019-08-07  \n",
       "223050 2019-08-07 10:00:58 2019-08-07  \n",
       "244125 2019-08-07 21:15:17 2019-08-07  \n",
       "\n",
       "[206615 rows x 6 columns]"
      ]
     },
     "execution_count": 29,
     "metadata": {},
     "output_type": "execute_result"
    }
   ],
   "source": [
    "# удалили данные до 01.08.2019\n",
    "logs = logs[logs['event_date'] >= '2019-08-01']\n",
    "logs.sort_values('event_date')"
   ]
  },
  {
   "cell_type": "code",
   "execution_count": 30,
   "id": "1f2b43be",
   "metadata": {},
   "outputs": [
    {
     "data": {
      "text/html": [
       "<div>\n",
       "<style scoped>\n",
       "    .dataframe tbody tr th:only-of-type {\n",
       "        vertical-align: middle;\n",
       "    }\n",
       "\n",
       "    .dataframe tbody tr th {\n",
       "        vertical-align: top;\n",
       "    }\n",
       "\n",
       "    .dataframe thead th {\n",
       "        text-align: right;\n",
       "    }\n",
       "</style>\n",
       "<table border=\"1\" class=\"dataframe\">\n",
       "  <thead>\n",
       "    <tr style=\"text-align: right;\">\n",
       "      <th></th>\n",
       "      <th>device_id_hash</th>\n",
       "      <th>exp_id</th>\n",
       "    </tr>\n",
       "  </thead>\n",
       "  <tbody>\n",
       "  </tbody>\n",
       "</table>\n",
       "</div>"
      ],
      "text/plain": [
       "Empty DataFrame\n",
       "Columns: [device_id_hash, exp_id]\n",
       "Index: []"
      ]
     },
     "execution_count": 30,
     "metadata": {},
     "output_type": "execute_result"
    }
   ],
   "source": [
    "# проверили, что пользователи принадлежат только какой-то одной группе и не пересекаются\n",
    "users = logs.groupby('device_id_hash', as_index=False).agg({'exp_id': 'nunique'})\n",
    "users[(users['exp_id'] > 1) | (users['exp_id'] < 1)] #вывели пересечения"
   ]
  },
  {
   "cell_type": "code",
   "execution_count": 31,
   "id": "18dd578f",
   "metadata": {},
   "outputs": [
    {
     "data": {
      "text/html": [
       "<div>\n",
       "<style scoped>\n",
       "    .dataframe tbody tr th:only-of-type {\n",
       "        vertical-align: middle;\n",
       "    }\n",
       "\n",
       "    .dataframe tbody tr th {\n",
       "        vertical-align: top;\n",
       "    }\n",
       "\n",
       "    .dataframe thead th {\n",
       "        text-align: right;\n",
       "    }\n",
       "</style>\n",
       "<table border=\"1\" class=\"dataframe\">\n",
       "  <thead>\n",
       "    <tr style=\"text-align: right;\">\n",
       "      <th></th>\n",
       "      <th>group</th>\n",
       "      <th>users_count</th>\n",
       "    </tr>\n",
       "  </thead>\n",
       "  <tbody>\n",
       "    <tr>\n",
       "      <th>0</th>\n",
       "      <td>246</td>\n",
       "      <td>2456</td>\n",
       "    </tr>\n",
       "    <tr>\n",
       "      <th>1</th>\n",
       "      <td>247</td>\n",
       "      <td>2491</td>\n",
       "    </tr>\n",
       "    <tr>\n",
       "      <th>2</th>\n",
       "      <td>248</td>\n",
       "      <td>2511</td>\n",
       "    </tr>\n",
       "    <tr>\n",
       "      <th>3</th>\n",
       "      <td>All</td>\n",
       "      <td>7458</td>\n",
       "    </tr>\n",
       "  </tbody>\n",
       "</table>\n",
       "</div>"
      ],
      "text/plain": [
       "  group  users_count\n",
       "0   246         2456\n",
       "1   247         2491\n",
       "2   248         2511\n",
       "3   All         7458"
      ]
     },
     "execution_count": 31,
     "metadata": {},
     "output_type": "execute_result"
    }
   ],
   "source": [
    "# проверили, что есть пользователи из всех трёх экспериментальных групп\n",
    "groups = logs.pivot_table(\n",
    "    index = 'exp_id',\n",
    "    values = 'device_id_hash',\n",
    "    aggfunc = 'nunique',\n",
    "    margins=True\n",
    ").reset_index()\n",
    "groups.columns = ['group', 'users_count']\n",
    "groups"
   ]
  },
  {
   "cell_type": "code",
   "execution_count": 32,
   "id": "66936732",
   "metadata": {},
   "outputs": [
    {
     "data": {
      "text/plain": [
       "206615"
      ]
     },
     "execution_count": 32,
     "metadata": {},
     "output_type": "execute_result"
    }
   ],
   "source": [
    "after = logs.shape[0]\n",
    "after"
   ]
  },
  {
   "cell_type": "code",
   "execution_count": 33,
   "id": "cf687f90",
   "metadata": {},
   "outputs": [
    {
     "data": {
      "text/plain": [
       "7458"
      ]
     },
     "execution_count": 33,
     "metadata": {},
     "output_type": "execute_result"
    }
   ],
   "source": [
    "after_users = logs['device_id_hash'].nunique()\n",
    "after_users"
   ]
  },
  {
   "cell_type": "code",
   "execution_count": 34,
   "id": "073f5a1f",
   "metadata": {},
   "outputs": [
    {
     "name": "stdout",
     "output_type": "stream",
     "text": [
      "Потеряли значений после обработки аномалий - 15.2%\n",
      "Потеряли пользователей после обработки аномалий - 1.2%\n"
     ]
    }
   ],
   "source": [
    "print('Потеряли значений после обработки аномалий - {:.1%}'.format((before-after)/before))\n",
    "print('Потеряли пользователей после обработки аномалий - {:.1%}'.format((before_users-after_users)/before_users))"
   ]
  },
  {
   "cell_type": "markdown",
   "id": "fa3da400",
   "metadata": {},
   "source": [
    "В данном разделе зарузили датафрейм, посмотрели на данные, удалили дубликаты, привели столбцы к змеиному регистру. Данные были предоставлены за период с 25 июля 2019 года по 07 августа 2019 года. После проверки выяснили, что полные данные представлены только с 1 августа 2019 года. Проверили, что пользователи принадлежат какой-то одной группе и не пересекаются. Удалили аномальных пользователей, которые совершили очень много событий."
   ]
  },
  {
   "cell_type": "markdown",
   "id": "86dabf6b",
   "metadata": {},
   "source": [
    "## Воронка событий"
   ]
  },
  {
   "cell_type": "code",
   "execution_count": 35,
   "id": "80bcb902",
   "metadata": {},
   "outputs": [],
   "source": [
    "pd.set_option('display.float_format', '{:.2%}'.format) #опция для отображения доли в процентах"
   ]
  },
  {
   "cell_type": "markdown",
   "id": "5465adbe",
   "metadata": {},
   "source": [
    "<a id='2.1-bullet'></a>\n",
    "### События в логах"
   ]
  },
  {
   "cell_type": "markdown",
   "id": "67013002",
   "metadata": {},
   "source": [
    "Посмотрим, какие события есть в логах, как часто они встречаются. Отсортируем события по частоте."
   ]
  },
  {
   "cell_type": "code",
   "execution_count": 36,
   "id": "975205f6",
   "metadata": {
    "scrolled": true
   },
   "outputs": [
    {
     "data": {
      "text/plain": [
       "event_name\n",
       "MainScreenAppear           113264\n",
       "OffersScreenAppear          40956\n",
       "CartScreenAppear            29250\n",
       "PaymentScreenSuccessful     22164\n",
       "Tutorial                      981\n",
       "Name: count, dtype: int64"
      ]
     },
     "execution_count": 36,
     "metadata": {},
     "output_type": "execute_result"
    }
   ],
   "source": [
    "# посмотрели на события в логах\n",
    "logs['event_name'].value_counts()"
   ]
  },
  {
   "cell_type": "markdown",
   "id": "9212cad5",
   "metadata": {},
   "source": [
    "В датафрейме всего 5 событий: MainScreenAppea - главный экран, OffersScreenAppear - предложения, CartScreenAppear - корзина, PaymentScreenSuccessful - успешная оплата, Tutorial - описание."
   ]
  },
  {
   "cell_type": "markdown",
   "id": "9cabdad8",
   "metadata": {},
   "source": [
    "<a id='2.2-bullet'></a>\n",
    "### Распределение событий по числу пользователей"
   ]
  },
  {
   "cell_type": "markdown",
   "id": "57efab79",
   "metadata": {},
   "source": [
    "Посчитаем, сколько пользователей совершали каждое из событий. Отсортируем события по числу пользователей. Посчитаем долю пользователей, которые хоть раз совершали событие от общего количества уникальных пользователей"
   ]
  },
  {
   "cell_type": "code",
   "execution_count": 37,
   "id": "2aa66035",
   "metadata": {
    "scrolled": false
   },
   "outputs": [
    {
     "data": {
      "text/html": [
       "<div>\n",
       "<style scoped>\n",
       "    .dataframe tbody tr th:only-of-type {\n",
       "        vertical-align: middle;\n",
       "    }\n",
       "\n",
       "    .dataframe tbody tr th {\n",
       "        vertical-align: top;\n",
       "    }\n",
       "\n",
       "    .dataframe thead th {\n",
       "        text-align: right;\n",
       "    }\n",
       "</style>\n",
       "<table border=\"1\" class=\"dataframe\">\n",
       "  <thead>\n",
       "    <tr style=\"text-align: right;\">\n",
       "      <th></th>\n",
       "      <th>event</th>\n",
       "      <th>users_count</th>\n",
       "    </tr>\n",
       "  </thead>\n",
       "  <tbody>\n",
       "    <tr>\n",
       "      <th>0</th>\n",
       "      <td>MainScreenAppear</td>\n",
       "      <td>7344</td>\n",
       "    </tr>\n",
       "    <tr>\n",
       "      <th>1</th>\n",
       "      <td>OffersScreenAppear</td>\n",
       "      <td>4517</td>\n",
       "    </tr>\n",
       "    <tr>\n",
       "      <th>2</th>\n",
       "      <td>CartScreenAppear</td>\n",
       "      <td>3658</td>\n",
       "    </tr>\n",
       "    <tr>\n",
       "      <th>3</th>\n",
       "      <td>PaymentScreenSuccessful</td>\n",
       "      <td>3463</td>\n",
       "    </tr>\n",
       "    <tr>\n",
       "      <th>4</th>\n",
       "      <td>Tutorial</td>\n",
       "      <td>824</td>\n",
       "    </tr>\n",
       "  </tbody>\n",
       "</table>\n",
       "</div>"
      ],
      "text/plain": [
       "                     event  users_count\n",
       "0         MainScreenAppear         7344\n",
       "1       OffersScreenAppear         4517\n",
       "2         CartScreenAppear         3658\n",
       "3  PaymentScreenSuccessful         3463\n",
       "4                 Tutorial          824"
      ]
     },
     "execution_count": 37,
     "metadata": {},
     "output_type": "execute_result"
    }
   ],
   "source": [
    "# посчитали, сколько пользователей совершали каждое из этих событий. \n",
    "users = logs.groupby(\n",
    "    'event_name', as_index=False\n",
    ").agg({'device_id_hash': 'nunique'}).sort_values('device_id_hash', ascending=False).reset_index(drop=True)\n",
    "users.columns = ['event', 'users_count']\n",
    "users"
   ]
  },
  {
   "cell_type": "code",
   "execution_count": 38,
   "id": "bbf60492",
   "metadata": {},
   "outputs": [
    {
     "data": {
      "text/html": [
       "<div>\n",
       "<style scoped>\n",
       "    .dataframe tbody tr th:only-of-type {\n",
       "        vertical-align: middle;\n",
       "    }\n",
       "\n",
       "    .dataframe tbody tr th {\n",
       "        vertical-align: top;\n",
       "    }\n",
       "\n",
       "    .dataframe thead th {\n",
       "        text-align: right;\n",
       "    }\n",
       "</style>\n",
       "<table border=\"1\" class=\"dataframe\">\n",
       "  <thead>\n",
       "    <tr style=\"text-align: right;\">\n",
       "      <th></th>\n",
       "      <th>event</th>\n",
       "      <th>users_count</th>\n",
       "      <th>user_share</th>\n",
       "    </tr>\n",
       "  </thead>\n",
       "  <tbody>\n",
       "    <tr>\n",
       "      <th>0</th>\n",
       "      <td>MainScreenAppear</td>\n",
       "      <td>7344</td>\n",
       "      <td>98.47%</td>\n",
       "    </tr>\n",
       "    <tr>\n",
       "      <th>1</th>\n",
       "      <td>OffersScreenAppear</td>\n",
       "      <td>4517</td>\n",
       "      <td>60.57%</td>\n",
       "    </tr>\n",
       "    <tr>\n",
       "      <th>2</th>\n",
       "      <td>CartScreenAppear</td>\n",
       "      <td>3658</td>\n",
       "      <td>49.05%</td>\n",
       "    </tr>\n",
       "    <tr>\n",
       "      <th>3</th>\n",
       "      <td>PaymentScreenSuccessful</td>\n",
       "      <td>3463</td>\n",
       "      <td>46.43%</td>\n",
       "    </tr>\n",
       "    <tr>\n",
       "      <th>4</th>\n",
       "      <td>Tutorial</td>\n",
       "      <td>824</td>\n",
       "      <td>11.05%</td>\n",
       "    </tr>\n",
       "  </tbody>\n",
       "</table>\n",
       "</div>"
      ],
      "text/plain": [
       "                     event  users_count  user_share\n",
       "0         MainScreenAppear         7344      98.47%\n",
       "1       OffersScreenAppear         4517      60.57%\n",
       "2         CartScreenAppear         3658      49.05%\n",
       "3  PaymentScreenSuccessful         3463      46.43%\n",
       "4                 Tutorial          824      11.05%"
      ]
     },
     "execution_count": 38,
     "metadata": {},
     "output_type": "execute_result"
    }
   ],
   "source": [
    "# доля пользователей, которые хоть раз совершали определенное событие\n",
    "users['user_share'] = (users['users_count'] / logs['device_id_hash'].nunique())\n",
    "users"
   ]
  },
  {
   "cell_type": "markdown",
   "id": "5e540634",
   "metadata": {},
   "source": [
    "События происходят в следующем порядке MainScreenAppear - OffersScreenAppear - CartScreenAppear - PaymentScreenSuccessful.\n",
    "События Tutorial не входит в общую воронку, т.к. не все пользователи читают описание и это вспомогательный интрумент продажи."
   ]
  },
  {
   "cell_type": "code",
   "execution_count": 39,
   "id": "9bb1f8f6",
   "metadata": {},
   "outputs": [
    {
     "data": {
      "text/html": [
       "<div>\n",
       "<style scoped>\n",
       "    .dataframe tbody tr th:only-of-type {\n",
       "        vertical-align: middle;\n",
       "    }\n",
       "\n",
       "    .dataframe tbody tr th {\n",
       "        vertical-align: top;\n",
       "    }\n",
       "\n",
       "    .dataframe thead th {\n",
       "        text-align: right;\n",
       "    }\n",
       "</style>\n",
       "<table border=\"1\" class=\"dataframe\">\n",
       "  <thead>\n",
       "    <tr style=\"text-align: right;\">\n",
       "      <th></th>\n",
       "      <th>event</th>\n",
       "      <th>users_count</th>\n",
       "      <th>user_share</th>\n",
       "    </tr>\n",
       "  </thead>\n",
       "  <tbody>\n",
       "    <tr>\n",
       "      <th>0</th>\n",
       "      <td>MainScreenAppear</td>\n",
       "      <td>7344</td>\n",
       "      <td>98.47%</td>\n",
       "    </tr>\n",
       "    <tr>\n",
       "      <th>1</th>\n",
       "      <td>OffersScreenAppear</td>\n",
       "      <td>4517</td>\n",
       "      <td>60.57%</td>\n",
       "    </tr>\n",
       "    <tr>\n",
       "      <th>2</th>\n",
       "      <td>CartScreenAppear</td>\n",
       "      <td>3658</td>\n",
       "      <td>49.05%</td>\n",
       "    </tr>\n",
       "    <tr>\n",
       "      <th>3</th>\n",
       "      <td>PaymentScreenSuccessful</td>\n",
       "      <td>3463</td>\n",
       "      <td>46.43%</td>\n",
       "    </tr>\n",
       "  </tbody>\n",
       "</table>\n",
       "</div>"
      ],
      "text/plain": [
       "                     event  users_count  user_share\n",
       "0         MainScreenAppear         7344      98.47%\n",
       "1       OffersScreenAppear         4517      60.57%\n",
       "2         CartScreenAppear         3658      49.05%\n",
       "3  PaymentScreenSuccessful         3463      46.43%"
      ]
     },
     "execution_count": 39,
     "metadata": {},
     "output_type": "execute_result"
    }
   ],
   "source": [
    "# удалим данное событие\n",
    "users = users[0:4]\n",
    "users"
   ]
  },
  {
   "cell_type": "markdown",
   "id": "cbdc1206",
   "metadata": {},
   "source": [
    "<a id='2.3-bullet'></a>\n",
    "### Визуализация воронки событий"
   ]
  },
  {
   "cell_type": "code",
   "execution_count": 40,
   "id": "39af4f08",
   "metadata": {
    "scrolled": true
   },
   "outputs": [
    {
     "data": {
      "image/png": "[encoded data removed]"
     },
     "metadata": {},
     "output_type": "display_data"
    }
   ],
   "source": [
    "#визуализируем воронку\n",
    "fig = px.funnel(users, \n",
    "                x=list(users['users_count']), \n",
    "                y=list(users['event']), \n",
    "                title='Воронка событий',\n",
    "                width=900, \n",
    "                height=300,\n",
    "               )\n",
    "fig.update_layout(title_text='Воронка событий', \n",
    "                  title_x=0.5,\n",
    "                  yaxis_title='')\n",
    "fig.show('png')"
   ]
  },
  {
   "cell_type": "markdown",
   "id": "399649e2",
   "metadata": {},
   "source": [
    "<a id='2.4-bullet'></a>\n",
    "### Конверсия событий среди пользователей"
   ]
  },
  {
   "cell_type": "markdown",
   "id": "ea77ca8b",
   "metadata": {},
   "source": [
    "По воронке событий посчитаем, какая доля пользователей проходит на следующий шаг воронки (от числа пользователей на предыдущем)."
   ]
  },
  {
   "cell_type": "code",
   "execution_count": 41,
   "id": "a42cadb5",
   "metadata": {
    "scrolled": true
   },
   "outputs": [
    {
     "data": {
      "text/html": [
       "<div>\n",
       "<style scoped>\n",
       "    .dataframe tbody tr th:only-of-type {\n",
       "        vertical-align: middle;\n",
       "    }\n",
       "\n",
       "    .dataframe tbody tr th {\n",
       "        vertical-align: top;\n",
       "    }\n",
       "\n",
       "    .dataframe thead th {\n",
       "        text-align: right;\n",
       "    }\n",
       "</style>\n",
       "<table border=\"1\" class=\"dataframe\">\n",
       "  <thead>\n",
       "    <tr style=\"text-align: right;\">\n",
       "      <th></th>\n",
       "      <th>event</th>\n",
       "      <th>users_count</th>\n",
       "      <th>user_share</th>\n",
       "      <th>conversion</th>\n",
       "    </tr>\n",
       "  </thead>\n",
       "  <tbody>\n",
       "    <tr>\n",
       "      <th>0</th>\n",
       "      <td>MainScreenAppear</td>\n",
       "      <td>7344</td>\n",
       "      <td>98.47%</td>\n",
       "      <td>NaN</td>\n",
       "    </tr>\n",
       "    <tr>\n",
       "      <th>1</th>\n",
       "      <td>OffersScreenAppear</td>\n",
       "      <td>4517</td>\n",
       "      <td>60.57%</td>\n",
       "      <td>61.51%</td>\n",
       "    </tr>\n",
       "    <tr>\n",
       "      <th>2</th>\n",
       "      <td>CartScreenAppear</td>\n",
       "      <td>3658</td>\n",
       "      <td>49.05%</td>\n",
       "      <td>80.98%</td>\n",
       "    </tr>\n",
       "    <tr>\n",
       "      <th>3</th>\n",
       "      <td>PaymentScreenSuccessful</td>\n",
       "      <td>3463</td>\n",
       "      <td>46.43%</td>\n",
       "      <td>94.67%</td>\n",
       "    </tr>\n",
       "  </tbody>\n",
       "</table>\n",
       "</div>"
      ],
      "text/plain": [
       "                     event  users_count  user_share  conversion\n",
       "0         MainScreenAppear         7344      98.47%         NaN\n",
       "1       OffersScreenAppear         4517      60.57%      61.51%\n",
       "2         CartScreenAppear         3658      49.05%      80.98%\n",
       "3  PaymentScreenSuccessful         3463      46.43%      94.67%"
      ]
     },
     "execution_count": 41,
     "metadata": {},
     "output_type": "execute_result"
    }
   ],
   "source": [
    "#посчитали долю пользователей, которые переходят на следующее событие по воронке\n",
    "users['conversion'] = users['users_count'] / users['users_count'].shift()\n",
    "users"
   ]
  },
  {
   "cell_type": "markdown",
   "id": "f3cf2057",
   "metadata": {},
   "source": [
    "Больше всего пользоватлей теряется при переходе с этапа MainScreenAppear на OffersScreenAppear - порядка 38%."
   ]
  },
  {
   "cell_type": "code",
   "execution_count": 42,
   "id": "e0d26504",
   "metadata": {},
   "outputs": [
    {
     "name": "stdout",
     "output_type": "stream",
     "text": [
      "Дошли до оплаты - 47.15% пользователей\n"
     ]
    }
   ],
   "source": [
    "# посчитаем какая доля пользователей доходит от первого события до оплаты\n",
    "\n",
    "print(\n",
    "    'Дошли до оплаты - {:.2%} пользователей'\n",
    "    .format(users['users_count'][users[users['event'] == 'PaymentScreenSuccessful'].index[0]] / \n",
    "    users['users_count'][users[users['event'] == 'MainScreenAppear'].index[0]])\n",
    ")"
   ]
  },
  {
   "cell_type": "markdown",
   "id": "3002fa36",
   "metadata": {},
   "source": [
    "На данном этапе посмотрели на события, которые есть в логах и распределили их по пользователям в воронку, посмотрели на конверсию пользователей, сколько из них переходят на следующих этап по сравнению с предыдущим. Нашли долю пользователей, которые доходят с первого этапа на последний. Визуализировали воронку для наглядности."
   ]
  },
  {
   "cell_type": "markdown",
   "id": "e24b9b6a",
   "metadata": {},
   "source": [
    "## Результаты эксперимента"
   ]
  },
  {
   "cell_type": "markdown",
   "id": "44d1fe3e",
   "metadata": {},
   "source": [
    "<a id='3.1-bullet'></a>\n",
    "### Функция для проверки статистически достоверных отличий между группами"
   ]
  },
  {
   "cell_type": "markdown",
   "id": "ee5c59fb",
   "metadata": {},
   "source": [
    "Создадим функцию, которая будет считать число пользователей, совершивших событие в каждой из контрольных групп. Считать долю пользователей, совершивших событие. Проверять, будет ли отличие между группами статистически достоверным. "
   ]
  },
  {
   "cell_type": "code",
   "execution_count": 43,
   "id": "7588674c",
   "metadata": {
    "scrolled": true
   },
   "outputs": [
    {
     "data": {
      "text/html": [
       "<div>\n",
       "<style scoped>\n",
       "    .dataframe tbody tr th:only-of-type {\n",
       "        vertical-align: middle;\n",
       "    }\n",
       "\n",
       "    .dataframe tbody tr th {\n",
       "        vertical-align: top;\n",
       "    }\n",
       "\n",
       "    .dataframe thead th {\n",
       "        text-align: right;\n",
       "    }\n",
       "</style>\n",
       "<table border=\"1\" class=\"dataframe\">\n",
       "  <thead>\n",
       "    <tr style=\"text-align: right;\">\n",
       "      <th></th>\n",
       "      <th>group</th>\n",
       "      <th>users_count</th>\n",
       "    </tr>\n",
       "  </thead>\n",
       "  <tbody>\n",
       "    <tr>\n",
       "      <th>0</th>\n",
       "      <td>246</td>\n",
       "      <td>2456</td>\n",
       "    </tr>\n",
       "    <tr>\n",
       "      <th>1</th>\n",
       "      <td>247</td>\n",
       "      <td>2491</td>\n",
       "    </tr>\n",
       "    <tr>\n",
       "      <th>2</th>\n",
       "      <td>248</td>\n",
       "      <td>2511</td>\n",
       "    </tr>\n",
       "    <tr>\n",
       "      <th>3</th>\n",
       "      <td>All</td>\n",
       "      <td>7458</td>\n",
       "    </tr>\n",
       "  </tbody>\n",
       "</table>\n",
       "</div>"
      ],
      "text/plain": [
       "  group  users_count\n",
       "0   246         2456\n",
       "1   247         2491\n",
       "2   248         2511\n",
       "3   All         7458"
      ]
     },
     "execution_count": 43,
     "metadata": {},
     "output_type": "execute_result"
    }
   ],
   "source": [
    "#Количество пользователей в каждой контрольной группе находили на прошлых этапах\n",
    "groups"
   ]
  },
  {
   "cell_type": "code",
   "execution_count": 44,
   "id": "ef7b8fb1",
   "metadata": {},
   "outputs": [
    {
     "data": {
      "text/html": [
       "<div>\n",
       "<style scoped>\n",
       "    .dataframe tbody tr th:only-of-type {\n",
       "        vertical-align: middle;\n",
       "    }\n",
       "\n",
       "    .dataframe tbody tr th {\n",
       "        vertical-align: top;\n",
       "    }\n",
       "\n",
       "    .dataframe thead th {\n",
       "        text-align: right;\n",
       "    }\n",
       "</style>\n",
       "<table border=\"1\" class=\"dataframe\">\n",
       "  <thead>\n",
       "    <tr style=\"text-align: right;\">\n",
       "      <th>exp_id</th>\n",
       "      <th>event_name</th>\n",
       "      <th>246</th>\n",
       "      <th>247</th>\n",
       "      <th>248</th>\n",
       "    </tr>\n",
       "  </thead>\n",
       "  <tbody>\n",
       "    <tr>\n",
       "      <th>0</th>\n",
       "      <td>MainScreenAppear</td>\n",
       "      <td>2423</td>\n",
       "      <td>2454</td>\n",
       "      <td>2467</td>\n",
       "    </tr>\n",
       "    <tr>\n",
       "      <th>1</th>\n",
       "      <td>OffersScreenAppear</td>\n",
       "      <td>1514</td>\n",
       "      <td>1498</td>\n",
       "      <td>1505</td>\n",
       "    </tr>\n",
       "    <tr>\n",
       "      <th>2</th>\n",
       "      <td>CartScreenAppear</td>\n",
       "      <td>1238</td>\n",
       "      <td>1216</td>\n",
       "      <td>1204</td>\n",
       "    </tr>\n",
       "    <tr>\n",
       "      <th>3</th>\n",
       "      <td>PaymentScreenSuccessful</td>\n",
       "      <td>1172</td>\n",
       "      <td>1136</td>\n",
       "      <td>1155</td>\n",
       "    </tr>\n",
       "    <tr>\n",
       "      <th>4</th>\n",
       "      <td>Tutorial</td>\n",
       "      <td>269</td>\n",
       "      <td>279</td>\n",
       "      <td>276</td>\n",
       "    </tr>\n",
       "  </tbody>\n",
       "</table>\n",
       "</div>"
      ],
      "text/plain": [
       "exp_id               event_name   246   247   248\n",
       "0              MainScreenAppear  2423  2454  2467\n",
       "1            OffersScreenAppear  1514  1498  1505\n",
       "2              CartScreenAppear  1238  1216  1204\n",
       "3       PaymentScreenSuccessful  1172  1136  1155\n",
       "4                      Tutorial   269   279   276"
      ]
     },
     "execution_count": 44,
     "metadata": {},
     "output_type": "execute_result"
    }
   ],
   "source": [
    "# вывели сводную таблицу по количеству пользователей по группам и событиям\n",
    "groups_test = logs.pivot_table(\n",
    "    index='event_name', columns='exp_id', values='device_id_hash', aggfunc='nunique'\n",
    ").sort_values(246, ascending=False).reset_index()\n",
    "groups_test"
   ]
  },
  {
   "cell_type": "code",
   "execution_count": 45,
   "id": "36df57da",
   "metadata": {},
   "outputs": [
    {
     "data": {
      "text/html": [
       "<div>\n",
       "<style scoped>\n",
       "    .dataframe tbody tr th:only-of-type {\n",
       "        vertical-align: middle;\n",
       "    }\n",
       "\n",
       "    .dataframe tbody tr th {\n",
       "        vertical-align: top;\n",
       "    }\n",
       "\n",
       "    .dataframe thead th {\n",
       "        text-align: right;\n",
       "    }\n",
       "</style>\n",
       "<table border=\"1\" class=\"dataframe\">\n",
       "  <thead>\n",
       "    <tr style=\"text-align: right;\">\n",
       "      <th></th>\n",
       "      <th>event_name</th>\n",
       "      <th>246+247</th>\n",
       "    </tr>\n",
       "  </thead>\n",
       "  <tbody>\n",
       "    <tr>\n",
       "      <th>0</th>\n",
       "      <td>MainScreenAppear</td>\n",
       "      <td>4877</td>\n",
       "    </tr>\n",
       "    <tr>\n",
       "      <th>1</th>\n",
       "      <td>OffersScreenAppear</td>\n",
       "      <td>3012</td>\n",
       "    </tr>\n",
       "    <tr>\n",
       "      <th>2</th>\n",
       "      <td>CartScreenAppear</td>\n",
       "      <td>2454</td>\n",
       "    </tr>\n",
       "    <tr>\n",
       "      <th>3</th>\n",
       "      <td>PaymentScreenSuccessful</td>\n",
       "      <td>2308</td>\n",
       "    </tr>\n",
       "    <tr>\n",
       "      <th>4</th>\n",
       "      <td>Tutorial</td>\n",
       "      <td>548</td>\n",
       "    </tr>\n",
       "  </tbody>\n",
       "</table>\n",
       "</div>"
      ],
      "text/plain": [
       "                event_name  246+247\n",
       "0         MainScreenAppear     4877\n",
       "1       OffersScreenAppear     3012\n",
       "2         CartScreenAppear     2454\n",
       "3  PaymentScreenSuccessful     2308\n",
       "4                 Tutorial      548"
      ]
     },
     "execution_count": 45,
     "metadata": {},
     "output_type": "execute_result"
    }
   ],
   "source": [
    "# объединили пользователей из контрольных групп в одну\n",
    "groups_merge = logs[(logs['exp_id'] == 246)|(logs['exp_id'] == 247)].pivot_table(\n",
    "    index='event_name', values='device_id_hash', aggfunc='nunique'\n",
    ").sort_values('device_id_hash', ascending=False).reset_index()\n",
    "groups_merge.columns = ['event_name', '246+247']\n",
    "groups_merge"
   ]
  },
  {
   "cell_type": "code",
   "execution_count": 46,
   "id": "037f481b",
   "metadata": {},
   "outputs": [
    {
     "data": {
      "text/html": [
       "<div>\n",
       "<style scoped>\n",
       "    .dataframe tbody tr th:only-of-type {\n",
       "        vertical-align: middle;\n",
       "    }\n",
       "\n",
       "    .dataframe tbody tr th {\n",
       "        vertical-align: top;\n",
       "    }\n",
       "\n",
       "    .dataframe thead th {\n",
       "        text-align: right;\n",
       "    }\n",
       "</style>\n",
       "<table border=\"1\" class=\"dataframe\">\n",
       "  <thead>\n",
       "    <tr style=\"text-align: right;\">\n",
       "      <th></th>\n",
       "      <th>event_name</th>\n",
       "      <th>246</th>\n",
       "      <th>247</th>\n",
       "      <th>248</th>\n",
       "      <th>246+247</th>\n",
       "    </tr>\n",
       "  </thead>\n",
       "  <tbody>\n",
       "    <tr>\n",
       "      <th>0</th>\n",
       "      <td>MainScreenAppear</td>\n",
       "      <td>2423</td>\n",
       "      <td>2454</td>\n",
       "      <td>2467</td>\n",
       "      <td>4877</td>\n",
       "    </tr>\n",
       "    <tr>\n",
       "      <th>1</th>\n",
       "      <td>OffersScreenAppear</td>\n",
       "      <td>1514</td>\n",
       "      <td>1498</td>\n",
       "      <td>1505</td>\n",
       "      <td>3012</td>\n",
       "    </tr>\n",
       "    <tr>\n",
       "      <th>2</th>\n",
       "      <td>CartScreenAppear</td>\n",
       "      <td>1238</td>\n",
       "      <td>1216</td>\n",
       "      <td>1204</td>\n",
       "      <td>2454</td>\n",
       "    </tr>\n",
       "    <tr>\n",
       "      <th>3</th>\n",
       "      <td>PaymentScreenSuccessful</td>\n",
       "      <td>1172</td>\n",
       "      <td>1136</td>\n",
       "      <td>1155</td>\n",
       "      <td>2308</td>\n",
       "    </tr>\n",
       "    <tr>\n",
       "      <th>4</th>\n",
       "      <td>Tutorial</td>\n",
       "      <td>269</td>\n",
       "      <td>279</td>\n",
       "      <td>276</td>\n",
       "      <td>548</td>\n",
       "    </tr>\n",
       "  </tbody>\n",
       "</table>\n",
       "</div>"
      ],
      "text/plain": [
       "                event_name   246   247   248  246+247\n",
       "0         MainScreenAppear  2423  2454  2467     4877\n",
       "1       OffersScreenAppear  1514  1498  1505     3012\n",
       "2         CartScreenAppear  1238  1216  1204     2454\n",
       "3  PaymentScreenSuccessful  1172  1136  1155     2308\n",
       "4                 Tutorial   269   279   276      548"
      ]
     },
     "execution_count": 46,
     "metadata": {},
     "output_type": "execute_result"
    }
   ],
   "source": [
    "# oбъеденили все в одну таблицу\n",
    "groups_test = groups_test.merge(groups_merge, left_on = 'event_name', right_on = 'event_name', how='left')\n",
    "groups_test"
   ]
  },
  {
   "cell_type": "code",
   "execution_count": 47,
   "id": "63427604",
   "metadata": {},
   "outputs": [
    {
     "data": {
      "text/html": [
       "<div>\n",
       "<style scoped>\n",
       "    .dataframe tbody tr th:only-of-type {\n",
       "        vertical-align: middle;\n",
       "    }\n",
       "\n",
       "    .dataframe tbody tr th {\n",
       "        vertical-align: top;\n",
       "    }\n",
       "\n",
       "    .dataframe thead th {\n",
       "        text-align: right;\n",
       "    }\n",
       "</style>\n",
       "<table border=\"1\" class=\"dataframe\">\n",
       "  <thead>\n",
       "    <tr style=\"text-align: right;\">\n",
       "      <th></th>\n",
       "      <th>event</th>\n",
       "      <th>246</th>\n",
       "      <th>247</th>\n",
       "      <th>248</th>\n",
       "      <th>246+247</th>\n",
       "    </tr>\n",
       "  </thead>\n",
       "  <tbody>\n",
       "    <tr>\n",
       "      <th>0</th>\n",
       "      <td>AllUsers</td>\n",
       "      <td>2456</td>\n",
       "      <td>2491</td>\n",
       "      <td>2511</td>\n",
       "      <td>4947</td>\n",
       "    </tr>\n",
       "    <tr>\n",
       "      <th>1</th>\n",
       "      <td>MainScreenAppear</td>\n",
       "      <td>2423</td>\n",
       "      <td>2454</td>\n",
       "      <td>2467</td>\n",
       "      <td>4877</td>\n",
       "    </tr>\n",
       "    <tr>\n",
       "      <th>2</th>\n",
       "      <td>OffersScreenAppear</td>\n",
       "      <td>1514</td>\n",
       "      <td>1498</td>\n",
       "      <td>1505</td>\n",
       "      <td>3012</td>\n",
       "    </tr>\n",
       "    <tr>\n",
       "      <th>3</th>\n",
       "      <td>CartScreenAppear</td>\n",
       "      <td>1238</td>\n",
       "      <td>1216</td>\n",
       "      <td>1204</td>\n",
       "      <td>2454</td>\n",
       "    </tr>\n",
       "    <tr>\n",
       "      <th>4</th>\n",
       "      <td>PaymentScreenSuccessful</td>\n",
       "      <td>1172</td>\n",
       "      <td>1136</td>\n",
       "      <td>1155</td>\n",
       "      <td>2308</td>\n",
       "    </tr>\n",
       "    <tr>\n",
       "      <th>5</th>\n",
       "      <td>Tutorial</td>\n",
       "      <td>269</td>\n",
       "      <td>279</td>\n",
       "      <td>276</td>\n",
       "      <td>548</td>\n",
       "    </tr>\n",
       "  </tbody>\n",
       "</table>\n",
       "</div>"
      ],
      "text/plain": [
       "                     event   246   247   248 246+247\n",
       "0                 AllUsers  2456  2491  2511    4947\n",
       "1         MainScreenAppear  2423  2454  2467    4877\n",
       "2       OffersScreenAppear  1514  1498  1505    3012\n",
       "3         CartScreenAppear  1238  1216  1204    2454\n",
       "4  PaymentScreenSuccessful  1172  1136  1155    2308\n",
       "5                 Tutorial   269   279   276     548"
      ]
     },
     "execution_count": 47,
     "metadata": {},
     "output_type": "execute_result"
    }
   ],
   "source": [
    "# добавили общее количество пользователей в группах\n",
    "\n",
    "groups_test = pd.DataFrame(\n",
    "    np.insert(groups_test.values, \n",
    "              0, \n",
    "              values=[\n",
    "                  'AllUsers', \n",
    "                   logs[logs['exp_id'] == 246]['device_id_hash'].nunique(), \n",
    "                   logs[logs['exp_id'] == 247]['device_id_hash'].nunique(), \n",
    "                   logs[logs['exp_id'] == 248]['device_id_hash'].nunique(), \n",
    "                   logs[(logs['exp_id'] == 246)|(logs['exp_id'] == 247)]['device_id_hash'].nunique()], axis= 0)\n",
    ")\n",
    "groups_test.columns = ['event', 246, 247, 248, '246+247']\n",
    "groups_test"
   ]
  },
  {
   "cell_type": "code",
   "execution_count": 48,
   "id": "b7024f44",
   "metadata": {
    "scrolled": true
   },
   "outputs": [
    {
     "data": {
      "image/png": "[encoded data removed]"
     },
     "metadata": {},
     "output_type": "display_data"
    }
   ],
   "source": [
    "#визуализировали воронку событий по группам\n",
    "\n",
    "stages = list(groups_test['event'])\n",
    "\n",
    "df_246 = pd.DataFrame(dict(number=list(groups_test[246]), stage=stages))\n",
    "df_246['group'] = '246'\n",
    "\n",
    "df_247 = pd.DataFrame(dict(number=list(groups_test[247]), stage=stages))\n",
    "df_247['group'] = '247'\n",
    "\n",
    "df_248 = pd.DataFrame(dict(number=list(groups_test[248]), stage=stages))\n",
    "df_248['group'] = '248'\n",
    "\n",
    "df = pd.concat([df_246, df_247, df_248], axis=0)\n",
    "\n",
    "fig = px.funnel(df, x='number', \n",
    "                y='stage', \n",
    "                color='group', \n",
    "                title='Воронка событий по группам',\n",
    "                width=900, \n",
    "                height=300\n",
    "               )\n",
    "fig.update_layout(title_text='Воронка событий по группам', \n",
    "                  title_x=0.5,\n",
    "                  yaxis_title='')\n",
    "fig.show('png')\n"
   ]
  },
  {
   "cell_type": "code",
   "execution_count": 49,
   "id": "a36823b7",
   "metadata": {},
   "outputs": [
    {
     "data": {
      "text/html": [
       "<div>\n",
       "<style scoped>\n",
       "    .dataframe tbody tr th:only-of-type {\n",
       "        vertical-align: middle;\n",
       "    }\n",
       "\n",
       "    .dataframe tbody tr th {\n",
       "        vertical-align: top;\n",
       "    }\n",
       "\n",
       "    .dataframe thead th {\n",
       "        text-align: right;\n",
       "    }\n",
       "</style>\n",
       "<table border=\"1\" class=\"dataframe\">\n",
       "  <thead>\n",
       "    <tr style=\"text-align: right;\">\n",
       "      <th></th>\n",
       "      <th>event</th>\n",
       "      <th>246</th>\n",
       "      <th>247</th>\n",
       "      <th>248</th>\n",
       "      <th>246+247</th>\n",
       "      <th>246_user_part</th>\n",
       "      <th>247_user_part</th>\n",
       "      <th>248_user_part</th>\n",
       "      <th>246+247_user_part</th>\n",
       "    </tr>\n",
       "  </thead>\n",
       "  <tbody>\n",
       "    <tr>\n",
       "      <th>0</th>\n",
       "      <td>AllUsers</td>\n",
       "      <td>2456</td>\n",
       "      <td>2491</td>\n",
       "      <td>2511</td>\n",
       "      <td>4947</td>\n",
       "      <td>100.00%</td>\n",
       "      <td>100.00%</td>\n",
       "      <td>100.00%</td>\n",
       "      <td>100.00%</td>\n",
       "    </tr>\n",
       "    <tr>\n",
       "      <th>1</th>\n",
       "      <td>MainScreenAppear</td>\n",
       "      <td>2423</td>\n",
       "      <td>2454</td>\n",
       "      <td>2467</td>\n",
       "      <td>4877</td>\n",
       "      <td>98.66%</td>\n",
       "      <td>98.51%</td>\n",
       "      <td>98.25%</td>\n",
       "      <td>98.59%</td>\n",
       "    </tr>\n",
       "    <tr>\n",
       "      <th>2</th>\n",
       "      <td>OffersScreenAppear</td>\n",
       "      <td>1514</td>\n",
       "      <td>1498</td>\n",
       "      <td>1505</td>\n",
       "      <td>3012</td>\n",
       "      <td>61.64%</td>\n",
       "      <td>60.14%</td>\n",
       "      <td>59.94%</td>\n",
       "      <td>60.89%</td>\n",
       "    </tr>\n",
       "    <tr>\n",
       "      <th>3</th>\n",
       "      <td>CartScreenAppear</td>\n",
       "      <td>1238</td>\n",
       "      <td>1216</td>\n",
       "      <td>1204</td>\n",
       "      <td>2454</td>\n",
       "      <td>50.41%</td>\n",
       "      <td>48.82%</td>\n",
       "      <td>47.95%</td>\n",
       "      <td>49.61%</td>\n",
       "    </tr>\n",
       "    <tr>\n",
       "      <th>4</th>\n",
       "      <td>PaymentScreenSuccessful</td>\n",
       "      <td>1172</td>\n",
       "      <td>1136</td>\n",
       "      <td>1155</td>\n",
       "      <td>2308</td>\n",
       "      <td>47.72%</td>\n",
       "      <td>45.60%</td>\n",
       "      <td>46.00%</td>\n",
       "      <td>46.65%</td>\n",
       "    </tr>\n",
       "    <tr>\n",
       "      <th>5</th>\n",
       "      <td>Tutorial</td>\n",
       "      <td>269</td>\n",
       "      <td>279</td>\n",
       "      <td>276</td>\n",
       "      <td>548</td>\n",
       "      <td>10.95%</td>\n",
       "      <td>11.20%</td>\n",
       "      <td>10.99%</td>\n",
       "      <td>11.08%</td>\n",
       "    </tr>\n",
       "  </tbody>\n",
       "</table>\n",
       "</div>"
      ],
      "text/plain": [
       "                     event   246   247   248 246+247 246_user_part  \\\n",
       "0                 AllUsers  2456  2491  2511    4947       100.00%   \n",
       "1         MainScreenAppear  2423  2454  2467    4877        98.66%   \n",
       "2       OffersScreenAppear  1514  1498  1505    3012        61.64%   \n",
       "3         CartScreenAppear  1238  1216  1204    2454        50.41%   \n",
       "4  PaymentScreenSuccessful  1172  1136  1155    2308        47.72%   \n",
       "5                 Tutorial   269   279   276     548        10.95%   \n",
       "\n",
       "  247_user_part 248_user_part 246+247_user_part  \n",
       "0       100.00%       100.00%           100.00%  \n",
       "1        98.51%        98.25%            98.59%  \n",
       "2        60.14%        59.94%            60.89%  \n",
       "3        48.82%        47.95%            49.61%  \n",
       "4        45.60%        46.00%            46.65%  \n",
       "5        11.20%        10.99%            11.08%  "
      ]
     },
     "execution_count": 49,
     "metadata": {},
     "output_type": "execute_result"
    }
   ],
   "source": [
    "# добавили доли пользователей, которые совершили каждое из событий в каждой группе\n",
    "groups_test['246_user_part'] = (groups_test[246] / groups_test[246].values[0])\n",
    "groups_test['247_user_part'] = (groups_test[247] / groups_test[247].values[0])\n",
    "groups_test['248_user_part'] = (groups_test[248] / groups_test[248].values[0])\n",
    "groups_test['246+247_user_part'] = (groups_test['246+247'] / groups_test['246+247'].values[0])\n",
    "groups_test"
   ]
  },
  {
   "cell_type": "markdown",
   "id": "f99d124b",
   "metadata": {},
   "source": [
    "Самое популярное событие открытие главного экран 'MainScreenAppear'- это сделали более 98% пользователей в каждой из групп"
   ]
  },
  {
   "cell_type": "code",
   "execution_count": 50,
   "id": "7a80192e",
   "metadata": {},
   "outputs": [],
   "source": [
    "# напишем функцию, которая будет считать доли пользователей совершивших событие\n",
    "# и проверять будет ли отличие между группами статистически достоверным\n",
    "\n",
    "def ztest(event, group_1, group_2, alpha):\n",
    "    alpha = alpha\n",
    "    \n",
    "    a1 = groups_test[group_1][groups_test[groups_test['event'] == event].index[0]]\n",
    "    a2 = groups_test[group_2][groups_test[groups_test['event'] == event].index[0]]\n",
    "    b1 = groups_test[group_1].values[0]\n",
    "    b2 = groups_test[group_2].values[0]\n",
    "    \n",
    "    p1 = a1 / b1\n",
    "    p2 = a2 / b2\n",
    "    \n",
    "    p_combined = (a1 + a2) / (b1 + b2)\n",
    "    \n",
    "    difference = p1 - p2\n",
    "   \n",
    "    z_value = difference / mth.sqrt(p_combined * (1 - p_combined) * (1/b1 + 1/b2))\n",
    "    \n",
    "    distr = st.norm(0, 1)\n",
    "    \n",
    "    p_value = (1 - distr.cdf(abs(z_value))) * 2\n",
    "    \n",
    "    print('Событие -', event)\n",
    "    print('Количество пользователей, совершивших событие:')\n",
    "    print('группа -', group_1, '/', a1, '- пользователей', '/', \n",
    "          np.round(p1*100,2), '% - доля пользователей от общего количества в группе')\n",
    "    print('группа -', group_2, '/', a2, '- пользователей', '/', \n",
    "          np.round(p2*100,2), '% - доля пользователей от общего количества в группе')\n",
    "    print()\n",
    "    print('Нулевая гипотеза - доли одинаковые')\n",
    "    print('Альтернативная гипотеза - доли разные')\n",
    "    print()\n",
    "    print('Уровень значимости alpha: ', alpha)\n",
    "    print('p-значение: ', p_value)\n",
    "    if p_value < alpha:\n",
    "        print('Отвергаем нулевую гипотезу: между долями есть значимая разница')\n",
    "    else:\n",
    "        print(\n",
    "        'Не получилось отвергнуть нулевую гипотезу, нет оснований считать доли разными'\n",
    "    )"
   ]
  },
  {
   "cell_type": "markdown",
   "id": "3ad23116",
   "metadata": {},
   "source": [
    "<a id='3.2-bullet'></a>\n",
    "### Уровень статистической значимости alpha"
   ]
  },
  {
   "cell_type": "markdown",
   "id": "a9d075d1",
   "metadata": {},
   "source": [
    "Зададим уровень статистической значимости alpha - уровне значимости, при котором можно ошибочно отклонить нулевую гипотезу при условии, что она верна."
   ]
  },
  {
   "cell_type": "code",
   "execution_count": 51,
   "id": "db164001",
   "metadata": {},
   "outputs": [],
   "source": [
    "# задали 0.05 (в 5% случаев можно ошибочно отклонить нулевую гипотезу при условии, что она верна)\n",
    "alpha = 0.05"
   ]
  },
  {
   "cell_type": "markdown",
   "id": "9198cc15",
   "metadata": {},
   "source": [
    "<a id='3.3-bullet'></a>\n",
    "### Статистические отличия между выборками контрольной - 246 и контрольной - 247"
   ]
  },
  {
   "cell_type": "markdown",
   "id": "5fe61abc",
   "metadata": {},
   "source": [
    "#### Событие - MainScreenAppear"
   ]
  },
  {
   "cell_type": "markdown",
   "id": "2502eeec",
   "metadata": {},
   "source": [
    "Посчитаем число пользователей, совершивших это событие в каждой из контрольных групп. Посчитаем долю пользователей, совершивших это событие. Проверим, будет ли отличие между группами статистически достоверным."
   ]
  },
  {
   "cell_type": "code",
   "execution_count": 52,
   "id": "a4506670",
   "metadata": {
    "scrolled": true
   },
   "outputs": [
    {
     "name": "stdout",
     "output_type": "stream",
     "text": [
      "Событие - MainScreenAppear\n",
      "Количество пользователей, совершивших событие:\n",
      "группа - 246 / 2423 - пользователей / 98.66 % - доля пользователей от общего количества в группе\n",
      "группа - 247 / 2454 - пользователей / 98.51 % - доля пользователей от общего количества в группе\n",
      "\n",
      "Нулевая гипотеза - доли одинаковые\n",
      "Альтернативная гипотеза - доли разные\n",
      "\n",
      "Уровень значимости alpha:  0.05\n",
      "p-значение:  0.6730951807208485\n",
      "Не получилось отвергнуть нулевую гипотезу, нет оснований считать доли разными\n"
     ]
    }
   ],
   "source": [
    "ztest('MainScreenAppear', 246, 247, alpha)"
   ]
  },
  {
   "cell_type": "markdown",
   "id": "49732711",
   "metadata": {},
   "source": [
    "По результатам z-теста не получилось найти статистически достоверных отличий в этом событии."
   ]
  },
  {
   "cell_type": "markdown",
   "id": "fcb290cd",
   "metadata": {},
   "source": [
    "#### Событие - OffersScreenAppear"
   ]
  },
  {
   "cell_type": "markdown",
   "id": "cdb19907",
   "metadata": {},
   "source": [
    "Посчитаем число пользователей, совершивших это событие в каждой из контрольных групп. Посчитаем долю пользователей, совершивших это событие. Проверим, будет ли отличие между группами статистически достоверным."
   ]
  },
  {
   "cell_type": "code",
   "execution_count": 53,
   "id": "d0c77f4c",
   "metadata": {
    "scrolled": false
   },
   "outputs": [
    {
     "name": "stdout",
     "output_type": "stream",
     "text": [
      "Событие - OffersScreenAppear\n",
      "Количество пользователей, совершивших событие:\n",
      "группа - 246 / 1514 - пользователей / 61.64 % - доля пользователей от общего количества в группе\n",
      "группа - 247 / 1498 - пользователей / 60.14 % - доля пользователей от общего количества в группе\n",
      "\n",
      "Нулевая гипотеза - доли одинаковые\n",
      "Альтернативная гипотеза - доли разные\n",
      "\n",
      "Уровень значимости alpha:  0.05\n",
      "p-значение:  0.27702771700769824\n",
      "Не получилось отвергнуть нулевую гипотезу, нет оснований считать доли разными\n"
     ]
    }
   ],
   "source": [
    "ztest('OffersScreenAppear', 246, 247, alpha)"
   ]
  },
  {
   "cell_type": "markdown",
   "id": "eba537bd",
   "metadata": {},
   "source": [
    "По результатам z-теста не получилось найти статистически достоверных отличий в этом событии."
   ]
  },
  {
   "cell_type": "markdown",
   "id": "594d28a7",
   "metadata": {},
   "source": [
    "#### Событие - CartScreenAppear"
   ]
  },
  {
   "cell_type": "markdown",
   "id": "32797e00",
   "metadata": {},
   "source": [
    "Посчитаем число пользователей, совершивших это событие в каждой из контрольных групп. Посчитаем долю пользователей, совершивших это событие. Проверим, будет ли отличие между группами статистически достоверным."
   ]
  },
  {
   "cell_type": "code",
   "execution_count": 54,
   "id": "5eb303d5",
   "metadata": {
    "scrolled": true
   },
   "outputs": [
    {
     "name": "stdout",
     "output_type": "stream",
     "text": [
      "Событие - CartScreenAppear\n",
      "Количество пользователей, совершивших событие:\n",
      "группа - 246 / 1238 - пользователей / 50.41 % - доля пользователей от общего количества в группе\n",
      "группа - 247 / 1216 - пользователей / 48.82 % - доля пользователей от общего количества в группе\n",
      "\n",
      "Нулевая гипотеза - доли одинаковые\n",
      "Альтернативная гипотеза - доли разные\n",
      "\n",
      "Уровень значимости alpha:  0.05\n",
      "p-значение:  0.26299626637167783\n",
      "Не получилось отвергнуть нулевую гипотезу, нет оснований считать доли разными\n"
     ]
    }
   ],
   "source": [
    "ztest('CartScreenAppear', 246, 247, alpha)"
   ]
  },
  {
   "cell_type": "markdown",
   "id": "57df50af",
   "metadata": {},
   "source": [
    "По результатам z-теста не получилось найти статистически достоверных отличий в этом событии."
   ]
  },
  {
   "cell_type": "markdown",
   "id": "752259a9",
   "metadata": {},
   "source": [
    "#### Событие - PaymentScreenSuccessful"
   ]
  },
  {
   "cell_type": "markdown",
   "id": "14b74b4a",
   "metadata": {},
   "source": [
    "Посчитаем число пользователей, совершивших это событие в каждой из контрольных групп. Посчитаем долю пользователей, совершивших это событие. Проверим, будет ли отличие между группами статистически достоверным."
   ]
  },
  {
   "cell_type": "code",
   "execution_count": 55,
   "id": "19d55e03",
   "metadata": {
    "scrolled": true
   },
   "outputs": [
    {
     "name": "stdout",
     "output_type": "stream",
     "text": [
      "Событие - PaymentScreenSuccessful\n",
      "Количество пользователей, совершивших событие:\n",
      "группа - 246 / 1172 - пользователей / 47.72 % - доля пользователей от общего количества в группе\n",
      "группа - 247 / 1136 - пользователей / 45.6 % - доля пользователей от общего количества в группе\n",
      "\n",
      "Нулевая гипотеза - доли одинаковые\n",
      "Альтернативная гипотеза - доли разные\n",
      "\n",
      "Уровень значимости alpha:  0.05\n",
      "p-значение:  0.13586258367273985\n",
      "Не получилось отвергнуть нулевую гипотезу, нет оснований считать доли разными\n"
     ]
    }
   ],
   "source": [
    "ztest('PaymentScreenSuccessful', 246, 247, alpha)"
   ]
  },
  {
   "cell_type": "markdown",
   "id": "1ec22c51",
   "metadata": {},
   "source": [
    "По результатам z-теста не получилось найти статистически достоверных отличий в этом событии."
   ]
  },
  {
   "cell_type": "markdown",
   "id": "ad8bd5e6",
   "metadata": {},
   "source": [
    "<a id='3.4-bullet'></a>\n",
    "### Статистические отличия между выборками контрольной - 246 и экспериментальной - 248"
   ]
  },
  {
   "cell_type": "markdown",
   "id": "f96c501c",
   "metadata": {},
   "source": [
    "#### Событие - MainScreenAppear"
   ]
  },
  {
   "cell_type": "markdown",
   "id": "18d6ee07",
   "metadata": {},
   "source": [
    "Посчитаем число пользователей, совершивших это событие в каждой из контрольных групп. Посчитаем долю пользователей, совершивших это событие. Проверим, будет ли отличие между группами статистически достоверным."
   ]
  },
  {
   "cell_type": "code",
   "execution_count": 56,
   "id": "e10984d9",
   "metadata": {
    "scrolled": false
   },
   "outputs": [
    {
     "name": "stdout",
     "output_type": "stream",
     "text": [
      "Событие - MainScreenAppear\n",
      "Количество пользователей, совершивших событие:\n",
      "группа - 246 / 2423 - пользователей / 98.66 % - доля пользователей от общего количества в группе\n",
      "группа - 248 / 2467 - пользователей / 98.25 % - доля пользователей от общего количества в группе\n",
      "\n",
      "Нулевая гипотеза - доли одинаковые\n",
      "Альтернативная гипотеза - доли разные\n",
      "\n",
      "Уровень значимости alpha:  0.05\n",
      "p-значение:  0.24380010740478975\n",
      "Не получилось отвергнуть нулевую гипотезу, нет оснований считать доли разными\n"
     ]
    }
   ],
   "source": [
    "ztest('MainScreenAppear', 246, 248, alpha)"
   ]
  },
  {
   "cell_type": "markdown",
   "id": "3b9d9ac8",
   "metadata": {},
   "source": [
    "По результатам z-теста не получилось найти статистически достоверных отличий в этом событии."
   ]
  },
  {
   "cell_type": "markdown",
   "id": "050e78a8",
   "metadata": {},
   "source": [
    "#### Событие - OffersScreenAppear"
   ]
  },
  {
   "cell_type": "markdown",
   "id": "9538dcc0",
   "metadata": {},
   "source": [
    "Посчитаем число пользователей, совершивших это событие в каждой из контрольных групп. Посчитаем долю пользователей, совершивших это событие. Проверим, будет ли отличие между группами статистически достоверным."
   ]
  },
  {
   "cell_type": "code",
   "execution_count": 57,
   "id": "038210d1",
   "metadata": {
    "scrolled": true
   },
   "outputs": [
    {
     "name": "stdout",
     "output_type": "stream",
     "text": [
      "Событие - OffersScreenAppear\n",
      "Количество пользователей, совершивших событие:\n",
      "группа - 246 / 1514 - пользователей / 61.64 % - доля пользователей от общего количества в группе\n",
      "группа - 248 / 1505 - пользователей / 59.94 % - доля пользователей от общего количества в группе\n",
      "\n",
      "Нулевая гипотеза - доли одинаковые\n",
      "Альтернативная гипотеза - доли разные\n",
      "\n",
      "Уровень значимости alpha:  0.05\n",
      "p-значение:  0.21751867407994285\n",
      "Не получилось отвергнуть нулевую гипотезу, нет оснований считать доли разными\n"
     ]
    }
   ],
   "source": [
    "ztest('OffersScreenAppear', 246, 248, alpha)"
   ]
  },
  {
   "cell_type": "markdown",
   "id": "2eb8e8c1",
   "metadata": {},
   "source": [
    "По результатам z-теста не получилось найти статистически достоверных отличий в этом событии."
   ]
  },
  {
   "cell_type": "markdown",
   "id": "1ece540f",
   "metadata": {},
   "source": [
    "#### Событие - CartScreenAppear"
   ]
  },
  {
   "cell_type": "markdown",
   "id": "5ea78cb2",
   "metadata": {},
   "source": [
    "Посчитаем число пользователей, совершивших это событие в каждой из контрольных групп. Посчитаем долю пользователей, совершивших это событие. Проверим, будет ли отличие между группами статистически достоверным."
   ]
  },
  {
   "cell_type": "code",
   "execution_count": 58,
   "id": "ab09f79a",
   "metadata": {
    "scrolled": true
   },
   "outputs": [
    {
     "name": "stdout",
     "output_type": "stream",
     "text": [
      "Событие - CartScreenAppear\n",
      "Количество пользователей, совершивших событие:\n",
      "группа - 246 / 1238 - пользователей / 50.41 % - доля пользователей от общего количества в группе\n",
      "группа - 248 / 1204 - пользователей / 47.95 % - доля пользователей от общего количества в группе\n",
      "\n",
      "Нулевая гипотеза - доли одинаковые\n",
      "Альтернативная гипотеза - доли разные\n",
      "\n",
      "Уровень значимости alpha:  0.05\n",
      "p-значение:  0.08317408116828573\n",
      "Не получилось отвергнуть нулевую гипотезу, нет оснований считать доли разными\n"
     ]
    }
   ],
   "source": [
    "ztest('CartScreenAppear', 246, 248, alpha)"
   ]
  },
  {
   "cell_type": "markdown",
   "id": "bd1cf338",
   "metadata": {},
   "source": [
    "По результатам z-теста и уровне alpha - 0.05 не получилось найти статистически достоверных отличий в этом событии. При alpha - 0.1 между долями есть значимая разница."
   ]
  },
  {
   "cell_type": "markdown",
   "id": "c81447f2",
   "metadata": {},
   "source": [
    "#### Событие - PaymentScreenSuccessful"
   ]
  },
  {
   "cell_type": "markdown",
   "id": "d3ebe230",
   "metadata": {},
   "source": [
    "Посчитаем число пользователей, совершивших это событие в каждой из контрольных групп. Посчитаем долю пользователей, совершивших это событие. Проверим, будет ли отличие между группами статистически достоверным."
   ]
  },
  {
   "cell_type": "code",
   "execution_count": 59,
   "id": "82aefe6a",
   "metadata": {},
   "outputs": [
    {
     "name": "stdout",
     "output_type": "stream",
     "text": [
      "Событие - PaymentScreenSuccessful\n",
      "Количество пользователей, совершивших событие:\n",
      "группа - 246 / 1172 - пользователей / 47.72 % - доля пользователей от общего количества в группе\n",
      "группа - 248 / 1155 - пользователей / 46.0 % - доля пользователей от общего количества в группе\n",
      "\n",
      "Нулевая гипотеза - доли одинаковые\n",
      "Альтернативная гипотеза - доли разные\n",
      "\n",
      "Уровень значимости alpha:  0.05\n",
      "p-значение:  0.2239322340682175\n",
      "Не получилось отвергнуть нулевую гипотезу, нет оснований считать доли разными\n"
     ]
    }
   ],
   "source": [
    "ztest('PaymentScreenSuccessful', 246, 248, alpha)"
   ]
  },
  {
   "cell_type": "markdown",
   "id": "9d24159b",
   "metadata": {},
   "source": [
    "По результатам z-теста не получилось найти статистически достоверных отличий в этом событии."
   ]
  },
  {
   "cell_type": "markdown",
   "id": "351953b2",
   "metadata": {},
   "source": [
    "<a id='3.5-bullet'></a>\n",
    "### Статистические отличия между выборками контрольной - 247 и экспериментальной - 248"
   ]
  },
  {
   "cell_type": "markdown",
   "id": "7364319c",
   "metadata": {},
   "source": [
    "#### Событие - MainScreenAppear"
   ]
  },
  {
   "cell_type": "markdown",
   "id": "88720868",
   "metadata": {},
   "source": [
    "Посчитаем число пользователей, совершивших это событие в каждой из контрольных групп. Посчитаем долю пользователей, совершивших это событие. Проверим, будет ли отличие между группами статистически достоверным."
   ]
  },
  {
   "cell_type": "code",
   "execution_count": 60,
   "id": "2678d5dc",
   "metadata": {},
   "outputs": [
    {
     "name": "stdout",
     "output_type": "stream",
     "text": [
      "Событие - MainScreenAppear\n",
      "Количество пользователей, совершивших событие:\n",
      "группа - 247 / 2454 - пользователей / 98.51 % - доля пользователей от общего количества в группе\n",
      "группа - 248 / 2467 - пользователей / 98.25 % - доля пользователей от общего количества в группе\n",
      "\n",
      "Нулевая гипотеза - доли одинаковые\n",
      "Альтернативная гипотеза - доли разные\n",
      "\n",
      "Уровень значимости alpha:  0.05\n",
      "p-значение:  0.4545336230756303\n",
      "Не получилось отвергнуть нулевую гипотезу, нет оснований считать доли разными\n"
     ]
    }
   ],
   "source": [
    "ztest('MainScreenAppear', 247, 248, alpha)"
   ]
  },
  {
   "cell_type": "markdown",
   "id": "dfbb118d",
   "metadata": {},
   "source": [
    "По результатам z-теста не получилось найти статистически достоверных отличий в этом событии."
   ]
  },
  {
   "cell_type": "markdown",
   "id": "bfc97a34",
   "metadata": {},
   "source": [
    "#### Событие - OffersScreenAppear"
   ]
  },
  {
   "cell_type": "markdown",
   "id": "2fc7dde7",
   "metadata": {},
   "source": [
    "Посчитаем число пользователей, совершивших это событие в каждой из контрольных групп. Посчитаем долю пользователей, совершивших это событие. Проверим, будет ли отличие между группами статистически достоверным."
   ]
  },
  {
   "cell_type": "code",
   "execution_count": 61,
   "id": "f5ff49f7",
   "metadata": {
    "scrolled": false
   },
   "outputs": [
    {
     "name": "stdout",
     "output_type": "stream",
     "text": [
      "Событие - OffersScreenAppear\n",
      "Количество пользователей, совершивших событие:\n",
      "группа - 247 / 1498 - пользователей / 60.14 % - доля пользователей от общего количества в группе\n",
      "группа - 248 / 1505 - пользователей / 59.94 % - доля пользователей от общего количества в группе\n",
      "\n",
      "Нулевая гипотеза - доли одинаковые\n",
      "Альтернативная гипотеза - доли разные\n",
      "\n",
      "Уровень значимости alpha:  0.05\n",
      "p-значение:  0.8850746269495819\n",
      "Не получилось отвергнуть нулевую гипотезу, нет оснований считать доли разными\n"
     ]
    }
   ],
   "source": [
    "ztest('OffersScreenAppear', 247, 248, alpha)"
   ]
  },
  {
   "cell_type": "markdown",
   "id": "2a3b49a9",
   "metadata": {},
   "source": [
    "По результатам z-теста не получилось найти статистически достоверных отличий в этом событии."
   ]
  },
  {
   "cell_type": "markdown",
   "id": "1dd8efbe",
   "metadata": {},
   "source": [
    "#### Событие - CartScreenAppear"
   ]
  },
  {
   "cell_type": "markdown",
   "id": "9ead5f3e",
   "metadata": {},
   "source": [
    "Посчитаем число пользователей, совершивших это событие в каждой из контрольных групп. Посчитаем долю пользователей, совершивших это событие. Проверим, будет ли отличие между группами статистически достоверным."
   ]
  },
  {
   "cell_type": "code",
   "execution_count": 62,
   "id": "2220d4e5",
   "metadata": {},
   "outputs": [
    {
     "name": "stdout",
     "output_type": "stream",
     "text": [
      "Событие - CartScreenAppear\n",
      "Количество пользователей, совершивших событие:\n",
      "группа - 247 / 1216 - пользователей / 48.82 % - доля пользователей от общего количества в группе\n",
      "группа - 248 / 1204 - пользователей / 47.95 % - доля пользователей от общего количества в группе\n",
      "\n",
      "Нулевая гипотеза - доли одинаковые\n",
      "Альтернативная гипотеза - доли разные\n",
      "\n",
      "Уровень значимости alpha:  0.05\n",
      "p-значение:  0.539679592997024\n",
      "Не получилось отвергнуть нулевую гипотезу, нет оснований считать доли разными\n"
     ]
    }
   ],
   "source": [
    "ztest('CartScreenAppear', 247, 248, alpha)"
   ]
  },
  {
   "cell_type": "markdown",
   "id": "cadfb298",
   "metadata": {},
   "source": [
    "По результатам z-теста не получилось найти статистически достоверных отличий в этом событии."
   ]
  },
  {
   "cell_type": "markdown",
   "id": "374041a3",
   "metadata": {},
   "source": [
    "#### Событие - PaymentScreenSuccessful"
   ]
  },
  {
   "cell_type": "markdown",
   "id": "c9a914b5",
   "metadata": {},
   "source": [
    "Посчитаем число пользователей, совершивших это событие в каждой из контрольных групп. Посчитаем долю пользователей, совершивших это событие. Проверим, будет ли отличие между группами статистически достоверным."
   ]
  },
  {
   "cell_type": "code",
   "execution_count": 63,
   "id": "03c85165",
   "metadata": {
    "scrolled": true
   },
   "outputs": [
    {
     "name": "stdout",
     "output_type": "stream",
     "text": [
      "Событие - PaymentScreenSuccessful\n",
      "Количество пользователей, совершивших событие:\n",
      "группа - 247 / 1136 - пользователей / 45.6 % - доля пользователей от общего количества в группе\n",
      "группа - 248 / 1155 - пользователей / 46.0 % - доля пользователей от общего количества в группе\n",
      "\n",
      "Нулевая гипотеза - доли одинаковые\n",
      "Альтернативная гипотеза - доли разные\n",
      "\n",
      "Уровень значимости alpha:  0.05\n",
      "p-значение:  0.7800603242138475\n",
      "Не получилось отвергнуть нулевую гипотезу, нет оснований считать доли разными\n"
     ]
    }
   ],
   "source": [
    "ztest('PaymentScreenSuccessful', 247, 248, alpha)"
   ]
  },
  {
   "cell_type": "markdown",
   "id": "37cb2687",
   "metadata": {},
   "source": [
    "По результатам z-теста не получилось найти статистически достоверных отличий в этом событии."
   ]
  },
  {
   "cell_type": "markdown",
   "id": "1f3650d8",
   "metadata": {},
   "source": [
    "<a id='3.6-bullet'></a>\n",
    "### Статистические отличия между объединённой контрольной группой - 246+247 и экспериментальной - 248"
   ]
  },
  {
   "cell_type": "markdown",
   "id": "92528482",
   "metadata": {},
   "source": [
    "#### Событие - MainScreenAppear"
   ]
  },
  {
   "cell_type": "markdown",
   "id": "f5c0a118",
   "metadata": {},
   "source": [
    "Посчитаем число пользователей, совершивших это событие в каждой из контрольных групп. Посчитаем долю пользователей, совершивших это событие. Проверим, будет ли отличие между группами статистически достоверным."
   ]
  },
  {
   "cell_type": "code",
   "execution_count": 64,
   "id": "f3f28103",
   "metadata": {
    "scrolled": false
   },
   "outputs": [
    {
     "name": "stdout",
     "output_type": "stream",
     "text": [
      "Событие - MainScreenAppear\n",
      "Количество пользователей, совершивших событие:\n",
      "группа - 246+247 / 4877 - пользователей / 98.59 % - доля пользователей от общего количества в группе\n",
      "группа - 248 / 2467 - пользователей / 98.25 % - доля пользователей от общего количества в группе\n",
      "\n",
      "Нулевая гипотеза - доли одинаковые\n",
      "Альтернативная гипотеза - доли разные\n",
      "\n",
      "Уровень значимости alpha:  0.05\n",
      "p-значение:  0.26186402859555846\n",
      "Не получилось отвергнуть нулевую гипотезу, нет оснований считать доли разными\n"
     ]
    }
   ],
   "source": [
    "ztest('MainScreenAppear', '246+247', 248, alpha)"
   ]
  },
  {
   "cell_type": "markdown",
   "id": "cf6d83ca",
   "metadata": {},
   "source": [
    "По результатам z-теста не получилось найти статистически достоверных отличий в этом событии."
   ]
  },
  {
   "cell_type": "markdown",
   "id": "91fcc30c",
   "metadata": {},
   "source": [
    "#### Событие - OffersScreenAppear"
   ]
  },
  {
   "cell_type": "markdown",
   "id": "bdb31b3c",
   "metadata": {},
   "source": [
    "Посчитаем число пользователей, совершивших это событие в каждой из контрольных групп. Посчитаем долю пользователей, совершивших это событие. Проверим, будет ли отличие между группами статистически достоверным."
   ]
  },
  {
   "cell_type": "code",
   "execution_count": 65,
   "id": "b6caa5db",
   "metadata": {},
   "outputs": [
    {
     "name": "stdout",
     "output_type": "stream",
     "text": [
      "Событие - OffersScreenAppear\n",
      "Количество пользователей, совершивших событие:\n",
      "группа - 246+247 / 3012 - пользователей / 60.89 % - доля пользователей от общего количества в группе\n",
      "группа - 248 / 1505 - пользователей / 59.94 % - доля пользователей от общего количества в группе\n",
      "\n",
      "Нулевая гипотеза - доли одинаковые\n",
      "Альтернативная гипотеза - доли разные\n",
      "\n",
      "Уровень значимости alpha:  0.05\n",
      "p-значение:  0.42801834712141273\n",
      "Не получилось отвергнуть нулевую гипотезу, нет оснований считать доли разными\n"
     ]
    }
   ],
   "source": [
    "ztest('OffersScreenAppear', '246+247', 248, alpha)"
   ]
  },
  {
   "cell_type": "markdown",
   "id": "2c7cc30e",
   "metadata": {},
   "source": [
    "По результатам z-теста не получилось найти статистически достоверных отличий в этом событии."
   ]
  },
  {
   "cell_type": "markdown",
   "id": "89e818e3",
   "metadata": {},
   "source": [
    "#### Событие - CartScreenAppear"
   ]
  },
  {
   "cell_type": "markdown",
   "id": "556e55b9",
   "metadata": {},
   "source": [
    "Посчитаем число пользователей, совершивших это событие в каждой из контрольных групп. Посчитаем долю пользователей, совершивших это событие. Проверим, будет ли отличие между группами статистически достоверным."
   ]
  },
  {
   "cell_type": "code",
   "execution_count": 66,
   "id": "470bd82f",
   "metadata": {},
   "outputs": [
    {
     "name": "stdout",
     "output_type": "stream",
     "text": [
      "Событие - CartScreenAppear\n",
      "Количество пользователей, совершивших событие:\n",
      "группа - 246+247 / 2454 - пользователей / 49.61 % - доля пользователей от общего количества в группе\n",
      "группа - 248 / 1204 - пользователей / 47.95 % - доля пользователей от общего количества в группе\n",
      "\n",
      "Нулевая гипотеза - доли одинаковые\n",
      "Альтернативная гипотеза - доли разные\n",
      "\n",
      "Уровень значимости alpha:  0.05\n",
      "p-значение:  0.17619153820927536\n",
      "Не получилось отвергнуть нулевую гипотезу, нет оснований считать доли разными\n"
     ]
    }
   ],
   "source": [
    "ztest('CartScreenAppear', '246+247', 248, alpha)"
   ]
  },
  {
   "cell_type": "markdown",
   "id": "59a245d6",
   "metadata": {},
   "source": [
    "По результатам z-теста не получилось найти статистически достоверных отличий в этом событии."
   ]
  },
  {
   "cell_type": "markdown",
   "id": "c01aa949",
   "metadata": {},
   "source": [
    "#### Событие - PaymentScreenSuccessful"
   ]
  },
  {
   "cell_type": "markdown",
   "id": "05cd8180",
   "metadata": {},
   "source": [
    "Посчитаем число пользователей, совершивших это событие в каждой из контрольных групп. Посчитаем долю пользователей, совершивших это событие. Проверим, будет ли отличие между группами статистически достоверным."
   ]
  },
  {
   "cell_type": "code",
   "execution_count": 67,
   "id": "6cf8c39d",
   "metadata": {
    "scrolled": false
   },
   "outputs": [
    {
     "name": "stdout",
     "output_type": "stream",
     "text": [
      "Событие - PaymentScreenSuccessful\n",
      "Количество пользователей, совершивших событие:\n",
      "группа - 246+247 / 2308 - пользователей / 46.65 % - доля пользователей от общего количества в группе\n",
      "группа - 248 / 1155 - пользователей / 46.0 % - доля пользователей от общего количества в группе\n",
      "\n",
      "Нулевая гипотеза - доли одинаковые\n",
      "Альтернативная гипотеза - доли разные\n",
      "\n",
      "Уровень значимости alpha:  0.05\n",
      "p-значение:  0.5908710902173984\n",
      "Не получилось отвергнуть нулевую гипотезу, нет оснований считать доли разными\n"
     ]
    }
   ],
   "source": [
    "ztest('PaymentScreenSuccessful', '246+247', 248, alpha)"
   ]
  },
  {
   "cell_type": "markdown",
   "id": "85d78d4c",
   "metadata": {},
   "source": [
    "По результатам z-теста не получилось найти статистически достоверных отличий в этом событии."
   ]
  },
  {
   "cell_type": "markdown",
   "id": "73a56b6e",
   "metadata": {},
   "source": [
    "На данном этапе с помощью статистических критериев искали разницу между выборками. Разбиение на контрольные группы для А/А-эксперимента 246 и 247 произошло корректно - не было найдено статистически достоверных отличий в каждом из событий при заданном уровне статистичской значимости alpha - 0.05 (в 5% случаев можно ошибочно отклонить нулевую гипотезу при условии, что она верна), при alpha - 0.1 (в 10% случаев можно ошибочно отклонить нулевую гипотезу при условии, что она верна) - также не было найдено статистически достоверных отличий.\n",
    "\n",
    "Исследовав с помощью статистических критериев разницу между контрольными группами 246/247 и экспериментальной 248 (группой с изменённым шрифтом) при уровне статистичской значимости alpha - 0.05 не было найдено статистически достоверных отличий в событиях. В тоже время при alpha равным 0.1 в событии CartScreenAppear между контрольной группой 246 и экспериментальной 248 было найдено отличие в долях пользователей, совершивших это событие. \n",
    "\n",
    "По результатам A/A/B-теста можно сделать вывод, что измененные шрифты не влияют на пользователей и воронку продаж."
   ]
  },
  {
   "cell_type": "markdown",
   "id": "89c13dab",
   "metadata": {},
   "source": [
    "<a id='4-bullet'></a>\n",
    "## ВЫВОД"
   ]
  },
  {
   "cell_type": "markdown",
   "id": "0e91511d",
   "metadata": {},
   "source": [
    "При проведении исследования были получены данные о событиях стартапа, который продаёт продукты питания. \n",
    "\n",
    "В полученном датафрейме провели предобработку данных: заменили названия столбцов, преобразовали данные в нужный тип данных, проверили и удалили дубликаты, проверили отсутствие пропусков. Искали аномалии.\n",
    "\n",
    "Изучали воронку продаж. Узнали, как пользователи доходят до покупки. Сколько пользователей доходит до покупки, а сколько — «застревает» на предыдущих шагах. Больше всего пользователей отваливалось при переходе на этап OffersScreenAppear порядка 38% всех пользователей.\n",
    "\n",
    "Исследовали результаты A/A/B-эксперимента. Дизайнеры захотели поменять шрифты во всём приложении, а менеджеры усомнились, что пользователям может быть непривычно и это негативно отразиться на продажам. С помощью статистических критериев не было найдено статистически достоверных отличий. Можно сделать вывод, что измененные шрифты не влияют на пользователей и воронку продаж."
   ]
  },
  {
   "cell_type": "code",
   "execution_count": null,
   "id": "b294fafe",
   "metadata": {},
   "outputs": [],
   "source": []
  }
 ],
 "metadata": {
  "ExecuteTimeLog": [
   {
    "duration": 1162,
    "start_time": "2024-06-15T22:37:06.695Z"
   },
   {
    "duration": 659,
    "start_time": "2024-06-15T22:37:07.859Z"
   },
   {
    "duration": 3,
    "start_time": "2024-06-15T22:37:08.519Z"
   },
   {
    "duration": 161,
    "start_time": "2024-06-15T22:37:08.524Z"
   },
   {
    "duration": 294,
    "start_time": "2024-06-15T22:37:08.686Z"
   },
   {
    "duration": 0,
    "start_time": "2024-06-15T22:37:08.982Z"
   },
   {
    "duration": 0,
    "start_time": "2024-06-15T22:37:08.983Z"
   },
   {
    "duration": 0,
    "start_time": "2024-06-15T22:37:08.984Z"
   },
   {
    "duration": 0,
    "start_time": "2024-06-15T22:37:08.985Z"
   },
   {
    "duration": 0,
    "start_time": "2024-06-15T22:37:08.986Z"
   },
   {
    "duration": 0,
    "start_time": "2024-06-15T22:37:08.987Z"
   },
   {
    "duration": 0,
    "start_time": "2024-06-15T22:37:08.988Z"
   },
   {
    "duration": 0,
    "start_time": "2024-06-15T22:37:08.989Z"
   },
   {
    "duration": 0,
    "start_time": "2024-06-15T22:37:08.989Z"
   },
   {
    "duration": 0,
    "start_time": "2024-06-15T22:37:08.990Z"
   },
   {
    "duration": 0,
    "start_time": "2024-06-15T22:37:08.991Z"
   },
   {
    "duration": 0,
    "start_time": "2024-06-15T22:37:08.992Z"
   },
   {
    "duration": 0,
    "start_time": "2024-06-15T22:37:08.993Z"
   },
   {
    "duration": 0,
    "start_time": "2024-06-15T22:37:08.993Z"
   },
   {
    "duration": 0,
    "start_time": "2024-06-15T22:37:08.994Z"
   },
   {
    "duration": 0,
    "start_time": "2024-06-15T22:37:08.995Z"
   },
   {
    "duration": 0,
    "start_time": "2024-06-15T22:37:08.997Z"
   },
   {
    "duration": 0,
    "start_time": "2024-06-15T22:37:08.998Z"
   },
   {
    "duration": 0,
    "start_time": "2024-06-15T22:37:08.998Z"
   },
   {
    "duration": 0,
    "start_time": "2024-06-15T22:37:08.999Z"
   },
   {
    "duration": 0,
    "start_time": "2024-06-15T22:37:09.000Z"
   },
   {
    "duration": 0,
    "start_time": "2024-06-15T22:37:09.001Z"
   },
   {
    "duration": 0,
    "start_time": "2024-06-15T22:37:09.002Z"
   },
   {
    "duration": 0,
    "start_time": "2024-06-15T22:37:09.003Z"
   },
   {
    "duration": 0,
    "start_time": "2024-06-15T22:37:09.004Z"
   },
   {
    "duration": 0,
    "start_time": "2024-06-15T22:37:09.005Z"
   },
   {
    "duration": 0,
    "start_time": "2024-06-15T22:37:09.006Z"
   },
   {
    "duration": 0,
    "start_time": "2024-06-15T22:37:09.007Z"
   },
   {
    "duration": 0,
    "start_time": "2024-06-15T22:37:09.008Z"
   },
   {
    "duration": 0,
    "start_time": "2024-06-15T22:37:09.009Z"
   },
   {
    "duration": 0,
    "start_time": "2024-06-15T22:37:09.010Z"
   },
   {
    "duration": 0,
    "start_time": "2024-06-15T22:37:09.011Z"
   },
   {
    "duration": 0,
    "start_time": "2024-06-15T22:37:09.011Z"
   },
   {
    "duration": 0,
    "start_time": "2024-06-15T22:37:09.012Z"
   },
   {
    "duration": 0,
    "start_time": "2024-06-15T22:37:09.013Z"
   },
   {
    "duration": 0,
    "start_time": "2024-06-15T22:37:09.014Z"
   },
   {
    "duration": 0,
    "start_time": "2024-06-15T22:37:09.015Z"
   },
   {
    "duration": 0,
    "start_time": "2024-06-15T22:37:09.015Z"
   },
   {
    "duration": 0,
    "start_time": "2024-06-15T22:37:09.016Z"
   },
   {
    "duration": 0,
    "start_time": "2024-06-15T22:37:09.017Z"
   },
   {
    "duration": 0,
    "start_time": "2024-06-15T22:37:09.018Z"
   },
   {
    "duration": 0,
    "start_time": "2024-06-15T22:37:09.020Z"
   },
   {
    "duration": 0,
    "start_time": "2024-06-15T22:37:09.021Z"
   },
   {
    "duration": 0,
    "start_time": "2024-06-15T22:37:09.022Z"
   },
   {
    "duration": 0,
    "start_time": "2024-06-15T22:37:09.023Z"
   },
   {
    "duration": 0,
    "start_time": "2024-06-15T22:37:09.024Z"
   },
   {
    "duration": 0,
    "start_time": "2024-06-15T22:37:09.025Z"
   },
   {
    "duration": 0,
    "start_time": "2024-06-15T22:37:09.026Z"
   },
   {
    "duration": 0,
    "start_time": "2024-06-15T22:37:09.027Z"
   },
   {
    "duration": 0,
    "start_time": "2024-06-15T22:37:09.028Z"
   },
   {
    "duration": 0,
    "start_time": "2024-06-15T22:37:09.029Z"
   },
   {
    "duration": 0,
    "start_time": "2024-06-15T22:37:09.029Z"
   },
   {
    "duration": 0,
    "start_time": "2024-06-15T22:37:09.031Z"
   },
   {
    "duration": 808,
    "start_time": "2024-06-15T22:38:35.777Z"
   },
   {
    "duration": 3,
    "start_time": "2024-06-15T22:38:36.586Z"
   },
   {
    "duration": 71,
    "start_time": "2024-06-15T22:38:36.591Z"
   },
   {
    "duration": 1142,
    "start_time": "2024-06-15T22:38:39.728Z"
   },
   {
    "duration": 144,
    "start_time": "2024-06-15T22:38:40.872Z"
   },
   {
    "duration": 3,
    "start_time": "2024-06-15T22:38:41.017Z"
   },
   {
    "duration": 83,
    "start_time": "2024-06-15T22:38:41.022Z"
   },
   {
    "duration": 14,
    "start_time": "2024-06-15T22:38:41.107Z"
   },
   {
    "duration": 10,
    "start_time": "2024-06-15T22:38:41.122Z"
   },
   {
    "duration": 67,
    "start_time": "2024-06-15T22:38:41.134Z"
   },
   {
    "duration": 78,
    "start_time": "2024-06-15T22:38:41.203Z"
   },
   {
    "duration": 62,
    "start_time": "2024-06-15T22:38:41.282Z"
   },
   {
    "duration": 53,
    "start_time": "2024-06-15T22:38:41.347Z"
   },
   {
    "duration": 19,
    "start_time": "2024-06-15T22:38:41.402Z"
   },
   {
    "duration": 710,
    "start_time": "2024-06-15T22:38:41.423Z"
   },
   {
    "duration": 7,
    "start_time": "2024-06-15T22:38:42.135Z"
   },
   {
    "duration": 23,
    "start_time": "2024-06-15T22:38:42.143Z"
   },
   {
    "duration": 3,
    "start_time": "2024-06-15T22:38:42.167Z"
   },
   {
    "duration": 27,
    "start_time": "2024-06-15T22:38:42.171Z"
   },
   {
    "duration": 29,
    "start_time": "2024-06-15T22:38:42.199Z"
   },
   {
    "duration": 13,
    "start_time": "2024-06-15T22:38:42.229Z"
   },
   {
    "duration": 65,
    "start_time": "2024-06-15T22:38:42.243Z"
   },
   {
    "duration": 4,
    "start_time": "2024-06-15T22:38:42.310Z"
   },
   {
    "duration": 360,
    "start_time": "2024-06-15T22:38:42.315Z"
   },
   {
    "duration": 45,
    "start_time": "2024-06-15T22:38:42.676Z"
   },
   {
    "duration": 39,
    "start_time": "2024-06-15T22:38:42.722Z"
   },
   {
    "duration": 59,
    "start_time": "2024-06-15T22:38:42.762Z"
   },
   {
    "duration": 3,
    "start_time": "2024-06-15T22:38:42.822Z"
   },
   {
    "duration": 22,
    "start_time": "2024-06-15T22:38:42.826Z"
   },
   {
    "duration": 21,
    "start_time": "2024-06-15T22:38:42.849Z"
   },
   {
    "duration": 52,
    "start_time": "2024-06-15T22:38:42.873Z"
   },
   {
    "duration": 9,
    "start_time": "2024-06-15T22:38:42.926Z"
   },
   {
    "duration": 11,
    "start_time": "2024-06-15T22:38:42.936Z"
   },
   {
    "duration": 463,
    "start_time": "2024-06-15T22:38:42.949Z"
   },
   {
    "duration": 9,
    "start_time": "2024-06-15T22:38:43.413Z"
   },
   {
    "duration": 6,
    "start_time": "2024-06-15T22:38:43.423Z"
   },
   {
    "duration": 16,
    "start_time": "2024-06-15T22:38:43.430Z"
   },
   {
    "duration": 117,
    "start_time": "2024-06-15T22:38:43.448Z"
   },
   {
    "duration": 79,
    "start_time": "2024-06-15T22:38:43.566Z"
   },
   {
    "duration": 8,
    "start_time": "2024-06-15T22:38:43.646Z"
   },
   {
    "duration": 31,
    "start_time": "2024-06-15T22:38:43.655Z"
   },
   {
    "duration": 77,
    "start_time": "2024-06-15T22:38:43.688Z"
   },
   {
    "duration": 13,
    "start_time": "2024-06-15T22:38:43.767Z"
   },
   {
    "duration": 7,
    "start_time": "2024-06-15T22:38:43.781Z"
   },
   {
    "duration": 12,
    "start_time": "2024-06-15T22:38:43.790Z"
   },
   {
    "duration": 20,
    "start_time": "2024-06-15T22:38:43.803Z"
   },
   {
    "duration": 6,
    "start_time": "2024-06-15T22:38:43.824Z"
   },
   {
    "duration": 22,
    "start_time": "2024-06-15T22:38:43.831Z"
   },
   {
    "duration": 10,
    "start_time": "2024-06-15T22:38:43.854Z"
   },
   {
    "duration": 6,
    "start_time": "2024-06-15T22:38:43.865Z"
   },
   {
    "duration": 9,
    "start_time": "2024-06-15T22:38:43.871Z"
   },
   {
    "duration": 7,
    "start_time": "2024-06-15T22:38:43.881Z"
   },
   {
    "duration": 33,
    "start_time": "2024-06-15T22:38:43.890Z"
   },
   {
    "duration": 6,
    "start_time": "2024-06-15T22:38:43.924Z"
   },
   {
    "duration": 15,
    "start_time": "2024-06-15T22:38:43.932Z"
   },
   {
    "duration": 9,
    "start_time": "2024-06-15T22:38:43.949Z"
   },
   {
    "duration": 11,
    "start_time": "2024-06-15T22:38:43.960Z"
   },
   {
    "duration": 6,
    "start_time": "2024-06-15T22:38:43.972Z"
   },
   {
    "duration": 19,
    "start_time": "2024-06-15T22:38:43.979Z"
   },
   {
    "duration": 24,
    "start_time": "2024-06-15T22:38:44.000Z"
   },
   {
    "duration": 6,
    "start_time": "2024-06-15T22:38:44.026Z"
   },
   {
    "duration": 989,
    "start_time": "2024-06-16T20:58:52.290Z"
   },
   {
    "duration": 728,
    "start_time": "2024-06-16T20:58:53.281Z"
   },
   {
    "duration": 3,
    "start_time": "2024-06-16T20:58:54.010Z"
   },
   {
    "duration": 74,
    "start_time": "2024-06-16T20:58:54.014Z"
   },
   {
    "duration": 3,
    "start_time": "2024-06-16T20:58:54.089Z"
   },
   {
    "duration": 7,
    "start_time": "2024-06-16T20:58:54.093Z"
   },
   {
    "duration": 51,
    "start_time": "2024-06-16T20:58:54.101Z"
   },
   {
    "duration": 57,
    "start_time": "2024-06-16T20:58:54.153Z"
   },
   {
    "duration": 58,
    "start_time": "2024-06-16T20:58:54.211Z"
   },
   {
    "duration": 53,
    "start_time": "2024-06-16T20:58:54.271Z"
   },
   {
    "duration": 43,
    "start_time": "2024-06-16T20:58:54.325Z"
   },
   {
    "duration": 4,
    "start_time": "2024-06-16T20:58:54.370Z"
   },
   {
    "duration": 629,
    "start_time": "2024-06-16T20:58:54.375Z"
   },
   {
    "duration": 9,
    "start_time": "2024-06-16T20:58:55.006Z"
   },
   {
    "duration": 26,
    "start_time": "2024-06-16T20:58:55.016Z"
   },
   {
    "duration": 2,
    "start_time": "2024-06-16T20:58:55.044Z"
   },
   {
    "duration": 23,
    "start_time": "2024-06-16T20:58:55.048Z"
   },
   {
    "duration": 19,
    "start_time": "2024-06-16T20:58:55.072Z"
   },
   {
    "duration": 5,
    "start_time": "2024-06-16T20:58:55.092Z"
   },
   {
    "duration": 15,
    "start_time": "2024-06-16T20:58:55.098Z"
   },
   {
    "duration": 17,
    "start_time": "2024-06-16T20:58:55.114Z"
   },
   {
    "duration": 6,
    "start_time": "2024-06-16T20:58:55.132Z"
   },
   {
    "duration": 406,
    "start_time": "2024-06-16T20:58:55.139Z"
   },
   {
    "duration": 3,
    "start_time": "2024-06-16T20:58:55.546Z"
   },
   {
    "duration": 9,
    "start_time": "2024-06-16T20:58:55.550Z"
   },
   {
    "duration": 31,
    "start_time": "2024-06-16T20:58:55.560Z"
   },
   {
    "duration": 5,
    "start_time": "2024-06-16T20:58:55.592Z"
   },
   {
    "duration": 297,
    "start_time": "2024-06-16T20:58:55.600Z"
   },
   {
    "duration": 27,
    "start_time": "2024-06-16T20:58:55.898Z"
   },
   {
    "duration": 31,
    "start_time": "2024-06-16T20:58:55.926Z"
   },
   {
    "duration": 53,
    "start_time": "2024-06-16T20:58:55.958Z"
   },
   {
    "duration": 3,
    "start_time": "2024-06-16T20:58:56.012Z"
   },
   {
    "duration": 9,
    "start_time": "2024-06-16T20:58:56.016Z"
   },
   {
    "duration": 2,
    "start_time": "2024-06-16T20:58:56.027Z"
   },
   {
    "duration": 9,
    "start_time": "2024-06-16T20:58:56.030Z"
   },
   {
    "duration": 15,
    "start_time": "2024-06-16T20:58:56.040Z"
   },
   {
    "duration": 57,
    "start_time": "2024-06-16T20:58:56.056Z"
   },
   {
    "duration": 7,
    "start_time": "2024-06-16T20:58:56.114Z"
   },
   {
    "duration": 11,
    "start_time": "2024-06-16T20:58:56.122Z"
   },
   {
    "duration": 590,
    "start_time": "2024-06-16T20:58:56.134Z"
   },
   {
    "duration": 7,
    "start_time": "2024-06-16T20:58:56.726Z"
   },
   {
    "duration": 5,
    "start_time": "2024-06-16T20:58:56.734Z"
   },
   {
    "duration": 53,
    "start_time": "2024-06-16T20:58:56.740Z"
   },
   {
    "duration": 58,
    "start_time": "2024-06-16T20:58:56.794Z"
   },
   {
    "duration": 59,
    "start_time": "2024-06-16T20:58:56.853Z"
   },
   {
    "duration": 7,
    "start_time": "2024-06-16T20:58:56.913Z"
   },
   {
    "duration": 26,
    "start_time": "2024-06-16T20:58:56.922Z"
   },
   {
    "duration": 59,
    "start_time": "2024-06-16T20:58:56.950Z"
   },
   {
    "duration": 11,
    "start_time": "2024-06-16T20:58:57.010Z"
   },
   {
    "duration": 5,
    "start_time": "2024-06-16T20:58:57.023Z"
   },
   {
    "duration": 9,
    "start_time": "2024-06-16T20:58:57.029Z"
   },
   {
    "duration": 15,
    "start_time": "2024-06-16T20:58:57.039Z"
   },
   {
    "duration": 7,
    "start_time": "2024-06-16T20:58:57.055Z"
   },
   {
    "duration": 8,
    "start_time": "2024-06-16T20:58:57.063Z"
   },
   {
    "duration": 21,
    "start_time": "2024-06-16T20:58:57.073Z"
   },
   {
    "duration": 19,
    "start_time": "2024-06-16T20:58:57.095Z"
   },
   {
    "duration": 7,
    "start_time": "2024-06-16T20:58:57.115Z"
   },
   {
    "duration": 11,
    "start_time": "2024-06-16T20:58:57.123Z"
   },
   {
    "duration": 9,
    "start_time": "2024-06-16T20:58:57.136Z"
   },
   {
    "duration": 13,
    "start_time": "2024-06-16T20:58:57.146Z"
   },
   {
    "duration": 7,
    "start_time": "2024-06-16T20:58:57.160Z"
   },
   {
    "duration": 12,
    "start_time": "2024-06-16T20:58:57.168Z"
   },
   {
    "duration": 11,
    "start_time": "2024-06-16T20:58:57.181Z"
   },
   {
    "duration": 7,
    "start_time": "2024-06-16T20:58:57.193Z"
   },
   {
    "duration": 6,
    "start_time": "2024-06-16T20:58:57.201Z"
   },
   {
    "duration": 6,
    "start_time": "2024-06-16T20:58:57.209Z"
   },
   {
    "duration": 11,
    "start_time": "2024-06-16T20:58:57.216Z"
   }
  ],
  "kernelspec": {
   "display_name": "Python 3 (ipykernel)",
   "language": "python",
   "name": "python3"
  },
  "language_info": {
   "codemirror_mode": {
    "name": "ipython",
    "version": 3
   },
   "file_extension": ".py",
   "mimetype": "text/x-python",
   "name": "python",
   "nbconvert_exporter": "python",
   "pygments_lexer": "ipython3",
   "version": "3.11.5"
  },
  "toc": {
   "base_numbering": 1,
   "nav_menu": {},
   "number_sections": true,
   "sideBar": true,
   "skip_h1_title": true,
   "title_cell": "Table of Contents",
   "title_sidebar": "Contents",
   "toc_cell": false,
   "toc_position": {
    "height": "calc(100% - 180px)",
    "left": "10px",
    "top": "150px",
    "width": "427.594px"
   },
   "toc_section_display": true,
   "toc_window_display": false
  },
  "varInspector": {
   "cols": {
    "lenName": 16,
    "lenType": 16,
    "lenVar": 40
   },
   "kernels_config": {
    "python": {
     "delete_cmd_postfix": "",
     "delete_cmd_prefix": "del ",
     "library": "var_list.py",
     "varRefreshCmd": "print(var_dic_list())"
    },
    "r": {
     "delete_cmd_postfix": ") ",
     "delete_cmd_prefix": "rm(",
     "library": "var_list.r",
     "varRefreshCmd": "cat(var_dic_list()) "
    }
   },
   "types_to_exclude": [
    "module",
    "function",
    "builtin_function_or_method",
    "instance",
    "_Feature"
   ],
   "window_display": false
  }
 },
 "nbformat": 4,
 "nbformat_minor": 5
}
