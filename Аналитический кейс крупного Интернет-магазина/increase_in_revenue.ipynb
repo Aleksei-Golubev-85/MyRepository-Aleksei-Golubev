{
 "cells": [
  {
   "cell_type": "markdown",
   "id": "edaffc2a",
   "metadata": {},
   "source": [
    "# Название проекта: Аналитический кейс крупного Интернет-магазина"
   ]
  },
  {
   "cell_type": "markdown",
   "id": "93b39c18",
   "metadata": {},
   "source": [
    "**Описание исследования.**\n",
    "\n",
    "Вместе с отделом маркетинга был подготовлен список гипотез для увеличения выручки. Необходимо приоритизировать гипотезы, запустить A/B-тест и проанализировать результаты.\n",
    "\n",
    "**Цель исследования.**\n",
    "\n",
    "Определить гипотезу для увеличения выручки интернет-магазина. Принять решение по результатам А/В теста:\n",
    "1. Остановить тест, зафиксировать победу одной из групп.\n",
    "2. Остановить тест, зафиксировать отсутствие различий между группами.\n",
    "3. Продолжить тест.    \n",
    "\n",
    "**Задачи исследования.**\n",
    "\n",
    "- выгрузить датасеты и изучить по ними общую информацию;\n",
    "- проверить на наличие пропущенных значений и дубликатов;\n",
    "- приоритизировать гипотезы;\n",
    "- проанализировать A/B-тест;\n",
    "- сделать выводы и рекомендации.\n",
    "\n",
    "**Исходные данные.**\n",
    "\n",
    "В нашем распоряжении три датасета:\n",
    " - **hypothesis.csv** хранит 9 гипотез по увеличению выручки интернет-магазина с указанными параметрами Reach, Impact, Confidence, Effort,\n",
    " - **orders.csv** и **visitors.csv** файлы с результатами проведенного A/B-теста.\n",
    " \n",
    "Структура **hypothesis.csv:**\n",
    "\n",
    "- Hypothesis — краткое описание гипотезы;\n",
    "- Reach — охват пользователей по 10-балльной шкале;\n",
    "- Impact — влияние на пользователей по 10-балльной шкале;\n",
    "- Confidence — уверенность в гипотезе по 10-балльной шкале;\n",
    "- Efforts — затраты ресурсов на проверку гипотезы по 10-балльной шкале. Чем больше значение Efforts, тем дороже проверка гипотезы.\n",
    "\n",
    "Структура **orders.csv:**\n",
    "\n",
    "- transactionId — идентификатор заказа;\n",
    "- visitorId — идентификатор пользователя, совершившего заказ;\n",
    "- date — дата, когда был совершён заказ;\n",
    "- revenue — выручка заказа;\n",
    "- group — группа A/B-теста, в которую попал заказ.\n",
    "\n",
    "Структура **visitors.csv:**\n",
    "\n",
    "- date — дата;\n",
    "- group — группа A/B-теста;\n",
    "- visitors — количество пользователей в указанную дату в указанной группе A/B-теста\n",
    "\n",
    "**Данное исследование разделим на несколько частей.**\n",
    "\n",
    "***Часть 1. Изучение общей информации:***\n",
    "\n",
    "* [1. Изучение файлов с данными, получение общей информации, загрузка библиотек](#1.1-bullet)\n",
    "* [2. Замена названий столбцов](#1.2-bullet)\n",
    "* [3. Исследование аномалий](#1.3-bullet)\n",
    "\n",
    "***Часть 2. Приоритизация гипотез:***\n",
    "\n",
    "* [1. Фреймворк ICE для приоритизации гипотез](#2.1-bullet)\n",
    "* [2. Фреймворк RICE для приоритизации гипотез](#2.2-bullet)\n",
    "\n",
    "***Часть 3. Анализ A/B-теста***\n",
    "\n",
    "* [1. График кумулятивной выручки по группам](#3.1-bullet)\n",
    "* [2. График кумулятивного среднего чека по группам](#3.2-bullet)\n",
    "* [3. График относительного изменения кумулятивного среднего чека группы B к группе A](#3.3-bullet)\n",
    "* [4. График кумулятивного среднего количества заказов на посетителя по группам](#3.4-bullet)\n",
    "* [5. График относительного изменения кумулятивного среднего количества заказов на посетителя группы B к группе A](#3.5-bullet)\n",
    "* [6. Точечный график количества заказов по пользователям](#3.6-bullet)\n",
    "* [7. Выбор границы для определения аномальных пользователей](#3.7-bullet)\n",
    "* [8. Точечный график стоимостей заказов](#3.8-bullet)\n",
    "* [9. Выбор границы для определения аномальных заказов](#3.9-bullet)\n",
    "* [10. Статистическая значимость различий в среднем количестве заказов на посетителя между группами по «сырым» данным](#3.10-bullet)\n",
    "* [11. Статистическая значимость различий в среднем чеке заказа между группами по «сырым» данным](#3.11-bullet)\n",
    "* [12. Статистическая значимость различий в среднем количестве заказов на посетителя между группами по «очищенным» данным](#3.12-bullet)\n",
    "* [13. Статистическая значимость различий в среднем чеке заказа между группами по «очищенным» данным](#3.13-bullet)\n",
    "* [14. Решение по результатам теста](#3.14-bullet)\n",
    "\n",
    "[***ВЫВОД***](#4-bullet)"
   ]
  },
  {
   "cell_type": "code",
   "execution_count": 1,
   "id": "84c12995",
   "metadata": {},
   "outputs": [],
   "source": [
    "# импортировали библиотеки Pyhton для проведения исследования\n",
    "import pandas as pd \n",
    "import seaborn as sns \n",
    "from matplotlib import pyplot as plt\n",
    "from scipy import stats as st\n",
    "import numpy as np\n",
    "from math import factorial\n",
    "from scipy.stats import binom, norm\n",
    "pd.options.display.max_colwidth = 120\n",
    "pd.set_option('display.max_columns', None) # настройка опции для отображения всех столбцов в таблице\n",
    "import datetime as dt\n",
    "from pandas.plotting import register_matplotlib_converters\n",
    "import warnings"
   ]
  },
  {
   "cell_type": "markdown",
   "id": "612dfacc",
   "metadata": {},
   "source": [
    "## Загрузка данных и подготовка их к анализу"
   ]
  },
  {
   "cell_type": "markdown",
   "id": "eba100ed",
   "metadata": {},
   "source": [
    "<a id='1.1-bullet'></a>\n",
    "### Считывание CSV-файлов с данными с помощью библиотеки pandas"
   ]
  },
  {
   "cell_type": "code",
   "execution_count": 2,
   "id": "9956021b",
   "metadata": {},
   "outputs": [],
   "source": [
    "# считали файлы из csv-файлов в переменные\n",
    "try:\n",
    "    hypothesis = pd.read_csv('hypothesis.csv')\n",
    "    orders = pd.read_csv('orders.csv', parse_dates=['date'])\n",
    "    visitors = pd.read_csv('visitors.csv', parse_dates=['date'])\n",
    "except:\n",
    "    hypothesis = pd.read_csv('/datasets/hypothesis.csv')\n",
    "    orders = pd.read_csv('/datasets/orders.csv', parse_dates=['date'])\n",
    "    visitors = pd.read_csv('/datasets/visitors.csv', parse_dates=['date'])"
   ]
  },
  {
   "cell_type": "code",
   "execution_count": 3,
   "id": "6a5b1fdb",
   "metadata": {},
   "outputs": [],
   "source": [
    "# создали функцию для просмотра и вывода информации датафрейма\n",
    "def info(df):\n",
    "    print(df.head(10), '*'*50, sep='\\n')\n",
    "    print(df.info(), '*'*50, sep='\\n')\n",
    "    print(df.duplicated().sum(), '*'*50, sep='\\n');"
   ]
  },
  {
   "cell_type": "code",
   "execution_count": 4,
   "id": "2ffa9d74",
   "metadata": {
    "scrolled": true
   },
   "outputs": [
    {
     "name": "stdout",
     "output_type": "stream",
     "text": [
      "                                                                                                     Hypothesis  \\\n",
      "0            Добавить два новых канала привлечения трафика, что позволит привлекать на 30% больше пользователей   \n",
      "1                                     Запустить собственную службу доставки, что сократит срок доставки заказов   \n",
      "2  Добавить блоки рекомендаций товаров на сайт интернет магазина, чтобы повысить конверсию и средний чек заказа   \n",
      "3           Изменить структура категорий, что увеличит конверсию, т.к. пользователи быстрее найдут нужный товар   \n",
      "4                              Изменить цвет фона главной страницы, чтобы увеличить вовлеченность пользователей   \n",
      "5                      Добавить страницу отзывов клиентов о магазине, что позволит увеличить количество заказов   \n",
      "6          Показать на главной странице баннеры с актуальными акциями и распродажами, чтобы увеличить конверсию   \n",
      "7              Добавить форму подписки на все основные страницы, чтобы собрать базу клиентов для email-рассылок   \n",
      "8                                                       Запустить акцию, дающую скидку на товар в день рождения   \n",
      "\n",
      "   Reach  Impact  Confidence  Efforts  \n",
      "0      3      10           8        6  \n",
      "1      2       5           4       10  \n",
      "2      8       3           7        3  \n",
      "3      8       3           3        8  \n",
      "4      3       1           1        1  \n",
      "5      3       2           2        3  \n",
      "6      5       3           8        3  \n",
      "7     10       7           8        5  \n",
      "8      1       9           9        5  \n",
      "**************************************************\n",
      "<class 'pandas.core.frame.DataFrame'>\n",
      "RangeIndex: 9 entries, 0 to 8\n",
      "Data columns (total 5 columns):\n",
      " #   Column      Non-Null Count  Dtype \n",
      "---  ------      --------------  ----- \n",
      " 0   Hypothesis  9 non-null      object\n",
      " 1   Reach       9 non-null      int64 \n",
      " 2   Impact      9 non-null      int64 \n",
      " 3   Confidence  9 non-null      int64 \n",
      " 4   Efforts     9 non-null      int64 \n",
      "dtypes: int64(4), object(1)\n",
      "memory usage: 492.0+ bytes\n",
      "None\n",
      "**************************************************\n",
      "0\n",
      "**************************************************\n"
     ]
    }
   ],
   "source": [
    "info(hypothesis) # вывели информацию по датасету 'hypothesis.csv'"
   ]
  },
  {
   "cell_type": "markdown",
   "id": "cd8f5d55",
   "metadata": {},
   "source": [
    "В файле как и заявлено 9 строк и 5 столбцов. В числовых столбцах оценки по 10-балльной шкале. Пропусков и дубликатов нет."
   ]
  },
  {
   "cell_type": "code",
   "execution_count": 5,
   "id": "053201f6",
   "metadata": {
    "scrolled": true
   },
   "outputs": [
    {
     "name": "stdout",
     "output_type": "stream",
     "text": [
      "   transactionId   visitorId       date  revenue group\n",
      "0     3667963787  3312258926 2019-08-15     1650     B\n",
      "1     2804400009  3642806036 2019-08-15      730     B\n",
      "2     2961555356  4069496402 2019-08-15      400     A\n",
      "3     3797467345  1196621759 2019-08-15     9759     B\n",
      "4     2282983706  2322279887 2019-08-15     2308     B\n",
      "5      182168103   935554773 2019-08-15     2210     B\n",
      "6      398296753  2900797465 2019-08-15     1860     B\n",
      "7     2626614568    78758296 2019-08-15     1044     A\n",
      "8     1576988021   295230930 2019-08-15    13710     A\n",
      "9     1506739906  1882260405 2019-08-15     1855     B\n",
      "**************************************************\n",
      "<class 'pandas.core.frame.DataFrame'>\n",
      "RangeIndex: 1197 entries, 0 to 1196\n",
      "Data columns (total 5 columns):\n",
      " #   Column         Non-Null Count  Dtype         \n",
      "---  ------         --------------  -----         \n",
      " 0   transactionId  1197 non-null   int64         \n",
      " 1   visitorId      1197 non-null   int64         \n",
      " 2   date           1197 non-null   datetime64[ns]\n",
      " 3   revenue        1197 non-null   int64         \n",
      " 4   group          1197 non-null   object        \n",
      "dtypes: datetime64[ns](1), int64(3), object(1)\n",
      "memory usage: 46.9+ KB\n",
      "None\n",
      "**************************************************\n",
      "0\n",
      "**************************************************\n"
     ]
    }
   ],
   "source": [
    "info(orders) # вывели информацию по датасету 'orders.csv'"
   ]
  },
  {
   "cell_type": "markdown",
   "id": "ef5e7c0e",
   "metadata": {},
   "source": [
    "Датасет содержит 1197 строк и 5 столбцов. Пропущенных значений и дубликатов нет."
   ]
  },
  {
   "cell_type": "code",
   "execution_count": 6,
   "id": "e80ecd80",
   "metadata": {},
   "outputs": [
    {
     "name": "stdout",
     "output_type": "stream",
     "text": [
      "        date group  visitors\n",
      "0 2019-08-01     A       719\n",
      "1 2019-08-02     A       619\n",
      "2 2019-08-03     A       507\n",
      "3 2019-08-04     A       717\n",
      "4 2019-08-05     A       756\n",
      "5 2019-08-06     A       667\n",
      "6 2019-08-07     A       644\n",
      "7 2019-08-08     A       610\n",
      "8 2019-08-09     A       617\n",
      "9 2019-08-10     A       406\n",
      "**************************************************\n",
      "<class 'pandas.core.frame.DataFrame'>\n",
      "RangeIndex: 62 entries, 0 to 61\n",
      "Data columns (total 3 columns):\n",
      " #   Column    Non-Null Count  Dtype         \n",
      "---  ------    --------------  -----         \n",
      " 0   date      62 non-null     datetime64[ns]\n",
      " 1   group     62 non-null     object        \n",
      " 2   visitors  62 non-null     int64         \n",
      "dtypes: datetime64[ns](1), int64(1), object(1)\n",
      "memory usage: 1.6+ KB\n",
      "None\n",
      "**************************************************\n",
      "0\n",
      "**************************************************\n"
     ]
    }
   ],
   "source": [
    "info(visitors) # вывели информацию по датасету 'visitors.csv'"
   ]
  },
  {
   "cell_type": "markdown",
   "id": "2416dc1c",
   "metadata": {},
   "source": [
    "Датасет содержит 62 исследования и 3 столбца. Пропущенных значений и дубликатов нет."
   ]
  },
  {
   "cell_type": "markdown",
   "id": "741f26df",
   "metadata": {},
   "source": [
    "В исходных данных нет пропусков и дубликатов. Назавания столбцов не корректно записаны, с большой буквы, нужно заменить для удобства."
   ]
  },
  {
   "cell_type": "markdown",
   "id": "f8ba6abe",
   "metadata": {},
   "source": [
    "<a id='1.2-bullet'></a>\n",
    "### Замена названий столбцов"
   ]
  },
  {
   "cell_type": "markdown",
   "id": "8739b98e",
   "metadata": {},
   "source": [
    "Заменим названия столбцов: приведем к нижнему регистру"
   ]
  },
  {
   "cell_type": "code",
   "execution_count": 7,
   "id": "ac9f5e0e",
   "metadata": {},
   "outputs": [],
   "source": [
    "#изменили названия столбцов в переменной hypothesis\n",
    "hypothesis.columns = ['hypothesis', 'reach', 'impact', 'confidence', 'efforts'] "
   ]
  },
  {
   "cell_type": "code",
   "execution_count": 8,
   "id": "e188e845",
   "metadata": {},
   "outputs": [
    {
     "data": {
      "text/plain": [
       "Index(['hypothesis', 'reach', 'impact', 'confidence', 'efforts'], dtype='object')"
      ]
     },
     "execution_count": 8,
     "metadata": {},
     "output_type": "execute_result"
    }
   ],
   "source": [
    "hypothesis.columns #вывели исправленные названия"
   ]
  },
  {
   "cell_type": "code",
   "execution_count": 9,
   "id": "1c5cf6f6",
   "metadata": {},
   "outputs": [],
   "source": [
    "#изменили названия столбцов в переменной orders\n",
    "orders.columns = ['transaction_id', 'visitor_id', 'date', 'revenue', 'group']"
   ]
  },
  {
   "cell_type": "code",
   "execution_count": 10,
   "id": "1a3be2e3",
   "metadata": {},
   "outputs": [
    {
     "data": {
      "text/plain": [
       "Index(['transaction_id', 'visitor_id', 'date', 'revenue', 'group'], dtype='object')"
      ]
     },
     "execution_count": 10,
     "metadata": {},
     "output_type": "execute_result"
    }
   ],
   "source": [
    "orders.columns #вывели исправленные названия"
   ]
  },
  {
   "cell_type": "markdown",
   "id": "b9710190",
   "metadata": {},
   "source": [
    "Привели названия к змеиному регистру"
   ]
  },
  {
   "cell_type": "markdown",
   "id": "1197e78e",
   "metadata": {},
   "source": [
    "<a id='1.3-bullet'></a>\n",
    "### Исследование аномалий"
   ]
  },
  {
   "cell_type": "code",
   "execution_count": 11,
   "id": "aace87b8",
   "metadata": {},
   "outputs": [],
   "source": [
    "# проверили количество строк в датафрейме orders\n",
    "before = orders.shape[0]"
   ]
  },
  {
   "cell_type": "code",
   "execution_count": 12,
   "id": "51dcee44",
   "metadata": {
    "scrolled": true
   },
   "outputs": [
    {
     "data": {
      "text/plain": [
       "1197"
      ]
     },
     "execution_count": 12,
     "metadata": {},
     "output_type": "execute_result"
    }
   ],
   "source": [
    "# проверили количество уникальных заказов\n",
    "orders['transaction_id'].nunique()"
   ]
  },
  {
   "cell_type": "code",
   "execution_count": 13,
   "id": "2fe91cf2",
   "metadata": {
    "scrolled": true
   },
   "outputs": [
    {
     "data": {
      "text/plain": [
       "1031"
      ]
     },
     "execution_count": 13,
     "metadata": {},
     "output_type": "execute_result"
    }
   ],
   "source": [
    "# проверили количество уникальных посетителей\n",
    "orders['visitor_id'].nunique()"
   ]
  },
  {
   "cell_type": "markdown",
   "id": "369940f2",
   "metadata": {},
   "source": [
    "Некоторые посетители делали более одного заказа"
   ]
  },
  {
   "cell_type": "code",
   "execution_count": 14,
   "id": "1c6c58a8",
   "metadata": {
    "scrolled": true
   },
   "outputs": [
    {
     "name": "stdout",
     "output_type": "stream",
     "text": [
      "2019-08-01\n",
      "2019-08-01\n",
      "2019-08-31\n",
      "2019-08-31\n"
     ]
    }
   ],
   "source": [
    "# определили максимальную и минимальную дату в датафреймах\n",
    "print(orders['date'].min().date())\n",
    "print(visitors['date'].min().date())\n",
    "print(orders['date'].max().date())\n",
    "print(visitors['date'].max().date())"
   ]
  },
  {
   "cell_type": "markdown",
   "id": "8d65a0d9",
   "metadata": {},
   "source": [
    "Тест длился с 1 августа 2019 по 31 августа 2019."
   ]
  },
  {
   "cell_type": "code",
   "execution_count": 15,
   "id": "a7c055cc",
   "metadata": {},
   "outputs": [
    {
     "name": "stdout",
     "output_type": "stream",
     "text": [
      "['B' 'A']\n",
      "['A' 'B']\n"
     ]
    }
   ],
   "source": [
    "print(orders['group'].unique())\n",
    "print(visitors['group'].unique())"
   ]
  },
  {
   "cell_type": "markdown",
   "id": "0cba4931",
   "metadata": {},
   "source": [
    "Проверили, что в обоих датафрейма только группы A и В"
   ]
  },
  {
   "cell_type": "code",
   "execution_count": 16,
   "id": "ab4cf453",
   "metadata": {},
   "outputs": [
    {
     "name": "stdout",
     "output_type": "stream",
     "text": [
      "557\n",
      "31\n"
     ]
    }
   ],
   "source": [
    "print(orders[orders['group'] == 'A']['group'].count())\n",
    "print(visitors[visitors['group'] == 'A']['group'].count())"
   ]
  },
  {
   "cell_type": "code",
   "execution_count": 17,
   "id": "e806dc3d",
   "metadata": {
    "scrolled": true
   },
   "outputs": [
    {
     "name": "stdout",
     "output_type": "stream",
     "text": [
      "640\n",
      "31\n"
     ]
    }
   ],
   "source": [
    "print(orders[orders['group'] == 'B']['group'].count())\n",
    "print(visitors[visitors['group'] == 'B']['group'].count())"
   ]
  },
  {
   "cell_type": "markdown",
   "id": "bb394324",
   "metadata": {},
   "source": [
    "Сверили количество наблюдений по группам **А** и **В**. В группе **В** на 83 наблюдения больше за 31 день."
   ]
  },
  {
   "cell_type": "code",
   "execution_count": 18,
   "id": "05ee295c",
   "metadata": {
    "scrolled": false
   },
   "outputs": [
    {
     "data": {
      "text/plain": [
       "count    1197.000000\n",
       "mean        8.348006\n",
       "std        39.191132\n",
       "min         0.050000\n",
       "25%         1.220000\n",
       "50%         2.978000\n",
       "75%         8.290000\n",
       "max      1294.500000\n",
       "Name: revenue, dtype: float64"
      ]
     },
     "execution_count": 18,
     "metadata": {},
     "output_type": "execute_result"
    }
   ],
   "source": [
    "(orders['revenue']/1000).describe() # статистика по стоимости заказов"
   ]
  },
  {
   "cell_type": "code",
   "execution_count": 19,
   "id": "8652da39",
   "metadata": {},
   "outputs": [
    {
     "data": {
      "image/png": "[encoded data removed]",
      "text/plain": [
       "<Figure size 640x480 with 1 Axes>"
      ]
     },
     "metadata": {},
     "output_type": "display_data"
    }
   ],
   "source": [
    "# гистрограмма стоимости заказов\n",
    "plt.hist(orders['revenue']/1000, bins=100, range=(0, 100));"
   ]
  },
  {
   "cell_type": "code",
   "execution_count": 20,
   "id": "52350731",
   "metadata": {},
   "outputs": [
    {
     "data": {
      "text/html": [
       "<div>\n",
       "<style scoped>\n",
       "    .dataframe tbody tr th:only-of-type {\n",
       "        vertical-align: middle;\n",
       "    }\n",
       "\n",
       "    .dataframe tbody tr th {\n",
       "        vertical-align: top;\n",
       "    }\n",
       "\n",
       "    .dataframe thead th {\n",
       "        text-align: right;\n",
       "    }\n",
       "</style>\n",
       "<table border=\"1\" class=\"dataframe\">\n",
       "  <thead>\n",
       "    <tr style=\"text-align: right;\">\n",
       "      <th></th>\n",
       "      <th>transaction_id</th>\n",
       "      <th>visitor_id</th>\n",
       "      <th>date</th>\n",
       "      <th>revenue</th>\n",
       "      <th>group</th>\n",
       "    </tr>\n",
       "  </thead>\n",
       "  <tbody>\n",
       "    <tr>\n",
       "      <th>425</th>\n",
       "      <td>590470918</td>\n",
       "      <td>1920142716</td>\n",
       "      <td>2019-08-19</td>\n",
       "      <td>1294500</td>\n",
       "      <td>B</td>\n",
       "    </tr>\n",
       "    <tr>\n",
       "      <th>1196</th>\n",
       "      <td>3936777065</td>\n",
       "      <td>2108080724</td>\n",
       "      <td>2019-08-15</td>\n",
       "      <td>202740</td>\n",
       "      <td>B</td>\n",
       "    </tr>\n",
       "    <tr>\n",
       "      <th>858</th>\n",
       "      <td>192721366</td>\n",
       "      <td>1316129916</td>\n",
       "      <td>2019-08-27</td>\n",
       "      <td>93940</td>\n",
       "      <td>A</td>\n",
       "    </tr>\n",
       "    <tr>\n",
       "      <th>1136</th>\n",
       "      <td>666610489</td>\n",
       "      <td>1307669133</td>\n",
       "      <td>2019-08-13</td>\n",
       "      <td>92550</td>\n",
       "      <td>A</td>\n",
       "    </tr>\n",
       "    <tr>\n",
       "      <th>744</th>\n",
       "      <td>3668308183</td>\n",
       "      <td>888512513</td>\n",
       "      <td>2019-08-27</td>\n",
       "      <td>86620</td>\n",
       "      <td>B</td>\n",
       "    </tr>\n",
       "    <tr>\n",
       "      <th>662</th>\n",
       "      <td>1811671147</td>\n",
       "      <td>4266935830</td>\n",
       "      <td>2019-08-29</td>\n",
       "      <td>78990</td>\n",
       "      <td>A</td>\n",
       "    </tr>\n",
       "    <tr>\n",
       "      <th>682</th>\n",
       "      <td>1216533772</td>\n",
       "      <td>4266935830</td>\n",
       "      <td>2019-08-29</td>\n",
       "      <td>78990</td>\n",
       "      <td>B</td>\n",
       "    </tr>\n",
       "    <tr>\n",
       "      <th>743</th>\n",
       "      <td>3603576309</td>\n",
       "      <td>4133034833</td>\n",
       "      <td>2019-08-09</td>\n",
       "      <td>67990</td>\n",
       "      <td>A</td>\n",
       "    </tr>\n",
       "    <tr>\n",
       "      <th>1103</th>\n",
       "      <td>1348774318</td>\n",
       "      <td>1164614297</td>\n",
       "      <td>2019-08-12</td>\n",
       "      <td>66350</td>\n",
       "      <td>A</td>\n",
       "    </tr>\n",
       "    <tr>\n",
       "      <th>1099</th>\n",
       "      <td>316924019</td>\n",
       "      <td>148427295</td>\n",
       "      <td>2019-08-12</td>\n",
       "      <td>65710</td>\n",
       "      <td>A</td>\n",
       "    </tr>\n",
       "    <tr>\n",
       "      <th>949</th>\n",
       "      <td>1347999392</td>\n",
       "      <td>887908475</td>\n",
       "      <td>2019-08-21</td>\n",
       "      <td>60450</td>\n",
       "      <td>A</td>\n",
       "    </tr>\n",
       "    <tr>\n",
       "      <th>940</th>\n",
       "      <td>2420050534</td>\n",
       "      <td>4003628586</td>\n",
       "      <td>2019-08-08</td>\n",
       "      <td>58550</td>\n",
       "      <td>B</td>\n",
       "    </tr>\n",
       "    <tr>\n",
       "      <th>1029</th>\n",
       "      <td>469609643</td>\n",
       "      <td>2378935119</td>\n",
       "      <td>2019-08-10</td>\n",
       "      <td>58220</td>\n",
       "      <td>A</td>\n",
       "    </tr>\n",
       "    <tr>\n",
       "      <th>873</th>\n",
       "      <td>2519737434</td>\n",
       "      <td>4256040402</td>\n",
       "      <td>2019-08-08</td>\n",
       "      <td>58220</td>\n",
       "      <td>B</td>\n",
       "    </tr>\n",
       "    <tr>\n",
       "      <th>60</th>\n",
       "      <td>1421016313</td>\n",
       "      <td>4256040402</td>\n",
       "      <td>2019-08-16</td>\n",
       "      <td>56650</td>\n",
       "      <td>B</td>\n",
       "    </tr>\n",
       "    <tr>\n",
       "      <th>613</th>\n",
       "      <td>4071177889</td>\n",
       "      <td>3931967268</td>\n",
       "      <td>2019-08-07</td>\n",
       "      <td>53904</td>\n",
       "      <td>B</td>\n",
       "    </tr>\n",
       "    <tr>\n",
       "      <th>287</th>\n",
       "      <td>587872075</td>\n",
       "      <td>2254456485</td>\n",
       "      <td>2019-08-24</td>\n",
       "      <td>53904</td>\n",
       "      <td>A</td>\n",
       "    </tr>\n",
       "    <tr>\n",
       "      <th>131</th>\n",
       "      <td>3163614039</td>\n",
       "      <td>2254586615</td>\n",
       "      <td>2019-08-22</td>\n",
       "      <td>53904</td>\n",
       "      <td>A</td>\n",
       "    </tr>\n",
       "    <tr>\n",
       "      <th>1006</th>\n",
       "      <td>1861540412</td>\n",
       "      <td>2261934787</td>\n",
       "      <td>2019-08-10</td>\n",
       "      <td>52900</td>\n",
       "      <td>A</td>\n",
       "    </tr>\n",
       "    <tr>\n",
       "      <th>1142</th>\n",
       "      <td>3815014015</td>\n",
       "      <td>2606908679</td>\n",
       "      <td>2019-08-13</td>\n",
       "      <td>52900</td>\n",
       "      <td>B</td>\n",
       "    </tr>\n",
       "  </tbody>\n",
       "</table>\n",
       "</div>"
      ],
      "text/plain": [
       "      transaction_id  visitor_id       date  revenue group\n",
       "425        590470918  1920142716 2019-08-19  1294500     B\n",
       "1196      3936777065  2108080724 2019-08-15   202740     B\n",
       "858        192721366  1316129916 2019-08-27    93940     A\n",
       "1136       666610489  1307669133 2019-08-13    92550     A\n",
       "744       3668308183   888512513 2019-08-27    86620     B\n",
       "662       1811671147  4266935830 2019-08-29    78990     A\n",
       "682       1216533772  4266935830 2019-08-29    78990     B\n",
       "743       3603576309  4133034833 2019-08-09    67990     A\n",
       "1103      1348774318  1164614297 2019-08-12    66350     A\n",
       "1099       316924019   148427295 2019-08-12    65710     A\n",
       "949       1347999392   887908475 2019-08-21    60450     A\n",
       "940       2420050534  4003628586 2019-08-08    58550     B\n",
       "1029       469609643  2378935119 2019-08-10    58220     A\n",
       "873       2519737434  4256040402 2019-08-08    58220     B\n",
       "60        1421016313  4256040402 2019-08-16    56650     B\n",
       "613       4071177889  3931967268 2019-08-07    53904     B\n",
       "287        587872075  2254456485 2019-08-24    53904     A\n",
       "131       3163614039  2254586615 2019-08-22    53904     A\n",
       "1006      1861540412  2261934787 2019-08-10    52900     A\n",
       "1142      3815014015  2606908679 2019-08-13    52900     B"
      ]
     },
     "execution_count": 20,
     "metadata": {},
     "output_type": "execute_result"
    }
   ],
   "source": [
    "orders[orders['revenue'] > 8290].sort_values('revenue', ascending=False).head(20)"
   ]
  },
  {
   "cell_type": "markdown",
   "id": "d77e32f9",
   "metadata": {},
   "source": [
    "Вывели статистику по стоимости заказов. Большинство заказов до 8 тыс.руб. Медианная стоимость заказов 2978 рублей, средняя стоимость заказов 8348 рублей, связана с выбросами: есть заказы на очень крупные суммы, которые повлияли на среднию стоимость."
   ]
  },
  {
   "cell_type": "code",
   "execution_count": 21,
   "id": "14f96f45",
   "metadata": {
    "scrolled": true
   },
   "outputs": [
    {
     "data": {
      "text/plain": [
       "count     62.000000\n",
       "mean     607.290323\n",
       "std      114.400560\n",
       "min      361.000000\n",
       "25%      534.000000\n",
       "50%      624.500000\n",
       "75%      710.500000\n",
       "max      770.000000\n",
       "Name: visitors, dtype: float64"
      ]
     },
     "execution_count": 21,
     "metadata": {},
     "output_type": "execute_result"
    }
   ],
   "source": [
    "visitors['visitors'].describe() # статистика по посещениям"
   ]
  },
  {
   "cell_type": "code",
   "execution_count": 22,
   "id": "66e61c81",
   "metadata": {},
   "outputs": [
    {
     "data": {
      "image/png": "[encoded data removed]",
      "text/plain": [
       "<Figure size 640x480 with 1 Axes>"
      ]
     },
     "metadata": {},
     "output_type": "display_data"
    }
   ],
   "source": [
    "# гистограмма посещений\n",
    "plt.hist(visitors['visitors'], bins=50);"
   ]
  },
  {
   "cell_type": "markdown",
   "id": "26435d6b",
   "metadata": {},
   "source": [
    "Вывели статистику по посещениям. Среднее и медиана почти совпадают. Можно сделать вывод что поток клиентов стабильный по дням."
   ]
  },
  {
   "cell_type": "code",
   "execution_count": 23,
   "id": "94244164",
   "metadata": {},
   "outputs": [
    {
     "data": {
      "text/plain": [
       "58"
      ]
     },
     "execution_count": 23,
     "metadata": {},
     "output_type": "execute_result"
    }
   ],
   "source": [
    "# нашли пользователей, которые участвовали в обоих тестах\n",
    "orders_u = orders.pivot_table(index='visitor_id', columns='group', values=['transaction_id'], aggfunc=['nunique'])\n",
    "orders_u = orders_u.reset_index()\n",
    "orders_u.columns = ['visitor_id', 'A', 'B']\n",
    "orders_u = orders_u[(~orders_u['A'].isna())&(~orders_u['B'].isna())]\n",
    "orders_u['visitor_id'].count()"
   ]
  },
  {
   "cell_type": "code",
   "execution_count": 24,
   "id": "fbaea457",
   "metadata": {},
   "outputs": [
    {
     "data": {
      "text/html": [
       "<div>\n",
       "<style scoped>\n",
       "    .dataframe tbody tr th:only-of-type {\n",
       "        vertical-align: middle;\n",
       "    }\n",
       "\n",
       "    .dataframe tbody tr th {\n",
       "        vertical-align: top;\n",
       "    }\n",
       "\n",
       "    .dataframe thead th {\n",
       "        text-align: right;\n",
       "    }\n",
       "</style>\n",
       "<table border=\"1\" class=\"dataframe\">\n",
       "  <thead>\n",
       "    <tr style=\"text-align: right;\">\n",
       "      <th></th>\n",
       "      <th>transaction_id</th>\n",
       "      <th>visitor_id</th>\n",
       "      <th>date</th>\n",
       "      <th>revenue</th>\n",
       "      <th>group</th>\n",
       "    </tr>\n",
       "  </thead>\n",
       "  <tbody>\n",
       "    <tr>\n",
       "      <th>703</th>\n",
       "      <td>4293855558</td>\n",
       "      <td>8300375</td>\n",
       "      <td>2019-08-07</td>\n",
       "      <td>1790</td>\n",
       "      <td>A</td>\n",
       "    </tr>\n",
       "    <tr>\n",
       "      <th>71</th>\n",
       "      <td>3679129301</td>\n",
       "      <td>8300375</td>\n",
       "      <td>2019-08-01</td>\n",
       "      <td>10510</td>\n",
       "      <td>B</td>\n",
       "    </tr>\n",
       "    <tr>\n",
       "      <th>823</th>\n",
       "      <td>2971973105</td>\n",
       "      <td>199603092</td>\n",
       "      <td>2019-08-27</td>\n",
       "      <td>2790</td>\n",
       "      <td>A</td>\n",
       "    </tr>\n",
       "    <tr>\n",
       "      <th>246</th>\n",
       "      <td>437656952</td>\n",
       "      <td>199603092</td>\n",
       "      <td>2019-08-02</td>\n",
       "      <td>3488</td>\n",
       "      <td>B</td>\n",
       "    </tr>\n",
       "    <tr>\n",
       "      <th>26</th>\n",
       "      <td>2223239646</td>\n",
       "      <td>199603092</td>\n",
       "      <td>2019-08-15</td>\n",
       "      <td>3488</td>\n",
       "      <td>A</td>\n",
       "    </tr>\n",
       "    <tr>\n",
       "      <th>...</th>\n",
       "      <td>...</td>\n",
       "      <td>...</td>\n",
       "      <td>...</td>\n",
       "      <td>...</td>\n",
       "      <td>...</td>\n",
       "    </tr>\n",
       "    <tr>\n",
       "      <th>187</th>\n",
       "      <td>2048878902</td>\n",
       "      <td>4256040402</td>\n",
       "      <td>2019-08-17</td>\n",
       "      <td>1550</td>\n",
       "      <td>A</td>\n",
       "    </tr>\n",
       "    <tr>\n",
       "      <th>114</th>\n",
       "      <td>1120327437</td>\n",
       "      <td>4256040402</td>\n",
       "      <td>2019-08-01</td>\n",
       "      <td>5800</td>\n",
       "      <td>A</td>\n",
       "    </tr>\n",
       "    <tr>\n",
       "      <th>60</th>\n",
       "      <td>1421016313</td>\n",
       "      <td>4256040402</td>\n",
       "      <td>2019-08-16</td>\n",
       "      <td>56650</td>\n",
       "      <td>B</td>\n",
       "    </tr>\n",
       "    <tr>\n",
       "      <th>662</th>\n",
       "      <td>1811671147</td>\n",
       "      <td>4266935830</td>\n",
       "      <td>2019-08-29</td>\n",
       "      <td>78990</td>\n",
       "      <td>A</td>\n",
       "    </tr>\n",
       "    <tr>\n",
       "      <th>682</th>\n",
       "      <td>1216533772</td>\n",
       "      <td>4266935830</td>\n",
       "      <td>2019-08-29</td>\n",
       "      <td>78990</td>\n",
       "      <td>B</td>\n",
       "    </tr>\n",
       "  </tbody>\n",
       "</table>\n",
       "<p>181 rows × 5 columns</p>\n",
       "</div>"
      ],
      "text/plain": [
       "     transaction_id  visitor_id       date  revenue group\n",
       "703      4293855558     8300375 2019-08-07     1790     A\n",
       "71       3679129301     8300375 2019-08-01    10510     B\n",
       "823      2971973105   199603092 2019-08-27     2790     A\n",
       "246       437656952   199603092 2019-08-02     3488     B\n",
       "26       2223239646   199603092 2019-08-15     3488     A\n",
       "..              ...         ...        ...      ...   ...\n",
       "187      2048878902  4256040402 2019-08-17     1550     A\n",
       "114      1120327437  4256040402 2019-08-01     5800     A\n",
       "60       1421016313  4256040402 2019-08-16    56650     B\n",
       "662      1811671147  4266935830 2019-08-29    78990     A\n",
       "682      1216533772  4266935830 2019-08-29    78990     B\n",
       "\n",
       "[181 rows x 5 columns]"
      ]
     },
     "execution_count": 24,
     "metadata": {},
     "output_type": "execute_result"
    }
   ],
   "source": [
    "orders[orders['visitor_id'].isin(orders_u['visitor_id'])].sort_values('visitor_id')"
   ]
  },
  {
   "cell_type": "code",
   "execution_count": 25,
   "id": "3ee20cc2",
   "metadata": {
    "scrolled": true
   },
   "outputs": [],
   "source": [
    "# для частоты исследования удалим данных пользователей\n",
    "orders = orders[np.logical_not(orders['visitor_id'].isin(orders_u['visitor_id']))]\n",
    "after = orders.shape[0]"
   ]
  },
  {
   "cell_type": "code",
   "execution_count": 26,
   "id": "0195a159",
   "metadata": {},
   "outputs": [
    {
     "data": {
      "text/plain": [
       "'Потеряли значений после обработки аномалий - 15.1%'"
      ]
     },
     "execution_count": 26,
     "metadata": {},
     "output_type": "execute_result"
    }
   ],
   "source": [
    "'Потеряли значений после обработки аномалий - {:.1%}'.format((before-after)/before)"
   ]
  },
  {
   "cell_type": "markdown",
   "id": "0f79c448",
   "metadata": {},
   "source": [
    "В данном разделе аномалии были выявлены в стоимости заказов, есть заказы на очень крупные суммы, которые могут повлиять на результаты теста. При исследовании необходимо будет их исключить. Также выявили пользователей, которые были в обоих группам и делали заказы, их исключили из иследования, т.к. непонятно, что повлияло на решение сделать заказ."
   ]
  },
  {
   "cell_type": "markdown",
   "id": "9efc0d59",
   "metadata": {},
   "source": [
    "## Приоритизация гипотез"
   ]
  },
  {
   "cell_type": "markdown",
   "id": "2b016756",
   "metadata": {},
   "source": [
    "В файле 'hypothesis.csv' 9 гипотез по увеличению выручки интернет-магазина с указанными параметрами Reach, Impact, Confidence, Effort. Применим один из самых популярных способов приоритизации задач метод ICE и модификацию RICE."
   ]
  },
  {
   "cell_type": "markdown",
   "id": "17930a96",
   "metadata": {},
   "source": [
    "<a id='2.1-bullet'></a>\n",
    "### Фреймворк ICE для приоритизации гипотез"
   ]
  },
  {
   "cell_type": "markdown",
   "id": "73c3c8b7",
   "metadata": {},
   "source": [
    "Применим фреймворк ICE для приоритизации гипотез. Отсортируем их по убыванию приоритета."
   ]
  },
  {
   "cell_type": "code",
   "execution_count": 27,
   "id": "1abcd628",
   "metadata": {},
   "outputs": [
    {
     "data": {
      "text/html": [
       "<div>\n",
       "<style scoped>\n",
       "    .dataframe tbody tr th:only-of-type {\n",
       "        vertical-align: middle;\n",
       "    }\n",
       "\n",
       "    .dataframe tbody tr th {\n",
       "        vertical-align: top;\n",
       "    }\n",
       "\n",
       "    .dataframe thead th {\n",
       "        text-align: right;\n",
       "    }\n",
       "</style>\n",
       "<table border=\"1\" class=\"dataframe\">\n",
       "  <thead>\n",
       "    <tr style=\"text-align: right;\">\n",
       "      <th></th>\n",
       "      <th>hypothesis</th>\n",
       "      <th>reach</th>\n",
       "      <th>impact</th>\n",
       "      <th>confidence</th>\n",
       "      <th>efforts</th>\n",
       "      <th>ice</th>\n",
       "    </tr>\n",
       "  </thead>\n",
       "  <tbody>\n",
       "    <tr>\n",
       "      <th>8</th>\n",
       "      <td>Запустить акцию, дающую скидку на товар в день рождения</td>\n",
       "      <td>1</td>\n",
       "      <td>9</td>\n",
       "      <td>9</td>\n",
       "      <td>5</td>\n",
       "      <td>16.20</td>\n",
       "    </tr>\n",
       "    <tr>\n",
       "      <th>0</th>\n",
       "      <td>Добавить два новых канала привлечения трафика, что позволит привлекать на 30% больше пользователей</td>\n",
       "      <td>3</td>\n",
       "      <td>10</td>\n",
       "      <td>8</td>\n",
       "      <td>6</td>\n",
       "      <td>13.33</td>\n",
       "    </tr>\n",
       "    <tr>\n",
       "      <th>7</th>\n",
       "      <td>Добавить форму подписки на все основные страницы, чтобы собрать базу клиентов для email-рассылок</td>\n",
       "      <td>10</td>\n",
       "      <td>7</td>\n",
       "      <td>8</td>\n",
       "      <td>5</td>\n",
       "      <td>11.20</td>\n",
       "    </tr>\n",
       "    <tr>\n",
       "      <th>6</th>\n",
       "      <td>Показать на главной странице баннеры с актуальными акциями и распродажами, чтобы увеличить конверсию</td>\n",
       "      <td>5</td>\n",
       "      <td>3</td>\n",
       "      <td>8</td>\n",
       "      <td>3</td>\n",
       "      <td>8.00</td>\n",
       "    </tr>\n",
       "    <tr>\n",
       "      <th>2</th>\n",
       "      <td>Добавить блоки рекомендаций товаров на сайт интернет магазина, чтобы повысить конверсию и средний чек заказа</td>\n",
       "      <td>8</td>\n",
       "      <td>3</td>\n",
       "      <td>7</td>\n",
       "      <td>3</td>\n",
       "      <td>7.00</td>\n",
       "    </tr>\n",
       "    <tr>\n",
       "      <th>1</th>\n",
       "      <td>Запустить собственную службу доставки, что сократит срок доставки заказов</td>\n",
       "      <td>2</td>\n",
       "      <td>5</td>\n",
       "      <td>4</td>\n",
       "      <td>10</td>\n",
       "      <td>2.00</td>\n",
       "    </tr>\n",
       "    <tr>\n",
       "      <th>5</th>\n",
       "      <td>Добавить страницу отзывов клиентов о магазине, что позволит увеличить количество заказов</td>\n",
       "      <td>3</td>\n",
       "      <td>2</td>\n",
       "      <td>2</td>\n",
       "      <td>3</td>\n",
       "      <td>1.33</td>\n",
       "    </tr>\n",
       "    <tr>\n",
       "      <th>3</th>\n",
       "      <td>Изменить структура категорий, что увеличит конверсию, т.к. пользователи быстрее найдут нужный товар</td>\n",
       "      <td>8</td>\n",
       "      <td>3</td>\n",
       "      <td>3</td>\n",
       "      <td>8</td>\n",
       "      <td>1.12</td>\n",
       "    </tr>\n",
       "    <tr>\n",
       "      <th>4</th>\n",
       "      <td>Изменить цвет фона главной страницы, чтобы увеличить вовлеченность пользователей</td>\n",
       "      <td>3</td>\n",
       "      <td>1</td>\n",
       "      <td>1</td>\n",
       "      <td>1</td>\n",
       "      <td>1.00</td>\n",
       "    </tr>\n",
       "  </tbody>\n",
       "</table>\n",
       "</div>"
      ],
      "text/plain": [
       "                                                                                                     hypothesis  \\\n",
       "8                                                       Запустить акцию, дающую скидку на товар в день рождения   \n",
       "0            Добавить два новых канала привлечения трафика, что позволит привлекать на 30% больше пользователей   \n",
       "7              Добавить форму подписки на все основные страницы, чтобы собрать базу клиентов для email-рассылок   \n",
       "6          Показать на главной странице баннеры с актуальными акциями и распродажами, чтобы увеличить конверсию   \n",
       "2  Добавить блоки рекомендаций товаров на сайт интернет магазина, чтобы повысить конверсию и средний чек заказа   \n",
       "1                                     Запустить собственную службу доставки, что сократит срок доставки заказов   \n",
       "5                      Добавить страницу отзывов клиентов о магазине, что позволит увеличить количество заказов   \n",
       "3           Изменить структура категорий, что увеличит конверсию, т.к. пользователи быстрее найдут нужный товар   \n",
       "4                              Изменить цвет фона главной страницы, чтобы увеличить вовлеченность пользователей   \n",
       "\n",
       "   reach  impact  confidence  efforts    ice  \n",
       "8      1       9           9        5  16.20  \n",
       "0      3      10           8        6  13.33  \n",
       "7     10       7           8        5  11.20  \n",
       "6      5       3           8        3   8.00  \n",
       "2      8       3           7        3   7.00  \n",
       "1      2       5           4       10   2.00  \n",
       "5      3       2           2        3   1.33  \n",
       "3      8       3           3        8   1.12  \n",
       "4      3       1           1        1   1.00  "
      ]
     },
     "execution_count": 27,
     "metadata": {},
     "output_type": "execute_result"
    }
   ],
   "source": [
    "# посчитали показатель по формуле ICE = (Impact * Confidence) / Effort \n",
    "hypothesis['ice'] = (\n",
    "    hypothesis['impact']\n",
    "    * hypothesis['confidence']\n",
    ") / hypothesis['efforts']\n",
    "hypothesis.sort_values('ice', ascending=False, inplace=True)\n",
    "hypothesis['ice'] = np.round(hypothesis['ice'], 2)\n",
    "hypothesis"
   ]
  },
  {
   "cell_type": "markdown",
   "id": "ffea4451",
   "metadata": {},
   "source": [
    "Наиболее перспективные гипотезы: \n",
    "- Запустить акцию, дающую скидку на товар в день рождения;\n",
    "- Добавить два новых канала привлечения трафика, что позволит привлекать на 30% больше пользователей;\n",
    "- Добавить форму подписки на все основные страницы, чтобы собрать базу клиентов для email-рассылок."
   ]
  },
  {
   "cell_type": "markdown",
   "id": "382980ba",
   "metadata": {},
   "source": [
    "<a id='2.2-bullet'></a>\n",
    "### Фреймворк RICE для приоритизации гипотез"
   ]
  },
  {
   "cell_type": "markdown",
   "id": "ab9ba547",
   "metadata": {},
   "source": [
    "Применим фреймворк RICE для приоритизации гипотез. Отсортируем их по убыванию приоритета."
   ]
  },
  {
   "cell_type": "code",
   "execution_count": 28,
   "id": "f99f2c9a",
   "metadata": {},
   "outputs": [
    {
     "data": {
      "text/html": [
       "<div>\n",
       "<style scoped>\n",
       "    .dataframe tbody tr th:only-of-type {\n",
       "        vertical-align: middle;\n",
       "    }\n",
       "\n",
       "    .dataframe tbody tr th {\n",
       "        vertical-align: top;\n",
       "    }\n",
       "\n",
       "    .dataframe thead th {\n",
       "        text-align: right;\n",
       "    }\n",
       "</style>\n",
       "<table border=\"1\" class=\"dataframe\">\n",
       "  <thead>\n",
       "    <tr style=\"text-align: right;\">\n",
       "      <th></th>\n",
       "      <th>hypothesis</th>\n",
       "      <th>reach</th>\n",
       "      <th>impact</th>\n",
       "      <th>confidence</th>\n",
       "      <th>efforts</th>\n",
       "      <th>ice</th>\n",
       "      <th>rice</th>\n",
       "    </tr>\n",
       "  </thead>\n",
       "  <tbody>\n",
       "    <tr>\n",
       "      <th>7</th>\n",
       "      <td>Добавить форму подписки на все основные страницы, чтобы собрать базу клиентов для email-рассылок</td>\n",
       "      <td>10</td>\n",
       "      <td>7</td>\n",
       "      <td>8</td>\n",
       "      <td>5</td>\n",
       "      <td>11.20</td>\n",
       "      <td>112.0</td>\n",
       "    </tr>\n",
       "    <tr>\n",
       "      <th>2</th>\n",
       "      <td>Добавить блоки рекомендаций товаров на сайт интернет магазина, чтобы повысить конверсию и средний чек заказа</td>\n",
       "      <td>8</td>\n",
       "      <td>3</td>\n",
       "      <td>7</td>\n",
       "      <td>3</td>\n",
       "      <td>7.00</td>\n",
       "      <td>56.0</td>\n",
       "    </tr>\n",
       "    <tr>\n",
       "      <th>0</th>\n",
       "      <td>Добавить два новых канала привлечения трафика, что позволит привлекать на 30% больше пользователей</td>\n",
       "      <td>3</td>\n",
       "      <td>10</td>\n",
       "      <td>8</td>\n",
       "      <td>6</td>\n",
       "      <td>13.33</td>\n",
       "      <td>40.0</td>\n",
       "    </tr>\n",
       "    <tr>\n",
       "      <th>6</th>\n",
       "      <td>Показать на главной странице баннеры с актуальными акциями и распродажами, чтобы увеличить конверсию</td>\n",
       "      <td>5</td>\n",
       "      <td>3</td>\n",
       "      <td>8</td>\n",
       "      <td>3</td>\n",
       "      <td>8.00</td>\n",
       "      <td>40.0</td>\n",
       "    </tr>\n",
       "    <tr>\n",
       "      <th>8</th>\n",
       "      <td>Запустить акцию, дающую скидку на товар в день рождения</td>\n",
       "      <td>1</td>\n",
       "      <td>9</td>\n",
       "      <td>9</td>\n",
       "      <td>5</td>\n",
       "      <td>16.20</td>\n",
       "      <td>16.2</td>\n",
       "    </tr>\n",
       "    <tr>\n",
       "      <th>3</th>\n",
       "      <td>Изменить структура категорий, что увеличит конверсию, т.к. пользователи быстрее найдут нужный товар</td>\n",
       "      <td>8</td>\n",
       "      <td>3</td>\n",
       "      <td>3</td>\n",
       "      <td>8</td>\n",
       "      <td>1.12</td>\n",
       "      <td>9.0</td>\n",
       "    </tr>\n",
       "    <tr>\n",
       "      <th>1</th>\n",
       "      <td>Запустить собственную службу доставки, что сократит срок доставки заказов</td>\n",
       "      <td>2</td>\n",
       "      <td>5</td>\n",
       "      <td>4</td>\n",
       "      <td>10</td>\n",
       "      <td>2.00</td>\n",
       "      <td>4.0</td>\n",
       "    </tr>\n",
       "    <tr>\n",
       "      <th>5</th>\n",
       "      <td>Добавить страницу отзывов клиентов о магазине, что позволит увеличить количество заказов</td>\n",
       "      <td>3</td>\n",
       "      <td>2</td>\n",
       "      <td>2</td>\n",
       "      <td>3</td>\n",
       "      <td>1.33</td>\n",
       "      <td>4.0</td>\n",
       "    </tr>\n",
       "    <tr>\n",
       "      <th>4</th>\n",
       "      <td>Изменить цвет фона главной страницы, чтобы увеличить вовлеченность пользователей</td>\n",
       "      <td>3</td>\n",
       "      <td>1</td>\n",
       "      <td>1</td>\n",
       "      <td>1</td>\n",
       "      <td>1.00</td>\n",
       "      <td>3.0</td>\n",
       "    </tr>\n",
       "  </tbody>\n",
       "</table>\n",
       "</div>"
      ],
      "text/plain": [
       "                                                                                                     hypothesis  \\\n",
       "7              Добавить форму подписки на все основные страницы, чтобы собрать базу клиентов для email-рассылок   \n",
       "2  Добавить блоки рекомендаций товаров на сайт интернет магазина, чтобы повысить конверсию и средний чек заказа   \n",
       "0            Добавить два новых канала привлечения трафика, что позволит привлекать на 30% больше пользователей   \n",
       "6          Показать на главной странице баннеры с актуальными акциями и распродажами, чтобы увеличить конверсию   \n",
       "8                                                       Запустить акцию, дающую скидку на товар в день рождения   \n",
       "3           Изменить структура категорий, что увеличит конверсию, т.к. пользователи быстрее найдут нужный товар   \n",
       "1                                     Запустить собственную службу доставки, что сократит срок доставки заказов   \n",
       "5                      Добавить страницу отзывов клиентов о магазине, что позволит увеличить количество заказов   \n",
       "4                              Изменить цвет фона главной страницы, чтобы увеличить вовлеченность пользователей   \n",
       "\n",
       "   reach  impact  confidence  efforts    ice   rice  \n",
       "7     10       7           8        5  11.20  112.0  \n",
       "2      8       3           7        3   7.00   56.0  \n",
       "0      3      10           8        6  13.33   40.0  \n",
       "6      5       3           8        3   8.00   40.0  \n",
       "8      1       9           9        5  16.20   16.2  \n",
       "3      8       3           3        8   1.12    9.0  \n",
       "1      2       5           4       10   2.00    4.0  \n",
       "5      3       2           2        3   1.33    4.0  \n",
       "4      3       1           1        1   1.00    3.0  "
      ]
     },
     "execution_count": 28,
     "metadata": {},
     "output_type": "execute_result"
    }
   ],
   "source": [
    "# посчитали показатель по формуле RICE = (Reach * Impact * Confidence) / Effort\n",
    "hypothesis['rice'] = (\n",
    "    hypothesis['reach']\n",
    "    * hypothesis['impact']\n",
    "    * hypothesis['confidence']\n",
    ") / hypothesis['efforts']\n",
    "hypothesis.sort_values('rice', ascending=False)"
   ]
  },
  {
   "cell_type": "markdown",
   "id": "54f97fd2",
   "metadata": {},
   "source": [
    "По данному методу самая перспективная гипотеза: добавить форму подписки на все основные страницы, чтобы собрать базу клиентов для email-рассылок, отрыв от второй по счету в 2 раза. Так произошло из-за того, что метод RICE включает показатель Reach — скольких пользователей затронет изменение, и у данной гипотезы он максимальный. Данная гипотеза входит в 3-ку лидеров и по первому методу. На нее следует обратить внимание."
   ]
  },
  {
   "cell_type": "markdown",
   "id": "79683307",
   "metadata": {},
   "source": [
    "## Анализ A/B-теста"
   ]
  },
  {
   "cell_type": "markdown",
   "id": "73b91d92",
   "metadata": {},
   "source": [
    "Подготовим данные для исследования по A/B-тесту"
   ]
  },
  {
   "cell_type": "code",
   "execution_count": 29,
   "id": "761586e5",
   "metadata": {},
   "outputs": [
    {
     "data": {
      "text/html": [
       "<div>\n",
       "<style scoped>\n",
       "    .dataframe tbody tr th:only-of-type {\n",
       "        vertical-align: middle;\n",
       "    }\n",
       "\n",
       "    .dataframe tbody tr th {\n",
       "        vertical-align: top;\n",
       "    }\n",
       "\n",
       "    .dataframe thead th {\n",
       "        text-align: right;\n",
       "    }\n",
       "</style>\n",
       "<table border=\"1\" class=\"dataframe\">\n",
       "  <thead>\n",
       "    <tr style=\"text-align: right;\">\n",
       "      <th></th>\n",
       "      <th>date</th>\n",
       "      <th>sum_orders_a</th>\n",
       "      <th>sum_revenue_a</th>\n",
       "    </tr>\n",
       "  </thead>\n",
       "  <tbody>\n",
       "    <tr>\n",
       "      <th>0</th>\n",
       "      <td>2019-08-01</td>\n",
       "      <td>23</td>\n",
       "      <td>142779</td>\n",
       "    </tr>\n",
       "    <tr>\n",
       "      <th>1</th>\n",
       "      <td>2019-08-02</td>\n",
       "      <td>19</td>\n",
       "      <td>91602</td>\n",
       "    </tr>\n",
       "    <tr>\n",
       "      <th>2</th>\n",
       "      <td>2019-08-03</td>\n",
       "      <td>24</td>\n",
       "      <td>112473</td>\n",
       "    </tr>\n",
       "    <tr>\n",
       "      <th>3</th>\n",
       "      <td>2019-08-04</td>\n",
       "      <td>11</td>\n",
       "      <td>41176</td>\n",
       "    </tr>\n",
       "    <tr>\n",
       "      <th>4</th>\n",
       "      <td>2019-08-05</td>\n",
       "      <td>22</td>\n",
       "      <td>86383</td>\n",
       "    </tr>\n",
       "    <tr>\n",
       "      <th>5</th>\n",
       "      <td>2019-08-06</td>\n",
       "      <td>15</td>\n",
       "      <td>40919</td>\n",
       "    </tr>\n",
       "    <tr>\n",
       "      <th>6</th>\n",
       "      <td>2019-08-07</td>\n",
       "      <td>16</td>\n",
       "      <td>123248</td>\n",
       "    </tr>\n",
       "    <tr>\n",
       "      <th>7</th>\n",
       "      <td>2019-08-08</td>\n",
       "      <td>14</td>\n",
       "      <td>88639</td>\n",
       "    </tr>\n",
       "    <tr>\n",
       "      <th>8</th>\n",
       "      <td>2019-08-09</td>\n",
       "      <td>11</td>\n",
       "      <td>134237</td>\n",
       "    </tr>\n",
       "    <tr>\n",
       "      <th>9</th>\n",
       "      <td>2019-08-10</td>\n",
       "      <td>15</td>\n",
       "      <td>152275</td>\n",
       "    </tr>\n",
       "    <tr>\n",
       "      <th>10</th>\n",
       "      <td>2019-08-11</td>\n",
       "      <td>11</td>\n",
       "      <td>60665</td>\n",
       "    </tr>\n",
       "    <tr>\n",
       "      <th>11</th>\n",
       "      <td>2019-08-12</td>\n",
       "      <td>19</td>\n",
       "      <td>220392</td>\n",
       "    </tr>\n",
       "    <tr>\n",
       "      <th>12</th>\n",
       "      <td>2019-08-13</td>\n",
       "      <td>14</td>\n",
       "      <td>263638</td>\n",
       "    </tr>\n",
       "    <tr>\n",
       "      <th>13</th>\n",
       "      <td>2019-08-14</td>\n",
       "      <td>17</td>\n",
       "      <td>43266</td>\n",
       "    </tr>\n",
       "    <tr>\n",
       "      <th>14</th>\n",
       "      <td>2019-08-15</td>\n",
       "      <td>10</td>\n",
       "      <td>80877</td>\n",
       "    </tr>\n",
       "    <tr>\n",
       "      <th>15</th>\n",
       "      <td>2019-08-16</td>\n",
       "      <td>18</td>\n",
       "      <td>99851</td>\n",
       "    </tr>\n",
       "    <tr>\n",
       "      <th>16</th>\n",
       "      <td>2019-08-17</td>\n",
       "      <td>6</td>\n",
       "      <td>34740</td>\n",
       "    </tr>\n",
       "    <tr>\n",
       "      <th>17</th>\n",
       "      <td>2019-08-18</td>\n",
       "      <td>13</td>\n",
       "      <td>59581</td>\n",
       "    </tr>\n",
       "    <tr>\n",
       "      <th>18</th>\n",
       "      <td>2019-08-19</td>\n",
       "      <td>21</td>\n",
       "      <td>168193</td>\n",
       "    </tr>\n",
       "    <tr>\n",
       "      <th>19</th>\n",
       "      <td>2019-08-20</td>\n",
       "      <td>10</td>\n",
       "      <td>58679</td>\n",
       "    </tr>\n",
       "    <tr>\n",
       "      <th>20</th>\n",
       "      <td>2019-08-21</td>\n",
       "      <td>20</td>\n",
       "      <td>170169</td>\n",
       "    </tr>\n",
       "    <tr>\n",
       "      <th>21</th>\n",
       "      <td>2019-08-22</td>\n",
       "      <td>10</td>\n",
       "      <td>92365</td>\n",
       "    </tr>\n",
       "    <tr>\n",
       "      <th>22</th>\n",
       "      <td>2019-08-23</td>\n",
       "      <td>20</td>\n",
       "      <td>57863</td>\n",
       "    </tr>\n",
       "    <tr>\n",
       "      <th>23</th>\n",
       "      <td>2019-08-24</td>\n",
       "      <td>13</td>\n",
       "      <td>122013</td>\n",
       "    </tr>\n",
       "    <tr>\n",
       "      <th>24</th>\n",
       "      <td>2019-08-25</td>\n",
       "      <td>8</td>\n",
       "      <td>51884</td>\n",
       "    </tr>\n",
       "    <tr>\n",
       "      <th>25</th>\n",
       "      <td>2019-08-26</td>\n",
       "      <td>16</td>\n",
       "      <td>157214</td>\n",
       "    </tr>\n",
       "    <tr>\n",
       "      <th>26</th>\n",
       "      <td>2019-08-27</td>\n",
       "      <td>23</td>\n",
       "      <td>185350</td>\n",
       "    </tr>\n",
       "    <tr>\n",
       "      <th>27</th>\n",
       "      <td>2019-08-28</td>\n",
       "      <td>15</td>\n",
       "      <td>96462</td>\n",
       "    </tr>\n",
       "    <tr>\n",
       "      <th>28</th>\n",
       "      <td>2019-08-29</td>\n",
       "      <td>17</td>\n",
       "      <td>196300</td>\n",
       "    </tr>\n",
       "    <tr>\n",
       "      <th>29</th>\n",
       "      <td>2019-08-30</td>\n",
       "      <td>9</td>\n",
       "      <td>78180</td>\n",
       "    </tr>\n",
       "    <tr>\n",
       "      <th>30</th>\n",
       "      <td>2019-08-31</td>\n",
       "      <td>8</td>\n",
       "      <td>53243</td>\n",
       "    </tr>\n",
       "  </tbody>\n",
       "</table>\n",
       "</div>"
      ],
      "text/plain": [
       "         date  sum_orders_a  sum_revenue_a\n",
       "0  2019-08-01            23         142779\n",
       "1  2019-08-02            19          91602\n",
       "2  2019-08-03            24         112473\n",
       "3  2019-08-04            11          41176\n",
       "4  2019-08-05            22          86383\n",
       "5  2019-08-06            15          40919\n",
       "6  2019-08-07            16         123248\n",
       "7  2019-08-08            14          88639\n",
       "8  2019-08-09            11         134237\n",
       "9  2019-08-10            15         152275\n",
       "10 2019-08-11            11          60665\n",
       "11 2019-08-12            19         220392\n",
       "12 2019-08-13            14         263638\n",
       "13 2019-08-14            17          43266\n",
       "14 2019-08-15            10          80877\n",
       "15 2019-08-16            18          99851\n",
       "16 2019-08-17             6          34740\n",
       "17 2019-08-18            13          59581\n",
       "18 2019-08-19            21         168193\n",
       "19 2019-08-20            10          58679\n",
       "20 2019-08-21            20         170169\n",
       "21 2019-08-22            10          92365\n",
       "22 2019-08-23            20          57863\n",
       "23 2019-08-24            13         122013\n",
       "24 2019-08-25             8          51884\n",
       "25 2019-08-26            16         157214\n",
       "26 2019-08-27            23         185350\n",
       "27 2019-08-28            15          96462\n",
       "28 2019-08-29            17         196300\n",
       "29 2019-08-30             9          78180\n",
       "30 2019-08-31             8          53243"
      ]
     },
     "execution_count": 29,
     "metadata": {},
     "output_type": "execute_result"
    }
   ],
   "source": [
    "# соберем количество и сумму заказов по группе А по дням\n",
    "orders_daily_a = (\n",
    "    orders[orders['group'] == 'A'].groupby('date', as_index=False).agg({'transaction_id': 'nunique', 'revenue': 'sum'})\n",
    ")\n",
    "orders_daily_a.columns = ['date', 'sum_orders_a', 'sum_revenue_a']\n",
    "orders_daily_a"
   ]
  },
  {
   "cell_type": "code",
   "execution_count": 30,
   "id": "a88c0289",
   "metadata": {},
   "outputs": [
    {
     "data": {
      "text/html": [
       "<div>\n",
       "<style scoped>\n",
       "    .dataframe tbody tr th:only-of-type {\n",
       "        vertical-align: middle;\n",
       "    }\n",
       "\n",
       "    .dataframe tbody tr th {\n",
       "        vertical-align: top;\n",
       "    }\n",
       "\n",
       "    .dataframe thead th {\n",
       "        text-align: right;\n",
       "    }\n",
       "</style>\n",
       "<table border=\"1\" class=\"dataframe\">\n",
       "  <thead>\n",
       "    <tr style=\"text-align: right;\">\n",
       "      <th></th>\n",
       "      <th>date</th>\n",
       "      <th>cummulative_orders_a</th>\n",
       "      <th>cummulative_revenue_a</th>\n",
       "    </tr>\n",
       "  </thead>\n",
       "  <tbody>\n",
       "    <tr>\n",
       "      <th>0</th>\n",
       "      <td>2019-08-01</td>\n",
       "      <td>23</td>\n",
       "      <td>142779</td>\n",
       "    </tr>\n",
       "    <tr>\n",
       "      <th>1</th>\n",
       "      <td>2019-08-02</td>\n",
       "      <td>42</td>\n",
       "      <td>234381</td>\n",
       "    </tr>\n",
       "    <tr>\n",
       "      <th>2</th>\n",
       "      <td>2019-08-03</td>\n",
       "      <td>66</td>\n",
       "      <td>346854</td>\n",
       "    </tr>\n",
       "    <tr>\n",
       "      <th>3</th>\n",
       "      <td>2019-08-04</td>\n",
       "      <td>77</td>\n",
       "      <td>388030</td>\n",
       "    </tr>\n",
       "    <tr>\n",
       "      <th>4</th>\n",
       "      <td>2019-08-05</td>\n",
       "      <td>99</td>\n",
       "      <td>474413</td>\n",
       "    </tr>\n",
       "    <tr>\n",
       "      <th>5</th>\n",
       "      <td>2019-08-06</td>\n",
       "      <td>114</td>\n",
       "      <td>515332</td>\n",
       "    </tr>\n",
       "    <tr>\n",
       "      <th>6</th>\n",
       "      <td>2019-08-07</td>\n",
       "      <td>130</td>\n",
       "      <td>638580</td>\n",
       "    </tr>\n",
       "    <tr>\n",
       "      <th>7</th>\n",
       "      <td>2019-08-08</td>\n",
       "      <td>144</td>\n",
       "      <td>727219</td>\n",
       "    </tr>\n",
       "    <tr>\n",
       "      <th>8</th>\n",
       "      <td>2019-08-09</td>\n",
       "      <td>155</td>\n",
       "      <td>861456</td>\n",
       "    </tr>\n",
       "    <tr>\n",
       "      <th>9</th>\n",
       "      <td>2019-08-10</td>\n",
       "      <td>170</td>\n",
       "      <td>1013731</td>\n",
       "    </tr>\n",
       "    <tr>\n",
       "      <th>10</th>\n",
       "      <td>2019-08-11</td>\n",
       "      <td>181</td>\n",
       "      <td>1074396</td>\n",
       "    </tr>\n",
       "    <tr>\n",
       "      <th>11</th>\n",
       "      <td>2019-08-12</td>\n",
       "      <td>200</td>\n",
       "      <td>1294788</td>\n",
       "    </tr>\n",
       "    <tr>\n",
       "      <th>12</th>\n",
       "      <td>2019-08-13</td>\n",
       "      <td>214</td>\n",
       "      <td>1558426</td>\n",
       "    </tr>\n",
       "    <tr>\n",
       "      <th>13</th>\n",
       "      <td>2019-08-14</td>\n",
       "      <td>231</td>\n",
       "      <td>1601692</td>\n",
       "    </tr>\n",
       "    <tr>\n",
       "      <th>14</th>\n",
       "      <td>2019-08-15</td>\n",
       "      <td>241</td>\n",
       "      <td>1682569</td>\n",
       "    </tr>\n",
       "    <tr>\n",
       "      <th>15</th>\n",
       "      <td>2019-08-16</td>\n",
       "      <td>259</td>\n",
       "      <td>1782420</td>\n",
       "    </tr>\n",
       "    <tr>\n",
       "      <th>16</th>\n",
       "      <td>2019-08-17</td>\n",
       "      <td>265</td>\n",
       "      <td>1817160</td>\n",
       "    </tr>\n",
       "    <tr>\n",
       "      <th>17</th>\n",
       "      <td>2019-08-18</td>\n",
       "      <td>278</td>\n",
       "      <td>1876741</td>\n",
       "    </tr>\n",
       "    <tr>\n",
       "      <th>18</th>\n",
       "      <td>2019-08-19</td>\n",
       "      <td>299</td>\n",
       "      <td>2044934</td>\n",
       "    </tr>\n",
       "    <tr>\n",
       "      <th>19</th>\n",
       "      <td>2019-08-20</td>\n",
       "      <td>309</td>\n",
       "      <td>2103613</td>\n",
       "    </tr>\n",
       "    <tr>\n",
       "      <th>20</th>\n",
       "      <td>2019-08-21</td>\n",
       "      <td>329</td>\n",
       "      <td>2273782</td>\n",
       "    </tr>\n",
       "    <tr>\n",
       "      <th>21</th>\n",
       "      <td>2019-08-22</td>\n",
       "      <td>339</td>\n",
       "      <td>2366147</td>\n",
       "    </tr>\n",
       "    <tr>\n",
       "      <th>22</th>\n",
       "      <td>2019-08-23</td>\n",
       "      <td>359</td>\n",
       "      <td>2424010</td>\n",
       "    </tr>\n",
       "    <tr>\n",
       "      <th>23</th>\n",
       "      <td>2019-08-24</td>\n",
       "      <td>372</td>\n",
       "      <td>2546023</td>\n",
       "    </tr>\n",
       "    <tr>\n",
       "      <th>24</th>\n",
       "      <td>2019-08-25</td>\n",
       "      <td>380</td>\n",
       "      <td>2597907</td>\n",
       "    </tr>\n",
       "    <tr>\n",
       "      <th>25</th>\n",
       "      <td>2019-08-26</td>\n",
       "      <td>396</td>\n",
       "      <td>2755121</td>\n",
       "    </tr>\n",
       "    <tr>\n",
       "      <th>26</th>\n",
       "      <td>2019-08-27</td>\n",
       "      <td>419</td>\n",
       "      <td>2940471</td>\n",
       "    </tr>\n",
       "    <tr>\n",
       "      <th>27</th>\n",
       "      <td>2019-08-28</td>\n",
       "      <td>434</td>\n",
       "      <td>3036933</td>\n",
       "    </tr>\n",
       "    <tr>\n",
       "      <th>28</th>\n",
       "      <td>2019-08-29</td>\n",
       "      <td>451</td>\n",
       "      <td>3233233</td>\n",
       "    </tr>\n",
       "    <tr>\n",
       "      <th>29</th>\n",
       "      <td>2019-08-30</td>\n",
       "      <td>460</td>\n",
       "      <td>3311413</td>\n",
       "    </tr>\n",
       "    <tr>\n",
       "      <th>30</th>\n",
       "      <td>2019-08-31</td>\n",
       "      <td>468</td>\n",
       "      <td>3364656</td>\n",
       "    </tr>\n",
       "  </tbody>\n",
       "</table>\n",
       "</div>"
      ],
      "text/plain": [
       "         date  cummulative_orders_a  cummulative_revenue_a\n",
       "0  2019-08-01                    23                 142779\n",
       "1  2019-08-02                    42                 234381\n",
       "2  2019-08-03                    66                 346854\n",
       "3  2019-08-04                    77                 388030\n",
       "4  2019-08-05                    99                 474413\n",
       "5  2019-08-06                   114                 515332\n",
       "6  2019-08-07                   130                 638580\n",
       "7  2019-08-08                   144                 727219\n",
       "8  2019-08-09                   155                 861456\n",
       "9  2019-08-10                   170                1013731\n",
       "10 2019-08-11                   181                1074396\n",
       "11 2019-08-12                   200                1294788\n",
       "12 2019-08-13                   214                1558426\n",
       "13 2019-08-14                   231                1601692\n",
       "14 2019-08-15                   241                1682569\n",
       "15 2019-08-16                   259                1782420\n",
       "16 2019-08-17                   265                1817160\n",
       "17 2019-08-18                   278                1876741\n",
       "18 2019-08-19                   299                2044934\n",
       "19 2019-08-20                   309                2103613\n",
       "20 2019-08-21                   329                2273782\n",
       "21 2019-08-22                   339                2366147\n",
       "22 2019-08-23                   359                2424010\n",
       "23 2019-08-24                   372                2546023\n",
       "24 2019-08-25                   380                2597907\n",
       "25 2019-08-26                   396                2755121\n",
       "26 2019-08-27                   419                2940471\n",
       "27 2019-08-28                   434                3036933\n",
       "28 2019-08-29                   451                3233233\n",
       "29 2019-08-30                   460                3311413\n",
       "30 2019-08-31                   468                3364656"
      ]
     },
     "execution_count": 30,
     "metadata": {},
     "output_type": "execute_result"
    }
   ],
   "source": [
    "# соберем агрегированные кумулятивные количество и сумму заказов по группе А по дням\n",
    "orders_cummulative_a = orders_daily_a.apply(\n",
    "    lambda x: orders_daily_a[orders_daily_a['date'] <= x['date']].agg(\n",
    "        {'date': 'max', 'sum_orders_a': 'sum', 'sum_revenue_a': 'sum'}\n",
    "    ),\n",
    "    axis=1\n",
    ").sort_values('date')\n",
    "orders_cummulative_a.columns = ['date', 'cummulative_orders_a', 'cummulative_revenue_a']\n",
    "orders_cummulative_a"
   ]
  },
  {
   "cell_type": "code",
   "execution_count": 31,
   "id": "026b28ef",
   "metadata": {},
   "outputs": [
    {
     "data": {
      "text/html": [
       "<div>\n",
       "<style scoped>\n",
       "    .dataframe tbody tr th:only-of-type {\n",
       "        vertical-align: middle;\n",
       "    }\n",
       "\n",
       "    .dataframe tbody tr th {\n",
       "        vertical-align: top;\n",
       "    }\n",
       "\n",
       "    .dataframe thead th {\n",
       "        text-align: right;\n",
       "    }\n",
       "</style>\n",
       "<table border=\"1\" class=\"dataframe\">\n",
       "  <thead>\n",
       "    <tr style=\"text-align: right;\">\n",
       "      <th></th>\n",
       "      <th>date</th>\n",
       "      <th>sum_orders_b</th>\n",
       "      <th>sum_revenue_b</th>\n",
       "    </tr>\n",
       "  </thead>\n",
       "  <tbody>\n",
       "    <tr>\n",
       "      <th>0</th>\n",
       "      <td>2019-08-01</td>\n",
       "      <td>17</td>\n",
       "      <td>59758</td>\n",
       "    </tr>\n",
       "    <tr>\n",
       "      <th>1</th>\n",
       "      <td>2019-08-02</td>\n",
       "      <td>23</td>\n",
       "      <td>162043</td>\n",
       "    </tr>\n",
       "    <tr>\n",
       "      <th>2</th>\n",
       "      <td>2019-08-03</td>\n",
       "      <td>14</td>\n",
       "      <td>67049</td>\n",
       "    </tr>\n",
       "    <tr>\n",
       "      <th>3</th>\n",
       "      <td>2019-08-04</td>\n",
       "      <td>14</td>\n",
       "      <td>96890</td>\n",
       "    </tr>\n",
       "    <tr>\n",
       "      <th>4</th>\n",
       "      <td>2019-08-05</td>\n",
       "      <td>21</td>\n",
       "      <td>89908</td>\n",
       "    </tr>\n",
       "    <tr>\n",
       "      <th>5</th>\n",
       "      <td>2019-08-06</td>\n",
       "      <td>23</td>\n",
       "      <td>214842</td>\n",
       "    </tr>\n",
       "    <tr>\n",
       "      <th>6</th>\n",
       "      <td>2019-08-07</td>\n",
       "      <td>23</td>\n",
       "      <td>219164</td>\n",
       "    </tr>\n",
       "    <tr>\n",
       "      <th>7</th>\n",
       "      <td>2019-08-08</td>\n",
       "      <td>22</td>\n",
       "      <td>150141</td>\n",
       "    </tr>\n",
       "    <tr>\n",
       "      <th>8</th>\n",
       "      <td>2019-08-09</td>\n",
       "      <td>19</td>\n",
       "      <td>103166</td>\n",
       "    </tr>\n",
       "    <tr>\n",
       "      <th>9</th>\n",
       "      <td>2019-08-10</td>\n",
       "      <td>22</td>\n",
       "      <td>105162</td>\n",
       "    </tr>\n",
       "    <tr>\n",
       "      <th>10</th>\n",
       "      <td>2019-08-11</td>\n",
       "      <td>12</td>\n",
       "      <td>53060</td>\n",
       "    </tr>\n",
       "    <tr>\n",
       "      <th>11</th>\n",
       "      <td>2019-08-12</td>\n",
       "      <td>19</td>\n",
       "      <td>104054</td>\n",
       "    </tr>\n",
       "    <tr>\n",
       "      <th>12</th>\n",
       "      <td>2019-08-13</td>\n",
       "      <td>20</td>\n",
       "      <td>117691</td>\n",
       "    </tr>\n",
       "    <tr>\n",
       "      <th>13</th>\n",
       "      <td>2019-08-14</td>\n",
       "      <td>14</td>\n",
       "      <td>107340</td>\n",
       "    </tr>\n",
       "    <tr>\n",
       "      <th>14</th>\n",
       "      <td>2019-08-15</td>\n",
       "      <td>26</td>\n",
       "      <td>310159</td>\n",
       "    </tr>\n",
       "    <tr>\n",
       "      <th>15</th>\n",
       "      <td>2019-08-16</td>\n",
       "      <td>18</td>\n",
       "      <td>114250</td>\n",
       "    </tr>\n",
       "    <tr>\n",
       "      <th>16</th>\n",
       "      <td>2019-08-17</td>\n",
       "      <td>13</td>\n",
       "      <td>80865</td>\n",
       "    </tr>\n",
       "    <tr>\n",
       "      <th>17</th>\n",
       "      <td>2019-08-18</td>\n",
       "      <td>7</td>\n",
       "      <td>35323</td>\n",
       "    </tr>\n",
       "    <tr>\n",
       "      <th>18</th>\n",
       "      <td>2019-08-19</td>\n",
       "      <td>21</td>\n",
       "      <td>1429920</td>\n",
       "    </tr>\n",
       "    <tr>\n",
       "      <th>19</th>\n",
       "      <td>2019-08-20</td>\n",
       "      <td>20</td>\n",
       "      <td>147274</td>\n",
       "    </tr>\n",
       "    <tr>\n",
       "      <th>20</th>\n",
       "      <td>2019-08-21</td>\n",
       "      <td>12</td>\n",
       "      <td>140347</td>\n",
       "    </tr>\n",
       "    <tr>\n",
       "      <th>21</th>\n",
       "      <td>2019-08-22</td>\n",
       "      <td>21</td>\n",
       "      <td>141728</td>\n",
       "    </tr>\n",
       "    <tr>\n",
       "      <th>22</th>\n",
       "      <td>2019-08-23</td>\n",
       "      <td>13</td>\n",
       "      <td>77269</td>\n",
       "    </tr>\n",
       "    <tr>\n",
       "      <th>23</th>\n",
       "      <td>2019-08-24</td>\n",
       "      <td>14</td>\n",
       "      <td>87866</td>\n",
       "    </tr>\n",
       "    <tr>\n",
       "      <th>24</th>\n",
       "      <td>2019-08-25</td>\n",
       "      <td>12</td>\n",
       "      <td>79257</td>\n",
       "    </tr>\n",
       "    <tr>\n",
       "      <th>25</th>\n",
       "      <td>2019-08-26</td>\n",
       "      <td>22</td>\n",
       "      <td>173439</td>\n",
       "    </tr>\n",
       "    <tr>\n",
       "      <th>26</th>\n",
       "      <td>2019-08-27</td>\n",
       "      <td>11</td>\n",
       "      <td>111347</td>\n",
       "    </tr>\n",
       "    <tr>\n",
       "      <th>27</th>\n",
       "      <td>2019-08-28</td>\n",
       "      <td>22</td>\n",
       "      <td>61198</td>\n",
       "    </tr>\n",
       "    <tr>\n",
       "      <th>28</th>\n",
       "      <td>2019-08-29</td>\n",
       "      <td>15</td>\n",
       "      <td>106100</td>\n",
       "    </tr>\n",
       "    <tr>\n",
       "      <th>29</th>\n",
       "      <td>2019-08-30</td>\n",
       "      <td>21</td>\n",
       "      <td>209223</td>\n",
       "    </tr>\n",
       "    <tr>\n",
       "      <th>30</th>\n",
       "      <td>2019-08-31</td>\n",
       "      <td>17</td>\n",
       "      <td>113139</td>\n",
       "    </tr>\n",
       "  </tbody>\n",
       "</table>\n",
       "</div>"
      ],
      "text/plain": [
       "         date  sum_orders_b  sum_revenue_b\n",
       "0  2019-08-01            17          59758\n",
       "1  2019-08-02            23         162043\n",
       "2  2019-08-03            14          67049\n",
       "3  2019-08-04            14          96890\n",
       "4  2019-08-05            21          89908\n",
       "5  2019-08-06            23         214842\n",
       "6  2019-08-07            23         219164\n",
       "7  2019-08-08            22         150141\n",
       "8  2019-08-09            19         103166\n",
       "9  2019-08-10            22         105162\n",
       "10 2019-08-11            12          53060\n",
       "11 2019-08-12            19         104054\n",
       "12 2019-08-13            20         117691\n",
       "13 2019-08-14            14         107340\n",
       "14 2019-08-15            26         310159\n",
       "15 2019-08-16            18         114250\n",
       "16 2019-08-17            13          80865\n",
       "17 2019-08-18             7          35323\n",
       "18 2019-08-19            21        1429920\n",
       "19 2019-08-20            20         147274\n",
       "20 2019-08-21            12         140347\n",
       "21 2019-08-22            21         141728\n",
       "22 2019-08-23            13          77269\n",
       "23 2019-08-24            14          87866\n",
       "24 2019-08-25            12          79257\n",
       "25 2019-08-26            22         173439\n",
       "26 2019-08-27            11         111347\n",
       "27 2019-08-28            22          61198\n",
       "28 2019-08-29            15         106100\n",
       "29 2019-08-30            21         209223\n",
       "30 2019-08-31            17         113139"
      ]
     },
     "execution_count": 31,
     "metadata": {},
     "output_type": "execute_result"
    }
   ],
   "source": [
    "# соберем количество и сумму заказов по группе B по дням\n",
    "orders_daily_b = (\n",
    "    orders[orders['group'] == 'B'].groupby('date', as_index=False).agg({'transaction_id': 'nunique', 'revenue': 'sum'})\n",
    ")\n",
    "orders_daily_b.columns = ['date', 'sum_orders_b', 'sum_revenue_b']\n",
    "orders_daily_b"
   ]
  },
  {
   "cell_type": "code",
   "execution_count": 32,
   "id": "2b7d8f1e",
   "metadata": {},
   "outputs": [
    {
     "data": {
      "text/html": [
       "<div>\n",
       "<style scoped>\n",
       "    .dataframe tbody tr th:only-of-type {\n",
       "        vertical-align: middle;\n",
       "    }\n",
       "\n",
       "    .dataframe tbody tr th {\n",
       "        vertical-align: top;\n",
       "    }\n",
       "\n",
       "    .dataframe thead th {\n",
       "        text-align: right;\n",
       "    }\n",
       "</style>\n",
       "<table border=\"1\" class=\"dataframe\">\n",
       "  <thead>\n",
       "    <tr style=\"text-align: right;\">\n",
       "      <th></th>\n",
       "      <th>date</th>\n",
       "      <th>cummulative_orders_b</th>\n",
       "      <th>cummulative_revenue_b</th>\n",
       "    </tr>\n",
       "  </thead>\n",
       "  <tbody>\n",
       "    <tr>\n",
       "      <th>0</th>\n",
       "      <td>2019-08-01</td>\n",
       "      <td>17</td>\n",
       "      <td>59758</td>\n",
       "    </tr>\n",
       "    <tr>\n",
       "      <th>1</th>\n",
       "      <td>2019-08-02</td>\n",
       "      <td>40</td>\n",
       "      <td>221801</td>\n",
       "    </tr>\n",
       "    <tr>\n",
       "      <th>2</th>\n",
       "      <td>2019-08-03</td>\n",
       "      <td>54</td>\n",
       "      <td>288850</td>\n",
       "    </tr>\n",
       "    <tr>\n",
       "      <th>3</th>\n",
       "      <td>2019-08-04</td>\n",
       "      <td>68</td>\n",
       "      <td>385740</td>\n",
       "    </tr>\n",
       "    <tr>\n",
       "      <th>4</th>\n",
       "      <td>2019-08-05</td>\n",
       "      <td>89</td>\n",
       "      <td>475648</td>\n",
       "    </tr>\n",
       "    <tr>\n",
       "      <th>5</th>\n",
       "      <td>2019-08-06</td>\n",
       "      <td>112</td>\n",
       "      <td>690490</td>\n",
       "    </tr>\n",
       "    <tr>\n",
       "      <th>6</th>\n",
       "      <td>2019-08-07</td>\n",
       "      <td>135</td>\n",
       "      <td>909654</td>\n",
       "    </tr>\n",
       "    <tr>\n",
       "      <th>7</th>\n",
       "      <td>2019-08-08</td>\n",
       "      <td>157</td>\n",
       "      <td>1059795</td>\n",
       "    </tr>\n",
       "    <tr>\n",
       "      <th>8</th>\n",
       "      <td>2019-08-09</td>\n",
       "      <td>176</td>\n",
       "      <td>1162961</td>\n",
       "    </tr>\n",
       "    <tr>\n",
       "      <th>9</th>\n",
       "      <td>2019-08-10</td>\n",
       "      <td>198</td>\n",
       "      <td>1268123</td>\n",
       "    </tr>\n",
       "    <tr>\n",
       "      <th>10</th>\n",
       "      <td>2019-08-11</td>\n",
       "      <td>210</td>\n",
       "      <td>1321183</td>\n",
       "    </tr>\n",
       "    <tr>\n",
       "      <th>11</th>\n",
       "      <td>2019-08-12</td>\n",
       "      <td>229</td>\n",
       "      <td>1425237</td>\n",
       "    </tr>\n",
       "    <tr>\n",
       "      <th>12</th>\n",
       "      <td>2019-08-13</td>\n",
       "      <td>249</td>\n",
       "      <td>1542928</td>\n",
       "    </tr>\n",
       "    <tr>\n",
       "      <th>13</th>\n",
       "      <td>2019-08-14</td>\n",
       "      <td>263</td>\n",
       "      <td>1650268</td>\n",
       "    </tr>\n",
       "    <tr>\n",
       "      <th>14</th>\n",
       "      <td>2019-08-15</td>\n",
       "      <td>289</td>\n",
       "      <td>1960427</td>\n",
       "    </tr>\n",
       "    <tr>\n",
       "      <th>15</th>\n",
       "      <td>2019-08-16</td>\n",
       "      <td>307</td>\n",
       "      <td>2074677</td>\n",
       "    </tr>\n",
       "    <tr>\n",
       "      <th>16</th>\n",
       "      <td>2019-08-17</td>\n",
       "      <td>320</td>\n",
       "      <td>2155542</td>\n",
       "    </tr>\n",
       "    <tr>\n",
       "      <th>17</th>\n",
       "      <td>2019-08-18</td>\n",
       "      <td>327</td>\n",
       "      <td>2190865</td>\n",
       "    </tr>\n",
       "    <tr>\n",
       "      <th>18</th>\n",
       "      <td>2019-08-19</td>\n",
       "      <td>348</td>\n",
       "      <td>3620785</td>\n",
       "    </tr>\n",
       "    <tr>\n",
       "      <th>19</th>\n",
       "      <td>2019-08-20</td>\n",
       "      <td>368</td>\n",
       "      <td>3768059</td>\n",
       "    </tr>\n",
       "    <tr>\n",
       "      <th>20</th>\n",
       "      <td>2019-08-21</td>\n",
       "      <td>380</td>\n",
       "      <td>3908406</td>\n",
       "    </tr>\n",
       "    <tr>\n",
       "      <th>21</th>\n",
       "      <td>2019-08-22</td>\n",
       "      <td>401</td>\n",
       "      <td>4050134</td>\n",
       "    </tr>\n",
       "    <tr>\n",
       "      <th>22</th>\n",
       "      <td>2019-08-23</td>\n",
       "      <td>414</td>\n",
       "      <td>4127403</td>\n",
       "    </tr>\n",
       "    <tr>\n",
       "      <th>23</th>\n",
       "      <td>2019-08-24</td>\n",
       "      <td>428</td>\n",
       "      <td>4215269</td>\n",
       "    </tr>\n",
       "    <tr>\n",
       "      <th>24</th>\n",
       "      <td>2019-08-25</td>\n",
       "      <td>440</td>\n",
       "      <td>4294526</td>\n",
       "    </tr>\n",
       "    <tr>\n",
       "      <th>25</th>\n",
       "      <td>2019-08-26</td>\n",
       "      <td>462</td>\n",
       "      <td>4467965</td>\n",
       "    </tr>\n",
       "    <tr>\n",
       "      <th>26</th>\n",
       "      <td>2019-08-27</td>\n",
       "      <td>473</td>\n",
       "      <td>4579312</td>\n",
       "    </tr>\n",
       "    <tr>\n",
       "      <th>27</th>\n",
       "      <td>2019-08-28</td>\n",
       "      <td>495</td>\n",
       "      <td>4640510</td>\n",
       "    </tr>\n",
       "    <tr>\n",
       "      <th>28</th>\n",
       "      <td>2019-08-29</td>\n",
       "      <td>510</td>\n",
       "      <td>4746610</td>\n",
       "    </tr>\n",
       "    <tr>\n",
       "      <th>29</th>\n",
       "      <td>2019-08-30</td>\n",
       "      <td>531</td>\n",
       "      <td>4955833</td>\n",
       "    </tr>\n",
       "    <tr>\n",
       "      <th>30</th>\n",
       "      <td>2019-08-31</td>\n",
       "      <td>548</td>\n",
       "      <td>5068972</td>\n",
       "    </tr>\n",
       "  </tbody>\n",
       "</table>\n",
       "</div>"
      ],
      "text/plain": [
       "         date  cummulative_orders_b  cummulative_revenue_b\n",
       "0  2019-08-01                    17                  59758\n",
       "1  2019-08-02                    40                 221801\n",
       "2  2019-08-03                    54                 288850\n",
       "3  2019-08-04                    68                 385740\n",
       "4  2019-08-05                    89                 475648\n",
       "5  2019-08-06                   112                 690490\n",
       "6  2019-08-07                   135                 909654\n",
       "7  2019-08-08                   157                1059795\n",
       "8  2019-08-09                   176                1162961\n",
       "9  2019-08-10                   198                1268123\n",
       "10 2019-08-11                   210                1321183\n",
       "11 2019-08-12                   229                1425237\n",
       "12 2019-08-13                   249                1542928\n",
       "13 2019-08-14                   263                1650268\n",
       "14 2019-08-15                   289                1960427\n",
       "15 2019-08-16                   307                2074677\n",
       "16 2019-08-17                   320                2155542\n",
       "17 2019-08-18                   327                2190865\n",
       "18 2019-08-19                   348                3620785\n",
       "19 2019-08-20                   368                3768059\n",
       "20 2019-08-21                   380                3908406\n",
       "21 2019-08-22                   401                4050134\n",
       "22 2019-08-23                   414                4127403\n",
       "23 2019-08-24                   428                4215269\n",
       "24 2019-08-25                   440                4294526\n",
       "25 2019-08-26                   462                4467965\n",
       "26 2019-08-27                   473                4579312\n",
       "27 2019-08-28                   495                4640510\n",
       "28 2019-08-29                   510                4746610\n",
       "29 2019-08-30                   531                4955833\n",
       "30 2019-08-31                   548                5068972"
      ]
     },
     "execution_count": 32,
     "metadata": {},
     "output_type": "execute_result"
    }
   ],
   "source": [
    "# соберем агрегированные кумулятивные количество и сумму заказов по группе B по дням\n",
    "orders_cummulative_b = orders_daily_b.apply(\n",
    "    lambda x: orders_daily_b[orders_daily_b['date'] <= x['date']].agg(\n",
    "        {'date': 'max', 'sum_orders_b': 'sum', 'sum_revenue_b': 'sum'}\n",
    "    ),\n",
    "    axis=1\n",
    ").sort_values('date')\n",
    "orders_cummulative_b.columns = ['date', 'cummulative_orders_b', 'cummulative_revenue_b']\n",
    "orders_cummulative_b"
   ]
  },
  {
   "cell_type": "code",
   "execution_count": 33,
   "id": "c34f01c3",
   "metadata": {},
   "outputs": [
    {
     "data": {
      "text/html": [
       "<div>\n",
       "<style scoped>\n",
       "    .dataframe tbody tr th:only-of-type {\n",
       "        vertical-align: middle;\n",
       "    }\n",
       "\n",
       "    .dataframe tbody tr th {\n",
       "        vertical-align: top;\n",
       "    }\n",
       "\n",
       "    .dataframe thead th {\n",
       "        text-align: right;\n",
       "    }\n",
       "</style>\n",
       "<table border=\"1\" class=\"dataframe\">\n",
       "  <thead>\n",
       "    <tr style=\"text-align: right;\">\n",
       "      <th></th>\n",
       "      <th>date</th>\n",
       "      <th>sum_visitors_a</th>\n",
       "    </tr>\n",
       "  </thead>\n",
       "  <tbody>\n",
       "    <tr>\n",
       "      <th>0</th>\n",
       "      <td>2019-08-01</td>\n",
       "      <td>719</td>\n",
       "    </tr>\n",
       "    <tr>\n",
       "      <th>1</th>\n",
       "      <td>2019-08-02</td>\n",
       "      <td>619</td>\n",
       "    </tr>\n",
       "    <tr>\n",
       "      <th>2</th>\n",
       "      <td>2019-08-03</td>\n",
       "      <td>507</td>\n",
       "    </tr>\n",
       "    <tr>\n",
       "      <th>3</th>\n",
       "      <td>2019-08-04</td>\n",
       "      <td>717</td>\n",
       "    </tr>\n",
       "    <tr>\n",
       "      <th>4</th>\n",
       "      <td>2019-08-05</td>\n",
       "      <td>756</td>\n",
       "    </tr>\n",
       "    <tr>\n",
       "      <th>5</th>\n",
       "      <td>2019-08-06</td>\n",
       "      <td>667</td>\n",
       "    </tr>\n",
       "    <tr>\n",
       "      <th>6</th>\n",
       "      <td>2019-08-07</td>\n",
       "      <td>644</td>\n",
       "    </tr>\n",
       "    <tr>\n",
       "      <th>7</th>\n",
       "      <td>2019-08-08</td>\n",
       "      <td>610</td>\n",
       "    </tr>\n",
       "    <tr>\n",
       "      <th>8</th>\n",
       "      <td>2019-08-09</td>\n",
       "      <td>617</td>\n",
       "    </tr>\n",
       "    <tr>\n",
       "      <th>9</th>\n",
       "      <td>2019-08-10</td>\n",
       "      <td>406</td>\n",
       "    </tr>\n",
       "    <tr>\n",
       "      <th>10</th>\n",
       "      <td>2019-08-11</td>\n",
       "      <td>718</td>\n",
       "    </tr>\n",
       "    <tr>\n",
       "      <th>11</th>\n",
       "      <td>2019-08-12</td>\n",
       "      <td>595</td>\n",
       "    </tr>\n",
       "    <tr>\n",
       "      <th>12</th>\n",
       "      <td>2019-08-13</td>\n",
       "      <td>748</td>\n",
       "    </tr>\n",
       "    <tr>\n",
       "      <th>13</th>\n",
       "      <td>2019-08-14</td>\n",
       "      <td>735</td>\n",
       "    </tr>\n",
       "    <tr>\n",
       "      <th>14</th>\n",
       "      <td>2019-08-15</td>\n",
       "      <td>628</td>\n",
       "    </tr>\n",
       "    <tr>\n",
       "      <th>15</th>\n",
       "      <td>2019-08-16</td>\n",
       "      <td>361</td>\n",
       "    </tr>\n",
       "    <tr>\n",
       "      <th>16</th>\n",
       "      <td>2019-08-17</td>\n",
       "      <td>412</td>\n",
       "    </tr>\n",
       "    <tr>\n",
       "      <th>17</th>\n",
       "      <td>2019-08-18</td>\n",
       "      <td>668</td>\n",
       "    </tr>\n",
       "    <tr>\n",
       "      <th>18</th>\n",
       "      <td>2019-08-19</td>\n",
       "      <td>502</td>\n",
       "    </tr>\n",
       "    <tr>\n",
       "      <th>19</th>\n",
       "      <td>2019-08-20</td>\n",
       "      <td>575</td>\n",
       "    </tr>\n",
       "    <tr>\n",
       "      <th>20</th>\n",
       "      <td>2019-08-21</td>\n",
       "      <td>646</td>\n",
       "    </tr>\n",
       "    <tr>\n",
       "      <th>21</th>\n",
       "      <td>2019-08-22</td>\n",
       "      <td>609</td>\n",
       "    </tr>\n",
       "    <tr>\n",
       "      <th>22</th>\n",
       "      <td>2019-08-23</td>\n",
       "      <td>468</td>\n",
       "    </tr>\n",
       "    <tr>\n",
       "      <th>23</th>\n",
       "      <td>2019-08-24</td>\n",
       "      <td>395</td>\n",
       "    </tr>\n",
       "    <tr>\n",
       "      <th>24</th>\n",
       "      <td>2019-08-25</td>\n",
       "      <td>621</td>\n",
       "    </tr>\n",
       "    <tr>\n",
       "      <th>25</th>\n",
       "      <td>2019-08-26</td>\n",
       "      <td>722</td>\n",
       "    </tr>\n",
       "    <tr>\n",
       "      <th>26</th>\n",
       "      <td>2019-08-27</td>\n",
       "      <td>711</td>\n",
       "    </tr>\n",
       "    <tr>\n",
       "      <th>27</th>\n",
       "      <td>2019-08-28</td>\n",
       "      <td>594</td>\n",
       "    </tr>\n",
       "    <tr>\n",
       "      <th>28</th>\n",
       "      <td>2019-08-29</td>\n",
       "      <td>577</td>\n",
       "    </tr>\n",
       "    <tr>\n",
       "      <th>29</th>\n",
       "      <td>2019-08-30</td>\n",
       "      <td>490</td>\n",
       "    </tr>\n",
       "    <tr>\n",
       "      <th>30</th>\n",
       "      <td>2019-08-31</td>\n",
       "      <td>699</td>\n",
       "    </tr>\n",
       "  </tbody>\n",
       "</table>\n",
       "</div>"
      ],
      "text/plain": [
       "         date  sum_visitors_a\n",
       "0  2019-08-01             719\n",
       "1  2019-08-02             619\n",
       "2  2019-08-03             507\n",
       "3  2019-08-04             717\n",
       "4  2019-08-05             756\n",
       "5  2019-08-06             667\n",
       "6  2019-08-07             644\n",
       "7  2019-08-08             610\n",
       "8  2019-08-09             617\n",
       "9  2019-08-10             406\n",
       "10 2019-08-11             718\n",
       "11 2019-08-12             595\n",
       "12 2019-08-13             748\n",
       "13 2019-08-14             735\n",
       "14 2019-08-15             628\n",
       "15 2019-08-16             361\n",
       "16 2019-08-17             412\n",
       "17 2019-08-18             668\n",
       "18 2019-08-19             502\n",
       "19 2019-08-20             575\n",
       "20 2019-08-21             646\n",
       "21 2019-08-22             609\n",
       "22 2019-08-23             468\n",
       "23 2019-08-24             395\n",
       "24 2019-08-25             621\n",
       "25 2019-08-26             722\n",
       "26 2019-08-27             711\n",
       "27 2019-08-28             594\n",
       "28 2019-08-29             577\n",
       "29 2019-08-30             490\n",
       "30 2019-08-31             699"
      ]
     },
     "execution_count": 33,
     "metadata": {},
     "output_type": "execute_result"
    }
   ],
   "source": [
    "# соберем количество визитов по дням в группе A\n",
    "visitors_daily_a = visitors[visitors['group'] == 'A'].groupby('date', as_index=False).agg({'visitors': 'sum'})\n",
    "visitors_daily_a.columns = ['date', 'sum_visitors_a']\n",
    "visitors_daily_a"
   ]
  },
  {
   "cell_type": "code",
   "execution_count": 34,
   "id": "c26017d9",
   "metadata": {},
   "outputs": [
    {
     "data": {
      "text/html": [
       "<div>\n",
       "<style scoped>\n",
       "    .dataframe tbody tr th:only-of-type {\n",
       "        vertical-align: middle;\n",
       "    }\n",
       "\n",
       "    .dataframe tbody tr th {\n",
       "        vertical-align: top;\n",
       "    }\n",
       "\n",
       "    .dataframe thead th {\n",
       "        text-align: right;\n",
       "    }\n",
       "</style>\n",
       "<table border=\"1\" class=\"dataframe\">\n",
       "  <thead>\n",
       "    <tr style=\"text-align: right;\">\n",
       "      <th></th>\n",
       "      <th>date</th>\n",
       "      <th>cummulative_visitors_a</th>\n",
       "    </tr>\n",
       "  </thead>\n",
       "  <tbody>\n",
       "    <tr>\n",
       "      <th>0</th>\n",
       "      <td>2019-08-01</td>\n",
       "      <td>719</td>\n",
       "    </tr>\n",
       "    <tr>\n",
       "      <th>1</th>\n",
       "      <td>2019-08-02</td>\n",
       "      <td>1338</td>\n",
       "    </tr>\n",
       "    <tr>\n",
       "      <th>2</th>\n",
       "      <td>2019-08-03</td>\n",
       "      <td>1845</td>\n",
       "    </tr>\n",
       "    <tr>\n",
       "      <th>3</th>\n",
       "      <td>2019-08-04</td>\n",
       "      <td>2562</td>\n",
       "    </tr>\n",
       "    <tr>\n",
       "      <th>4</th>\n",
       "      <td>2019-08-05</td>\n",
       "      <td>3318</td>\n",
       "    </tr>\n",
       "    <tr>\n",
       "      <th>5</th>\n",
       "      <td>2019-08-06</td>\n",
       "      <td>3985</td>\n",
       "    </tr>\n",
       "    <tr>\n",
       "      <th>6</th>\n",
       "      <td>2019-08-07</td>\n",
       "      <td>4629</td>\n",
       "    </tr>\n",
       "    <tr>\n",
       "      <th>7</th>\n",
       "      <td>2019-08-08</td>\n",
       "      <td>5239</td>\n",
       "    </tr>\n",
       "    <tr>\n",
       "      <th>8</th>\n",
       "      <td>2019-08-09</td>\n",
       "      <td>5856</td>\n",
       "    </tr>\n",
       "    <tr>\n",
       "      <th>9</th>\n",
       "      <td>2019-08-10</td>\n",
       "      <td>6262</td>\n",
       "    </tr>\n",
       "    <tr>\n",
       "      <th>10</th>\n",
       "      <td>2019-08-11</td>\n",
       "      <td>6980</td>\n",
       "    </tr>\n",
       "    <tr>\n",
       "      <th>11</th>\n",
       "      <td>2019-08-12</td>\n",
       "      <td>7575</td>\n",
       "    </tr>\n",
       "    <tr>\n",
       "      <th>12</th>\n",
       "      <td>2019-08-13</td>\n",
       "      <td>8323</td>\n",
       "    </tr>\n",
       "    <tr>\n",
       "      <th>13</th>\n",
       "      <td>2019-08-14</td>\n",
       "      <td>9058</td>\n",
       "    </tr>\n",
       "    <tr>\n",
       "      <th>14</th>\n",
       "      <td>2019-08-15</td>\n",
       "      <td>9686</td>\n",
       "    </tr>\n",
       "    <tr>\n",
       "      <th>15</th>\n",
       "      <td>2019-08-16</td>\n",
       "      <td>10047</td>\n",
       "    </tr>\n",
       "    <tr>\n",
       "      <th>16</th>\n",
       "      <td>2019-08-17</td>\n",
       "      <td>10459</td>\n",
       "    </tr>\n",
       "    <tr>\n",
       "      <th>17</th>\n",
       "      <td>2019-08-18</td>\n",
       "      <td>11127</td>\n",
       "    </tr>\n",
       "    <tr>\n",
       "      <th>18</th>\n",
       "      <td>2019-08-19</td>\n",
       "      <td>11629</td>\n",
       "    </tr>\n",
       "    <tr>\n",
       "      <th>19</th>\n",
       "      <td>2019-08-20</td>\n",
       "      <td>12204</td>\n",
       "    </tr>\n",
       "    <tr>\n",
       "      <th>20</th>\n",
       "      <td>2019-08-21</td>\n",
       "      <td>12850</td>\n",
       "    </tr>\n",
       "    <tr>\n",
       "      <th>21</th>\n",
       "      <td>2019-08-22</td>\n",
       "      <td>13459</td>\n",
       "    </tr>\n",
       "    <tr>\n",
       "      <th>22</th>\n",
       "      <td>2019-08-23</td>\n",
       "      <td>13927</td>\n",
       "    </tr>\n",
       "    <tr>\n",
       "      <th>23</th>\n",
       "      <td>2019-08-24</td>\n",
       "      <td>14322</td>\n",
       "    </tr>\n",
       "    <tr>\n",
       "      <th>24</th>\n",
       "      <td>2019-08-25</td>\n",
       "      <td>14943</td>\n",
       "    </tr>\n",
       "    <tr>\n",
       "      <th>25</th>\n",
       "      <td>2019-08-26</td>\n",
       "      <td>15665</td>\n",
       "    </tr>\n",
       "    <tr>\n",
       "      <th>26</th>\n",
       "      <td>2019-08-27</td>\n",
       "      <td>16376</td>\n",
       "    </tr>\n",
       "    <tr>\n",
       "      <th>27</th>\n",
       "      <td>2019-08-28</td>\n",
       "      <td>16970</td>\n",
       "    </tr>\n",
       "    <tr>\n",
       "      <th>28</th>\n",
       "      <td>2019-08-29</td>\n",
       "      <td>17547</td>\n",
       "    </tr>\n",
       "    <tr>\n",
       "      <th>29</th>\n",
       "      <td>2019-08-30</td>\n",
       "      <td>18037</td>\n",
       "    </tr>\n",
       "    <tr>\n",
       "      <th>30</th>\n",
       "      <td>2019-08-31</td>\n",
       "      <td>18736</td>\n",
       "    </tr>\n",
       "  </tbody>\n",
       "</table>\n",
       "</div>"
      ],
      "text/plain": [
       "         date  cummulative_visitors_a\n",
       "0  2019-08-01                     719\n",
       "1  2019-08-02                    1338\n",
       "2  2019-08-03                    1845\n",
       "3  2019-08-04                    2562\n",
       "4  2019-08-05                    3318\n",
       "5  2019-08-06                    3985\n",
       "6  2019-08-07                    4629\n",
       "7  2019-08-08                    5239\n",
       "8  2019-08-09                    5856\n",
       "9  2019-08-10                    6262\n",
       "10 2019-08-11                    6980\n",
       "11 2019-08-12                    7575\n",
       "12 2019-08-13                    8323\n",
       "13 2019-08-14                    9058\n",
       "14 2019-08-15                    9686\n",
       "15 2019-08-16                   10047\n",
       "16 2019-08-17                   10459\n",
       "17 2019-08-18                   11127\n",
       "18 2019-08-19                   11629\n",
       "19 2019-08-20                   12204\n",
       "20 2019-08-21                   12850\n",
       "21 2019-08-22                   13459\n",
       "22 2019-08-23                   13927\n",
       "23 2019-08-24                   14322\n",
       "24 2019-08-25                   14943\n",
       "25 2019-08-26                   15665\n",
       "26 2019-08-27                   16376\n",
       "27 2019-08-28                   16970\n",
       "28 2019-08-29                   17547\n",
       "29 2019-08-30                   18037\n",
       "30 2019-08-31                   18736"
      ]
     },
     "execution_count": 34,
     "metadata": {},
     "output_type": "execute_result"
    }
   ],
   "source": [
    "# соберем агрегированное кумулятивное количество визитов по дням в группе А\n",
    "visitors_cummulative_a = visitors_daily_a.apply(\n",
    "    lambda x: visitors_daily_a[visitors_daily_a['date'] <= x['date']].agg(\n",
    "        {'date': 'max', 'sum_visitors_a': 'sum'}\n",
    "    ), axis=1\n",
    ").sort_values('date')\n",
    "visitors_cummulative_a.columns = ['date', 'cummulative_visitors_a']\n",
    "visitors_cummulative_a"
   ]
  },
  {
   "cell_type": "code",
   "execution_count": 35,
   "id": "5332411d",
   "metadata": {},
   "outputs": [
    {
     "data": {
      "text/html": [
       "<div>\n",
       "<style scoped>\n",
       "    .dataframe tbody tr th:only-of-type {\n",
       "        vertical-align: middle;\n",
       "    }\n",
       "\n",
       "    .dataframe tbody tr th {\n",
       "        vertical-align: top;\n",
       "    }\n",
       "\n",
       "    .dataframe thead th {\n",
       "        text-align: right;\n",
       "    }\n",
       "</style>\n",
       "<table border=\"1\" class=\"dataframe\">\n",
       "  <thead>\n",
       "    <tr style=\"text-align: right;\">\n",
       "      <th></th>\n",
       "      <th>date</th>\n",
       "      <th>sum_visitors_b</th>\n",
       "    </tr>\n",
       "  </thead>\n",
       "  <tbody>\n",
       "    <tr>\n",
       "      <th>0</th>\n",
       "      <td>2019-08-01</td>\n",
       "      <td>719</td>\n",
       "    </tr>\n",
       "    <tr>\n",
       "      <th>1</th>\n",
       "      <td>2019-08-02</td>\n",
       "      <td>619</td>\n",
       "    </tr>\n",
       "    <tr>\n",
       "      <th>2</th>\n",
       "      <td>2019-08-03</td>\n",
       "      <td>507</td>\n",
       "    </tr>\n",
       "    <tr>\n",
       "      <th>3</th>\n",
       "      <td>2019-08-04</td>\n",
       "      <td>717</td>\n",
       "    </tr>\n",
       "    <tr>\n",
       "      <th>4</th>\n",
       "      <td>2019-08-05</td>\n",
       "      <td>756</td>\n",
       "    </tr>\n",
       "    <tr>\n",
       "      <th>5</th>\n",
       "      <td>2019-08-06</td>\n",
       "      <td>667</td>\n",
       "    </tr>\n",
       "    <tr>\n",
       "      <th>6</th>\n",
       "      <td>2019-08-07</td>\n",
       "      <td>644</td>\n",
       "    </tr>\n",
       "    <tr>\n",
       "      <th>7</th>\n",
       "      <td>2019-08-08</td>\n",
       "      <td>610</td>\n",
       "    </tr>\n",
       "    <tr>\n",
       "      <th>8</th>\n",
       "      <td>2019-08-09</td>\n",
       "      <td>617</td>\n",
       "    </tr>\n",
       "    <tr>\n",
       "      <th>9</th>\n",
       "      <td>2019-08-10</td>\n",
       "      <td>406</td>\n",
       "    </tr>\n",
       "    <tr>\n",
       "      <th>10</th>\n",
       "      <td>2019-08-11</td>\n",
       "      <td>718</td>\n",
       "    </tr>\n",
       "    <tr>\n",
       "      <th>11</th>\n",
       "      <td>2019-08-12</td>\n",
       "      <td>595</td>\n",
       "    </tr>\n",
       "    <tr>\n",
       "      <th>12</th>\n",
       "      <td>2019-08-13</td>\n",
       "      <td>748</td>\n",
       "    </tr>\n",
       "    <tr>\n",
       "      <th>13</th>\n",
       "      <td>2019-08-14</td>\n",
       "      <td>735</td>\n",
       "    </tr>\n",
       "    <tr>\n",
       "      <th>14</th>\n",
       "      <td>2019-08-15</td>\n",
       "      <td>628</td>\n",
       "    </tr>\n",
       "    <tr>\n",
       "      <th>15</th>\n",
       "      <td>2019-08-16</td>\n",
       "      <td>361</td>\n",
       "    </tr>\n",
       "    <tr>\n",
       "      <th>16</th>\n",
       "      <td>2019-08-17</td>\n",
       "      <td>412</td>\n",
       "    </tr>\n",
       "    <tr>\n",
       "      <th>17</th>\n",
       "      <td>2019-08-18</td>\n",
       "      <td>668</td>\n",
       "    </tr>\n",
       "    <tr>\n",
       "      <th>18</th>\n",
       "      <td>2019-08-19</td>\n",
       "      <td>502</td>\n",
       "    </tr>\n",
       "    <tr>\n",
       "      <th>19</th>\n",
       "      <td>2019-08-20</td>\n",
       "      <td>575</td>\n",
       "    </tr>\n",
       "    <tr>\n",
       "      <th>20</th>\n",
       "      <td>2019-08-21</td>\n",
       "      <td>646</td>\n",
       "    </tr>\n",
       "    <tr>\n",
       "      <th>21</th>\n",
       "      <td>2019-08-22</td>\n",
       "      <td>609</td>\n",
       "    </tr>\n",
       "    <tr>\n",
       "      <th>22</th>\n",
       "      <td>2019-08-23</td>\n",
       "      <td>468</td>\n",
       "    </tr>\n",
       "    <tr>\n",
       "      <th>23</th>\n",
       "      <td>2019-08-24</td>\n",
       "      <td>395</td>\n",
       "    </tr>\n",
       "    <tr>\n",
       "      <th>24</th>\n",
       "      <td>2019-08-25</td>\n",
       "      <td>621</td>\n",
       "    </tr>\n",
       "    <tr>\n",
       "      <th>25</th>\n",
       "      <td>2019-08-26</td>\n",
       "      <td>722</td>\n",
       "    </tr>\n",
       "    <tr>\n",
       "      <th>26</th>\n",
       "      <td>2019-08-27</td>\n",
       "      <td>711</td>\n",
       "    </tr>\n",
       "    <tr>\n",
       "      <th>27</th>\n",
       "      <td>2019-08-28</td>\n",
       "      <td>594</td>\n",
       "    </tr>\n",
       "    <tr>\n",
       "      <th>28</th>\n",
       "      <td>2019-08-29</td>\n",
       "      <td>577</td>\n",
       "    </tr>\n",
       "    <tr>\n",
       "      <th>29</th>\n",
       "      <td>2019-08-30</td>\n",
       "      <td>490</td>\n",
       "    </tr>\n",
       "    <tr>\n",
       "      <th>30</th>\n",
       "      <td>2019-08-31</td>\n",
       "      <td>699</td>\n",
       "    </tr>\n",
       "  </tbody>\n",
       "</table>\n",
       "</div>"
      ],
      "text/plain": [
       "         date  sum_visitors_b\n",
       "0  2019-08-01             719\n",
       "1  2019-08-02             619\n",
       "2  2019-08-03             507\n",
       "3  2019-08-04             717\n",
       "4  2019-08-05             756\n",
       "5  2019-08-06             667\n",
       "6  2019-08-07             644\n",
       "7  2019-08-08             610\n",
       "8  2019-08-09             617\n",
       "9  2019-08-10             406\n",
       "10 2019-08-11             718\n",
       "11 2019-08-12             595\n",
       "12 2019-08-13             748\n",
       "13 2019-08-14             735\n",
       "14 2019-08-15             628\n",
       "15 2019-08-16             361\n",
       "16 2019-08-17             412\n",
       "17 2019-08-18             668\n",
       "18 2019-08-19             502\n",
       "19 2019-08-20             575\n",
       "20 2019-08-21             646\n",
       "21 2019-08-22             609\n",
       "22 2019-08-23             468\n",
       "23 2019-08-24             395\n",
       "24 2019-08-25             621\n",
       "25 2019-08-26             722\n",
       "26 2019-08-27             711\n",
       "27 2019-08-28             594\n",
       "28 2019-08-29             577\n",
       "29 2019-08-30             490\n",
       "30 2019-08-31             699"
      ]
     },
     "execution_count": 35,
     "metadata": {},
     "output_type": "execute_result"
    }
   ],
   "source": [
    "# соберем количество визитов по дням в группе B\n",
    "visitors_daily_b = visitors[visitors['group'] == 'A'].groupby('date', as_index=False).agg({'visitors': 'sum'})\n",
    "visitors_daily_b.columns = ['date', 'sum_visitors_b']\n",
    "visitors_daily_b"
   ]
  },
  {
   "cell_type": "code",
   "execution_count": 36,
   "id": "b19f2405",
   "metadata": {},
   "outputs": [
    {
     "data": {
      "text/html": [
       "<div>\n",
       "<style scoped>\n",
       "    .dataframe tbody tr th:only-of-type {\n",
       "        vertical-align: middle;\n",
       "    }\n",
       "\n",
       "    .dataframe tbody tr th {\n",
       "        vertical-align: top;\n",
       "    }\n",
       "\n",
       "    .dataframe thead th {\n",
       "        text-align: right;\n",
       "    }\n",
       "</style>\n",
       "<table border=\"1\" class=\"dataframe\">\n",
       "  <thead>\n",
       "    <tr style=\"text-align: right;\">\n",
       "      <th></th>\n",
       "      <th>date</th>\n",
       "      <th>cummulative_visitors_b</th>\n",
       "    </tr>\n",
       "  </thead>\n",
       "  <tbody>\n",
       "    <tr>\n",
       "      <th>0</th>\n",
       "      <td>2019-08-01</td>\n",
       "      <td>719</td>\n",
       "    </tr>\n",
       "    <tr>\n",
       "      <th>1</th>\n",
       "      <td>2019-08-02</td>\n",
       "      <td>1338</td>\n",
       "    </tr>\n",
       "    <tr>\n",
       "      <th>2</th>\n",
       "      <td>2019-08-03</td>\n",
       "      <td>1845</td>\n",
       "    </tr>\n",
       "    <tr>\n",
       "      <th>3</th>\n",
       "      <td>2019-08-04</td>\n",
       "      <td>2562</td>\n",
       "    </tr>\n",
       "    <tr>\n",
       "      <th>4</th>\n",
       "      <td>2019-08-05</td>\n",
       "      <td>3318</td>\n",
       "    </tr>\n",
       "    <tr>\n",
       "      <th>5</th>\n",
       "      <td>2019-08-06</td>\n",
       "      <td>3985</td>\n",
       "    </tr>\n",
       "    <tr>\n",
       "      <th>6</th>\n",
       "      <td>2019-08-07</td>\n",
       "      <td>4629</td>\n",
       "    </tr>\n",
       "    <tr>\n",
       "      <th>7</th>\n",
       "      <td>2019-08-08</td>\n",
       "      <td>5239</td>\n",
       "    </tr>\n",
       "    <tr>\n",
       "      <th>8</th>\n",
       "      <td>2019-08-09</td>\n",
       "      <td>5856</td>\n",
       "    </tr>\n",
       "    <tr>\n",
       "      <th>9</th>\n",
       "      <td>2019-08-10</td>\n",
       "      <td>6262</td>\n",
       "    </tr>\n",
       "    <tr>\n",
       "      <th>10</th>\n",
       "      <td>2019-08-11</td>\n",
       "      <td>6980</td>\n",
       "    </tr>\n",
       "    <tr>\n",
       "      <th>11</th>\n",
       "      <td>2019-08-12</td>\n",
       "      <td>7575</td>\n",
       "    </tr>\n",
       "    <tr>\n",
       "      <th>12</th>\n",
       "      <td>2019-08-13</td>\n",
       "      <td>8323</td>\n",
       "    </tr>\n",
       "    <tr>\n",
       "      <th>13</th>\n",
       "      <td>2019-08-14</td>\n",
       "      <td>9058</td>\n",
       "    </tr>\n",
       "    <tr>\n",
       "      <th>14</th>\n",
       "      <td>2019-08-15</td>\n",
       "      <td>9686</td>\n",
       "    </tr>\n",
       "    <tr>\n",
       "      <th>15</th>\n",
       "      <td>2019-08-16</td>\n",
       "      <td>10047</td>\n",
       "    </tr>\n",
       "    <tr>\n",
       "      <th>16</th>\n",
       "      <td>2019-08-17</td>\n",
       "      <td>10459</td>\n",
       "    </tr>\n",
       "    <tr>\n",
       "      <th>17</th>\n",
       "      <td>2019-08-18</td>\n",
       "      <td>11127</td>\n",
       "    </tr>\n",
       "    <tr>\n",
       "      <th>18</th>\n",
       "      <td>2019-08-19</td>\n",
       "      <td>11629</td>\n",
       "    </tr>\n",
       "    <tr>\n",
       "      <th>19</th>\n",
       "      <td>2019-08-20</td>\n",
       "      <td>12204</td>\n",
       "    </tr>\n",
       "    <tr>\n",
       "      <th>20</th>\n",
       "      <td>2019-08-21</td>\n",
       "      <td>12850</td>\n",
       "    </tr>\n",
       "    <tr>\n",
       "      <th>21</th>\n",
       "      <td>2019-08-22</td>\n",
       "      <td>13459</td>\n",
       "    </tr>\n",
       "    <tr>\n",
       "      <th>22</th>\n",
       "      <td>2019-08-23</td>\n",
       "      <td>13927</td>\n",
       "    </tr>\n",
       "    <tr>\n",
       "      <th>23</th>\n",
       "      <td>2019-08-24</td>\n",
       "      <td>14322</td>\n",
       "    </tr>\n",
       "    <tr>\n",
       "      <th>24</th>\n",
       "      <td>2019-08-25</td>\n",
       "      <td>14943</td>\n",
       "    </tr>\n",
       "    <tr>\n",
       "      <th>25</th>\n",
       "      <td>2019-08-26</td>\n",
       "      <td>15665</td>\n",
       "    </tr>\n",
       "    <tr>\n",
       "      <th>26</th>\n",
       "      <td>2019-08-27</td>\n",
       "      <td>16376</td>\n",
       "    </tr>\n",
       "    <tr>\n",
       "      <th>27</th>\n",
       "      <td>2019-08-28</td>\n",
       "      <td>16970</td>\n",
       "    </tr>\n",
       "    <tr>\n",
       "      <th>28</th>\n",
       "      <td>2019-08-29</td>\n",
       "      <td>17547</td>\n",
       "    </tr>\n",
       "    <tr>\n",
       "      <th>29</th>\n",
       "      <td>2019-08-30</td>\n",
       "      <td>18037</td>\n",
       "    </tr>\n",
       "    <tr>\n",
       "      <th>30</th>\n",
       "      <td>2019-08-31</td>\n",
       "      <td>18736</td>\n",
       "    </tr>\n",
       "  </tbody>\n",
       "</table>\n",
       "</div>"
      ],
      "text/plain": [
       "         date  cummulative_visitors_b\n",
       "0  2019-08-01                     719\n",
       "1  2019-08-02                    1338\n",
       "2  2019-08-03                    1845\n",
       "3  2019-08-04                    2562\n",
       "4  2019-08-05                    3318\n",
       "5  2019-08-06                    3985\n",
       "6  2019-08-07                    4629\n",
       "7  2019-08-08                    5239\n",
       "8  2019-08-09                    5856\n",
       "9  2019-08-10                    6262\n",
       "10 2019-08-11                    6980\n",
       "11 2019-08-12                    7575\n",
       "12 2019-08-13                    8323\n",
       "13 2019-08-14                    9058\n",
       "14 2019-08-15                    9686\n",
       "15 2019-08-16                   10047\n",
       "16 2019-08-17                   10459\n",
       "17 2019-08-18                   11127\n",
       "18 2019-08-19                   11629\n",
       "19 2019-08-20                   12204\n",
       "20 2019-08-21                   12850\n",
       "21 2019-08-22                   13459\n",
       "22 2019-08-23                   13927\n",
       "23 2019-08-24                   14322\n",
       "24 2019-08-25                   14943\n",
       "25 2019-08-26                   15665\n",
       "26 2019-08-27                   16376\n",
       "27 2019-08-28                   16970\n",
       "28 2019-08-29                   17547\n",
       "29 2019-08-30                   18037\n",
       "30 2019-08-31                   18736"
      ]
     },
     "execution_count": 36,
     "metadata": {},
     "output_type": "execute_result"
    }
   ],
   "source": [
    "# соберем агрегированное кумулятивное количество визитов по дням в группе В\n",
    "visitors_cummulative_b = visitors_daily_b.apply(\n",
    "    lambda x: visitors_daily_b[visitors_daily_b['date'] <= x['date']].agg(\n",
    "        {'date': 'max', 'sum_visitors_b': 'sum'}\n",
    "    ), axis=1\n",
    ").sort_values('date')\n",
    "visitors_cummulative_b.columns = ['date', 'cummulative_visitors_b']\n",
    "visitors_cummulative_b"
   ]
  },
  {
   "cell_type": "code",
   "execution_count": 37,
   "id": "6aa75f1c",
   "metadata": {},
   "outputs": [
    {
     "data": {
      "text/html": [
       "<div>\n",
       "<style scoped>\n",
       "    .dataframe tbody tr th:only-of-type {\n",
       "        vertical-align: middle;\n",
       "    }\n",
       "\n",
       "    .dataframe tbody tr th {\n",
       "        vertical-align: top;\n",
       "    }\n",
       "\n",
       "    .dataframe thead th {\n",
       "        text-align: right;\n",
       "    }\n",
       "</style>\n",
       "<table border=\"1\" class=\"dataframe\">\n",
       "  <thead>\n",
       "    <tr style=\"text-align: right;\">\n",
       "      <th></th>\n",
       "      <th>date</th>\n",
       "      <th>sum_orders_a</th>\n",
       "      <th>sum_revenue_a</th>\n",
       "      <th>sum_orders_b</th>\n",
       "      <th>sum_revenue_b</th>\n",
       "      <th>cummulative_orders_a</th>\n",
       "      <th>cummulative_revenue_a</th>\n",
       "      <th>cummulative_orders_b</th>\n",
       "      <th>cummulative_revenue_b</th>\n",
       "      <th>sum_visitors_a</th>\n",
       "      <th>sum_visitors_b</th>\n",
       "      <th>cummulative_visitors_a</th>\n",
       "      <th>cummulative_visitors_b</th>\n",
       "    </tr>\n",
       "  </thead>\n",
       "  <tbody>\n",
       "    <tr>\n",
       "      <th>0</th>\n",
       "      <td>2019-08-01</td>\n",
       "      <td>23</td>\n",
       "      <td>142779</td>\n",
       "      <td>17</td>\n",
       "      <td>59758</td>\n",
       "      <td>23</td>\n",
       "      <td>142779</td>\n",
       "      <td>17</td>\n",
       "      <td>59758</td>\n",
       "      <td>719</td>\n",
       "      <td>719</td>\n",
       "      <td>719</td>\n",
       "      <td>719</td>\n",
       "    </tr>\n",
       "    <tr>\n",
       "      <th>1</th>\n",
       "      <td>2019-08-02</td>\n",
       "      <td>19</td>\n",
       "      <td>91602</td>\n",
       "      <td>23</td>\n",
       "      <td>162043</td>\n",
       "      <td>42</td>\n",
       "      <td>234381</td>\n",
       "      <td>40</td>\n",
       "      <td>221801</td>\n",
       "      <td>619</td>\n",
       "      <td>619</td>\n",
       "      <td>1338</td>\n",
       "      <td>1338</td>\n",
       "    </tr>\n",
       "    <tr>\n",
       "      <th>2</th>\n",
       "      <td>2019-08-03</td>\n",
       "      <td>24</td>\n",
       "      <td>112473</td>\n",
       "      <td>14</td>\n",
       "      <td>67049</td>\n",
       "      <td>66</td>\n",
       "      <td>346854</td>\n",
       "      <td>54</td>\n",
       "      <td>288850</td>\n",
       "      <td>507</td>\n",
       "      <td>507</td>\n",
       "      <td>1845</td>\n",
       "      <td>1845</td>\n",
       "    </tr>\n",
       "    <tr>\n",
       "      <th>3</th>\n",
       "      <td>2019-08-04</td>\n",
       "      <td>11</td>\n",
       "      <td>41176</td>\n",
       "      <td>14</td>\n",
       "      <td>96890</td>\n",
       "      <td>77</td>\n",
       "      <td>388030</td>\n",
       "      <td>68</td>\n",
       "      <td>385740</td>\n",
       "      <td>717</td>\n",
       "      <td>717</td>\n",
       "      <td>2562</td>\n",
       "      <td>2562</td>\n",
       "    </tr>\n",
       "    <tr>\n",
       "      <th>4</th>\n",
       "      <td>2019-08-05</td>\n",
       "      <td>22</td>\n",
       "      <td>86383</td>\n",
       "      <td>21</td>\n",
       "      <td>89908</td>\n",
       "      <td>99</td>\n",
       "      <td>474413</td>\n",
       "      <td>89</td>\n",
       "      <td>475648</td>\n",
       "      <td>756</td>\n",
       "      <td>756</td>\n",
       "      <td>3318</td>\n",
       "      <td>3318</td>\n",
       "    </tr>\n",
       "    <tr>\n",
       "      <th>5</th>\n",
       "      <td>2019-08-06</td>\n",
       "      <td>15</td>\n",
       "      <td>40919</td>\n",
       "      <td>23</td>\n",
       "      <td>214842</td>\n",
       "      <td>114</td>\n",
       "      <td>515332</td>\n",
       "      <td>112</td>\n",
       "      <td>690490</td>\n",
       "      <td>667</td>\n",
       "      <td>667</td>\n",
       "      <td>3985</td>\n",
       "      <td>3985</td>\n",
       "    </tr>\n",
       "    <tr>\n",
       "      <th>6</th>\n",
       "      <td>2019-08-07</td>\n",
       "      <td>16</td>\n",
       "      <td>123248</td>\n",
       "      <td>23</td>\n",
       "      <td>219164</td>\n",
       "      <td>130</td>\n",
       "      <td>638580</td>\n",
       "      <td>135</td>\n",
       "      <td>909654</td>\n",
       "      <td>644</td>\n",
       "      <td>644</td>\n",
       "      <td>4629</td>\n",
       "      <td>4629</td>\n",
       "    </tr>\n",
       "    <tr>\n",
       "      <th>7</th>\n",
       "      <td>2019-08-08</td>\n",
       "      <td>14</td>\n",
       "      <td>88639</td>\n",
       "      <td>22</td>\n",
       "      <td>150141</td>\n",
       "      <td>144</td>\n",
       "      <td>727219</td>\n",
       "      <td>157</td>\n",
       "      <td>1059795</td>\n",
       "      <td>610</td>\n",
       "      <td>610</td>\n",
       "      <td>5239</td>\n",
       "      <td>5239</td>\n",
       "    </tr>\n",
       "    <tr>\n",
       "      <th>8</th>\n",
       "      <td>2019-08-09</td>\n",
       "      <td>11</td>\n",
       "      <td>134237</td>\n",
       "      <td>19</td>\n",
       "      <td>103166</td>\n",
       "      <td>155</td>\n",
       "      <td>861456</td>\n",
       "      <td>176</td>\n",
       "      <td>1162961</td>\n",
       "      <td>617</td>\n",
       "      <td>617</td>\n",
       "      <td>5856</td>\n",
       "      <td>5856</td>\n",
       "    </tr>\n",
       "    <tr>\n",
       "      <th>9</th>\n",
       "      <td>2019-08-10</td>\n",
       "      <td>15</td>\n",
       "      <td>152275</td>\n",
       "      <td>22</td>\n",
       "      <td>105162</td>\n",
       "      <td>170</td>\n",
       "      <td>1013731</td>\n",
       "      <td>198</td>\n",
       "      <td>1268123</td>\n",
       "      <td>406</td>\n",
       "      <td>406</td>\n",
       "      <td>6262</td>\n",
       "      <td>6262</td>\n",
       "    </tr>\n",
       "    <tr>\n",
       "      <th>10</th>\n",
       "      <td>2019-08-11</td>\n",
       "      <td>11</td>\n",
       "      <td>60665</td>\n",
       "      <td>12</td>\n",
       "      <td>53060</td>\n",
       "      <td>181</td>\n",
       "      <td>1074396</td>\n",
       "      <td>210</td>\n",
       "      <td>1321183</td>\n",
       "      <td>718</td>\n",
       "      <td>718</td>\n",
       "      <td>6980</td>\n",
       "      <td>6980</td>\n",
       "    </tr>\n",
       "    <tr>\n",
       "      <th>11</th>\n",
       "      <td>2019-08-12</td>\n",
       "      <td>19</td>\n",
       "      <td>220392</td>\n",
       "      <td>19</td>\n",
       "      <td>104054</td>\n",
       "      <td>200</td>\n",
       "      <td>1294788</td>\n",
       "      <td>229</td>\n",
       "      <td>1425237</td>\n",
       "      <td>595</td>\n",
       "      <td>595</td>\n",
       "      <td>7575</td>\n",
       "      <td>7575</td>\n",
       "    </tr>\n",
       "    <tr>\n",
       "      <th>12</th>\n",
       "      <td>2019-08-13</td>\n",
       "      <td>14</td>\n",
       "      <td>263638</td>\n",
       "      <td>20</td>\n",
       "      <td>117691</td>\n",
       "      <td>214</td>\n",
       "      <td>1558426</td>\n",
       "      <td>249</td>\n",
       "      <td>1542928</td>\n",
       "      <td>748</td>\n",
       "      <td>748</td>\n",
       "      <td>8323</td>\n",
       "      <td>8323</td>\n",
       "    </tr>\n",
       "    <tr>\n",
       "      <th>13</th>\n",
       "      <td>2019-08-14</td>\n",
       "      <td>17</td>\n",
       "      <td>43266</td>\n",
       "      <td>14</td>\n",
       "      <td>107340</td>\n",
       "      <td>231</td>\n",
       "      <td>1601692</td>\n",
       "      <td>263</td>\n",
       "      <td>1650268</td>\n",
       "      <td>735</td>\n",
       "      <td>735</td>\n",
       "      <td>9058</td>\n",
       "      <td>9058</td>\n",
       "    </tr>\n",
       "    <tr>\n",
       "      <th>14</th>\n",
       "      <td>2019-08-15</td>\n",
       "      <td>10</td>\n",
       "      <td>80877</td>\n",
       "      <td>26</td>\n",
       "      <td>310159</td>\n",
       "      <td>241</td>\n",
       "      <td>1682569</td>\n",
       "      <td>289</td>\n",
       "      <td>1960427</td>\n",
       "      <td>628</td>\n",
       "      <td>628</td>\n",
       "      <td>9686</td>\n",
       "      <td>9686</td>\n",
       "    </tr>\n",
       "    <tr>\n",
       "      <th>15</th>\n",
       "      <td>2019-08-16</td>\n",
       "      <td>18</td>\n",
       "      <td>99851</td>\n",
       "      <td>18</td>\n",
       "      <td>114250</td>\n",
       "      <td>259</td>\n",
       "      <td>1782420</td>\n",
       "      <td>307</td>\n",
       "      <td>2074677</td>\n",
       "      <td>361</td>\n",
       "      <td>361</td>\n",
       "      <td>10047</td>\n",
       "      <td>10047</td>\n",
       "    </tr>\n",
       "    <tr>\n",
       "      <th>16</th>\n",
       "      <td>2019-08-17</td>\n",
       "      <td>6</td>\n",
       "      <td>34740</td>\n",
       "      <td>13</td>\n",
       "      <td>80865</td>\n",
       "      <td>265</td>\n",
       "      <td>1817160</td>\n",
       "      <td>320</td>\n",
       "      <td>2155542</td>\n",
       "      <td>412</td>\n",
       "      <td>412</td>\n",
       "      <td>10459</td>\n",
       "      <td>10459</td>\n",
       "    </tr>\n",
       "    <tr>\n",
       "      <th>17</th>\n",
       "      <td>2019-08-18</td>\n",
       "      <td>13</td>\n",
       "      <td>59581</td>\n",
       "      <td>7</td>\n",
       "      <td>35323</td>\n",
       "      <td>278</td>\n",
       "      <td>1876741</td>\n",
       "      <td>327</td>\n",
       "      <td>2190865</td>\n",
       "      <td>668</td>\n",
       "      <td>668</td>\n",
       "      <td>11127</td>\n",
       "      <td>11127</td>\n",
       "    </tr>\n",
       "    <tr>\n",
       "      <th>18</th>\n",
       "      <td>2019-08-19</td>\n",
       "      <td>21</td>\n",
       "      <td>168193</td>\n",
       "      <td>21</td>\n",
       "      <td>1429920</td>\n",
       "      <td>299</td>\n",
       "      <td>2044934</td>\n",
       "      <td>348</td>\n",
       "      <td>3620785</td>\n",
       "      <td>502</td>\n",
       "      <td>502</td>\n",
       "      <td>11629</td>\n",
       "      <td>11629</td>\n",
       "    </tr>\n",
       "    <tr>\n",
       "      <th>19</th>\n",
       "      <td>2019-08-20</td>\n",
       "      <td>10</td>\n",
       "      <td>58679</td>\n",
       "      <td>20</td>\n",
       "      <td>147274</td>\n",
       "      <td>309</td>\n",
       "      <td>2103613</td>\n",
       "      <td>368</td>\n",
       "      <td>3768059</td>\n",
       "      <td>575</td>\n",
       "      <td>575</td>\n",
       "      <td>12204</td>\n",
       "      <td>12204</td>\n",
       "    </tr>\n",
       "    <tr>\n",
       "      <th>20</th>\n",
       "      <td>2019-08-21</td>\n",
       "      <td>20</td>\n",
       "      <td>170169</td>\n",
       "      <td>12</td>\n",
       "      <td>140347</td>\n",
       "      <td>329</td>\n",
       "      <td>2273782</td>\n",
       "      <td>380</td>\n",
       "      <td>3908406</td>\n",
       "      <td>646</td>\n",
       "      <td>646</td>\n",
       "      <td>12850</td>\n",
       "      <td>12850</td>\n",
       "    </tr>\n",
       "    <tr>\n",
       "      <th>21</th>\n",
       "      <td>2019-08-22</td>\n",
       "      <td>10</td>\n",
       "      <td>92365</td>\n",
       "      <td>21</td>\n",
       "      <td>141728</td>\n",
       "      <td>339</td>\n",
       "      <td>2366147</td>\n",
       "      <td>401</td>\n",
       "      <td>4050134</td>\n",
       "      <td>609</td>\n",
       "      <td>609</td>\n",
       "      <td>13459</td>\n",
       "      <td>13459</td>\n",
       "    </tr>\n",
       "    <tr>\n",
       "      <th>22</th>\n",
       "      <td>2019-08-23</td>\n",
       "      <td>20</td>\n",
       "      <td>57863</td>\n",
       "      <td>13</td>\n",
       "      <td>77269</td>\n",
       "      <td>359</td>\n",
       "      <td>2424010</td>\n",
       "      <td>414</td>\n",
       "      <td>4127403</td>\n",
       "      <td>468</td>\n",
       "      <td>468</td>\n",
       "      <td>13927</td>\n",
       "      <td>13927</td>\n",
       "    </tr>\n",
       "    <tr>\n",
       "      <th>23</th>\n",
       "      <td>2019-08-24</td>\n",
       "      <td>13</td>\n",
       "      <td>122013</td>\n",
       "      <td>14</td>\n",
       "      <td>87866</td>\n",
       "      <td>372</td>\n",
       "      <td>2546023</td>\n",
       "      <td>428</td>\n",
       "      <td>4215269</td>\n",
       "      <td>395</td>\n",
       "      <td>395</td>\n",
       "      <td>14322</td>\n",
       "      <td>14322</td>\n",
       "    </tr>\n",
       "    <tr>\n",
       "      <th>24</th>\n",
       "      <td>2019-08-25</td>\n",
       "      <td>8</td>\n",
       "      <td>51884</td>\n",
       "      <td>12</td>\n",
       "      <td>79257</td>\n",
       "      <td>380</td>\n",
       "      <td>2597907</td>\n",
       "      <td>440</td>\n",
       "      <td>4294526</td>\n",
       "      <td>621</td>\n",
       "      <td>621</td>\n",
       "      <td>14943</td>\n",
       "      <td>14943</td>\n",
       "    </tr>\n",
       "    <tr>\n",
       "      <th>25</th>\n",
       "      <td>2019-08-26</td>\n",
       "      <td>16</td>\n",
       "      <td>157214</td>\n",
       "      <td>22</td>\n",
       "      <td>173439</td>\n",
       "      <td>396</td>\n",
       "      <td>2755121</td>\n",
       "      <td>462</td>\n",
       "      <td>4467965</td>\n",
       "      <td>722</td>\n",
       "      <td>722</td>\n",
       "      <td>15665</td>\n",
       "      <td>15665</td>\n",
       "    </tr>\n",
       "    <tr>\n",
       "      <th>26</th>\n",
       "      <td>2019-08-27</td>\n",
       "      <td>23</td>\n",
       "      <td>185350</td>\n",
       "      <td>11</td>\n",
       "      <td>111347</td>\n",
       "      <td>419</td>\n",
       "      <td>2940471</td>\n",
       "      <td>473</td>\n",
       "      <td>4579312</td>\n",
       "      <td>711</td>\n",
       "      <td>711</td>\n",
       "      <td>16376</td>\n",
       "      <td>16376</td>\n",
       "    </tr>\n",
       "    <tr>\n",
       "      <th>27</th>\n",
       "      <td>2019-08-28</td>\n",
       "      <td>15</td>\n",
       "      <td>96462</td>\n",
       "      <td>22</td>\n",
       "      <td>61198</td>\n",
       "      <td>434</td>\n",
       "      <td>3036933</td>\n",
       "      <td>495</td>\n",
       "      <td>4640510</td>\n",
       "      <td>594</td>\n",
       "      <td>594</td>\n",
       "      <td>16970</td>\n",
       "      <td>16970</td>\n",
       "    </tr>\n",
       "    <tr>\n",
       "      <th>28</th>\n",
       "      <td>2019-08-29</td>\n",
       "      <td>17</td>\n",
       "      <td>196300</td>\n",
       "      <td>15</td>\n",
       "      <td>106100</td>\n",
       "      <td>451</td>\n",
       "      <td>3233233</td>\n",
       "      <td>510</td>\n",
       "      <td>4746610</td>\n",
       "      <td>577</td>\n",
       "      <td>577</td>\n",
       "      <td>17547</td>\n",
       "      <td>17547</td>\n",
       "    </tr>\n",
       "    <tr>\n",
       "      <th>29</th>\n",
       "      <td>2019-08-30</td>\n",
       "      <td>9</td>\n",
       "      <td>78180</td>\n",
       "      <td>21</td>\n",
       "      <td>209223</td>\n",
       "      <td>460</td>\n",
       "      <td>3311413</td>\n",
       "      <td>531</td>\n",
       "      <td>4955833</td>\n",
       "      <td>490</td>\n",
       "      <td>490</td>\n",
       "      <td>18037</td>\n",
       "      <td>18037</td>\n",
       "    </tr>\n",
       "    <tr>\n",
       "      <th>30</th>\n",
       "      <td>2019-08-31</td>\n",
       "      <td>8</td>\n",
       "      <td>53243</td>\n",
       "      <td>17</td>\n",
       "      <td>113139</td>\n",
       "      <td>468</td>\n",
       "      <td>3364656</td>\n",
       "      <td>548</td>\n",
       "      <td>5068972</td>\n",
       "      <td>699</td>\n",
       "      <td>699</td>\n",
       "      <td>18736</td>\n",
       "      <td>18736</td>\n",
       "    </tr>\n",
       "  </tbody>\n",
       "</table>\n",
       "</div>"
      ],
      "text/plain": [
       "         date  sum_orders_a  sum_revenue_a  sum_orders_b  sum_revenue_b  \\\n",
       "0  2019-08-01            23         142779            17          59758   \n",
       "1  2019-08-02            19          91602            23         162043   \n",
       "2  2019-08-03            24         112473            14          67049   \n",
       "3  2019-08-04            11          41176            14          96890   \n",
       "4  2019-08-05            22          86383            21          89908   \n",
       "5  2019-08-06            15          40919            23         214842   \n",
       "6  2019-08-07            16         123248            23         219164   \n",
       "7  2019-08-08            14          88639            22         150141   \n",
       "8  2019-08-09            11         134237            19         103166   \n",
       "9  2019-08-10            15         152275            22         105162   \n",
       "10 2019-08-11            11          60665            12          53060   \n",
       "11 2019-08-12            19         220392            19         104054   \n",
       "12 2019-08-13            14         263638            20         117691   \n",
       "13 2019-08-14            17          43266            14         107340   \n",
       "14 2019-08-15            10          80877            26         310159   \n",
       "15 2019-08-16            18          99851            18         114250   \n",
       "16 2019-08-17             6          34740            13          80865   \n",
       "17 2019-08-18            13          59581             7          35323   \n",
       "18 2019-08-19            21         168193            21        1429920   \n",
       "19 2019-08-20            10          58679            20         147274   \n",
       "20 2019-08-21            20         170169            12         140347   \n",
       "21 2019-08-22            10          92365            21         141728   \n",
       "22 2019-08-23            20          57863            13          77269   \n",
       "23 2019-08-24            13         122013            14          87866   \n",
       "24 2019-08-25             8          51884            12          79257   \n",
       "25 2019-08-26            16         157214            22         173439   \n",
       "26 2019-08-27            23         185350            11         111347   \n",
       "27 2019-08-28            15          96462            22          61198   \n",
       "28 2019-08-29            17         196300            15         106100   \n",
       "29 2019-08-30             9          78180            21         209223   \n",
       "30 2019-08-31             8          53243            17         113139   \n",
       "\n",
       "    cummulative_orders_a  cummulative_revenue_a  cummulative_orders_b  \\\n",
       "0                     23                 142779                    17   \n",
       "1                     42                 234381                    40   \n",
       "2                     66                 346854                    54   \n",
       "3                     77                 388030                    68   \n",
       "4                     99                 474413                    89   \n",
       "5                    114                 515332                   112   \n",
       "6                    130                 638580                   135   \n",
       "7                    144                 727219                   157   \n",
       "8                    155                 861456                   176   \n",
       "9                    170                1013731                   198   \n",
       "10                   181                1074396                   210   \n",
       "11                   200                1294788                   229   \n",
       "12                   214                1558426                   249   \n",
       "13                   231                1601692                   263   \n",
       "14                   241                1682569                   289   \n",
       "15                   259                1782420                   307   \n",
       "16                   265                1817160                   320   \n",
       "17                   278                1876741                   327   \n",
       "18                   299                2044934                   348   \n",
       "19                   309                2103613                   368   \n",
       "20                   329                2273782                   380   \n",
       "21                   339                2366147                   401   \n",
       "22                   359                2424010                   414   \n",
       "23                   372                2546023                   428   \n",
       "24                   380                2597907                   440   \n",
       "25                   396                2755121                   462   \n",
       "26                   419                2940471                   473   \n",
       "27                   434                3036933                   495   \n",
       "28                   451                3233233                   510   \n",
       "29                   460                3311413                   531   \n",
       "30                   468                3364656                   548   \n",
       "\n",
       "    cummulative_revenue_b  sum_visitors_a  sum_visitors_b  \\\n",
       "0                   59758             719             719   \n",
       "1                  221801             619             619   \n",
       "2                  288850             507             507   \n",
       "3                  385740             717             717   \n",
       "4                  475648             756             756   \n",
       "5                  690490             667             667   \n",
       "6                  909654             644             644   \n",
       "7                 1059795             610             610   \n",
       "8                 1162961             617             617   \n",
       "9                 1268123             406             406   \n",
       "10                1321183             718             718   \n",
       "11                1425237             595             595   \n",
       "12                1542928             748             748   \n",
       "13                1650268             735             735   \n",
       "14                1960427             628             628   \n",
       "15                2074677             361             361   \n",
       "16                2155542             412             412   \n",
       "17                2190865             668             668   \n",
       "18                3620785             502             502   \n",
       "19                3768059             575             575   \n",
       "20                3908406             646             646   \n",
       "21                4050134             609             609   \n",
       "22                4127403             468             468   \n",
       "23                4215269             395             395   \n",
       "24                4294526             621             621   \n",
       "25                4467965             722             722   \n",
       "26                4579312             711             711   \n",
       "27                4640510             594             594   \n",
       "28                4746610             577             577   \n",
       "29                4955833             490             490   \n",
       "30                5068972             699             699   \n",
       "\n",
       "    cummulative_visitors_a  cummulative_visitors_b  \n",
       "0                      719                     719  \n",
       "1                     1338                    1338  \n",
       "2                     1845                    1845  \n",
       "3                     2562                    2562  \n",
       "4                     3318                    3318  \n",
       "5                     3985                    3985  \n",
       "6                     4629                    4629  \n",
       "7                     5239                    5239  \n",
       "8                     5856                    5856  \n",
       "9                     6262                    6262  \n",
       "10                    6980                    6980  \n",
       "11                    7575                    7575  \n",
       "12                    8323                    8323  \n",
       "13                    9058                    9058  \n",
       "14                    9686                    9686  \n",
       "15                   10047                   10047  \n",
       "16                   10459                   10459  \n",
       "17                   11127                   11127  \n",
       "18                   11629                   11629  \n",
       "19                   12204                   12204  \n",
       "20                   12850                   12850  \n",
       "21                   13459                   13459  \n",
       "22                   13927                   13927  \n",
       "23                   14322                   14322  \n",
       "24                   14943                   14943  \n",
       "25                   15665                   15665  \n",
       "26                   16376                   16376  \n",
       "27                   16970                   16970  \n",
       "28                   17547                   17547  \n",
       "29                   18037                   18037  \n",
       "30                   18736                   18736  "
      ]
     },
     "execution_count": 37,
     "metadata": {},
     "output_type": "execute_result"
    }
   ],
   "source": [
    "# объеденим данные в одну таблицу для дальнейшего исследования\n",
    "data = (\n",
    "    orders_daily_a.merge(\n",
    "    orders_daily_b, left_on='date', right_on='date', how='left'\n",
    "    )\n",
    "    .merge(orders_cummulative_a, left_on='date', right_on='date', how='left')\n",
    "    .merge(orders_cummulative_b, left_on='date', right_on='date', how='left')\n",
    "    .merge(visitors_daily_a, left_on='date', right_on='date', how='left')\n",
    "    .merge(visitors_daily_b, left_on='date', right_on='date', how='left')\n",
    "    .merge(visitors_cummulative_a, left_on='date', right_on='date', how='left')\n",
    "    .merge(visitors_cummulative_b, left_on='date', right_on='date', how='left')\n",
    ")\n",
    "data"
   ]
  },
  {
   "cell_type": "markdown",
   "id": "4f81b4e1",
   "metadata": {},
   "source": [
    "<a id='3.1-bullet'></a>\n",
    "### График кумулятивной выручки по группам"
   ]
  },
  {
   "cell_type": "markdown",
   "id": "0828b37d",
   "metadata": {},
   "source": [
    "Построим график кумулятивной выручки по группам."
   ]
  },
  {
   "cell_type": "code",
   "execution_count": 38,
   "id": "659bf0b5",
   "metadata": {},
   "outputs": [
    {
     "data": {
      "image/png": "[encoded data removed]",
      "text/plain": [
       "<Figure size 1400x600 with 1 Axes>"
      ]
     },
     "metadata": {},
     "output_type": "display_data"
    }
   ],
   "source": [
    "plt.figure(figsize=(14,6))\n",
    "\n",
    "# Строим график выручки группы А\n",
    "plt.plot(data['date'], data['cummulative_revenue_a']/1000, label='A')\n",
    "# Строим график выручки группы B\n",
    "plt.plot(data['date'], data['cummulative_revenue_b']/1000, label='B')\n",
    "plt.title('График кумулятивной выручки по группам')\n",
    "plt.xlabel('Дата')\n",
    "plt.ylabel('Выручка, тыс.рублей')\n",
    "plt.legend()\n",
    "plt.show()"
   ]
  },
  {
   "cell_type": "markdown",
   "id": "f05fc13b",
   "metadata": {},
   "source": [
    "Выручка растет по обоим группам на протяжении всего времени. По группе **В** 19 августа был совершен заказ на очень крупную сумму, и группа вырвалась вперед, далее графики шли паралельно."
   ]
  },
  {
   "cell_type": "markdown",
   "id": "cd487e76",
   "metadata": {},
   "source": [
    "<a id='3.2-bullet'></a>\n",
    "### График кумулятивного среднего чека по группам"
   ]
  },
  {
   "cell_type": "markdown",
   "id": "78a37fda",
   "metadata": {},
   "source": [
    "Построим график кумулятивного среднего чека по группам."
   ]
  },
  {
   "cell_type": "code",
   "execution_count": 39,
   "id": "28d137ba",
   "metadata": {},
   "outputs": [
    {
     "data": {
      "image/png": "[encoded data removed]",
      "text/plain": [
       "<Figure size 1400x600 with 1 Axes>"
      ]
     },
     "metadata": {},
     "output_type": "display_data"
    }
   ],
   "source": [
    "#строим график\n",
    "plt.figure(figsize=(14,6))\n",
    "plt.plot(data['date'], data['cummulative_revenue_a']/data['cummulative_orders_a'], label='A')\n",
    "plt.plot(data['date'], data['cummulative_revenue_b']/data['cummulative_orders_b'], label='B')\n",
    "plt.title('График кумулятивного среднего чека по группам')\n",
    "plt.xlabel('Дата')\n",
    "plt.ylabel('Средний чек, рублей')\n",
    "plt.legend()\n",
    "plt.show()"
   ]
  },
  {
   "cell_type": "markdown",
   "id": "bb0407b1",
   "metadata": {},
   "source": [
    "По группе **В** видим всплекс среднего чека, связан с заказом 19 августа на сумму 1294500, и далее идет снижение среднего чека по группе **В**. По группе А средний чек стабилизируется у отметки 7500 рублей."
   ]
  },
  {
   "cell_type": "markdown",
   "id": "dd73bb34",
   "metadata": {},
   "source": [
    "<a id='3.3-bullet'></a>\n",
    "### График относительного изменения кумулятивного среднего чека группы B к группе A"
   ]
  },
  {
   "cell_type": "markdown",
   "id": "4651d789",
   "metadata": {},
   "source": [
    "Построим график относительного изменения кумулятивного среднего чека группы B к группе A."
   ]
  },
  {
   "cell_type": "code",
   "execution_count": 40,
   "id": "24e576b5",
   "metadata": {},
   "outputs": [
    {
     "data": {
      "image/png": "[encoded data removed]",
      "text/plain": [
       "<Figure size 1400x600 with 1 Axes>"
      ]
     },
     "metadata": {},
     "output_type": "display_data"
    }
   ],
   "source": [
    "# cтроим отношение средних чеков\n",
    "plt.figure(figsize=(14,6))\n",
    "plt.plot(\n",
    "    data['date'], \n",
    "    (data['cummulative_revenue_b']/data['cummulative_orders_b']) / \n",
    "    (data['cummulative_revenue_a']/data['cummulative_orders_a']) - 1)\n",
    "plt.xlabel('Дата')\n",
    "plt.title('График относительного изменения кумулятивного среднего чека группы B к группе A')\n",
    "plt.axhline(y=0, color='black', linestyle='--')\n",
    "plt.axhline(y=0.25, color='black', linestyle='--');"
   ]
  },
  {
   "cell_type": "markdown",
   "id": "97e92a2e",
   "metadata": {},
   "source": [
    "В нескольких точках график резко скачет, свидетельствует о том, что там спрятались крупные заказы.Средний чек к концу исследования на 25% выше, чем в группе А."
   ]
  },
  {
   "cell_type": "markdown",
   "id": "1fb94e04",
   "metadata": {},
   "source": [
    "<a id='3.4-bullet'></a>\n",
    "### График кумулятивного среднего количества заказов на посетителя по группам"
   ]
  },
  {
   "cell_type": "markdown",
   "id": "5ce6d8c0",
   "metadata": {},
   "source": [
    "Построим график кумулятивного среднего количества заказов на посетителя по группам."
   ]
  },
  {
   "cell_type": "code",
   "execution_count": 41,
   "id": "22856537",
   "metadata": {},
   "outputs": [
    {
     "data": {
      "image/png": "[encoded data removed]",
      "text/plain": [
       "<Figure size 1400x600 with 1 Axes>"
      ]
     },
     "metadata": {},
     "output_type": "display_data"
    }
   ],
   "source": [
    "# строим графики\n",
    "plt.figure(figsize=(14,6))\n",
    "plt.plot(data['date'], data['cummulative_orders_a']/data['cummulative_visitors_a'], label='A')\n",
    "plt.plot(data['date'], data['cummulative_orders_b']/data['cummulative_visitors_b'], label='B')\n",
    "plt.title('График кумулятивного среднего количества заказов на посетителя по группам')\n",
    "plt.xlabel('Дата')\n",
    "plt.ylabel('Конверсия')\n",
    "plt.legend()\n",
    "plt.axhline(y=0.029, color='black', linestyle='--')\n",
    "plt.axhline(y=0.025, color='black', linestyle='--');\n",
    "plt.show()"
   ]
  },
  {
   "cell_type": "markdown",
   "id": "30e661c8",
   "metadata": {},
   "source": [
    "У группы **В** конверсия из посетилей в заказы выше, чему группы **А** на 0.4%."
   ]
  },
  {
   "cell_type": "markdown",
   "id": "f31ae54e",
   "metadata": {},
   "source": [
    "<a id='3.5-bullet'></a>\n",
    "### График относительного изменения кумулятивного среднего количества заказов на посетителя группы B к группе A"
   ]
  },
  {
   "cell_type": "markdown",
   "id": "bdc114ed",
   "metadata": {},
   "source": [
    "Построим график относительного изменения кумулятивного среднего количества заказов на посетителя группы B к группе A."
   ]
  },
  {
   "cell_type": "code",
   "execution_count": 42,
   "id": "e2ab0045",
   "metadata": {},
   "outputs": [
    {
     "data": {
      "image/png": "[encoded data removed]",
      "text/plain": [
       "<Figure size 1400x600 with 1 Axes>"
      ]
     },
     "metadata": {},
     "output_type": "display_data"
    }
   ],
   "source": [
    "# строим график\n",
    "plt.figure(figsize=(14,6))\n",
    "plt.plot(data['date'], \n",
    "         (data['cummulative_orders_b']/data['cummulative_visitors_b'])/\n",
    "         (data['cummulative_orders_a']/data['cummulative_visitors_a'])-1)\n",
    "plt.xlabel('Дата')\n",
    "plt.title('График относительного изменения кумулятивного среднего количества заказов на посетителя группы B к группе A')\n",
    "plt.axhline(y=0, color='black', linestyle='--')\n",
    "plt.axhline(y=0.2, color='grey', linestyle='--')\n",
    "plt.show();"
   ]
  },
  {
   "cell_type": "markdown",
   "id": "13eb3fd5",
   "metadata": {},
   "source": [
    "Группа **В** в начале теста вырвалась вперед по конверсии из посетителей в заказы, затем было небольшое понижением ближе к концу теста и в конце теста снова наметилась тенденция к росту."
   ]
  },
  {
   "cell_type": "markdown",
   "id": "cc665915",
   "metadata": {},
   "source": [
    "<a id='3.6-bullet'></a>\n",
    "### Точечный график количества заказов по пользователям"
   ]
  },
  {
   "cell_type": "markdown",
   "id": "c69d56e6",
   "metadata": {},
   "source": [
    "Построим точечный график количества заказов по пользователям."
   ]
  },
  {
   "cell_type": "code",
   "execution_count": 43,
   "id": "6d30848e",
   "metadata": {},
   "outputs": [
    {
     "data": {
      "text/html": [
       "<div>\n",
       "<style scoped>\n",
       "    .dataframe tbody tr th:only-of-type {\n",
       "        vertical-align: middle;\n",
       "    }\n",
       "\n",
       "    .dataframe tbody tr th {\n",
       "        vertical-align: top;\n",
       "    }\n",
       "\n",
       "    .dataframe thead th {\n",
       "        text-align: right;\n",
       "    }\n",
       "</style>\n",
       "<table border=\"1\" class=\"dataframe\">\n",
       "  <thead>\n",
       "    <tr style=\"text-align: right;\">\n",
       "      <th></th>\n",
       "      <th>visitor_id</th>\n",
       "      <th>orders</th>\n",
       "      <th>group</th>\n",
       "    </tr>\n",
       "  </thead>\n",
       "  <tbody>\n",
       "    <tr>\n",
       "      <th>908</th>\n",
       "      <td>3967698036</td>\n",
       "      <td>3</td>\n",
       "      <td>A</td>\n",
       "    </tr>\n",
       "    <tr>\n",
       "      <th>55</th>\n",
       "      <td>249864742</td>\n",
       "      <td>3</td>\n",
       "      <td>B</td>\n",
       "    </tr>\n",
       "    <tr>\n",
       "      <th>478</th>\n",
       "      <td>2108163459</td>\n",
       "      <td>3</td>\n",
       "      <td>A</td>\n",
       "    </tr>\n",
       "    <tr>\n",
       "      <th>687</th>\n",
       "      <td>2988190573</td>\n",
       "      <td>3</td>\n",
       "      <td>A</td>\n",
       "    </tr>\n",
       "    <tr>\n",
       "      <th>890</th>\n",
       "      <td>3908431265</td>\n",
       "      <td>3</td>\n",
       "      <td>A</td>\n",
       "    </tr>\n",
       "    <tr>\n",
       "      <th>138</th>\n",
       "      <td>611059232</td>\n",
       "      <td>3</td>\n",
       "      <td>A</td>\n",
       "    </tr>\n",
       "    <tr>\n",
       "      <th>632</th>\n",
       "      <td>2742574263</td>\n",
       "      <td>3</td>\n",
       "      <td>B</td>\n",
       "    </tr>\n",
       "    <tr>\n",
       "      <th>157</th>\n",
       "      <td>678354126</td>\n",
       "      <td>2</td>\n",
       "      <td>A</td>\n",
       "    </tr>\n",
       "    <tr>\n",
       "      <th>323</th>\n",
       "      <td>1404560065</td>\n",
       "      <td>2</td>\n",
       "      <td>B</td>\n",
       "    </tr>\n",
       "    <tr>\n",
       "      <th>452</th>\n",
       "      <td>1985475298</td>\n",
       "      <td>2</td>\n",
       "      <td>B</td>\n",
       "    </tr>\n",
       "  </tbody>\n",
       "</table>\n",
       "</div>"
      ],
      "text/plain": [
       "     visitor_id  orders group\n",
       "908  3967698036       3     A\n",
       "55    249864742       3     B\n",
       "478  2108163459       3     A\n",
       "687  2988190573       3     A\n",
       "890  3908431265       3     A\n",
       "138   611059232       3     A\n",
       "632  2742574263       3     B\n",
       "157   678354126       2     A\n",
       "323  1404560065       2     B\n",
       "452  1985475298       2     B"
      ]
     },
     "execution_count": 43,
     "metadata": {},
     "output_type": "execute_result"
    }
   ],
   "source": [
    "# сгруппируем заказы по пользователям\n",
    "orders_users = (\n",
    "    orders.groupby('visitor_id', as_index=False)\n",
    "    .agg({'transaction_id': 'nunique', 'group': 'max'})\n",
    ")\n",
    "orders_users.columns = ['visitor_id', 'orders', 'group']\n",
    "orders_users.sort_values(by='orders', ascending=False).head(10)"
   ]
  },
  {
   "cell_type": "code",
   "execution_count": 44,
   "id": "109553d5",
   "metadata": {
    "scrolled": false
   },
   "outputs": [
    {
     "data": {
      "text/plain": [
       "count    973.000000\n",
       "mean       1.044193\n",
       "std        0.238090\n",
       "min        1.000000\n",
       "25%        1.000000\n",
       "50%        1.000000\n",
       "75%        1.000000\n",
       "max        3.000000\n",
       "Name: orders, dtype: float64"
      ]
     },
     "execution_count": 44,
     "metadata": {},
     "output_type": "execute_result"
    }
   ],
   "source": [
    "orders_users['orders'].describe() # статистика по количеству заказов"
   ]
  },
  {
   "cell_type": "code",
   "execution_count": 45,
   "id": "4f6cef7c",
   "metadata": {},
   "outputs": [
    {
     "data": {
      "image/png": "[encoded data removed]",
      "text/plain": [
       "<Figure size 1400x600 with 1 Axes>"
      ]
     },
     "metadata": {},
     "output_type": "display_data"
    }
   ],
   "source": [
    "# серия из чисел от 0 до количества наблюдений в orders_users\n",
    "x_values = pd.Series(range(0, len(orders_users)))\n",
    "plt.figure(figsize=(14,6))\n",
    "plt.scatter(x_values, orders_users['orders'])\n",
    "plt.xlabel('Число наблюдений')\n",
    "plt.ylabel('Количество заказов')\n",
    "plt.title('Точечный график количества заказов по пользователям')\n",
    "plt.show;"
   ]
  },
  {
   "cell_type": "markdown",
   "id": "fa96be2d",
   "metadata": {},
   "source": [
    "Большинство пользователей делали не более 2 заказов. Среднее и медиана 1 заказ на пользователя."
   ]
  },
  {
   "cell_type": "markdown",
   "id": "b7f1df36",
   "metadata": {},
   "source": [
    "<a id='3.7-bullet'></a>\n",
    "### Выбор границы для определения аномальных пользователей"
   ]
  },
  {
   "cell_type": "markdown",
   "id": "8040276d",
   "metadata": {},
   "source": [
    "Посчитаем 95-й и 99-й перцентили количества заказов на пользователя. Выберем границу для определения аномальных пользователей."
   ]
  },
  {
   "cell_type": "code",
   "execution_count": 46,
   "id": "a6a87981",
   "metadata": {},
   "outputs": [
    {
     "name": "stdout",
     "output_type": "stream",
     "text": [
      "[1. 2.]\n"
     ]
    }
   ],
   "source": [
    "print(np.percentile(orders_users['orders'], [95, 99]))"
   ]
  },
  {
   "cell_type": "markdown",
   "id": "94384ec9",
   "metadata": {},
   "source": [
    "99% пользователей делали не более 2 заказов. Выберем 2 заказа как границу, выше будем считать как аномальные значения."
   ]
  },
  {
   "cell_type": "markdown",
   "id": "e0088164",
   "metadata": {},
   "source": [
    "<a id='3.8-bullet'></a>\n",
    "### Точечный график стоимостей заказов"
   ]
  },
  {
   "cell_type": "markdown",
   "id": "d1282602",
   "metadata": {},
   "source": [
    "Построим точечный график стоимостей заказов."
   ]
  },
  {
   "cell_type": "code",
   "execution_count": 47,
   "id": "3c72f5b1",
   "metadata": {},
   "outputs": [
    {
     "data": {
      "image/png": "[encoded data removed]",
      "text/plain": [
       "<Figure size 1400x600 with 1 Axes>"
      ]
     },
     "metadata": {},
     "output_type": "display_data"
    }
   ],
   "source": [
    "x_values = pd.Series(range(0, len(orders['revenue']/1000)))\n",
    "plt.figure(figsize=(14,6))\n",
    "plt.scatter(x_values, orders['revenue']/1000)\n",
    "plt.xlabel('Число наблюдений')\n",
    "plt.ylabel('Стоимость заказа, тыс.руб')\n",
    "plt.title('Точечный график стоимостей заказов')\n",
    "plt.axhline(y=54, color='grey', linestyle='--')\n",
    "plt.show();"
   ]
  },
  {
   "cell_type": "markdown",
   "id": "87e73bde",
   "metadata": {},
   "source": [
    "Большинсво заказов не более 54 тыс.рублей."
   ]
  },
  {
   "cell_type": "markdown",
   "id": "48883b26",
   "metadata": {},
   "source": [
    "<a id='3.9-bullet'></a>\n",
    "### Выбор границы для определения аномальных заказов"
   ]
  },
  {
   "cell_type": "markdown",
   "id": "9aab172c",
   "metadata": {},
   "source": [
    "Посчитаем 95-й и 99-й перцентили стоимости заказов. Выберем границу для определения аномальных заказов."
   ]
  },
  {
   "cell_type": "code",
   "execution_count": 48,
   "id": "aa033621",
   "metadata": {},
   "outputs": [
    {
     "name": "stdout",
     "output_type": "stream",
     "text": [
      "[26785. 53904.]\n"
     ]
    }
   ],
   "source": [
    "print(np.percentile(orders['revenue'], [95, 99]))"
   ]
  },
  {
   "cell_type": "markdown",
   "id": "41e2ba37",
   "metadata": {},
   "source": [
    "99% стоимости заказов не превышают 53904 тыс.рублей. Выберем эту стоимость как границу, выше будем считать как аномальные значения."
   ]
  },
  {
   "cell_type": "markdown",
   "id": "52c89b87",
   "metadata": {},
   "source": [
    "<a id='3.10-bullet'></a>\n",
    "### Статистическая значимость различий в среднем количестве заказов на посетителя между группами по «сырым» данным"
   ]
  },
  {
   "cell_type": "markdown",
   "id": "528fe802",
   "metadata": {},
   "source": [
    "Посчитаем статистическую значимость различий в среднем числе заказов на пользователя и среднем чеке между группами по «сырым» данным — без удаления аномальных пользователей.\n",
    "\n",
    "Сформулируем гипотезы. Нулевая: различий в среднем количестве заказов между группами нет. Альтернативная: различия в среднем между группами есть."
   ]
  },
  {
   "cell_type": "markdown",
   "id": "d77ad6ae",
   "metadata": {},
   "source": [
    "Создадим переменные orders_users_a и orders_users_b со столбцами ['visitor_id', 'orders']. В них для пользователей, которые заказывали хотя бы 1 раз, укажем число совершённых заказов"
   ]
  },
  {
   "cell_type": "code",
   "execution_count": 49,
   "id": "0fb3a5b0",
   "metadata": {},
   "outputs": [
    {
     "data": {
      "text/html": [
       "<div>\n",
       "<style scoped>\n",
       "    .dataframe tbody tr th:only-of-type {\n",
       "        vertical-align: middle;\n",
       "    }\n",
       "\n",
       "    .dataframe tbody tr th {\n",
       "        vertical-align: top;\n",
       "    }\n",
       "\n",
       "    .dataframe thead th {\n",
       "        text-align: right;\n",
       "    }\n",
       "</style>\n",
       "<table border=\"1\" class=\"dataframe\">\n",
       "  <thead>\n",
       "    <tr style=\"text-align: right;\">\n",
       "      <th></th>\n",
       "      <th>visitor_id</th>\n",
       "      <th>orders</th>\n",
       "    </tr>\n",
       "  </thead>\n",
       "  <tbody>\n",
       "    <tr>\n",
       "      <th>2</th>\n",
       "      <td>11685486</td>\n",
       "      <td>1</td>\n",
       "    </tr>\n",
       "    <tr>\n",
       "      <th>6</th>\n",
       "      <td>54447517</td>\n",
       "      <td>1</td>\n",
       "    </tr>\n",
       "    <tr>\n",
       "      <th>8</th>\n",
       "      <td>66685450</td>\n",
       "      <td>1</td>\n",
       "    </tr>\n",
       "    <tr>\n",
       "      <th>11</th>\n",
       "      <td>78758296</td>\n",
       "      <td>1</td>\n",
       "    </tr>\n",
       "    <tr>\n",
       "      <th>12</th>\n",
       "      <td>85103373</td>\n",
       "      <td>1</td>\n",
       "    </tr>\n",
       "    <tr>\n",
       "      <th>...</th>\n",
       "      <td>...</td>\n",
       "      <td>...</td>\n",
       "    </tr>\n",
       "    <tr>\n",
       "      <th>960</th>\n",
       "      <td>4227830084</td>\n",
       "      <td>1</td>\n",
       "    </tr>\n",
       "    <tr>\n",
       "      <th>963</th>\n",
       "      <td>4237561104</td>\n",
       "      <td>1</td>\n",
       "    </tr>\n",
       "    <tr>\n",
       "      <th>964</th>\n",
       "      <td>4243832526</td>\n",
       "      <td>1</td>\n",
       "    </tr>\n",
       "    <tr>\n",
       "      <th>968</th>\n",
       "      <td>4259830713</td>\n",
       "      <td>1</td>\n",
       "    </tr>\n",
       "    <tr>\n",
       "      <th>969</th>\n",
       "      <td>4278982564</td>\n",
       "      <td>1</td>\n",
       "    </tr>\n",
       "  </tbody>\n",
       "</table>\n",
       "<p>445 rows × 2 columns</p>\n",
       "</div>"
      ],
      "text/plain": [
       "     visitor_id  orders\n",
       "2      11685486       1\n",
       "6      54447517       1\n",
       "8      66685450       1\n",
       "11     78758296       1\n",
       "12     85103373       1\n",
       "..          ...     ...\n",
       "960  4227830084       1\n",
       "963  4237561104       1\n",
       "964  4243832526       1\n",
       "968  4259830713       1\n",
       "969  4278982564       1\n",
       "\n",
       "[445 rows x 2 columns]"
      ]
     },
     "execution_count": 49,
     "metadata": {},
     "output_type": "execute_result"
    }
   ],
   "source": [
    "# выделили пользователей, которые совершили хотя бы 1 заказ в группе А\n",
    "orders_users_a = orders_users[orders_users['group'] == 'A'][['visitor_id', 'orders']]\n",
    "orders_users_a"
   ]
  },
  {
   "cell_type": "code",
   "execution_count": 50,
   "id": "79a7726e",
   "metadata": {},
   "outputs": [
    {
     "data": {
      "text/html": [
       "<div>\n",
       "<style scoped>\n",
       "    .dataframe tbody tr th:only-of-type {\n",
       "        vertical-align: middle;\n",
       "    }\n",
       "\n",
       "    .dataframe tbody tr th {\n",
       "        vertical-align: top;\n",
       "    }\n",
       "\n",
       "    .dataframe thead th {\n",
       "        text-align: right;\n",
       "    }\n",
       "</style>\n",
       "<table border=\"1\" class=\"dataframe\">\n",
       "  <thead>\n",
       "    <tr style=\"text-align: right;\">\n",
       "      <th></th>\n",
       "      <th>visitor_id</th>\n",
       "      <th>orders</th>\n",
       "    </tr>\n",
       "  </thead>\n",
       "  <tbody>\n",
       "    <tr>\n",
       "      <th>0</th>\n",
       "      <td>5114589</td>\n",
       "      <td>1</td>\n",
       "    </tr>\n",
       "    <tr>\n",
       "      <th>1</th>\n",
       "      <td>6958315</td>\n",
       "      <td>1</td>\n",
       "    </tr>\n",
       "    <tr>\n",
       "      <th>3</th>\n",
       "      <td>39475350</td>\n",
       "      <td>1</td>\n",
       "    </tr>\n",
       "    <tr>\n",
       "      <th>4</th>\n",
       "      <td>47206413</td>\n",
       "      <td>1</td>\n",
       "    </tr>\n",
       "    <tr>\n",
       "      <th>5</th>\n",
       "      <td>48147722</td>\n",
       "      <td>1</td>\n",
       "    </tr>\n",
       "    <tr>\n",
       "      <th>...</th>\n",
       "      <td>...</td>\n",
       "      <td>...</td>\n",
       "    </tr>\n",
       "    <tr>\n",
       "      <th>966</th>\n",
       "      <td>4251115836</td>\n",
       "      <td>1</td>\n",
       "    </tr>\n",
       "    <tr>\n",
       "      <th>967</th>\n",
       "      <td>4258103007</td>\n",
       "      <td>1</td>\n",
       "    </tr>\n",
       "    <tr>\n",
       "      <th>970</th>\n",
       "      <td>4279090005</td>\n",
       "      <td>1</td>\n",
       "    </tr>\n",
       "    <tr>\n",
       "      <th>971</th>\n",
       "      <td>4281247801</td>\n",
       "      <td>1</td>\n",
       "    </tr>\n",
       "    <tr>\n",
       "      <th>972</th>\n",
       "      <td>4283872382</td>\n",
       "      <td>1</td>\n",
       "    </tr>\n",
       "  </tbody>\n",
       "</table>\n",
       "<p>528 rows × 2 columns</p>\n",
       "</div>"
      ],
      "text/plain": [
       "     visitor_id  orders\n",
       "0       5114589       1\n",
       "1       6958315       1\n",
       "3      39475350       1\n",
       "4      47206413       1\n",
       "5      48147722       1\n",
       "..          ...     ...\n",
       "966  4251115836       1\n",
       "967  4258103007       1\n",
       "970  4279090005       1\n",
       "971  4281247801       1\n",
       "972  4283872382       1\n",
       "\n",
       "[528 rows x 2 columns]"
      ]
     },
     "execution_count": 50,
     "metadata": {},
     "output_type": "execute_result"
    }
   ],
   "source": [
    "# выделили пользователей, которые совершили хотя бы 1 заказ в группе В\n",
    "orders_users_b = orders_users[orders_users['group'] == 'B'][['visitor_id', 'orders']]\n",
    "orders_users_b"
   ]
  },
  {
   "cell_type": "markdown",
   "id": "0aeadd9c",
   "metadata": {},
   "source": [
    "Объявим переменные sample_a и sample_b, в которых пользователям из разных групп будет соответствовать количество заказов. Тем, кто ничего не заказал, будут соответствовать нули. Это нужно, чтобы подготовить выборки к проверке критерием Манна-Уитни"
   ]
  },
  {
   "cell_type": "code",
   "execution_count": 51,
   "id": "a0e5867d",
   "metadata": {},
   "outputs": [
    {
     "data": {
      "text/plain": [
       "2     1\n",
       "6     1\n",
       "8     1\n",
       "11    1\n",
       "12    1\n",
       "Name: orders, dtype: int64"
      ]
     },
     "execution_count": 51,
     "metadata": {},
     "output_type": "execute_result"
    }
   ],
   "source": [
    "sample_a = pd.concat(\n",
    "    [orders_users_a['orders'],\n",
    "     pd.Series(0, index=np.arange(data['sum_visitors_a'].sum() - len(orders_users_a['orders'])), \n",
    "               name='orders')], axis=0)\n",
    "sample_a.head()"
   ]
  },
  {
   "cell_type": "code",
   "execution_count": 52,
   "id": "3b905801",
   "metadata": {},
   "outputs": [
    {
     "data": {
      "text/plain": [
       "0    1\n",
       "1    1\n",
       "3    1\n",
       "4    1\n",
       "5    1\n",
       "Name: orders, dtype: int64"
      ]
     },
     "execution_count": 52,
     "metadata": {},
     "output_type": "execute_result"
    }
   ],
   "source": [
    "sample_b = pd.concat(\n",
    "    [orders_users_b['orders'],\n",
    "     pd.Series(0, index=np.arange(data['sum_visitors_b'].sum() - len(orders_users_b['orders'])), \n",
    "                name='orders')],axis=0)\n",
    "sample_b.head()"
   ]
  },
  {
   "cell_type": "code",
   "execution_count": 53,
   "id": "e1f85c2f",
   "metadata": {},
   "outputs": [
    {
     "name": "stdout",
     "output_type": "stream",
     "text": [
      "p-value - 0.007\n"
     ]
    }
   ],
   "source": [
    "#Применим критерий Манна-Уитни и отформатируем p-value, округлив его до трёх знаков после запятой\n",
    "print(\"p-value - {0:.3f}\".format(st.mannwhitneyu(sample_a, sample_b)[1]))"
   ]
  },
  {
   "cell_type": "code",
   "execution_count": 54,
   "id": "fbebf216",
   "metadata": {},
   "outputs": [
    {
     "name": "stdout",
     "output_type": "stream",
     "text": [
      "Относительный прирост среднего числа заказов группы B - 0.171\n"
     ]
    }
   ],
   "source": [
    "#Выведем относительный прирост среднего числа заказов группы B: \n",
    "# среднее число заказов группы B / среднее число заказов группы A - 1.  Округлим до трёх знаков после запятой.\n",
    "print(\"Относительный прирост среднего числа заказов группы B - {0:.3f}\".format(sample_b.mean() / sample_a.mean() - 1))"
   ]
  },
  {
   "cell_type": "markdown",
   "id": "468bf90b",
   "metadata": {},
   "source": [
    "По «сырым» данным есть различия в среднем числе заказов групп A и B. \n",
    "P-value = 0.007 меньше 0.05. Значит, нулевую гипотезу о том, что статистически значимых различий в среднем числе заказов между группами нет, отвергаем. Относительный выйгрыш группы B равен 17.1%."
   ]
  },
  {
   "cell_type": "markdown",
   "id": "ac2cace7",
   "metadata": {},
   "source": [
    "<a id='3.11-bullet'></a>\n",
    "### Статистическая значимость различий в среднем чеке заказа между группами по «сырым» данным"
   ]
  },
  {
   "cell_type": "markdown",
   "id": "f8e4db23",
   "metadata": {},
   "source": [
    "Посчитаем статистическую значимость различий в среднем чеке заказа между группами по «сырым» данным.\n",
    "\n",
    "Нулевая гипотеза: различий в среднем чеке между группами нет. Альтернативная гипотеза: различия в среднем чеке между группами есть. \n",
    "Чтобы рассчитать статистическую значимость различий в среднем чеке, передадим критерию mannwhitneyu() данные о выручке с заказов. "
   ]
  },
  {
   "cell_type": "code",
   "execution_count": 55,
   "id": "1ebd31f2",
   "metadata": {},
   "outputs": [
    {
     "name": "stdout",
     "output_type": "stream",
     "text": [
      "P-value-0.829\n"
     ]
    }
   ],
   "source": [
    "#Применим критерий Манна-Уитни и отформатируем p-value, округлив его до трёх знаков после запятой\n",
    "print('P-value-{0:.3f}'.format(\n",
    "    st.mannwhitneyu(orders[orders['group']=='A']['revenue'], \n",
    "                    orders[orders['group']=='B']['revenue'])[1]))\n"
   ]
  },
  {
   "cell_type": "code",
   "execution_count": 56,
   "id": "95d78efb",
   "metadata": {},
   "outputs": [
    {
     "name": "stdout",
     "output_type": "stream",
     "text": [
      "0.287\n"
     ]
    }
   ],
   "source": [
    "# относительные различия в среднем чеке между группами\n",
    "print('{0:.3f}'.format(orders[orders['group']=='B']['revenue'].mean()/orders[orders['group']=='A']['revenue'].mean()-1))"
   ]
  },
  {
   "cell_type": "markdown",
   "id": "417546ce",
   "metadata": {},
   "source": [
    "P-value значительно больше 0.05. Значит, причин отвергать нулевую гипотезу и считать, что в среднем чеке есть различия, нет. Впрочем, средний чек группы B значительно выше среднего чека группы A на 28.7%. Может быть связан с аномально большим заказом."
   ]
  },
  {
   "cell_type": "markdown",
   "id": "96148bd3",
   "metadata": {},
   "source": [
    "<a id='3.12-bullet'></a>\n",
    "### Статистическая значимость различий в среднем количестве заказов на посетителя между группами по «очищенным» данным"
   ]
  },
  {
   "cell_type": "markdown",
   "id": "9120ad82",
   "metadata": {},
   "source": [
    "Посчитаем статистическую значимость различий в среднем количестве заказов на посетителя между группами по «очищенным» данным."
   ]
  },
  {
   "cell_type": "markdown",
   "id": "c7991ed0",
   "metadata": {},
   "source": [
    "Примем за аномальных пользователей тех, кто совершил от 2 заказов или совершил заказ дороже 53904 рублей. Так мы уберём 1% пользователей с наибольшим числом заказов и до 1% пользователей с дорогими заказами. Сделаем срезы пользователей с числом заказов больше 2 — users_many_orders и пользователей, совершивших заказы дороже 53904 — users_expensive_orders. Объединим их в таблице abnormal_users. \n",
    "Узнаем, сколько всего аномальных пользователей атрибутом shape."
   ]
  },
  {
   "cell_type": "code",
   "execution_count": 57,
   "id": "3abc3dd2",
   "metadata": {},
   "outputs": [
    {
     "data": {
      "text/plain": [
       "138     611059232\n",
       "478    2108163459\n",
       "687    2988190573\n",
       "890    3908431265\n",
       "908    3967698036\n",
       "Name: visitor_id, dtype: int64"
      ]
     },
     "execution_count": 57,
     "metadata": {},
     "output_type": "execute_result"
    }
   ],
   "source": [
    "# пользователи с числом заказов болеше 99 процентиля\n",
    "users_many_orders = pd.concat(\n",
    "    [\n",
    "        orders_users_a[orders_users_a['orders'] > 2]['visitor_id'],\n",
    "        orders_users_b[orders_users_b['orders'] > 2]['visitor_id'],\n",
    "    ],\n",
    "    axis=0,\n",
    ")\n",
    "users_many_orders.head()"
   ]
  },
  {
   "cell_type": "code",
   "execution_count": 58,
   "id": "01533181",
   "metadata": {},
   "outputs": [
    {
     "data": {
      "text/plain": [
       "425    1920142716\n",
       "743    4133034833\n",
       "744     888512513\n",
       "940    4003628586\n",
       "949     887908475\n",
       "Name: visitor_id, dtype: int64"
      ]
     },
     "execution_count": 58,
     "metadata": {},
     "output_type": "execute_result"
    }
   ],
   "source": [
    "# пользователи с суммой заказа больше 99 процентиля\n",
    "users_expensive_orders = orders[orders['revenue'] > 53904]['visitor_id']\n",
    "users_expensive_orders.head()"
   ]
  },
  {
   "cell_type": "code",
   "execution_count": 59,
   "id": "fa557208",
   "metadata": {},
   "outputs": [
    {
     "data": {
      "text/plain": [
       "1099    148427295\n",
       "55      249864742\n",
       "138     611059232\n",
       "949     887908475\n",
       "744     888512513\n",
       "Name: visitor_id, dtype: int64"
      ]
     },
     "execution_count": 59,
     "metadata": {},
     "output_type": "execute_result"
    }
   ],
   "source": [
    "# список аномальных пользователей\n",
    "abnormal_users = (\n",
    "    pd.concat([users_many_orders, users_expensive_orders], axis=0)\n",
    "    .drop_duplicates()\n",
    "    .sort_values()\n",
    ")\n",
    "abnormal_users.head()"
   ]
  },
  {
   "cell_type": "code",
   "execution_count": 60,
   "id": "c1b5d76d",
   "metadata": {},
   "outputs": [
    {
     "data": {
      "text/plain": [
       "16"
      ]
     },
     "execution_count": 60,
     "metadata": {},
     "output_type": "execute_result"
    }
   ],
   "source": [
    "#аномальные пользователи - количество\n",
    "abnormal_users.shape[0]"
   ]
  },
  {
   "cell_type": "code",
   "execution_count": 61,
   "id": "33a3177c",
   "metadata": {},
   "outputs": [
    {
     "data": {
      "text/plain": [
       "2     1\n",
       "6     1\n",
       "8     1\n",
       "11    1\n",
       "12    1\n",
       "Name: orders, dtype: int64"
      ]
     },
     "execution_count": 61,
     "metadata": {},
     "output_type": "execute_result"
    }
   ],
   "source": [
    "# пользователи из группы А по фильтрованным данным\n",
    "sample_filtered_a = pd.concat(\n",
    "    [orders_users_a[np.logical_not(orders_users_a['visitor_id'].isin(abnormal_users))]['orders'],\n",
    "        pd.Series(0, index=np.arange(data['sum_visitors_a'].sum() - len(orders_users_a['orders'])), name='orders')],\n",
    "    axis=0,\n",
    ")\n",
    "sample_filtered_a.head()"
   ]
  },
  {
   "cell_type": "code",
   "execution_count": 62,
   "id": "6dae6a30",
   "metadata": {},
   "outputs": [
    {
     "data": {
      "text/plain": [
       "0    1\n",
       "1    1\n",
       "3    1\n",
       "4    1\n",
       "5    1\n",
       "Name: orders, dtype: int64"
      ]
     },
     "execution_count": 62,
     "metadata": {},
     "output_type": "execute_result"
    }
   ],
   "source": [
    "# пользователи из группы В по фильрованным данным\n",
    "sample_filtered_b = pd.concat(\n",
    "    [orders_users_b[np.logical_not(orders_users_b['visitor_id'].isin(abnormal_users))]['orders'],\n",
    "        pd.Series(0, index=np.arange(data['sum_visitors_b'].sum() - len(orders_users_b['orders'])),name='orders')],\n",
    "    axis=0,\n",
    ")\n",
    "sample_filtered_b.head()"
   ]
  },
  {
   "cell_type": "code",
   "execution_count": 63,
   "id": "67e05cb3",
   "metadata": {},
   "outputs": [
    {
     "name": "stdout",
     "output_type": "stream",
     "text": [
      "P-value - 0.004\n"
     ]
    }
   ],
   "source": [
    "#Применим критерий Манна-Уитни и отформатируем p-value, округлив его до трёх знаков после запятой\n",
    "print('P-value - {0:.3f}'.format(st.mannwhitneyu(sample_filtered_a, sample_filtered_b)[1]))\n",
    " "
   ]
  },
  {
   "cell_type": "code",
   "execution_count": 64,
   "id": "334c0cf6",
   "metadata": {},
   "outputs": [
    {
     "name": "stdout",
     "output_type": "stream",
     "text": [
      "Относительный прирост среднего числа заказов группы B - 0.201\n"
     ]
    }
   ],
   "source": [
    "print('Относительный прирост среднего числа заказов группы B - {0:.3f}'.format(\n",
    "    sample_filtered_b.mean()/sample_filtered_a.mean()-1))"
   ]
  },
  {
   "cell_type": "markdown",
   "id": "d0537af3",
   "metadata": {},
   "source": [
    "По «очищенным» данным также есть различия в среднем числе заказов групп A и B. \n",
    "P-value = 0.013 меньше 0.05. Значит, нулевую гипотезу о том, что статистически значимых различий в среднем числе заказов между группами нет, отвергаем. Относительный выйгрыш группы B равен 20.1% - выше чем по сырым данным."
   ]
  },
  {
   "cell_type": "markdown",
   "id": "0a882eaa",
   "metadata": {},
   "source": [
    "<a id=3.13-bullet></a>\n",
    "### Статистическая значимость различий в среднем чеке заказа между группами по «очищенным» данным"
   ]
  },
  {
   "cell_type": "markdown",
   "id": "21ce4d39",
   "metadata": {},
   "source": [
    "Посчитаем статистическую значимость различий в среднем чеке заказа между группами по «очищенным» данным."
   ]
  },
  {
   "cell_type": "code",
   "execution_count": 65,
   "id": "e2d59a10",
   "metadata": {},
   "outputs": [
    {
     "name": "stdout",
     "output_type": "stream",
     "text": [
      "P-value - 0.788\n"
     ]
    }
   ],
   "source": [
    "print('P-value - {0:.3f}'.format(\n",
    "    st.mannwhitneyu(\n",
    "        orders[np.logical_and(orders['group'] == 'A', \n",
    "               np.logical_not(orders['visitor_id'].isin(abnormal_users)))]['revenue'],\n",
    "        orders[np.logical_and(orders['group'] == 'B', \n",
    "               np.logical_not(orders['visitor_id'].isin(abnormal_users)))]['revenue'],\n",
    "        )[1]\n",
    "    )\n",
    ")"
   ]
  },
  {
   "cell_type": "code",
   "execution_count": 66,
   "id": "9ab82f9a",
   "metadata": {},
   "outputs": [
    {
     "name": "stdout",
     "output_type": "stream",
     "text": [
      "-0.032\n"
     ]
    }
   ],
   "source": [
    "# относительные различия в среднем чеке между группами\n",
    "print(\"{0:.3f}\".format(\n",
    "    orders[np.logical_and(orders['group'] == 'B',\n",
    "           np.logical_not(orders['visitor_id'].isin(abnormal_users)))]['revenue'].mean()\n",
    "        / orders[np.logical_and(orders['group'] == 'A',\n",
    "           np.logical_not(orders['visitor_id'].isin(abnormal_users)),\n",
    "            )]['revenue'].mean() - 1\n",
    "    )\n",
    ")"
   ]
  },
  {
   "cell_type": "markdown",
   "id": "3c80f98a",
   "metadata": {},
   "source": [
    "P-value немного ниже чем в сырых данных и также значительно больше 0.05. Значит, причин отвергать нулевую гипотезу и считать, что в среднем чеке есть различия, нет. Однако, средний чек группы B по очищенным данным стал ниже среднего чека группы A на 3.2%."
   ]
  },
  {
   "cell_type": "markdown",
   "id": "d2398684",
   "metadata": {},
   "source": [
    "<a id='3.14-bullet'></a>\n",
    "### Решение по результатам теста"
   ]
  },
  {
   "attachments": {
    "image-3.png": {
     "image/png": "[encoded data removed]"
    },
    "image-4.png": {
     "image/png": "[encoded data removed]"
    }
   },
   "cell_type": "markdown",
   "id": "f3577746",
   "metadata": {},
   "source": [
    "Имеющиеся факты:\n",
    "\n",
    "- Есть статистически значимое различие по среднему количеству заказов между группами по «сырым», и по данным после фильтрации аномалий;\n",
    "- Нет статистически значимого различия по среднему чеку между группами ни по «сырым», ни по данным после фильтрации аномалий;\n",
    "- График различия среднего количества заказов между группами сообщает, что результаты группы B лучше группы A:\n",
    "![image-3.png](attachment:image-3.png)\n",
    "- График различия среднего чека говорит о том, что результаты группы B на 25% лучше\n",
    "![image-4.png](attachment:image-4.png)"
   ]
  },
  {
   "cell_type": "markdown",
   "id": "4b0bdd53",
   "metadata": {},
   "source": [
    "Исходя из обнаруженных фактов, тест следует остановить и признать его успешным, несмотря на то, что средний чек по обоим группам, при исключении аномалий почти совпадает. Конверсия из посетилей в заказы у группы В лучше чем у группы А."
   ]
  },
  {
   "cell_type": "markdown",
   "id": "f7fb6fdc",
   "metadata": {},
   "source": [
    "<a id='4-bullet'></a>\n",
    "## ВЫВОД"
   ]
  },
  {
   "cell_type": "markdown",
   "id": "121b9ebf",
   "metadata": {},
   "source": [
    "При проведении исследования были получены данные крупного интернет-магазина. Совместно с отделом маркетинга были подготовлены гипотезы для увеличения выручки интернет-магазина. Была поставлена задача приотизировать гипотезы, запустить A/B-тест и проанализируйть результаты.\n",
    "\n",
    "В полученных датафреймах провели предобработку данных: заменили названия столбцов, преобразовали данные в нужный тип данных, проверили дубликаты и отсутствие пропусков. Обработали аномалии.\n",
    "\n",
    "При приоритизации гипотез применили фреймворки ICE и RICE - победила гипотеза №7, была в топах в обоих фреймворках.\n",
    "\n",
    "По данным А/В теста  построили графики: кумулятивной выручки и кумулятивного среднего чека по группам, график относительного изменения кумулятивного среднего чека и кумулятивного среднего количества заказов на посетителя группы B к группе A. Построили точечные графики количества и суммы заказов. Посчитали 95-й и 99-й перцентили количества и суммы заказов, выбрали границу для определения аномальных значений.\n",
    "\n",
    "Исходя из посчитанной статистической значимости различий в среднем количестве заказов на посетителя и в среднем чеке заказа между группами по сырым и очищенным данным определили, что есть различия в группе В по отношению к группе А - конверсия из посетителей в заказы лучше, между тем средний чек не сильно отличается между группами.\n",
    "\n",
    "А/В тест можно приостановить и признать успешным, при лучшей конверсии и том же среднем чеке интернет-магазин может увелить выручку.\n"
   ]
  }
 ],
 "metadata": {
  "ExecuteTimeLog": [
   {
    "duration": 1240,
    "start_time": "2024-06-06T12:43:24.844Z"
   },
   {
    "duration": 3,
    "start_time": "2024-06-06T12:43:29.834Z"
   },
   {
    "duration": 96,
    "start_time": "2024-06-06T12:43:33.905Z"
   },
   {
    "duration": 227,
    "start_time": "2024-06-06T12:43:37.465Z"
   },
   {
    "duration": 3,
    "start_time": "2024-06-06T12:43:38.113Z"
   },
   {
    "duration": 13,
    "start_time": "2024-06-06T12:43:38.683Z"
   },
   {
    "duration": 4,
    "start_time": "2024-06-06T12:44:15.771Z"
   },
   {
    "duration": 13,
    "start_time": "2024-06-06T12:44:19.262Z"
   },
   {
    "duration": 42,
    "start_time": "2024-06-06T12:45:21.932Z"
   },
   {
    "duration": 803,
    "start_time": "2024-06-06T12:50:50.070Z"
   },
   {
    "duration": 867,
    "start_time": "2024-06-06T12:51:01.938Z"
   },
   {
    "duration": 941,
    "start_time": "2024-06-06T12:51:11.614Z"
   },
   {
    "duration": 1150,
    "start_time": "2024-06-06T12:51:24.244Z"
   },
   {
    "duration": 98,
    "start_time": "2024-06-06T12:51:25.396Z"
   },
   {
    "duration": 4,
    "start_time": "2024-06-06T12:51:25.495Z"
   },
   {
    "duration": 21,
    "start_time": "2024-06-06T12:51:25.500Z"
   },
   {
    "duration": 18,
    "start_time": "2024-06-06T12:51:25.523Z"
   },
   {
    "duration": 19,
    "start_time": "2024-06-06T12:51:25.542Z"
   },
   {
    "duration": 2,
    "start_time": "2024-06-06T12:51:25.562Z"
   },
   {
    "duration": 15,
    "start_time": "2024-06-06T12:51:25.565Z"
   },
   {
    "duration": 11,
    "start_time": "2024-06-06T12:51:25.581Z"
   },
   {
    "duration": 10,
    "start_time": "2024-06-06T12:51:25.594Z"
   },
   {
    "duration": 29,
    "start_time": "2024-06-06T12:51:25.606Z"
   },
   {
    "duration": 5,
    "start_time": "2024-06-06T12:51:25.636Z"
   },
   {
    "duration": 3,
    "start_time": "2024-06-06T12:51:25.643Z"
   },
   {
    "duration": 6,
    "start_time": "2024-06-06T12:51:25.647Z"
   },
   {
    "duration": 8,
    "start_time": "2024-06-06T12:51:25.654Z"
   },
   {
    "duration": 27,
    "start_time": "2024-06-06T12:51:25.663Z"
   },
   {
    "duration": 31,
    "start_time": "2024-06-06T12:51:25.691Z"
   },
   {
    "duration": 14,
    "start_time": "2024-06-06T12:51:25.723Z"
   },
   {
    "duration": 202,
    "start_time": "2024-06-06T12:51:25.738Z"
   },
   {
    "duration": 10,
    "start_time": "2024-06-06T12:51:25.942Z"
   },
   {
    "duration": 10,
    "start_time": "2024-06-06T12:51:25.954Z"
   },
   {
    "duration": 153,
    "start_time": "2024-06-06T12:51:25.971Z"
   },
   {
    "duration": 16,
    "start_time": "2024-06-06T12:51:26.126Z"
   },
   {
    "duration": 28,
    "start_time": "2024-06-06T12:51:26.144Z"
   },
   {
    "duration": 6,
    "start_time": "2024-06-06T12:51:26.173Z"
   },
   {
    "duration": 6,
    "start_time": "2024-06-06T12:51:26.181Z"
   },
   {
    "duration": 5,
    "start_time": "2024-06-06T12:51:26.189Z"
   },
   {
    "duration": 12,
    "start_time": "2024-06-06T12:51:26.198Z"
   },
   {
    "duration": 15,
    "start_time": "2024-06-06T12:51:26.212Z"
   },
   {
    "duration": 81,
    "start_time": "2024-06-06T12:51:26.229Z"
   },
   {
    "duration": 13,
    "start_time": "2024-06-06T12:51:26.312Z"
   },
   {
    "duration": 58,
    "start_time": "2024-06-06T12:51:26.327Z"
   },
   {
    "duration": 12,
    "start_time": "2024-06-06T12:51:26.386Z"
   },
   {
    "duration": 56,
    "start_time": "2024-06-06T12:51:26.399Z"
   },
   {
    "duration": 21,
    "start_time": "2024-06-06T12:51:26.456Z"
   },
   {
    "duration": 64,
    "start_time": "2024-06-06T12:51:26.479Z"
   },
   {
    "duration": 46,
    "start_time": "2024-06-06T12:51:26.545Z"
   },
   {
    "duration": 271,
    "start_time": "2024-06-06T12:51:26.593Z"
   },
   {
    "duration": 197,
    "start_time": "2024-06-06T12:51:26.866Z"
   },
   {
    "duration": 300,
    "start_time": "2024-06-06T12:51:27.065Z"
   },
   {
    "duration": 327,
    "start_time": "2024-06-06T12:51:27.370Z"
   },
   {
    "duration": 389,
    "start_time": "2024-06-06T12:51:27.699Z"
   },
   {
    "duration": 124,
    "start_time": "2024-06-06T12:51:28.090Z"
   },
   {
    "duration": 7,
    "start_time": "2024-06-06T12:51:28.216Z"
   },
   {
    "duration": 164,
    "start_time": "2024-06-06T12:51:28.225Z"
   },
   {
    "duration": 4,
    "start_time": "2024-06-06T12:51:28.390Z"
   },
   {
    "duration": 247,
    "start_time": "2024-06-06T12:51:28.396Z"
   },
   {
    "duration": 4,
    "start_time": "2024-06-06T12:51:28.645Z"
   },
   {
    "duration": 23,
    "start_time": "2024-06-06T12:51:28.650Z"
   },
   {
    "duration": 33,
    "start_time": "2024-06-06T12:51:28.674Z"
   },
   {
    "duration": 11,
    "start_time": "2024-06-06T12:51:28.708Z"
   },
   {
    "duration": 6,
    "start_time": "2024-06-06T12:51:28.720Z"
   },
   {
    "duration": 19,
    "start_time": "2024-06-06T12:51:28.728Z"
   },
   {
    "duration": 4,
    "start_time": "2024-06-06T12:51:28.748Z"
   },
   {
    "duration": 7,
    "start_time": "2024-06-06T12:51:28.753Z"
   },
   {
    "duration": 13,
    "start_time": "2024-06-06T12:51:28.761Z"
   },
   {
    "duration": 27,
    "start_time": "2024-06-06T12:51:28.775Z"
   },
   {
    "duration": 6,
    "start_time": "2024-06-06T12:51:28.804Z"
   },
   {
    "duration": 5,
    "start_time": "2024-06-06T12:51:28.811Z"
   },
   {
    "duration": 12,
    "start_time": "2024-06-06T12:51:28.817Z"
   },
   {
    "duration": 6,
    "start_time": "2024-06-06T12:51:28.830Z"
   },
   {
    "duration": 7,
    "start_time": "2024-06-06T12:51:28.837Z"
   },
   {
    "duration": 27,
    "start_time": "2024-06-06T12:51:28.845Z"
   },
   {
    "duration": 3,
    "start_time": "2024-06-06T12:51:28.874Z"
   },
   {
    "duration": 10,
    "start_time": "2024-06-06T12:51:28.878Z"
   },
   {
    "duration": 8,
    "start_time": "2024-06-06T12:51:28.889Z"
   },
   {
    "duration": 8,
    "start_time": "2024-06-06T12:52:14.846Z"
   },
   {
    "duration": 11,
    "start_time": "2024-06-06T12:52:19.846Z"
   },
   {
    "duration": 55,
    "start_time": "2024-06-06T13:29:09.657Z"
   },
   {
    "duration": 12,
    "start_time": "2024-06-06T13:29:58.292Z"
   },
   {
    "duration": 1053,
    "start_time": "2024-06-06T13:42:16.112Z"
   },
   {
    "duration": 103,
    "start_time": "2024-06-06T13:42:17.166Z"
   },
   {
    "duration": 2,
    "start_time": "2024-06-06T13:42:17.271Z"
   },
   {
    "duration": 19,
    "start_time": "2024-06-06T13:42:17.275Z"
   },
   {
    "duration": 25,
    "start_time": "2024-06-06T13:42:17.295Z"
   },
   {
    "duration": 12,
    "start_time": "2024-06-06T13:42:17.322Z"
   },
   {
    "duration": 11,
    "start_time": "2024-06-06T13:42:17.335Z"
   },
   {
    "duration": 28,
    "start_time": "2024-06-06T13:42:17.347Z"
   },
   {
    "duration": 22,
    "start_time": "2024-06-06T13:42:17.377Z"
   },
   {
    "duration": 16,
    "start_time": "2024-06-06T13:42:17.401Z"
   },
   {
    "duration": 15,
    "start_time": "2024-06-06T13:42:17.419Z"
   },
   {
    "duration": 5,
    "start_time": "2024-06-06T13:42:17.436Z"
   },
   {
    "duration": 14,
    "start_time": "2024-06-06T13:42:17.443Z"
   },
   {
    "duration": 8,
    "start_time": "2024-06-06T13:42:17.458Z"
   },
   {
    "duration": 4,
    "start_time": "2024-06-06T13:42:17.467Z"
   },
   {
    "duration": 9,
    "start_time": "2024-06-06T13:42:17.472Z"
   },
   {
    "duration": 13,
    "start_time": "2024-06-06T13:42:17.482Z"
   },
   {
    "duration": 16,
    "start_time": "2024-06-06T13:42:17.496Z"
   },
   {
    "duration": 186,
    "start_time": "2024-06-06T13:42:17.514Z"
   },
   {
    "duration": 11,
    "start_time": "2024-06-06T13:42:17.702Z"
   },
   {
    "duration": 12,
    "start_time": "2024-06-06T13:42:17.714Z"
   },
   {
    "duration": 163,
    "start_time": "2024-06-06T13:42:17.727Z"
   },
   {
    "duration": 16,
    "start_time": "2024-06-06T13:42:17.891Z"
   },
   {
    "duration": 23,
    "start_time": "2024-06-06T13:42:17.909Z"
   },
   {
    "duration": 7,
    "start_time": "2024-06-06T13:42:17.934Z"
   },
   {
    "duration": 16,
    "start_time": "2024-06-06T13:42:17.942Z"
   },
   {
    "duration": 26,
    "start_time": "2024-06-06T13:42:17.959Z"
   },
   {
    "duration": 12,
    "start_time": "2024-06-06T13:42:17.990Z"
   },
   {
    "duration": 20,
    "start_time": "2024-06-06T13:42:18.003Z"
   },
   {
    "duration": 64,
    "start_time": "2024-06-06T13:42:18.024Z"
   },
   {
    "duration": 11,
    "start_time": "2024-06-06T13:42:18.089Z"
   },
   {
    "duration": 55,
    "start_time": "2024-06-06T13:42:18.101Z"
   },
   {
    "duration": 39,
    "start_time": "2024-06-06T13:42:18.157Z"
   },
   {
    "duration": 48,
    "start_time": "2024-06-06T13:42:18.198Z"
   },
   {
    "duration": 17,
    "start_time": "2024-06-06T13:42:18.248Z"
   },
   {
    "duration": 47,
    "start_time": "2024-06-06T13:42:18.267Z"
   },
   {
    "duration": 35,
    "start_time": "2024-06-06T13:42:18.316Z"
   },
   {
    "duration": 258,
    "start_time": "2024-06-06T13:42:18.353Z"
   },
   {
    "duration": 211,
    "start_time": "2024-06-06T13:42:18.613Z"
   },
   {
    "duration": 291,
    "start_time": "2024-06-06T13:42:18.826Z"
   },
   {
    "duration": 337,
    "start_time": "2024-06-06T13:42:19.119Z"
   },
   {
    "duration": 331,
    "start_time": "2024-06-06T13:42:19.457Z"
   },
   {
    "duration": 99,
    "start_time": "2024-06-06T13:42:19.789Z"
   },
   {
    "duration": 7,
    "start_time": "2024-06-06T13:42:19.889Z"
   },
   {
    "duration": 157,
    "start_time": "2024-06-06T13:42:19.897Z"
   },
   {
    "duration": 3,
    "start_time": "2024-06-06T13:42:20.056Z"
   },
   {
    "duration": 272,
    "start_time": "2024-06-06T13:42:20.060Z"
   },
   {
    "duration": 3,
    "start_time": "2024-06-06T13:42:20.334Z"
   },
   {
    "duration": 11,
    "start_time": "2024-06-06T13:42:20.338Z"
   },
   {
    "duration": 22,
    "start_time": "2024-06-06T13:42:20.350Z"
   },
   {
    "duration": 20,
    "start_time": "2024-06-06T13:42:20.373Z"
   },
   {
    "duration": 5,
    "start_time": "2024-06-06T13:42:20.395Z"
   },
   {
    "duration": 25,
    "start_time": "2024-06-06T13:42:20.402Z"
   },
   {
    "duration": 10,
    "start_time": "2024-06-06T13:42:20.428Z"
   },
   {
    "duration": 29,
    "start_time": "2024-06-06T13:42:20.439Z"
   },
   {
    "duration": 7,
    "start_time": "2024-06-06T13:42:20.469Z"
   },
   {
    "duration": 8,
    "start_time": "2024-06-06T13:42:20.477Z"
   },
   {
    "duration": 13,
    "start_time": "2024-06-06T13:42:20.486Z"
   },
   {
    "duration": 24,
    "start_time": "2024-06-06T13:42:20.500Z"
   },
   {
    "duration": 27,
    "start_time": "2024-06-06T13:42:20.526Z"
   },
   {
    "duration": 16,
    "start_time": "2024-06-06T13:42:20.554Z"
   },
   {
    "duration": 15,
    "start_time": "2024-06-06T13:42:20.571Z"
   },
   {
    "duration": 21,
    "start_time": "2024-06-06T13:42:20.588Z"
   },
   {
    "duration": 15,
    "start_time": "2024-06-06T13:42:20.610Z"
   },
   {
    "duration": 17,
    "start_time": "2024-06-06T13:42:20.626Z"
   },
   {
    "duration": 6,
    "start_time": "2024-06-06T13:42:20.644Z"
   }
  ],
  "kernelspec": {
   "display_name": "Python 3 (ipykernel)",
   "language": "python",
   "name": "python3"
  },
  "language_info": {
   "codemirror_mode": {
    "name": "ipython",
    "version": 3
   },
   "file_extension": ".py",
   "mimetype": "text/x-python",
   "name": "python",
   "nbconvert_exporter": "python",
   "pygments_lexer": "ipython3",
   "version": "3.11.5"
  },
  "toc": {
   "base_numbering": 1,
   "nav_menu": {
    "height": "136px",
    "width": "225.528px"
   },
   "number_sections": true,
   "sideBar": true,
   "skip_h1_title": true,
   "title_cell": "Table of Contents",
   "title_sidebar": "Contents",
   "toc_cell": false,
   "toc_position": {
    "height": "calc(100% - 180px)",
    "left": "10px",
    "top": "150px",
    "width": "239.625px"
   },
   "toc_section_display": true,
   "toc_window_display": true
  },
  "varInspector": {
   "cols": {
    "lenName": 16,
    "lenType": 16,
    "lenVar": 40
   },
   "kernels_config": {
    "python": {
     "delete_cmd_postfix": "",
     "delete_cmd_prefix": "del ",
     "library": "var_list.py",
     "varRefreshCmd": "print(var_dic_list())"
    },
    "r": {
     "delete_cmd_postfix": ") ",
     "delete_cmd_prefix": "rm(",
     "library": "var_list.r",
     "varRefreshCmd": "cat(var_dic_list()) "
    }
   },
   "position": {
    "height": "144.625px",
    "left": "1270.67px",
    "right": "20px",
    "top": "120px",
    "width": "350px"
   },
   "types_to_exclude": [
    "module",
    "function",
    "builtin_function_or_method",
    "instance",
    "_Feature"
   ],
   "window_display": false
  }
 },
 "nbformat": 4,
 "nbformat_minor": 5
}
