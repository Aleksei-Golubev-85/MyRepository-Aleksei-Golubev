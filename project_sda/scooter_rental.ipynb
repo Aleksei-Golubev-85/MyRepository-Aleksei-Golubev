{
 "cells": [
  {
   "cell_type": "markdown",
   "id": "599c7d33",
   "metadata": {},
   "source": [
    "# Исследование пользователей сервиса аренды самокатов GoFast"
   ]
  },
  {
   "cell_type": "markdown",
   "id": "7d77bb2f",
   "metadata": {},
   "source": [
    "Для исследования передали данные сервиса GoFast о некоторых пользователях из нескольких городов, а также об их поездках. \n",
    "\n",
    "Нужно проанализировать данные и проверить некоторые гипотезы, которые могут помочь бизнесу вырасти. \n",
    "\n",
    "Сервисом можно пользоваться:\n",
    "\n",
    "- **без подписки**\n",
    "    - абонентская плата отсутствует;\n",
    "    - стоимость одной минуты поездки — 8 рублей;\n",
    "    - стоимость старта (начала поездки) — 50 рублей;\n",
    "- **с подпиской Ultra**\n",
    "    - абонентская плата — 199 рублей в месяц;\n",
    "    - стоимость одной минуты поездки — 6 рублей;\n",
    "    - стоимость старта — бесплатно.\n",
    "    \n",
    "Продакт-менеджеры сервиса хотят увеличить количество пользователей с подпиской. Для этого они будут проводить различные акции. \n",
    "\n",
    "Сначала хотят выяснить несколько важных моментов:\n",
    "\n",
    "- Важно понять, тратят ли пользователи с подпиской больше времени на поездки? Если да, то пользователи с подпиской могут быть «выгоднее» для компании?\n",
    "-  Расстояние одной поездки в 3130 метров — оптимальное с точки зрения износа самоката. Можно ли сказать, что среднее расстояние, которое проезжают пользователи с подпиской за одну поездку, не превышает 3130 метров?\n",
    "- Будет ли помесячная выручка от пользователей с подпиской по месяцам выше, чем выручка от пользователей без подписки?\n",
    "\n",
    "**Описание данных**\n",
    "\n",
    "В основных данных есть информация о пользователях, их поездках и подписках.\n",
    "\n",
    "**Пользователи — users_go.csv**\n",
    "\n",
    "    - user_id\tуникальный идентификатор пользователя\n",
    "    - name\tимя пользователя\n",
    "    - age\tвозраст\n",
    "    - city\tгород\n",
    "    - subscription_type\tтип подписки (free, ultra)\n",
    "    \n",
    "**Поездки — rides_go.csv**\n",
    "\n",
    "    - user_id\tуникальный идентификатор пользователя\n",
    "    - distance\tрасстояние, которое пользователь проехал в текущей сессии (в метрах)\n",
    "    - duration\tпродолжительность сессии (в минутах) — время с того момента, как пользователь нажал кнопку \n",
    "    «Начать поездку» до момента, как он нажал кнопку «Завершить поездку»\n",
    "    - date\tдата совершения поездки\n",
    "    \n",
    "**Подписки — subscriptions_go.csv**\n",
    "\n",
    "    - subscription_type\tтип подписки\n",
    "    - minute_price\tстоимость одной минуты поездки по данной подписке\n",
    "    - start_ride_price\tстоимость начала поездки\n",
    "    - subscription_fee\tстоимость ежемесячного платежа\n",
    "    \n",
    "Для исследования необходимо будет:\n",
    "- выгрузить датасеты и изучить по ними общую информацию;\n",
    "- проверить на наличие пропущенных значений и дубликатов;\n",
    "- провести исследовательский анализ данных;\n",
    "- объединить датасеты в один;\n",
    "- разделить пользоватей с подпиской сервиса и без;\n",
    "- посчитать выручку по каждому пользователю помесячно;\n",
    "- проверить гипотезы, поставленные продакт-менеджерами;\n",
    "- сделать выводы и рекомендации."
   ]
  },
  {
   "cell_type": "code",
   "execution_count": 1,
   "id": "72576667",
   "metadata": {},
   "outputs": [],
   "source": [
    "# импортируем библиотеки Pyhton для проведения исследования\n",
    "import pandas as pd \n",
    "import seaborn as sns \n",
    "from matplotlib import pyplot as plt\n",
    "from scipy import stats as st\n",
    "import numpy as np\n",
    "from math import factorial\n",
    "from scipy.stats import binom, norm"
   ]
  },
  {
   "cell_type": "markdown",
   "id": "c42cbe00",
   "metadata": {},
   "source": [
    "## Шаг. Загрузка данных"
   ]
  },
  {
   "cell_type": "markdown",
   "id": "cdd83e61",
   "metadata": {},
   "source": [
    "### Считывание CSV-файлов с данными с помощью библиотеки pandas"
   ]
  },
  {
   "cell_type": "code",
   "execution_count": 2,
   "id": "eff9f206",
   "metadata": {},
   "outputs": [],
   "source": [
    "# считали файл из csv-файла users_go.csv в переменную data_users\n",
    "# считали файл из csv-файла rides_go.csv в переменную data_rides\n",
    "# считали файл из csv-файла subscriptions_go.csv в переменную data_subscriptions\n",
    "try:\n",
    "    data_users = pd.read_csv('users_go.csv')\n",
    "    data_rides = pd.read_csv('rides_go.csv', parse_dates=['date'])\n",
    "    data_subscriptions = pd.read_csv('subscriptions_go.csv')\n",
    "except:\n",
    "    data_users = pd.read_csv('/datasets/users_go.csv')\n",
    "    data_rides = pd.read_csv('/datasets/rides_go.csv', parse_dates=['date'])\n",
    "    data_subscriptions = pd.read_csv('/datasets/subscriptions_go.csv')"
   ]
  },
  {
   "cell_type": "markdown",
   "id": "9c90d6d0",
   "metadata": {},
   "source": [
    "### Вывод и изучение общей информации о каждом датафрейме"
   ]
  },
  {
   "cell_type": "code",
   "execution_count": 3,
   "id": "a7e4397f",
   "metadata": {},
   "outputs": [],
   "source": [
    "# создали функцию для просмотра и вывода информации датафрейма\n",
    "def info(data):\n",
    "    return data.head(10), data.info(), data.isna().sum();"
   ]
  },
  {
   "cell_type": "code",
   "execution_count": 4,
   "id": "eb4e59c8",
   "metadata": {
    "scrolled": true
   },
   "outputs": [
    {
     "name": "stdout",
     "output_type": "stream",
     "text": [
      "<class 'pandas.core.frame.DataFrame'>\n",
      "RangeIndex: 1565 entries, 0 to 1564\n",
      "Data columns (total 5 columns):\n",
      " #   Column             Non-Null Count  Dtype \n",
      "---  ------             --------------  ----- \n",
      " 0   user_id            1565 non-null   int64 \n",
      " 1   name               1565 non-null   object\n",
      " 2   age                1565 non-null   int64 \n",
      " 3   city               1565 non-null   object\n",
      " 4   subscription_type  1565 non-null   object\n",
      "dtypes: int64(2), object(3)\n",
      "memory usage: 61.3+ KB\n"
     ]
    },
    {
     "data": {
      "text/plain": [
       "(   user_id        name  age            city subscription_type\n",
       " 0        1        Кира   22          Тюмень             ultra\n",
       " 1        2   Станислав   31            Омск             ultra\n",
       " 2        3     Алексей   20          Москва             ultra\n",
       " 3        4  Константин   26  Ростов-на-Дону             ultra\n",
       " 4        5       Адель   28            Омск             ultra\n",
       " 5        6      Регина   25       Краснодар             ultra\n",
       " 6        7       Игорь   23            Омск             ultra\n",
       " 7        8        Юрий   23       Краснодар             ultra\n",
       " 8        9          Ян   21       Пятигорск             ultra\n",
       " 9       10     Валерий   18    Екатеринбург             ultra,\n",
       " None,\n",
       " user_id              0\n",
       " name                 0\n",
       " age                  0\n",
       " city                 0\n",
       " subscription_type    0\n",
       " dtype: int64)"
      ]
     },
     "execution_count": 4,
     "metadata": {},
     "output_type": "execute_result"
    }
   ],
   "source": [
    "info(data_users) # вывели информацию датафрейма по пользователям"
   ]
  },
  {
   "cell_type": "markdown",
   "id": "807e142f",
   "metadata": {},
   "source": [
    "В датафрейме 4 столбца и 1565  строк. В столбцах user_id и age челочисленный тип данных, в остальных строковый. "
   ]
  },
  {
   "cell_type": "code",
   "execution_count": 5,
   "id": "0fddd4e9",
   "metadata": {
    "scrolled": false
   },
   "outputs": [
    {
     "name": "stdout",
     "output_type": "stream",
     "text": [
      "<class 'pandas.core.frame.DataFrame'>\n",
      "RangeIndex: 18068 entries, 0 to 18067\n",
      "Data columns (total 4 columns):\n",
      " #   Column    Non-Null Count  Dtype         \n",
      "---  ------    --------------  -----         \n",
      " 0   user_id   18068 non-null  int64         \n",
      " 1   distance  18068 non-null  float64       \n",
      " 2   duration  18068 non-null  float64       \n",
      " 3   date      18068 non-null  datetime64[ns]\n",
      "dtypes: datetime64[ns](1), float64(2), int64(1)\n",
      "memory usage: 564.8 KB\n"
     ]
    },
    {
     "data": {
      "text/plain": [
       "(   user_id     distance   duration       date\n",
       " 0        1  4409.919140  25.599769 2021-01-01\n",
       " 1        1  2617.592153  15.816871 2021-01-18\n",
       " 2        1   754.159807   6.232113 2021-04-20\n",
       " 3        1  2694.783254  18.511000 2021-08-11\n",
       " 4        1  4028.687306  26.265803 2021-08-28\n",
       " 5        1  2770.890808  16.650138 2021-10-09\n",
       " 6        1  3039.020292  14.927879 2021-10-19\n",
       " 7        1  2842.118050  23.117468 2021-11-06\n",
       " 8        1  3412.690668  15.238072 2021-11-14\n",
       " 9        1   748.690645  15.041884 2021-11-22,\n",
       " None,\n",
       " user_id     0\n",
       " distance    0\n",
       " duration    0\n",
       " date        0\n",
       " dtype: int64)"
      ]
     },
     "execution_count": 5,
     "metadata": {},
     "output_type": "execute_result"
    }
   ],
   "source": [
    "info(data_rides) #вывели инофрмацию датафрейма о поездках"
   ]
  },
  {
   "cell_type": "markdown",
   "id": "94a744a1",
   "metadata": {},
   "source": [
    "В датафрейме 4 столбца и 18068  строк. В столбцах user_id челочисленный тип данных, в distance и duration вещественный тип данных, в date - datetime64. "
   ]
  },
  {
   "cell_type": "code",
   "execution_count": 6,
   "id": "e04c2074",
   "metadata": {},
   "outputs": [
    {
     "name": "stdout",
     "output_type": "stream",
     "text": [
      "<class 'pandas.core.frame.DataFrame'>\n",
      "RangeIndex: 2 entries, 0 to 1\n",
      "Data columns (total 4 columns):\n",
      " #   Column             Non-Null Count  Dtype \n",
      "---  ------             --------------  ----- \n",
      " 0   subscription_type  2 non-null      object\n",
      " 1   minute_price       2 non-null      int64 \n",
      " 2   start_ride_price   2 non-null      int64 \n",
      " 3   subscription_fee   2 non-null      int64 \n",
      "dtypes: int64(3), object(1)\n",
      "memory usage: 196.0+ bytes\n"
     ]
    },
    {
     "data": {
      "text/plain": [
       "(  subscription_type  minute_price  start_ride_price  subscription_fee\n",
       " 0              free             8                50                 0\n",
       " 1             ultra             6                 0               199,\n",
       " None,\n",
       " subscription_type    0\n",
       " minute_price         0\n",
       " start_ride_price     0\n",
       " subscription_fee     0\n",
       " dtype: int64)"
      ]
     },
     "execution_count": 6,
     "metadata": {},
     "output_type": "execute_result"
    }
   ],
   "source": [
    "info(data_subscriptions) #вывели инофрмацию датафрейма о подписках"
   ]
  },
  {
   "cell_type": "markdown",
   "id": "b26d9b46",
   "metadata": {},
   "source": [
    "В датафрейме 4 столбца и 2  строки. В столбцах minute_price, start_ride_price, subscription_fee челочисленный тип данных, в subscription_type строковый. "
   ]
  },
  {
   "cell_type": "markdown",
   "id": "e95ebca7",
   "metadata": {},
   "source": [
    "## Шаг. Предобработка данных"
   ]
  },
  {
   "cell_type": "markdown",
   "id": "d508b366",
   "metadata": {},
   "source": [
    "### Приведение столбца date к типу даты pandas."
   ]
  },
  {
   "cell_type": "code",
   "execution_count": 7,
   "id": "2c58652e",
   "metadata": {
    "scrolled": true
   },
   "outputs": [
    {
     "data": {
      "text/plain": [
       "user_id              int64\n",
       "distance           float64\n",
       "duration           float64\n",
       "date        datetime64[ns]\n",
       "dtype: object"
      ]
     },
     "execution_count": 7,
     "metadata": {},
     "output_type": "execute_result"
    }
   ],
   "source": [
    "# при загрузке данных добавили параметр parse_dates: parse_dates=['date'], тип данных автоматически перевелся в даты\n",
    "data_rides.dtypes # проверили тип данных в столбцах data_rides"
   ]
  },
  {
   "cell_type": "markdown",
   "id": "1c9aff91",
   "metadata": {},
   "source": [
    "### Создание нового столбца с номером месяца на основе столбца date"
   ]
  },
  {
   "cell_type": "code",
   "execution_count": 8,
   "id": "087722f3",
   "metadata": {
    "scrolled": true
   },
   "outputs": [
    {
     "data": {
      "text/html": [
       "<div>\n",
       "<style scoped>\n",
       "    .dataframe tbody tr th:only-of-type {\n",
       "        vertical-align: middle;\n",
       "    }\n",
       "\n",
       "    .dataframe tbody tr th {\n",
       "        vertical-align: top;\n",
       "    }\n",
       "\n",
       "    .dataframe thead th {\n",
       "        text-align: right;\n",
       "    }\n",
       "</style>\n",
       "<table border=\"1\" class=\"dataframe\">\n",
       "  <thead>\n",
       "    <tr style=\"text-align: right;\">\n",
       "      <th></th>\n",
       "      <th>user_id</th>\n",
       "      <th>distance</th>\n",
       "      <th>duration</th>\n",
       "      <th>date</th>\n",
       "      <th>month_number</th>\n",
       "    </tr>\n",
       "  </thead>\n",
       "  <tbody>\n",
       "    <tr>\n",
       "      <th>0</th>\n",
       "      <td>1</td>\n",
       "      <td>4409.919140</td>\n",
       "      <td>25.599769</td>\n",
       "      <td>2021-01-01</td>\n",
       "      <td>1</td>\n",
       "    </tr>\n",
       "    <tr>\n",
       "      <th>1</th>\n",
       "      <td>1</td>\n",
       "      <td>2617.592153</td>\n",
       "      <td>15.816871</td>\n",
       "      <td>2021-01-18</td>\n",
       "      <td>1</td>\n",
       "    </tr>\n",
       "    <tr>\n",
       "      <th>2</th>\n",
       "      <td>1</td>\n",
       "      <td>754.159807</td>\n",
       "      <td>6.232113</td>\n",
       "      <td>2021-04-20</td>\n",
       "      <td>4</td>\n",
       "    </tr>\n",
       "    <tr>\n",
       "      <th>3</th>\n",
       "      <td>1</td>\n",
       "      <td>2694.783254</td>\n",
       "      <td>18.511000</td>\n",
       "      <td>2021-08-11</td>\n",
       "      <td>8</td>\n",
       "    </tr>\n",
       "    <tr>\n",
       "      <th>4</th>\n",
       "      <td>1</td>\n",
       "      <td>4028.687306</td>\n",
       "      <td>26.265803</td>\n",
       "      <td>2021-08-28</td>\n",
       "      <td>8</td>\n",
       "    </tr>\n",
       "  </tbody>\n",
       "</table>\n",
       "</div>"
      ],
      "text/plain": [
       "   user_id     distance   duration       date  month_number\n",
       "0        1  4409.919140  25.599769 2021-01-01             1\n",
       "1        1  2617.592153  15.816871 2021-01-18             1\n",
       "2        1   754.159807   6.232113 2021-04-20             4\n",
       "3        1  2694.783254  18.511000 2021-08-11             8\n",
       "4        1  4028.687306  26.265803 2021-08-28             8"
      ]
     },
     "execution_count": 8,
     "metadata": {},
     "output_type": "execute_result"
    }
   ],
   "source": [
    "# создали новый столбец с номером месяца\n",
    "data_rides['month_number'] = pd.DatetimeIndex(data_rides['date']).month\n",
    "data_rides.head() # вывели информацию с новым столбцом - номер месяца"
   ]
  },
  {
   "cell_type": "code",
   "execution_count": 9,
   "id": "cc28fa8e",
   "metadata": {
    "scrolled": true
   },
   "outputs": [
    {
     "name": "stdout",
     "output_type": "stream",
     "text": [
      "Начало периода: 2021-01-01 00:00:00\n",
      "Конец периода: 2021-12-30 00:00:00\n"
     ]
    }
   ],
   "source": [
    "# проверили за какой период собраны данные\n",
    "print('Начало периода:', data_rides['date'].min())\n",
    "print('Конец периода:', data_rides['date'].max())"
   ]
  },
  {
   "cell_type": "markdown",
   "id": "137b5c80",
   "metadata": {},
   "source": [
    "Данные в исследовании предоставлены за год."
   ]
  },
  {
   "cell_type": "markdown",
   "id": "6b3d9926",
   "metadata": {},
   "source": [
    "### Проверка на наличие пропущенных значений и дубликатов в датафреймах."
   ]
  },
  {
   "cell_type": "code",
   "execution_count": 10,
   "id": "b835b340",
   "metadata": {},
   "outputs": [],
   "source": [
    "#создали функцию для проверки пропущенных значений и дубликатов в датафреймах\n",
    "def values(data):\n",
    "    return data.isna().sum(), data.duplicated().sum();"
   ]
  },
  {
   "cell_type": "code",
   "execution_count": 11,
   "id": "b170c7ce",
   "metadata": {
    "scrolled": false
   },
   "outputs": [
    {
     "data": {
      "text/plain": [
       "(user_id              0\n",
       " name                 0\n",
       " age                  0\n",
       " city                 0\n",
       " subscription_type    0\n",
       " dtype: int64,\n",
       " 31)"
      ]
     },
     "execution_count": 11,
     "metadata": {},
     "output_type": "execute_result"
    }
   ],
   "source": [
    "values(data_users) # проверили пропущенные значения и дубликаты в датафрейме по пользователям"
   ]
  },
  {
   "cell_type": "markdown",
   "id": "0bb5d481",
   "metadata": {},
   "source": [
    "В датафрейме по пользователям пропущенных значений нет. Имеется 31 дубликат."
   ]
  },
  {
   "cell_type": "code",
   "execution_count": 12,
   "id": "65e594a3",
   "metadata": {
    "scrolled": false
   },
   "outputs": [
    {
     "data": {
      "text/plain": [
       "(user_id         0\n",
       " distance        0\n",
       " duration        0\n",
       " date            0\n",
       " month_number    0\n",
       " dtype: int64,\n",
       " 0)"
      ]
     },
     "execution_count": 12,
     "metadata": {},
     "output_type": "execute_result"
    }
   ],
   "source": [
    "values(data_rides) # проверили пропущенные значения и дубликаты в датафрейме о поездках"
   ]
  },
  {
   "cell_type": "markdown",
   "id": "c0428d41",
   "metadata": {},
   "source": [
    "В датафрейме о поездках пропущенных значений и дубликатов нет."
   ]
  },
  {
   "cell_type": "code",
   "execution_count": 13,
   "id": "9ea0b46c",
   "metadata": {
    "scrolled": false
   },
   "outputs": [
    {
     "data": {
      "text/plain": [
       "(subscription_type    0\n",
       " minute_price         0\n",
       " start_ride_price     0\n",
       " subscription_fee     0\n",
       " dtype: int64,\n",
       " 0)"
      ]
     },
     "execution_count": 13,
     "metadata": {},
     "output_type": "execute_result"
    }
   ],
   "source": [
    "values(data_subscriptions)  # проверили пропущенные значения и дубликаты в датафрейме о подписках"
   ]
  },
  {
   "cell_type": "markdown",
   "id": "a30bce7d",
   "metadata": {},
   "source": [
    "В датафрейме о подписках пропущенных значений и дубликатов нет."
   ]
  },
  {
   "cell_type": "code",
   "execution_count": 14,
   "id": "cffb658c",
   "metadata": {},
   "outputs": [
    {
     "data": {
      "text/plain": [
       "0"
      ]
     },
     "execution_count": 14,
     "metadata": {},
     "output_type": "execute_result"
    }
   ],
   "source": [
    "# удалили дубликаты в датафрейме по пользователям и сбросили индексы\n",
    "data_users = data_users.drop_duplicates().reset_index(drop=True)\n",
    "data_users.duplicated().sum() # проверили отсутствие дубликатов"
   ]
  },
  {
   "cell_type": "markdown",
   "id": "212593c7",
   "metadata": {},
   "source": [
    "## Шаг. Исследовательский анализ данных"
   ]
  },
  {
   "cell_type": "markdown",
   "id": "fc2775cd",
   "metadata": {},
   "source": [
    "Опишим и визуализируем общую информацию по пользователях и их поездках"
   ]
  },
  {
   "cell_type": "markdown",
   "id": "b2001906",
   "metadata": {},
   "source": [
    "### Частота встречаемости городов"
   ]
  },
  {
   "cell_type": "code",
   "execution_count": 15,
   "id": "3694ac90",
   "metadata": {
    "scrolled": true
   },
   "outputs": [
    {
     "data": {
      "text/html": [
       "<div>\n",
       "<style scoped>\n",
       "    .dataframe tbody tr th:only-of-type {\n",
       "        vertical-align: middle;\n",
       "    }\n",
       "\n",
       "    .dataframe tbody tr th {\n",
       "        vertical-align: top;\n",
       "    }\n",
       "\n",
       "    .dataframe thead th {\n",
       "        text-align: right;\n",
       "    }\n",
       "</style>\n",
       "<table border=\"1\" class=\"dataframe\">\n",
       "  <thead>\n",
       "    <tr style=\"text-align: right;\">\n",
       "      <th></th>\n",
       "      <th>количество пользователей</th>\n",
       "    </tr>\n",
       "    <tr>\n",
       "      <th>city</th>\n",
       "      <th></th>\n",
       "    </tr>\n",
       "  </thead>\n",
       "  <tbody>\n",
       "    <tr>\n",
       "      <th>Москва</th>\n",
       "      <td>168</td>\n",
       "    </tr>\n",
       "    <tr>\n",
       "      <th>Тюмень</th>\n",
       "      <td>180</td>\n",
       "    </tr>\n",
       "    <tr>\n",
       "      <th>Омск</th>\n",
       "      <td>183</td>\n",
       "    </tr>\n",
       "    <tr>\n",
       "      <th>Сочи</th>\n",
       "      <td>189</td>\n",
       "    </tr>\n",
       "    <tr>\n",
       "      <th>Краснодар</th>\n",
       "      <td>193</td>\n",
       "    </tr>\n",
       "    <tr>\n",
       "      <th>Ростов-на-Дону</th>\n",
       "      <td>198</td>\n",
       "    </tr>\n",
       "    <tr>\n",
       "      <th>Екатеринбург</th>\n",
       "      <td>204</td>\n",
       "    </tr>\n",
       "    <tr>\n",
       "      <th>Пятигорск</th>\n",
       "      <td>219</td>\n",
       "    </tr>\n",
       "  </tbody>\n",
       "</table>\n",
       "</div>"
      ],
      "text/plain": [
       "                количество пользователей\n",
       "city                                    \n",
       "Москва                               168\n",
       "Тюмень                               180\n",
       "Омск                                 183\n",
       "Сочи                                 189\n",
       "Краснодар                            193\n",
       "Ростов-на-Дону                       198\n",
       "Екатеринбург                         204\n",
       "Пятигорск                            219"
      ]
     },
     "execution_count": 15,
     "metadata": {},
     "output_type": "execute_result"
    }
   ],
   "source": [
    "#создадили сводную таблицу по городам и количеству пользователей в них\n",
    "city = data_users.pivot_table(index='city', values='user_id', aggfunc='count')\n",
    "city.columns = ['количество пользователей']\n",
    "city.sort_values('количество пользователей', inplace=True)\n",
    "city # вывели сводную таблицу"
   ]
  },
  {
   "cell_type": "code",
   "execution_count": 16,
   "id": "095ed2ef",
   "metadata": {
    "scrolled": true
   },
   "outputs": [
    {
     "data": {
      "image/png": "[encoded data removed]",
      "text/plain": [
       "<Figure size 1200x500 with 1 Axes>"
      ]
     },
     "metadata": {},
     "output_type": "display_data"
    }
   ],
   "source": [
    "# вывели график встречаемости городов\n",
    "city.plot(kind='barh', grid=True, figsize=(12, 5), legend=False)\n",
    "plt.xlabel('Количество пользователей')\n",
    "plt.ylabel('Города')\n",
    "plt.title('Частота встречаемости городов')\n",
    "plt.show()"
   ]
  },
  {
   "cell_type": "code",
   "execution_count": 17,
   "id": "3ff623dd",
   "metadata": {},
   "outputs": [
    {
     "name": "stdout",
     "output_type": "stream",
     "text": [
      "В Пятигорске больше пользователей, чем в Москве на - 30.4%\n"
     ]
    }
   ],
   "source": [
    "print(\n",
    "    'В Пятигорске больше пользователей, чем в Москве на - {:.1%}'\n",
    "      .format(city['количество пользователей'].max() / city['количество пользователей'].min() -1)\n",
    ")"
   ]
  },
  {
   "cell_type": "markdown",
   "id": "51ff6537",
   "metadata": {},
   "source": [
    "Из сводной таблицы и графика можно выявить, что максимальное количество пользователей встречается в городе Пятигорск, минимальное количество в Москве. Отличие составляет 30.4%."
   ]
  },
  {
   "cell_type": "markdown",
   "id": "1482c47d",
   "metadata": {},
   "source": [
    "### Cоотношение пользователей с подпиской и без подписки"
   ]
  },
  {
   "cell_type": "code",
   "execution_count": 18,
   "id": "23dc6442",
   "metadata": {},
   "outputs": [
    {
     "data": {
      "text/html": [
       "<div>\n",
       "<style scoped>\n",
       "    .dataframe tbody tr th:only-of-type {\n",
       "        vertical-align: middle;\n",
       "    }\n",
       "\n",
       "    .dataframe tbody tr th {\n",
       "        vertical-align: top;\n",
       "    }\n",
       "\n",
       "    .dataframe thead th {\n",
       "        text-align: right;\n",
       "    }\n",
       "</style>\n",
       "<table border=\"1\" class=\"dataframe\">\n",
       "  <thead>\n",
       "    <tr style=\"text-align: right;\">\n",
       "      <th></th>\n",
       "      <th>количество пользователей</th>\n",
       "    </tr>\n",
       "    <tr>\n",
       "      <th>subscription_type</th>\n",
       "      <th></th>\n",
       "    </tr>\n",
       "  </thead>\n",
       "  <tbody>\n",
       "    <tr>\n",
       "      <th>ultra</th>\n",
       "      <td>699</td>\n",
       "    </tr>\n",
       "    <tr>\n",
       "      <th>free</th>\n",
       "      <td>835</td>\n",
       "    </tr>\n",
       "  </tbody>\n",
       "</table>\n",
       "</div>"
      ],
      "text/plain": [
       "                   количество пользователей\n",
       "subscription_type                          \n",
       "ultra                                   699\n",
       "free                                    835"
      ]
     },
     "execution_count": 18,
     "metadata": {},
     "output_type": "execute_result"
    }
   ],
   "source": [
    "# создали сводную таблицу по подпискам с количеством пользователей по каждой\n",
    "subscription_type = data_users.pivot_table(index='subscription_type', values='user_id', aggfunc='count', )\n",
    "subscription_type.columns = ['количество пользователей']\n",
    "subscription_type.sort_values('количество пользователей', inplace=True)\n",
    "subscription_type # вывели сводную таблицу"
   ]
  },
  {
   "cell_type": "code",
   "execution_count": 19,
   "id": "18f947f3",
   "metadata": {},
   "outputs": [
    {
     "data": {
      "image/png": "[encoded data removed]",
      "text/plain": [
       "<Figure size 1200x600 with 1 Axes>"
      ]
     },
     "metadata": {},
     "output_type": "display_data"
    }
   ],
   "source": [
    "# вывели график соотношения пользователей с подпиской и без\n",
    "subscription_type['количество пользователей'].plot(kind='pie', \n",
    "                                                   autopct='%1.0f%%', \n",
    "                                                   figsize=(12, 6),\n",
    "                                                   wedgeprops={'linewidth': 3.0, 'edgecolor': 'white'},\n",
    "                                                   textprops={'size': 'x-large'}\n",
    "                                                  )\n",
    "plt.ylabel('')\n",
    "plt.title('Cоотношение пользователей с подпиской и без подписки')\n",
    "plt.legend(title='Подписки', bbox_to_anchor=(1, 1))\n",
    "plt.show()"
   ]
  },
  {
   "cell_type": "code",
   "execution_count": 20,
   "id": "ecc33ee8",
   "metadata": {},
   "outputs": [
    {
     "name": "stdout",
     "output_type": "stream",
     "text": [
      "Количество пользователей без подписки больше на 136\n"
     ]
    }
   ],
   "source": [
    "print('Количество пользователей без подписки больше на',\n",
    "    subscription_type['количество пользователей'][1] - subscription_type['количество пользователей'][0]\n",
    ")"
   ]
  },
  {
   "cell_type": "markdown",
   "id": "a0000bf5",
   "metadata": {},
   "source": [
    "Из сводной таблицы и графика можно выявить, что пользователей без подписки больше, чем пользователей с подпиской. Отличие составляет 8% или 136 пользователей."
   ]
  },
  {
   "cell_type": "markdown",
   "id": "ce130eb5",
   "metadata": {},
   "source": [
    "### Возраст пользователей"
   ]
  },
  {
   "cell_type": "code",
   "execution_count": 21,
   "id": "faec3d3d",
   "metadata": {},
   "outputs": [],
   "source": [
    "# создали сводную таблицу по возрасту пользователей\n",
    "age = data_users.pivot_table(index='age', values='user_id', aggfunc='count')\n",
    "age.columns = ['Количество пользователей']"
   ]
  },
  {
   "cell_type": "code",
   "execution_count": 22,
   "id": "469d57eb",
   "metadata": {},
   "outputs": [
    {
     "data": {
      "text/plain": [
       "<Axes: >"
      ]
     },
     "execution_count": 22,
     "metadata": {},
     "output_type": "execute_result"
    },
    {
     "data": {
      "image/png": "[encoded data removed]",
      "text/plain": [
       "<Figure size 640x480 with 1 Axes>"
      ]
     },
     "metadata": {},
     "output_type": "display_data"
    }
   ],
   "source": [
    "# построили диаграмму размаха для оценки распределения пользователей по возрасту\n",
    "data_users.boxplot('age')"
   ]
  },
  {
   "cell_type": "code",
   "execution_count": 23,
   "id": "99abc923",
   "metadata": {},
   "outputs": [
    {
     "data": {
      "text/plain": [
       "count    1534.000000\n",
       "mean       24.903520\n",
       "std         4.572367\n",
       "min        12.000000\n",
       "25%        22.000000\n",
       "50%        25.000000\n",
       "75%        28.000000\n",
       "max        43.000000\n",
       "Name: age, dtype: float64"
      ]
     },
     "execution_count": 23,
     "metadata": {},
     "output_type": "execute_result"
    }
   ],
   "source": [
    "# вывели статистику столбца age  \n",
    "data_users['age'].describe()"
   ]
  },
  {
   "cell_type": "code",
   "execution_count": 24,
   "id": "6a75aadb",
   "metadata": {},
   "outputs": [
    {
     "data": {
      "text/html": [
       "<div>\n",
       "<style scoped>\n",
       "    .dataframe tbody tr th:only-of-type {\n",
       "        vertical-align: middle;\n",
       "    }\n",
       "\n",
       "    .dataframe tbody tr th {\n",
       "        vertical-align: top;\n",
       "    }\n",
       "\n",
       "    .dataframe thead th {\n",
       "        text-align: right;\n",
       "    }\n",
       "</style>\n",
       "<table border=\"1\" class=\"dataframe\">\n",
       "  <thead>\n",
       "    <tr style=\"text-align: right;\">\n",
       "      <th></th>\n",
       "      <th>user_id</th>\n",
       "      <th>name</th>\n",
       "      <th>age</th>\n",
       "      <th>city</th>\n",
       "      <th>subscription_type</th>\n",
       "    </tr>\n",
       "  </thead>\n",
       "  <tbody>\n",
       "    <tr>\n",
       "      <th>34</th>\n",
       "      <td>35</td>\n",
       "      <td>Руслан</td>\n",
       "      <td>12</td>\n",
       "      <td>Пятигорск</td>\n",
       "      <td>ultra</td>\n",
       "    </tr>\n",
       "    <tr>\n",
       "      <th>66</th>\n",
       "      <td>67</td>\n",
       "      <td>Анастасия</td>\n",
       "      <td>12</td>\n",
       "      <td>Ростов-на-Дону</td>\n",
       "      <td>ultra</td>\n",
       "    </tr>\n",
       "    <tr>\n",
       "      <th>664</th>\n",
       "      <td>665</td>\n",
       "      <td>Герман</td>\n",
       "      <td>12</td>\n",
       "      <td>Сочи</td>\n",
       "      <td>ultra</td>\n",
       "    </tr>\n",
       "    <tr>\n",
       "      <th>727</th>\n",
       "      <td>728</td>\n",
       "      <td>Вячеслав</td>\n",
       "      <td>12</td>\n",
       "      <td>Пятигорск</td>\n",
       "      <td>free</td>\n",
       "    </tr>\n",
       "  </tbody>\n",
       "</table>\n",
       "</div>"
      ],
      "text/plain": [
       "     user_id       name  age            city subscription_type\n",
       "34        35     Руслан   12       Пятигорск             ultra\n",
       "66        67  Анастасия   12  Ростов-на-Дону             ultra\n",
       "664      665     Герман   12            Сочи             ultra\n",
       "727      728   Вячеслав   12       Пятигорск              free"
      ]
     },
     "execution_count": 24,
     "metadata": {},
     "output_type": "execute_result"
    }
   ],
   "source": [
    "# вывели выброс по возрасту 12 лет\n",
    "data_users[data_users['age'] == 12]"
   ]
  },
  {
   "cell_type": "code",
   "execution_count": 25,
   "id": "38f97e87",
   "metadata": {},
   "outputs": [
    {
     "data": {
      "text/html": [
       "<div>\n",
       "<style scoped>\n",
       "    .dataframe tbody tr th:only-of-type {\n",
       "        vertical-align: middle;\n",
       "    }\n",
       "\n",
       "    .dataframe tbody tr th {\n",
       "        vertical-align: top;\n",
       "    }\n",
       "\n",
       "    .dataframe thead th {\n",
       "        text-align: right;\n",
       "    }\n",
       "</style>\n",
       "<table border=\"1\" class=\"dataframe\">\n",
       "  <thead>\n",
       "    <tr style=\"text-align: right;\">\n",
       "      <th></th>\n",
       "      <th>user_id</th>\n",
       "      <th>name</th>\n",
       "      <th>age</th>\n",
       "      <th>city</th>\n",
       "      <th>subscription_type</th>\n",
       "    </tr>\n",
       "  </thead>\n",
       "  <tbody>\n",
       "    <tr>\n",
       "      <th>383</th>\n",
       "      <td>384</td>\n",
       "      <td>Виктор</td>\n",
       "      <td>38</td>\n",
       "      <td>Омск</td>\n",
       "      <td>ultra</td>\n",
       "    </tr>\n",
       "    <tr>\n",
       "      <th>453</th>\n",
       "      <td>454</td>\n",
       "      <td>Вероника</td>\n",
       "      <td>38</td>\n",
       "      <td>Краснодар</td>\n",
       "      <td>ultra</td>\n",
       "    </tr>\n",
       "    <tr>\n",
       "      <th>804</th>\n",
       "      <td>805</td>\n",
       "      <td>Петр</td>\n",
       "      <td>38</td>\n",
       "      <td>Тюмень</td>\n",
       "      <td>free</td>\n",
       "    </tr>\n",
       "    <tr>\n",
       "      <th>961</th>\n",
       "      <td>962</td>\n",
       "      <td>Дмитрий</td>\n",
       "      <td>39</td>\n",
       "      <td>Москва</td>\n",
       "      <td>free</td>\n",
       "    </tr>\n",
       "    <tr>\n",
       "      <th>1201</th>\n",
       "      <td>1202</td>\n",
       "      <td>Ангелина</td>\n",
       "      <td>43</td>\n",
       "      <td>Москва</td>\n",
       "      <td>free</td>\n",
       "    </tr>\n",
       "  </tbody>\n",
       "</table>\n",
       "</div>"
      ],
      "text/plain": [
       "      user_id      name  age       city subscription_type\n",
       "383       384    Виктор   38       Омск             ultra\n",
       "453       454  Вероника   38  Краснодар             ultra\n",
       "804       805      Петр   38     Тюмень              free\n",
       "961       962   Дмитрий   39     Москва              free\n",
       "1201     1202  Ангелина   43     Москва              free"
      ]
     },
     "execution_count": 25,
     "metadata": {},
     "output_type": "execute_result"
    }
   ],
   "source": [
    "# вывели выброс по возрасту от 37 лет\n",
    "data_users[data_users['age'] > 37]"
   ]
  },
  {
   "cell_type": "code",
   "execution_count": 26,
   "id": "a998825c",
   "metadata": {
    "scrolled": true
   },
   "outputs": [
    {
     "data": {
      "image/png": "[encoded data removed]",
      "text/plain": [
       "<Figure size 1200x300 with 1 Axes>"
      ]
     },
     "metadata": {},
     "output_type": "display_data"
    }
   ],
   "source": [
    "# нарисовали график распределения возвраста пользователей\n",
    "age.plot(kind='bar', grid=True, figsize=(12, 3))\n",
    "plt.xlabel('Возраст')\n",
    "plt.ylabel('Количество пользователей')\n",
    "plt.title('Возраст пользователей')\n",
    "plt.legend(loc='upper left')\n",
    "plt.xticks(rotation=0)\n",
    "plt.show()"
   ]
  },
  {
   "cell_type": "markdown",
   "id": "416f01c7",
   "metadata": {},
   "source": [
    "Из графиков можно наблюдать, что возраст пользователей распределен нормально. Минимальный возраст 12 лет, максимальный 43 года. Пользователи в возрасте 12 лет и от 36 лет являются выбросами, т.е. очень редкими в наблюдаемых данных. Медианный возраст 25 лет. Преобладают пользователи в возрасте от 22 до 28 лет. Масимальное количество пользователей в возрасте 25 лет."
   ]
  },
  {
   "cell_type": "markdown",
   "id": "1a7c0289",
   "metadata": {},
   "source": [
    "### Расстояние, которое пользователь преодолел за одну поездку"
   ]
  },
  {
   "cell_type": "code",
   "execution_count": 27,
   "id": "cc1fd02e",
   "metadata": {},
   "outputs": [
    {
     "data": {
      "image/png": "[encoded data removed]",
      "text/plain": [
       "<Figure size 1200x400 with 1 Axes>"
      ]
     },
     "metadata": {},
     "output_type": "display_data"
    }
   ],
   "source": [
    "# нарисовали гистограмму расстояний, которые пользователи преодолевают за одну поездку\n",
    "data_rides['distance'].plot(kind='hist', grid=True, figsize=(12, 4), bins=25)\n",
    "plt.xlabel('расстояние в метрах')\n",
    "plt.ylabel('Частота')\n",
    "plt.title('Расстояние, которое пользователь преодолел за одну поездку в метрах')\n",
    "plt.show()"
   ]
  },
  {
   "cell_type": "code",
   "execution_count": 28,
   "id": "881fe0ca",
   "metadata": {},
   "outputs": [
    {
     "data": {
      "text/plain": [
       "<Axes: >"
      ]
     },
     "execution_count": 28,
     "metadata": {},
     "output_type": "execute_result"
    },
    {
     "data": {
      "image/png": "[encoded data removed]",
      "text/plain": [
       "<Figure size 640x480 with 1 Axes>"
      ]
     },
     "metadata": {},
     "output_type": "display_data"
    }
   ],
   "source": [
    "# построили диаграмму размаха для оценки распределения расстояний\n",
    "data_rides.boxplot('distance')"
   ]
  },
  {
   "cell_type": "code",
   "execution_count": 29,
   "id": "1b0a82c0",
   "metadata": {},
   "outputs": [
    {
     "data": {
      "text/plain": [
       "count    18068.000000\n",
       "mean      3070.659976\n",
       "std       1116.831209\n",
       "min          0.855683\n",
       "25%       2543.226360\n",
       "50%       3133.609994\n",
       "75%       3776.222735\n",
       "max       7211.007745\n",
       "Name: distance, dtype: float64"
      ]
     },
     "execution_count": 29,
     "metadata": {},
     "output_type": "execute_result"
    }
   ],
   "source": [
    "# вывели статистику столбца distance  \n",
    "data_rides['distance'].describe()"
   ]
  },
  {
   "cell_type": "code",
   "execution_count": 30,
   "id": "8ab013d7",
   "metadata": {},
   "outputs": [
    {
     "data": {
      "text/html": [
       "<div>\n",
       "<style scoped>\n",
       "    .dataframe tbody tr th:only-of-type {\n",
       "        vertical-align: middle;\n",
       "    }\n",
       "\n",
       "    .dataframe tbody tr th {\n",
       "        vertical-align: top;\n",
       "    }\n",
       "\n",
       "    .dataframe thead th {\n",
       "        text-align: right;\n",
       "    }\n",
       "</style>\n",
       "<table border=\"1\" class=\"dataframe\">\n",
       "  <thead>\n",
       "    <tr style=\"text-align: right;\">\n",
       "      <th></th>\n",
       "      <th>user_id</th>\n",
       "      <th>distance</th>\n",
       "      <th>duration</th>\n",
       "      <th>date</th>\n",
       "      <th>month_number</th>\n",
       "    </tr>\n",
       "  </thead>\n",
       "  <tbody>\n",
       "    <tr>\n",
       "      <th>2</th>\n",
       "      <td>1</td>\n",
       "      <td>754.159807</td>\n",
       "      <td>6.232113</td>\n",
       "      <td>2021-04-20</td>\n",
       "      <td>4</td>\n",
       "    </tr>\n",
       "    <tr>\n",
       "      <th>9</th>\n",
       "      <td>1</td>\n",
       "      <td>748.690645</td>\n",
       "      <td>15.041884</td>\n",
       "      <td>2021-11-22</td>\n",
       "      <td>11</td>\n",
       "    </tr>\n",
       "    <tr>\n",
       "      <th>47</th>\n",
       "      <td>4</td>\n",
       "      <td>724.559572</td>\n",
       "      <td>11.811399</td>\n",
       "      <td>2021-11-14</td>\n",
       "      <td>11</td>\n",
       "    </tr>\n",
       "    <tr>\n",
       "      <th>100</th>\n",
       "      <td>10</td>\n",
       "      <td>680.952663</td>\n",
       "      <td>5.150377</td>\n",
       "      <td>2021-02-21</td>\n",
       "      <td>2</td>\n",
       "    </tr>\n",
       "    <tr>\n",
       "      <th>149</th>\n",
       "      <td>15</td>\n",
       "      <td>634.891669</td>\n",
       "      <td>15.809350</td>\n",
       "      <td>2021-04-05</td>\n",
       "      <td>4</td>\n",
       "    </tr>\n",
       "    <tr>\n",
       "      <th>...</th>\n",
       "      <td>...</td>\n",
       "      <td>...</td>\n",
       "      <td>...</td>\n",
       "      <td>...</td>\n",
       "      <td>...</td>\n",
       "    </tr>\n",
       "    <tr>\n",
       "      <th>18018</th>\n",
       "      <td>1531</td>\n",
       "      <td>375.107762</td>\n",
       "      <td>5.406654</td>\n",
       "      <td>2021-06-27</td>\n",
       "      <td>6</td>\n",
       "    </tr>\n",
       "    <tr>\n",
       "      <th>18031</th>\n",
       "      <td>1532</td>\n",
       "      <td>303.787850</td>\n",
       "      <td>7.792490</td>\n",
       "      <td>2021-05-21</td>\n",
       "      <td>5</td>\n",
       "    </tr>\n",
       "    <tr>\n",
       "      <th>18037</th>\n",
       "      <td>1532</td>\n",
       "      <td>662.468186</td>\n",
       "      <td>9.528773</td>\n",
       "      <td>2021-11-18</td>\n",
       "      <td>11</td>\n",
       "    </tr>\n",
       "    <tr>\n",
       "      <th>18043</th>\n",
       "      <td>1533</td>\n",
       "      <td>310.488247</td>\n",
       "      <td>10.642389</td>\n",
       "      <td>2021-02-21</td>\n",
       "      <td>2</td>\n",
       "    </tr>\n",
       "    <tr>\n",
       "      <th>18058</th>\n",
       "      <td>1534</td>\n",
       "      <td>195.447469</td>\n",
       "      <td>6.469074</td>\n",
       "      <td>2021-06-11</td>\n",
       "      <td>6</td>\n",
       "    </tr>\n",
       "  </tbody>\n",
       "</table>\n",
       "<p>1078 rows × 5 columns</p>\n",
       "</div>"
      ],
      "text/plain": [
       "       user_id    distance   duration       date  month_number\n",
       "2            1  754.159807   6.232113 2021-04-20             4\n",
       "9            1  748.690645  15.041884 2021-11-22            11\n",
       "47           4  724.559572  11.811399 2021-11-14            11\n",
       "100         10  680.952663   5.150377 2021-02-21             2\n",
       "149         15  634.891669  15.809350 2021-04-05             4\n",
       "...        ...         ...        ...        ...           ...\n",
       "18018     1531  375.107762   5.406654 2021-06-27             6\n",
       "18031     1532  303.787850   7.792490 2021-05-21             5\n",
       "18037     1532  662.468186   9.528773 2021-11-18            11\n",
       "18043     1533  310.488247  10.642389 2021-02-21             2\n",
       "18058     1534  195.447469   6.469074 2021-06-11             6\n",
       "\n",
       "[1078 rows x 5 columns]"
      ]
     },
     "execution_count": 30,
     "metadata": {},
     "output_type": "execute_result"
    }
   ],
   "source": [
    "# вывели выброс по дистации менее 800 метров\n",
    "data_rides[data_rides['distance'] < 800]"
   ]
  },
  {
   "cell_type": "code",
   "execution_count": 31,
   "id": "f44f6393",
   "metadata": {},
   "outputs": [
    {
     "data": {
      "text/html": [
       "<div>\n",
       "<style scoped>\n",
       "    .dataframe tbody tr th:only-of-type {\n",
       "        vertical-align: middle;\n",
       "    }\n",
       "\n",
       "    .dataframe tbody tr th {\n",
       "        vertical-align: top;\n",
       "    }\n",
       "\n",
       "    .dataframe thead th {\n",
       "        text-align: right;\n",
       "    }\n",
       "</style>\n",
       "<table border=\"1\" class=\"dataframe\">\n",
       "  <thead>\n",
       "    <tr style=\"text-align: right;\">\n",
       "      <th></th>\n",
       "      <th>user_id</th>\n",
       "      <th>distance</th>\n",
       "      <th>duration</th>\n",
       "      <th>date</th>\n",
       "      <th>month_number</th>\n",
       "    </tr>\n",
       "  </thead>\n",
       "  <tbody>\n",
       "    <tr>\n",
       "      <th>6549</th>\n",
       "      <td>702</td>\n",
       "      <td>5924.120648</td>\n",
       "      <td>21.156693</td>\n",
       "      <td>2021-11-19</td>\n",
       "      <td>11</td>\n",
       "    </tr>\n",
       "    <tr>\n",
       "      <th>6754</th>\n",
       "      <td>716</td>\n",
       "      <td>5835.527411</td>\n",
       "      <td>20.506582</td>\n",
       "      <td>2021-11-05</td>\n",
       "      <td>11</td>\n",
       "    </tr>\n",
       "    <tr>\n",
       "      <th>6860</th>\n",
       "      <td>724</td>\n",
       "      <td>6225.520342</td>\n",
       "      <td>0.500000</td>\n",
       "      <td>2021-12-16</td>\n",
       "      <td>12</td>\n",
       "    </tr>\n",
       "    <tr>\n",
       "      <th>7026</th>\n",
       "      <td>736</td>\n",
       "      <td>5787.742203</td>\n",
       "      <td>15.890581</td>\n",
       "      <td>2021-02-09</td>\n",
       "      <td>2</td>\n",
       "    </tr>\n",
       "    <tr>\n",
       "      <th>7043</th>\n",
       "      <td>737</td>\n",
       "      <td>6386.938020</td>\n",
       "      <td>25.967345</td>\n",
       "      <td>2021-07-31</td>\n",
       "      <td>7</td>\n",
       "    </tr>\n",
       "    <tr>\n",
       "      <th>...</th>\n",
       "      <td>...</td>\n",
       "      <td>...</td>\n",
       "      <td>...</td>\n",
       "      <td>...</td>\n",
       "      <td>...</td>\n",
       "    </tr>\n",
       "    <tr>\n",
       "      <th>17242</th>\n",
       "      <td>1477</td>\n",
       "      <td>6724.932981</td>\n",
       "      <td>0.500000</td>\n",
       "      <td>2021-01-12</td>\n",
       "      <td>1</td>\n",
       "    </tr>\n",
       "    <tr>\n",
       "      <th>17418</th>\n",
       "      <td>1490</td>\n",
       "      <td>5830.284286</td>\n",
       "      <td>20.660569</td>\n",
       "      <td>2021-01-22</td>\n",
       "      <td>1</td>\n",
       "    </tr>\n",
       "    <tr>\n",
       "      <th>17505</th>\n",
       "      <td>1496</td>\n",
       "      <td>5722.551787</td>\n",
       "      <td>0.500000</td>\n",
       "      <td>2021-02-14</td>\n",
       "      <td>2</td>\n",
       "    </tr>\n",
       "    <tr>\n",
       "      <th>17773</th>\n",
       "      <td>1514</td>\n",
       "      <td>6039.465068</td>\n",
       "      <td>26.421033</td>\n",
       "      <td>2021-09-28</td>\n",
       "      <td>9</td>\n",
       "    </tr>\n",
       "    <tr>\n",
       "      <th>17822</th>\n",
       "      <td>1517</td>\n",
       "      <td>6131.833778</td>\n",
       "      <td>24.395501</td>\n",
       "      <td>2021-12-17</td>\n",
       "      <td>12</td>\n",
       "    </tr>\n",
       "  </tbody>\n",
       "</table>\n",
       "<p>100 rows × 5 columns</p>\n",
       "</div>"
      ],
      "text/plain": [
       "       user_id     distance   duration       date  month_number\n",
       "6549       702  5924.120648  21.156693 2021-11-19            11\n",
       "6754       716  5835.527411  20.506582 2021-11-05            11\n",
       "6860       724  6225.520342   0.500000 2021-12-16            12\n",
       "7026       736  5787.742203  15.890581 2021-02-09             2\n",
       "7043       737  6386.938020  25.967345 2021-07-31             7\n",
       "...        ...          ...        ...        ...           ...\n",
       "17242     1477  6724.932981   0.500000 2021-01-12             1\n",
       "17418     1490  5830.284286  20.660569 2021-01-22             1\n",
       "17505     1496  5722.551787   0.500000 2021-02-14             2\n",
       "17773     1514  6039.465068  26.421033 2021-09-28             9\n",
       "17822     1517  6131.833778  24.395501 2021-12-17            12\n",
       "\n",
       "[100 rows x 5 columns]"
      ]
     },
     "execution_count": 31,
     "metadata": {},
     "output_type": "execute_result"
    }
   ],
   "source": [
    "# вывели выброс по дистации более 5700 метров\n",
    "data_rides[data_rides['distance'] > 5700]"
   ]
  },
  {
   "cell_type": "code",
   "execution_count": 32,
   "id": "5125308a",
   "metadata": {
    "scrolled": false
   },
   "outputs": [
    {
     "name": "stdout",
     "output_type": "stream",
     "text": [
      "Максимальное расстояние, которое преодолел пользователь 7211.0 метра\n",
      "Минимальное расстояние, которое преодолел пользователь 1.0 метр\n",
      "Среднее расстояние, которое преодолели пользователи 3071.0 метра\n",
      "Медиана расстояний, которое преодолели пользователи 3134.0 метра\n"
     ]
    }
   ],
   "source": [
    "# посчитаем основные характеристики распределения: максимум, минимум, среднее, медиану\n",
    "print(f'Максимальное расстояние, которое преодолел пользователь {np.round(data_rides[\"distance\"].max())} метра')\n",
    "print(f'Минимальное расстояние, которое преодолел пользователь {np.round(data_rides[\"distance\"].min())} метр')\n",
    "print(f'Среднее расстояние, которое преодолели пользователи {np.round(data_rides[\"distance\"].mean())} метра')\n",
    "print(f'Медиана расстояний, которое преодолели пользователи {np.round(data_rides[\"distance\"].median())} метра')"
   ]
  },
  {
   "cell_type": "markdown",
   "id": "0ff77f8a",
   "metadata": {},
   "source": [
    "Из графика и расчетов видно, что пользователи чаще всего проезжают за одну поездку расстояние в диапазоне от 2500 до 3700 метров. Наиболее часто встречающие расстояние за одну поездку между средней и медианой: от 3071 до 3134 метров.\n",
    "Минимальное расстояние зафиксировано на уровне 1 метра, максимальное в 7211 метров. Из диаграммы размаха можно заметить, что расстояния до 800 метров и от 5700 метров являются выбросами, если не учитывать выбросы, то получим нормальное распределение расстояний, которое пользователи преодолевают за одну поездку. Можем предположить, что пользователи, которые совершают короткие поездки - едут до или от остановки общественного транспорта или метро, а пользователи, которые совершают длинные поездки - проезжают свой путь полностью до пункта назначения."
   ]
  },
  {
   "cell_type": "markdown",
   "id": "de2686c0",
   "metadata": {},
   "source": [
    "### Продолжительность поездок"
   ]
  },
  {
   "cell_type": "code",
   "execution_count": 33,
   "id": "fc730c4b",
   "metadata": {
    "scrolled": true
   },
   "outputs": [
    {
     "data": {
      "text/plain": [
       "<Axes: >"
      ]
     },
     "execution_count": 33,
     "metadata": {},
     "output_type": "execute_result"
    },
    {
     "data": {
      "image/png": "[encoded data removed]",
      "text/plain": [
       "<Figure size 640x480 with 1 Axes>"
      ]
     },
     "metadata": {},
     "output_type": "display_data"
    }
   ],
   "source": [
    "# построили диаграмму размаха для оценки распределения продолжительности поездок\n",
    "data_rides.boxplot('duration')"
   ]
  },
  {
   "cell_type": "code",
   "execution_count": 34,
   "id": "39764fca",
   "metadata": {},
   "outputs": [
    {
     "data": {
      "text/plain": [
       "count    18068.000000\n",
       "mean        17.805011\n",
       "std          6.091051\n",
       "min          0.500000\n",
       "25%         13.597563\n",
       "50%         17.678395\n",
       "75%         21.724800\n",
       "max         40.823963\n",
       "Name: duration, dtype: float64"
      ]
     },
     "execution_count": 34,
     "metadata": {},
     "output_type": "execute_result"
    }
   ],
   "source": [
    "# вывели статистику столбца duration  \n",
    "data_rides['duration'].describe()"
   ]
  },
  {
   "cell_type": "code",
   "execution_count": 35,
   "id": "77518052",
   "metadata": {},
   "outputs": [
    {
     "data": {
      "text/html": [
       "<div>\n",
       "<style scoped>\n",
       "    .dataframe tbody tr th:only-of-type {\n",
       "        vertical-align: middle;\n",
       "    }\n",
       "\n",
       "    .dataframe tbody tr th {\n",
       "        vertical-align: top;\n",
       "    }\n",
       "\n",
       "    .dataframe thead th {\n",
       "        text-align: right;\n",
       "    }\n",
       "</style>\n",
       "<table border=\"1\" class=\"dataframe\">\n",
       "  <thead>\n",
       "    <tr style=\"text-align: right;\">\n",
       "      <th></th>\n",
       "      <th>user_id</th>\n",
       "      <th>distance</th>\n",
       "      <th>duration</th>\n",
       "      <th>date</th>\n",
       "      <th>month_number</th>\n",
       "    </tr>\n",
       "  </thead>\n",
       "  <tbody>\n",
       "    <tr>\n",
       "      <th>6531</th>\n",
       "      <td>701</td>\n",
       "      <td>4196.445201</td>\n",
       "      <td>0.5</td>\n",
       "      <td>2021-08-31</td>\n",
       "      <td>8</td>\n",
       "    </tr>\n",
       "    <tr>\n",
       "      <th>6570</th>\n",
       "      <td>704</td>\n",
       "      <td>4830.824371</td>\n",
       "      <td>0.5</td>\n",
       "      <td>2021-10-14</td>\n",
       "      <td>10</td>\n",
       "    </tr>\n",
       "    <tr>\n",
       "      <th>6680</th>\n",
       "      <td>712</td>\n",
       "      <td>4684.004397</td>\n",
       "      <td>0.5</td>\n",
       "      <td>2021-03-04</td>\n",
       "      <td>3</td>\n",
       "    </tr>\n",
       "    <tr>\n",
       "      <th>6695</th>\n",
       "      <td>713</td>\n",
       "      <td>5215.642710</td>\n",
       "      <td>0.5</td>\n",
       "      <td>2021-02-25</td>\n",
       "      <td>2</td>\n",
       "    </tr>\n",
       "    <tr>\n",
       "      <th>6768</th>\n",
       "      <td>718</td>\n",
       "      <td>5197.436649</td>\n",
       "      <td>0.5</td>\n",
       "      <td>2021-02-11</td>\n",
       "      <td>2</td>\n",
       "    </tr>\n",
       "    <tr>\n",
       "      <th>...</th>\n",
       "      <td>...</td>\n",
       "      <td>...</td>\n",
       "      <td>...</td>\n",
       "      <td>...</td>\n",
       "      <td>...</td>\n",
       "    </tr>\n",
       "    <tr>\n",
       "      <th>17004</th>\n",
       "      <td>1460</td>\n",
       "      <td>5531.335845</td>\n",
       "      <td>0.5</td>\n",
       "      <td>2021-01-19</td>\n",
       "      <td>1</td>\n",
       "    </tr>\n",
       "    <tr>\n",
       "      <th>17242</th>\n",
       "      <td>1477</td>\n",
       "      <td>6724.932981</td>\n",
       "      <td>0.5</td>\n",
       "      <td>2021-01-12</td>\n",
       "      <td>1</td>\n",
       "    </tr>\n",
       "    <tr>\n",
       "      <th>17314</th>\n",
       "      <td>1483</td>\n",
       "      <td>4445.481070</td>\n",
       "      <td>0.5</td>\n",
       "      <td>2021-03-06</td>\n",
       "      <td>3</td>\n",
       "    </tr>\n",
       "    <tr>\n",
       "      <th>17505</th>\n",
       "      <td>1496</td>\n",
       "      <td>5722.551787</td>\n",
       "      <td>0.5</td>\n",
       "      <td>2021-02-14</td>\n",
       "      <td>2</td>\n",
       "    </tr>\n",
       "    <tr>\n",
       "      <th>17909</th>\n",
       "      <td>1524</td>\n",
       "      <td>4103.998874</td>\n",
       "      <td>0.5</td>\n",
       "      <td>2021-06-18</td>\n",
       "      <td>6</td>\n",
       "    </tr>\n",
       "  </tbody>\n",
       "</table>\n",
       "<p>95 rows × 5 columns</p>\n",
       "</div>"
      ],
      "text/plain": [
       "       user_id     distance  duration       date  month_number\n",
       "6531       701  4196.445201       0.5 2021-08-31             8\n",
       "6570       704  4830.824371       0.5 2021-10-14            10\n",
       "6680       712  4684.004397       0.5 2021-03-04             3\n",
       "6695       713  5215.642710       0.5 2021-02-25             2\n",
       "6768       718  5197.436649       0.5 2021-02-11             2\n",
       "...        ...          ...       ...        ...           ...\n",
       "17004     1460  5531.335845       0.5 2021-01-19             1\n",
       "17242     1477  6724.932981       0.5 2021-01-12             1\n",
       "17314     1483  4445.481070       0.5 2021-03-06             3\n",
       "17505     1496  5722.551787       0.5 2021-02-14             2\n",
       "17909     1524  4103.998874       0.5 2021-06-18             6\n",
       "\n",
       "[95 rows x 5 columns]"
      ]
     },
     "execution_count": 35,
     "metadata": {},
     "output_type": "execute_result"
    }
   ],
   "source": [
    "# вывели выброс минимального времени поездки\n",
    "data_rides[data_rides['duration'] == 0.5]"
   ]
  },
  {
   "cell_type": "code",
   "execution_count": 36,
   "id": "ac636b5f",
   "metadata": {
    "scrolled": true
   },
   "outputs": [
    {
     "data": {
      "text/plain": [
       "count      95.000000\n",
       "mean     5113.176549\n",
       "std       658.254104\n",
       "min      4030.308008\n",
       "25%      4611.510820\n",
       "50%      5052.769411\n",
       "75%      5488.459099\n",
       "max      7211.007745\n",
       "Name: distance, dtype: float64"
      ]
     },
     "execution_count": 36,
     "metadata": {},
     "output_type": "execute_result"
    }
   ],
   "source": [
    "# вывели статистику столбца 'distance' по минимальному времени поездки в 0.5 минуты\n",
    "# заметно, что расстояния поездки достаточны большие для такого времени\n",
    "data_rides[data_rides['duration'] == 0.5]['distance'].describe()"
   ]
  },
  {
   "cell_type": "markdown",
   "id": "b90ee02f",
   "metadata": {},
   "source": [
    "Выявили аномалию: за 0.5 минуты технически невозможно проехать на самокате минимальное расстояние от 4030 метров, таких значений 95.Удалим данную аномалию."
   ]
  },
  {
   "cell_type": "code",
   "execution_count": 37,
   "id": "d2a8b8e5",
   "metadata": {},
   "outputs": [],
   "source": [
    "# удалили строки с продолжительностью поездки в 0.5 минуты\n",
    "data_rides = data_rides[data_rides['duration'] != 0.5]"
   ]
  },
  {
   "cell_type": "code",
   "execution_count": 38,
   "id": "31fc97a6",
   "metadata": {},
   "outputs": [
    {
     "name": "stdout",
     "output_type": "stream",
     "text": [
      "<class 'pandas.core.frame.DataFrame'>\n",
      "Index: 17973 entries, 0 to 18067\n",
      "Data columns (total 5 columns):\n",
      " #   Column        Non-Null Count  Dtype         \n",
      "---  ------        --------------  -----         \n",
      " 0   user_id       17973 non-null  int64         \n",
      " 1   distance      17973 non-null  float64       \n",
      " 2   duration      17973 non-null  float64       \n",
      " 3   date          17973 non-null  datetime64[ns]\n",
      " 4   month_number  17973 non-null  int32         \n",
      "dtypes: datetime64[ns](1), float64(2), int32(1), int64(1)\n",
      "memory usage: 772.3 KB\n"
     ]
    }
   ],
   "source": [
    "# вывели информацию по датафрейму data_rides после удаления строк\n",
    "data_rides.info()"
   ]
  },
  {
   "cell_type": "code",
   "execution_count": 39,
   "id": "ec7cdc83",
   "metadata": {},
   "outputs": [
    {
     "data": {
      "text/html": [
       "<div>\n",
       "<style scoped>\n",
       "    .dataframe tbody tr th:only-of-type {\n",
       "        vertical-align: middle;\n",
       "    }\n",
       "\n",
       "    .dataframe tbody tr th {\n",
       "        vertical-align: top;\n",
       "    }\n",
       "\n",
       "    .dataframe thead th {\n",
       "        text-align: right;\n",
       "    }\n",
       "</style>\n",
       "<table border=\"1\" class=\"dataframe\">\n",
       "  <thead>\n",
       "    <tr style=\"text-align: right;\">\n",
       "      <th></th>\n",
       "      <th>user_id</th>\n",
       "      <th>distance</th>\n",
       "      <th>duration</th>\n",
       "      <th>date</th>\n",
       "      <th>month_number</th>\n",
       "    </tr>\n",
       "  </thead>\n",
       "  <tbody>\n",
       "    <tr>\n",
       "      <th>42</th>\n",
       "      <td>4</td>\n",
       "      <td>4649.488243</td>\n",
       "      <td>35.896929</td>\n",
       "      <td>2021-08-14</td>\n",
       "      <td>8</td>\n",
       "    </tr>\n",
       "    <tr>\n",
       "      <th>143</th>\n",
       "      <td>15</td>\n",
       "      <td>4187.621459</td>\n",
       "      <td>38.125729</td>\n",
       "      <td>2021-01-13</td>\n",
       "      <td>1</td>\n",
       "    </tr>\n",
       "    <tr>\n",
       "      <th>499</th>\n",
       "      <td>55</td>\n",
       "      <td>4151.081878</td>\n",
       "      <td>36.906491</td>\n",
       "      <td>2021-06-30</td>\n",
       "      <td>6</td>\n",
       "    </tr>\n",
       "    <tr>\n",
       "      <th>524</th>\n",
       "      <td>58</td>\n",
       "      <td>4763.920660</td>\n",
       "      <td>35.819603</td>\n",
       "      <td>2021-02-17</td>\n",
       "      <td>2</td>\n",
       "    </tr>\n",
       "    <tr>\n",
       "      <th>854</th>\n",
       "      <td>91</td>\n",
       "      <td>4444.579979</td>\n",
       "      <td>35.222900</td>\n",
       "      <td>2021-11-05</td>\n",
       "      <td>11</td>\n",
       "    </tr>\n",
       "    <tr>\n",
       "      <th>...</th>\n",
       "      <td>...</td>\n",
       "      <td>...</td>\n",
       "      <td>...</td>\n",
       "      <td>...</td>\n",
       "      <td>...</td>\n",
       "    </tr>\n",
       "    <tr>\n",
       "      <th>17119</th>\n",
       "      <td>1468</td>\n",
       "      <td>4744.875534</td>\n",
       "      <td>34.881139</td>\n",
       "      <td>2021-06-13</td>\n",
       "      <td>6</td>\n",
       "    </tr>\n",
       "    <tr>\n",
       "      <th>17235</th>\n",
       "      <td>1476</td>\n",
       "      <td>4217.871874</td>\n",
       "      <td>34.006574</td>\n",
       "      <td>2021-04-13</td>\n",
       "      <td>4</td>\n",
       "    </tr>\n",
       "    <tr>\n",
       "      <th>17353</th>\n",
       "      <td>1485</td>\n",
       "      <td>3807.409685</td>\n",
       "      <td>34.767689</td>\n",
       "      <td>2021-12-09</td>\n",
       "      <td>12</td>\n",
       "    </tr>\n",
       "    <tr>\n",
       "      <th>17684</th>\n",
       "      <td>1509</td>\n",
       "      <td>3728.895778</td>\n",
       "      <td>34.339432</td>\n",
       "      <td>2021-01-22</td>\n",
       "      <td>1</td>\n",
       "    </tr>\n",
       "    <tr>\n",
       "      <th>17935</th>\n",
       "      <td>1526</td>\n",
       "      <td>4488.864389</td>\n",
       "      <td>34.484715</td>\n",
       "      <td>2021-06-05</td>\n",
       "      <td>6</td>\n",
       "    </tr>\n",
       "  </tbody>\n",
       "</table>\n",
       "<p>75 rows × 5 columns</p>\n",
       "</div>"
      ],
      "text/plain": [
       "       user_id     distance   duration       date  month_number\n",
       "42           4  4649.488243  35.896929 2021-08-14             8\n",
       "143         15  4187.621459  38.125729 2021-01-13             1\n",
       "499         55  4151.081878  36.906491 2021-06-30             6\n",
       "524         58  4763.920660  35.819603 2021-02-17             2\n",
       "854         91  4444.579979  35.222900 2021-11-05            11\n",
       "...        ...          ...        ...        ...           ...\n",
       "17119     1468  4744.875534  34.881139 2021-06-13             6\n",
       "17235     1476  4217.871874  34.006574 2021-04-13             4\n",
       "17353     1485  3807.409685  34.767689 2021-12-09            12\n",
       "17684     1509  3728.895778  34.339432 2021-01-22             1\n",
       "17935     1526  4488.864389  34.484715 2021-06-05             6\n",
       "\n",
       "[75 rows x 5 columns]"
      ]
     },
     "execution_count": 39,
     "metadata": {},
     "output_type": "execute_result"
    }
   ],
   "source": [
    "# вывели выброс времени поездки от 34 минут\n",
    "data_rides[data_rides['duration'] > 34]"
   ]
  },
  {
   "cell_type": "code",
   "execution_count": 40,
   "id": "0e8f06bd",
   "metadata": {
    "scrolled": true
   },
   "outputs": [
    {
     "data": {
      "text/plain": [
       "count      75.000000\n",
       "mean     4472.120090\n",
       "std       502.551732\n",
       "min      3672.447904\n",
       "25%      4142.628260\n",
       "50%      4366.325701\n",
       "75%      4759.177173\n",
       "max      6436.625605\n",
       "Name: distance, dtype: float64"
      ]
     },
     "execution_count": 40,
     "metadata": {},
     "output_type": "execute_result"
    }
   ],
   "source": [
    "# вывели статистику столбца 'distance' по минимальному времени поездки от 34 минут, для проверки выброса \n",
    "data_rides[data_rides['duration'] > 34]['distance'].describe()"
   ]
  },
  {
   "cell_type": "code",
   "execution_count": 41,
   "id": "61114273",
   "metadata": {},
   "outputs": [
    {
     "data": {
      "image/png": "[encoded data removed]",
      "text/plain": [
       "<Figure size 1200x400 with 1 Axes>"
      ]
     },
     "metadata": {},
     "output_type": "display_data"
    }
   ],
   "source": [
    "# нарисовали гистограмму продолжительности поездок в минутах, которые пользователи преодолевают за одну поездку\n",
    "data_rides['duration'].plot(kind='hist', grid=True, figsize=(12, 4), bins=25)\n",
    "plt.xlabel('Время в минутах')\n",
    "plt.ylabel('Частота')\n",
    "plt.title('Продолжительность поездок в минутах')\n",
    "plt.show()"
   ]
  },
  {
   "cell_type": "code",
   "execution_count": 42,
   "id": "13c8cfde",
   "metadata": {
    "scrolled": false
   },
   "outputs": [
    {
     "name": "stdout",
     "output_type": "stream",
     "text": [
      "Максимальная продолжительность поездки пользователем 41.0 минута\n",
      "Минимальная продолжительность поездки пользователем 2.04 минут\n",
      "Средняя продолжительность поездок пользователей 18.0 минут\n",
      "Медиана продолжительностей поездок пользователей 18.0 минут\n"
     ]
    }
   ],
   "source": [
    "# посчитали основные характеристики распределения: максимум, минимум, среднее, медиану\n",
    "print(f'Максимальная продолжительность поездки пользователем {np.round(data_rides[\"duration\"].max())} минута')\n",
    "print(f'Минимальная продолжительность поездки пользователем {np.round(data_rides[\"duration\"].min(),2)} минут')\n",
    "print(f'Средняя продолжительность поездок пользователей {np.round(data_rides[\"duration\"].mean())} минут')\n",
    "print(f'Медиана продолжительностей поездок пользователей {np.round(data_rides[\"duration\"].median())} минут')"
   ]
  },
  {
   "cell_type": "markdown",
   "id": "d90e45b4",
   "metadata": {},
   "source": [
    "Из графика и расчетов видно, что средняя и медианная продолжительность поездки пользователей составляет 18 минут и это время самое частно распространенное среди пользователей. Продолжительность поездки распределена нормально вокруг медианы. Диапазон самого распростараненного времени составляет от 14 до 22 минут. Из диаграммы размаха можно заметить, что продолжительность до 2 минут и от 34 минут являются выбросами. Проверив данные выбросы выявили аномалию, продолжительность поездки в 0.5 минуты на длительные расстояния более 4 километров. Данную аномалию удалили из датафрейма."
   ]
  },
  {
   "cell_type": "markdown",
   "id": "4ef51331",
   "metadata": {},
   "source": [
    "## Шаг. Объединение данных"
   ]
  },
  {
   "cell_type": "markdown",
   "id": "d20a21aa",
   "metadata": {},
   "source": [
    "### Объединение данных о пользователях, поездках и подписках в один датафрейм"
   ]
  },
  {
   "cell_type": "code",
   "execution_count": 43,
   "id": "8ce5ad53",
   "metadata": {
    "scrolled": true
   },
   "outputs": [],
   "source": [
    "# объединили 3 датафрейма в один, поместили в переменную data\n",
    "data_temporary = data_users.merge(data_rides, on='user_id')\n",
    "data = data_temporary.merge(data_subscriptions, on='subscription_type')"
   ]
  },
  {
   "cell_type": "code",
   "execution_count": 44,
   "id": "2e04e6ca",
   "metadata": {},
   "outputs": [
    {
     "data": {
      "text/html": [
       "<div>\n",
       "<style scoped>\n",
       "    .dataframe tbody tr th:only-of-type {\n",
       "        vertical-align: middle;\n",
       "    }\n",
       "\n",
       "    .dataframe tbody tr th {\n",
       "        vertical-align: top;\n",
       "    }\n",
       "\n",
       "    .dataframe thead th {\n",
       "        text-align: right;\n",
       "    }\n",
       "</style>\n",
       "<table border=\"1\" class=\"dataframe\">\n",
       "  <thead>\n",
       "    <tr style=\"text-align: right;\">\n",
       "      <th></th>\n",
       "      <th>user_id</th>\n",
       "      <th>name</th>\n",
       "      <th>age</th>\n",
       "      <th>city</th>\n",
       "      <th>subscription_type</th>\n",
       "      <th>distance</th>\n",
       "      <th>duration</th>\n",
       "      <th>date</th>\n",
       "      <th>month_number</th>\n",
       "      <th>minute_price</th>\n",
       "      <th>start_ride_price</th>\n",
       "      <th>subscription_fee</th>\n",
       "    </tr>\n",
       "  </thead>\n",
       "  <tbody>\n",
       "    <tr>\n",
       "      <th>0</th>\n",
       "      <td>1</td>\n",
       "      <td>Кира</td>\n",
       "      <td>22</td>\n",
       "      <td>Тюмень</td>\n",
       "      <td>ultra</td>\n",
       "      <td>4409.919140</td>\n",
       "      <td>25.599769</td>\n",
       "      <td>2021-01-01</td>\n",
       "      <td>1</td>\n",
       "      <td>6</td>\n",
       "      <td>0</td>\n",
       "      <td>199</td>\n",
       "    </tr>\n",
       "    <tr>\n",
       "      <th>1</th>\n",
       "      <td>1</td>\n",
       "      <td>Кира</td>\n",
       "      <td>22</td>\n",
       "      <td>Тюмень</td>\n",
       "      <td>ultra</td>\n",
       "      <td>2617.592153</td>\n",
       "      <td>15.816871</td>\n",
       "      <td>2021-01-18</td>\n",
       "      <td>1</td>\n",
       "      <td>6</td>\n",
       "      <td>0</td>\n",
       "      <td>199</td>\n",
       "    </tr>\n",
       "    <tr>\n",
       "      <th>2</th>\n",
       "      <td>1</td>\n",
       "      <td>Кира</td>\n",
       "      <td>22</td>\n",
       "      <td>Тюмень</td>\n",
       "      <td>ultra</td>\n",
       "      <td>754.159807</td>\n",
       "      <td>6.232113</td>\n",
       "      <td>2021-04-20</td>\n",
       "      <td>4</td>\n",
       "      <td>6</td>\n",
       "      <td>0</td>\n",
       "      <td>199</td>\n",
       "    </tr>\n",
       "    <tr>\n",
       "      <th>3</th>\n",
       "      <td>1</td>\n",
       "      <td>Кира</td>\n",
       "      <td>22</td>\n",
       "      <td>Тюмень</td>\n",
       "      <td>ultra</td>\n",
       "      <td>2694.783254</td>\n",
       "      <td>18.511000</td>\n",
       "      <td>2021-08-11</td>\n",
       "      <td>8</td>\n",
       "      <td>6</td>\n",
       "      <td>0</td>\n",
       "      <td>199</td>\n",
       "    </tr>\n",
       "    <tr>\n",
       "      <th>4</th>\n",
       "      <td>1</td>\n",
       "      <td>Кира</td>\n",
       "      <td>22</td>\n",
       "      <td>Тюмень</td>\n",
       "      <td>ultra</td>\n",
       "      <td>4028.687306</td>\n",
       "      <td>26.265803</td>\n",
       "      <td>2021-08-28</td>\n",
       "      <td>8</td>\n",
       "      <td>6</td>\n",
       "      <td>0</td>\n",
       "      <td>199</td>\n",
       "    </tr>\n",
       "  </tbody>\n",
       "</table>\n",
       "</div>"
      ],
      "text/plain": [
       "   user_id  name  age    city subscription_type     distance   duration  \\\n",
       "0        1  Кира   22  Тюмень             ultra  4409.919140  25.599769   \n",
       "1        1  Кира   22  Тюмень             ultra  2617.592153  15.816871   \n",
       "2        1  Кира   22  Тюмень             ultra   754.159807   6.232113   \n",
       "3        1  Кира   22  Тюмень             ultra  2694.783254  18.511000   \n",
       "4        1  Кира   22  Тюмень             ultra  4028.687306  26.265803   \n",
       "\n",
       "        date  month_number  minute_price  start_ride_price  subscription_fee  \n",
       "0 2021-01-01             1             6                 0               199  \n",
       "1 2021-01-18             1             6                 0               199  \n",
       "2 2021-04-20             4             6                 0               199  \n",
       "3 2021-08-11             8             6                 0               199  \n",
       "4 2021-08-28             8             6                 0               199  "
      ]
     },
     "execution_count": 44,
     "metadata": {},
     "output_type": "execute_result"
    }
   ],
   "source": [
    "data.head() # вывели 5 строк объединенной таблицы для просмотра"
   ]
  },
  {
   "cell_type": "code",
   "execution_count": 45,
   "id": "1488742f",
   "metadata": {},
   "outputs": [
    {
     "name": "stdout",
     "output_type": "stream",
     "text": [
      "<class 'pandas.core.frame.DataFrame'>\n",
      "RangeIndex: 17973 entries, 0 to 17972\n",
      "Data columns (total 12 columns):\n",
      " #   Column             Non-Null Count  Dtype         \n",
      "---  ------             --------------  -----         \n",
      " 0   user_id            17973 non-null  int64         \n",
      " 1   name               17973 non-null  object        \n",
      " 2   age                17973 non-null  int64         \n",
      " 3   city               17973 non-null  object        \n",
      " 4   subscription_type  17973 non-null  object        \n",
      " 5   distance           17973 non-null  float64       \n",
      " 6   duration           17973 non-null  float64       \n",
      " 7   date               17973 non-null  datetime64[ns]\n",
      " 8   month_number       17973 non-null  int32         \n",
      " 9   minute_price       17973 non-null  int64         \n",
      " 10  start_ride_price   17973 non-null  int64         \n",
      " 11  subscription_fee   17973 non-null  int64         \n",
      "dtypes: datetime64[ns](1), float64(2), int32(1), int64(5), object(3)\n",
      "memory usage: 1.6+ MB\n"
     ]
    }
   ],
   "source": [
    "data.info() # посмотрели на общую информацию по объединенной таблице"
   ]
  },
  {
   "cell_type": "markdown",
   "id": "8284c919",
   "metadata": {},
   "source": [
    "Объединили в 1 датафрейм данные трех таблиц. Вывели общую иформацию для проверки, что таблицы корректно соединились. Количество строк равняется количеству строк таблицы с максимальным числом, количество столбцов 12. Пропущенных значений нет."
   ]
  },
  {
   "cell_type": "markdown",
   "id": "6ecf9c0f",
   "metadata": {},
   "source": [
    "### Создание два датафрейма о пользователях с подпиской и без"
   ]
  },
  {
   "cell_type": "markdown",
   "id": "dd7e5aca",
   "metadata": {},
   "source": [
    "Создадим ещё два датафрейма из датафрейма, созданного на этапе 4.1"
   ]
  },
  {
   "cell_type": "markdown",
   "id": "935c5f34",
   "metadata": {},
   "source": [
    "#### Создание датафрейма c данными о пользователях без подписки"
   ]
  },
  {
   "cell_type": "code",
   "execution_count": 46,
   "id": "033a74f3",
   "metadata": {
    "scrolled": true
   },
   "outputs": [
    {
     "data": {
      "text/html": [
       "<div>\n",
       "<style scoped>\n",
       "    .dataframe tbody tr th:only-of-type {\n",
       "        vertical-align: middle;\n",
       "    }\n",
       "\n",
       "    .dataframe tbody tr th {\n",
       "        vertical-align: top;\n",
       "    }\n",
       "\n",
       "    .dataframe thead th {\n",
       "        text-align: right;\n",
       "    }\n",
       "</style>\n",
       "<table border=\"1\" class=\"dataframe\">\n",
       "  <thead>\n",
       "    <tr style=\"text-align: right;\">\n",
       "      <th></th>\n",
       "      <th>user_id</th>\n",
       "      <th>name</th>\n",
       "      <th>age</th>\n",
       "      <th>city</th>\n",
       "      <th>subscription_type</th>\n",
       "      <th>distance</th>\n",
       "      <th>duration</th>\n",
       "      <th>date</th>\n",
       "      <th>month_number</th>\n",
       "      <th>minute_price</th>\n",
       "      <th>start_ride_price</th>\n",
       "      <th>subscription_fee</th>\n",
       "    </tr>\n",
       "  </thead>\n",
       "  <tbody>\n",
       "    <tr>\n",
       "      <th>6500</th>\n",
       "      <td>700</td>\n",
       "      <td>Айдар</td>\n",
       "      <td>22</td>\n",
       "      <td>Омск</td>\n",
       "      <td>free</td>\n",
       "      <td>2515.690719</td>\n",
       "      <td>14.944286</td>\n",
       "      <td>2021-01-02</td>\n",
       "      <td>1</td>\n",
       "      <td>8</td>\n",
       "      <td>50</td>\n",
       "      <td>0</td>\n",
       "    </tr>\n",
       "    <tr>\n",
       "      <th>6501</th>\n",
       "      <td>700</td>\n",
       "      <td>Айдар</td>\n",
       "      <td>22</td>\n",
       "      <td>Омск</td>\n",
       "      <td>free</td>\n",
       "      <td>846.932642</td>\n",
       "      <td>16.234663</td>\n",
       "      <td>2021-02-01</td>\n",
       "      <td>2</td>\n",
       "      <td>8</td>\n",
       "      <td>50</td>\n",
       "      <td>0</td>\n",
       "    </tr>\n",
       "    <tr>\n",
       "      <th>6502</th>\n",
       "      <td>700</td>\n",
       "      <td>Айдар</td>\n",
       "      <td>22</td>\n",
       "      <td>Омск</td>\n",
       "      <td>free</td>\n",
       "      <td>4004.434142</td>\n",
       "      <td>20.016628</td>\n",
       "      <td>2021-02-04</td>\n",
       "      <td>2</td>\n",
       "      <td>8</td>\n",
       "      <td>50</td>\n",
       "      <td>0</td>\n",
       "    </tr>\n",
       "    <tr>\n",
       "      <th>6503</th>\n",
       "      <td>700</td>\n",
       "      <td>Айдар</td>\n",
       "      <td>22</td>\n",
       "      <td>Омск</td>\n",
       "      <td>free</td>\n",
       "      <td>1205.911290</td>\n",
       "      <td>9.782872</td>\n",
       "      <td>2021-02-10</td>\n",
       "      <td>2</td>\n",
       "      <td>8</td>\n",
       "      <td>50</td>\n",
       "      <td>0</td>\n",
       "    </tr>\n",
       "    <tr>\n",
       "      <th>6504</th>\n",
       "      <td>700</td>\n",
       "      <td>Айдар</td>\n",
       "      <td>22</td>\n",
       "      <td>Омск</td>\n",
       "      <td>free</td>\n",
       "      <td>3047.379435</td>\n",
       "      <td>17.427673</td>\n",
       "      <td>2021-02-14</td>\n",
       "      <td>2</td>\n",
       "      <td>8</td>\n",
       "      <td>50</td>\n",
       "      <td>0</td>\n",
       "    </tr>\n",
       "  </tbody>\n",
       "</table>\n",
       "</div>"
      ],
      "text/plain": [
       "      user_id   name  age  city subscription_type     distance   duration  \\\n",
       "6500      700  Айдар   22  Омск              free  2515.690719  14.944286   \n",
       "6501      700  Айдар   22  Омск              free   846.932642  16.234663   \n",
       "6502      700  Айдар   22  Омск              free  4004.434142  20.016628   \n",
       "6503      700  Айдар   22  Омск              free  1205.911290   9.782872   \n",
       "6504      700  Айдар   22  Омск              free  3047.379435  17.427673   \n",
       "\n",
       "           date  month_number  minute_price  start_ride_price  \\\n",
       "6500 2021-01-02             1             8                50   \n",
       "6501 2021-02-01             2             8                50   \n",
       "6502 2021-02-04             2             8                50   \n",
       "6503 2021-02-10             2             8                50   \n",
       "6504 2021-02-14             2             8                50   \n",
       "\n",
       "      subscription_fee  \n",
       "6500                 0  \n",
       "6501                 0  \n",
       "6502                 0  \n",
       "6503                 0  \n",
       "6504                 0  "
      ]
     },
     "execution_count": 46,
     "metadata": {},
     "output_type": "execute_result"
    }
   ],
   "source": [
    "# сделали сортировку по пользователям без подписки и сохранили в переменную data_free\n",
    "data_free = data[data['subscription_type'] == 'free']\n",
    "data_free.head() # вывели 5 строк таблицы по пользователям без подписки"
   ]
  },
  {
   "cell_type": "code",
   "execution_count": 47,
   "id": "43dd02de",
   "metadata": {},
   "outputs": [
    {
     "data": {
      "text/plain": [
       "(11473, 12)"
      ]
     },
     "execution_count": 47,
     "metadata": {},
     "output_type": "execute_result"
    }
   ],
   "source": [
    "data_free.shape # вывели размер таблицы для проверки"
   ]
  },
  {
   "cell_type": "markdown",
   "id": "d03f875d",
   "metadata": {},
   "source": [
    "#### Создание датафрейма с данными о пользователях с подпиской"
   ]
  },
  {
   "cell_type": "code",
   "execution_count": 48,
   "id": "fd1d2280",
   "metadata": {
    "scrolled": true
   },
   "outputs": [
    {
     "data": {
      "text/html": [
       "<div>\n",
       "<style scoped>\n",
       "    .dataframe tbody tr th:only-of-type {\n",
       "        vertical-align: middle;\n",
       "    }\n",
       "\n",
       "    .dataframe tbody tr th {\n",
       "        vertical-align: top;\n",
       "    }\n",
       "\n",
       "    .dataframe thead th {\n",
       "        text-align: right;\n",
       "    }\n",
       "</style>\n",
       "<table border=\"1\" class=\"dataframe\">\n",
       "  <thead>\n",
       "    <tr style=\"text-align: right;\">\n",
       "      <th></th>\n",
       "      <th>user_id</th>\n",
       "      <th>name</th>\n",
       "      <th>age</th>\n",
       "      <th>city</th>\n",
       "      <th>subscription_type</th>\n",
       "      <th>distance</th>\n",
       "      <th>duration</th>\n",
       "      <th>date</th>\n",
       "      <th>month_number</th>\n",
       "      <th>minute_price</th>\n",
       "      <th>start_ride_price</th>\n",
       "      <th>subscription_fee</th>\n",
       "    </tr>\n",
       "  </thead>\n",
       "  <tbody>\n",
       "    <tr>\n",
       "      <th>0</th>\n",
       "      <td>1</td>\n",
       "      <td>Кира</td>\n",
       "      <td>22</td>\n",
       "      <td>Тюмень</td>\n",
       "      <td>ultra</td>\n",
       "      <td>4409.919140</td>\n",
       "      <td>25.599769</td>\n",
       "      <td>2021-01-01</td>\n",
       "      <td>1</td>\n",
       "      <td>6</td>\n",
       "      <td>0</td>\n",
       "      <td>199</td>\n",
       "    </tr>\n",
       "    <tr>\n",
       "      <th>1</th>\n",
       "      <td>1</td>\n",
       "      <td>Кира</td>\n",
       "      <td>22</td>\n",
       "      <td>Тюмень</td>\n",
       "      <td>ultra</td>\n",
       "      <td>2617.592153</td>\n",
       "      <td>15.816871</td>\n",
       "      <td>2021-01-18</td>\n",
       "      <td>1</td>\n",
       "      <td>6</td>\n",
       "      <td>0</td>\n",
       "      <td>199</td>\n",
       "    </tr>\n",
       "    <tr>\n",
       "      <th>2</th>\n",
       "      <td>1</td>\n",
       "      <td>Кира</td>\n",
       "      <td>22</td>\n",
       "      <td>Тюмень</td>\n",
       "      <td>ultra</td>\n",
       "      <td>754.159807</td>\n",
       "      <td>6.232113</td>\n",
       "      <td>2021-04-20</td>\n",
       "      <td>4</td>\n",
       "      <td>6</td>\n",
       "      <td>0</td>\n",
       "      <td>199</td>\n",
       "    </tr>\n",
       "    <tr>\n",
       "      <th>3</th>\n",
       "      <td>1</td>\n",
       "      <td>Кира</td>\n",
       "      <td>22</td>\n",
       "      <td>Тюмень</td>\n",
       "      <td>ultra</td>\n",
       "      <td>2694.783254</td>\n",
       "      <td>18.511000</td>\n",
       "      <td>2021-08-11</td>\n",
       "      <td>8</td>\n",
       "      <td>6</td>\n",
       "      <td>0</td>\n",
       "      <td>199</td>\n",
       "    </tr>\n",
       "    <tr>\n",
       "      <th>4</th>\n",
       "      <td>1</td>\n",
       "      <td>Кира</td>\n",
       "      <td>22</td>\n",
       "      <td>Тюмень</td>\n",
       "      <td>ultra</td>\n",
       "      <td>4028.687306</td>\n",
       "      <td>26.265803</td>\n",
       "      <td>2021-08-28</td>\n",
       "      <td>8</td>\n",
       "      <td>6</td>\n",
       "      <td>0</td>\n",
       "      <td>199</td>\n",
       "    </tr>\n",
       "  </tbody>\n",
       "</table>\n",
       "</div>"
      ],
      "text/plain": [
       "   user_id  name  age    city subscription_type     distance   duration  \\\n",
       "0        1  Кира   22  Тюмень             ultra  4409.919140  25.599769   \n",
       "1        1  Кира   22  Тюмень             ultra  2617.592153  15.816871   \n",
       "2        1  Кира   22  Тюмень             ultra   754.159807   6.232113   \n",
       "3        1  Кира   22  Тюмень             ultra  2694.783254  18.511000   \n",
       "4        1  Кира   22  Тюмень             ultra  4028.687306  26.265803   \n",
       "\n",
       "        date  month_number  minute_price  start_ride_price  subscription_fee  \n",
       "0 2021-01-01             1             6                 0               199  \n",
       "1 2021-01-18             1             6                 0               199  \n",
       "2 2021-04-20             4             6                 0               199  \n",
       "3 2021-08-11             8             6                 0               199  \n",
       "4 2021-08-28             8             6                 0               199  "
      ]
     },
     "execution_count": 48,
     "metadata": {},
     "output_type": "execute_result"
    }
   ],
   "source": [
    "# сделали сортировку по пользователям с подпиской и сохранили в переменную data_ultra\n",
    "data_ultra = data[data['subscription_type'] == 'ultra']\n",
    "data_ultra.head() # вывели 5 строк таблицы по пользователям c подпиской"
   ]
  },
  {
   "cell_type": "code",
   "execution_count": 49,
   "id": "592e3007",
   "metadata": {},
   "outputs": [
    {
     "data": {
      "text/plain": [
       "(6500, 12)"
      ]
     },
     "execution_count": 49,
     "metadata": {},
     "output_type": "execute_result"
    }
   ],
   "source": [
    "data_ultra.shape # вывели размер таблицы для проверки"
   ]
  },
  {
   "cell_type": "code",
   "execution_count": 50,
   "id": "91e55732",
   "metadata": {},
   "outputs": [
    {
     "data": {
      "text/plain": [
       "17973"
      ]
     },
     "execution_count": 50,
     "metadata": {},
     "output_type": "execute_result"
    }
   ],
   "source": [
    "data_ultra.shape[0] + data_free.shape[0] # проверили что все строки подтянулись в разделенных датафреймах"
   ]
  },
  {
   "cell_type": "code",
   "execution_count": 51,
   "id": "e6f1f63e",
   "metadata": {},
   "outputs": [
    {
     "name": "stdout",
     "output_type": "stream",
     "text": [
      "Количество поездок пользователей без подписки больше на: 76.5%\n"
     ]
    }
   ],
   "source": [
    "print(f'Количество поездок пользователей без подписки больше на: \\\n",
    "{(data_free.shape[0] / data_ultra.shape[0] - 1):.1%}'\n",
    ")"
   ]
  },
  {
   "cell_type": "markdown",
   "id": "793279a0",
   "metadata": {},
   "source": [
    "Раздели объединенный датафрейм на пользователей с подпиской и без. Можно заметить, что количество поездок у пользователей без на 76.5% больше чем пользоватлей с подпиской, хотя ранее на графике соотношение пользователей с подпикой и без наблюдали небольшую разницу в 8%."
   ]
  },
  {
   "cell_type": "markdown",
   "id": "f37bac51",
   "metadata": {},
   "source": [
    "### Визуализация информации о расстоянии и времени поездок для пользователей обеих категорий"
   ]
  },
  {
   "cell_type": "code",
   "execution_count": 52,
   "id": "c54f4b96",
   "metadata": {
    "scrolled": true
   },
   "outputs": [
    {
     "data": {
      "image/png": "[encoded data removed]",
      "text/plain": [
       "<Figure size 1200x400 with 1 Axes>"
      ]
     },
     "metadata": {},
     "output_type": "display_data"
    }
   ],
   "source": [
    "# нарисовали на одном графике расстояния поездок пользователей с подпиской и без\n",
    "ax1 = data_free['distance'].plot(\n",
    "    kind='hist', \n",
    "    bins=25,\n",
    "    alpha=0.5, \n",
    "    label='Расстояние пользователей без подписки', \n",
    "    legend=True)\n",
    "data_ultra['distance'].plot(\n",
    "    color='red',\n",
    "    figsize=(12, 4), \n",
    "    kind='hist', \n",
    "    bins=25, \n",
    "    alpha=0.9, \n",
    "    label='Расстояние пользователей с подпиской', \n",
    "    ax=ax1,\n",
    "    legend=True,\n",
    "    grid=True)\n",
    "plt.xlabel('Расстояние в метрах')\n",
    "plt.ylabel('Частота')\n",
    "plt.title('Расстояние поездок пользователей в метрах')\n",
    "plt.show()"
   ]
  },
  {
   "cell_type": "code",
   "execution_count": 53,
   "id": "4e933add",
   "metadata": {},
   "outputs": [
    {
     "data": {
      "text/plain": [
       "count    11473.000000\n",
       "mean      3028.374239\n",
       "std       1235.541051\n",
       "min          0.855683\n",
       "25%       2360.878149\n",
       "50%       3102.083025\n",
       "75%       3883.979311\n",
       "max       7066.003772\n",
       "Name: distance, dtype: float64"
      ]
     },
     "execution_count": 53,
     "metadata": {},
     "output_type": "execute_result"
    }
   ],
   "source": [
    "# вывели статистику по столбку расстояние поездок пользоватлей без подписки\n",
    "data_free['distance'].describe()"
   ]
  },
  {
   "cell_type": "code",
   "execution_count": 54,
   "id": "1109eeae",
   "metadata": {},
   "outputs": [
    {
     "data": {
      "text/plain": [
       "count    6500.000000\n",
       "mean     3115.445388\n",
       "std       836.895330\n",
       "min       244.210438\n",
       "25%      2785.444017\n",
       "50%      3148.637229\n",
       "75%      3560.574425\n",
       "max      5699.769662\n",
       "Name: distance, dtype: float64"
      ]
     },
     "execution_count": 54,
     "metadata": {},
     "output_type": "execute_result"
    }
   ],
   "source": [
    "# вывели статистику по столбку расстояние поездок пользоватлей с подпиской\n",
    "data_ultra['distance'].describe()"
   ]
  },
  {
   "cell_type": "markdown",
   "id": "a4dd0752",
   "metadata": {},
   "source": [
    "Из графика видно, что разброс растояний которое проезжают пользователи без подписки относительно середины выше, чем у пользователей с подпиской. Так диапазон растояний, которые наиболее распространены у пользователей без подписки составляет от 2360 до 3883 метров, в тоже время у пользователей с подпиской диапазон уже и составляет 2785 до 3560 метров. Также пользователи с подпиской проезжают минимальное растояние от 244 метров, а пользователи без подписки могут проехать всего метр, чтобы попробовать. В п.3.4 заметили 2 пика - один характеризует короткие поездки, другой длинные поездки. Предположили, что короткие поездки совершают, чтобы добраться от или до остановки общественного транспорта. Исходя из графика такие поездки совершают чаще всего пользователей без подписки."
   ]
  },
  {
   "cell_type": "markdown",
   "id": "27491f75",
   "metadata": {},
   "source": [
    "<div style>\n",
    "<font size=\"4\"><b></b></font>\n",
    "<font size=\"5\", color = \"black\">\n",
    "🤝"
   ]
  },
  {
   "cell_type": "code",
   "execution_count": 55,
   "id": "cf751dd1",
   "metadata": {
    "scrolled": false
   },
   "outputs": [
    {
     "data": {
      "image/png": "[encoded data removed]",
      "text/plain": [
       "<Figure size 1200x350 with 1 Axes>"
      ]
     },
     "metadata": {},
     "output_type": "display_data"
    }
   ],
   "source": [
    "# нарисовали на одном графике продолжительность поездок пользователей с подпиской и без\n",
    "ax2 = data_free['duration'].plot(\n",
    "    kind='hist', \n",
    "    bins=25, \n",
    "    alpha=0.5, \n",
    "    label='Время поездки пользователей без подписки', \n",
    "    legend=True)\n",
    "data_ultra['duration'].plot(\n",
    "    color='red',\n",
    "    figsize=(12, 3.5), \n",
    "    kind='hist', \n",
    "    bins=25, \n",
    "    alpha=0.9, \n",
    "    label='Время поездки пользователей с подпиской', \n",
    "    ax=ax2,\n",
    "    legend=True,\n",
    "    grid=True)\n",
    "plt.xlabel('Время в минутах')\n",
    "plt.ylabel('Частота')\n",
    "plt.title('Продолжительность поездок пользователей в минутах')\n",
    "plt.show()"
   ]
  },
  {
   "cell_type": "code",
   "execution_count": 56,
   "id": "b62aa824",
   "metadata": {},
   "outputs": [
    {
     "data": {
      "text/plain": [
       "count    11473.000000\n",
       "mean        17.530771\n",
       "std          6.162609\n",
       "min          2.035632\n",
       "25%         13.085688\n",
       "50%         17.383807\n",
       "75%         21.638038\n",
       "max         34.948498\n",
       "Name: duration, dtype: float64"
      ]
     },
     "execution_count": 56,
     "metadata": {},
     "output_type": "execute_result"
    }
   ],
   "source": [
    "# вывели статистику по столбку длительность поездок пользоватлей без подписки\n",
    "data_free['duration'].describe()"
   ]
  },
  {
   "cell_type": "code",
   "execution_count": 57,
   "id": "e43c6775",
   "metadata": {},
   "outputs": [
    {
     "data": {
      "text/plain": [
       "count    6500.000000\n",
       "mean       18.541985\n",
       "std         5.572048\n",
       "min         3.760353\n",
       "25%        14.524654\n",
       "50%        18.178153\n",
       "75%        21.884129\n",
       "max        40.823963\n",
       "Name: duration, dtype: float64"
      ]
     },
     "execution_count": 57,
     "metadata": {},
     "output_type": "execute_result"
    }
   ],
   "source": [
    "# вывели статистику по столбку длительность поездок пользоватлей с подпиской\n",
    "data_ultra['duration'].describe()"
   ]
  },
  {
   "cell_type": "markdown",
   "id": "412b6989",
   "metadata": {},
   "source": [
    "Из графика можем наблюдать, что время поездок пользователей распределено нормально у обоих категорий вокруг медианы в 18 минут и диапазоном от 13 до 22 минут. Т.к. пользователи без подписки совершают поездок больше, то и частота поездок у них выше. Минимальное время у пользователей без подписки в 2 минуты, максимальное 35 минут. У пользователей с подпиской минимальное время почти в 2 раза выше и составляет 3.7 минуты, максимальное - 40.8 минуты."
   ]
  },
  {
   "cell_type": "markdown",
   "id": "402d620f",
   "metadata": {},
   "source": [
    "## Шаг. Подсчёт выручки"
   ]
  },
  {
   "cell_type": "markdown",
   "id": "4441d252",
   "metadata": {},
   "source": [
    "### Создание датафрейма с агрегированными данными о поездках"
   ]
  },
  {
   "cell_type": "markdown",
   "id": "b23454be",
   "metadata": {},
   "source": [
    "Создадим датафрейм с агрегированными данными о поездках на основе датафрейма с объединёнными данными из шага 4: найдем суммарное расстояние, количество поездок и суммарное время для каждого пользователя за каждый месяц"
   ]
  },
  {
   "cell_type": "code",
   "execution_count": 58,
   "id": "32d1dc9b",
   "metadata": {},
   "outputs": [],
   "source": [
    "# округлили продолжительность поездки до следующего целого числа\n",
    "data['duration'] = np.ceil(data['duration'])"
   ]
  },
  {
   "cell_type": "code",
   "execution_count": 59,
   "id": "f6875b70",
   "metadata": {
    "scrolled": true
   },
   "outputs": [
    {
     "data": {
      "text/html": [
       "<div>\n",
       "<style scoped>\n",
       "    .dataframe tbody tr th:only-of-type {\n",
       "        vertical-align: middle;\n",
       "    }\n",
       "\n",
       "    .dataframe tbody tr th {\n",
       "        vertical-align: top;\n",
       "    }\n",
       "\n",
       "    .dataframe thead th {\n",
       "        text-align: right;\n",
       "    }\n",
       "</style>\n",
       "<table border=\"1\" class=\"dataframe\">\n",
       "  <thead>\n",
       "    <tr style=\"text-align: right;\">\n",
       "      <th></th>\n",
       "      <th>user_id</th>\n",
       "      <th>name</th>\n",
       "      <th>age</th>\n",
       "      <th>city</th>\n",
       "      <th>subscription_type</th>\n",
       "      <th>distance</th>\n",
       "      <th>duration</th>\n",
       "      <th>date</th>\n",
       "      <th>month_number</th>\n",
       "      <th>minute_price</th>\n",
       "      <th>start_ride_price</th>\n",
       "      <th>subscription_fee</th>\n",
       "    </tr>\n",
       "  </thead>\n",
       "  <tbody>\n",
       "    <tr>\n",
       "      <th>0</th>\n",
       "      <td>1</td>\n",
       "      <td>Кира</td>\n",
       "      <td>22</td>\n",
       "      <td>Тюмень</td>\n",
       "      <td>ultra</td>\n",
       "      <td>4409.919140</td>\n",
       "      <td>26.0</td>\n",
       "      <td>2021-01-01</td>\n",
       "      <td>1</td>\n",
       "      <td>6</td>\n",
       "      <td>0</td>\n",
       "      <td>199</td>\n",
       "    </tr>\n",
       "    <tr>\n",
       "      <th>1</th>\n",
       "      <td>1</td>\n",
       "      <td>Кира</td>\n",
       "      <td>22</td>\n",
       "      <td>Тюмень</td>\n",
       "      <td>ultra</td>\n",
       "      <td>2617.592153</td>\n",
       "      <td>16.0</td>\n",
       "      <td>2021-01-18</td>\n",
       "      <td>1</td>\n",
       "      <td>6</td>\n",
       "      <td>0</td>\n",
       "      <td>199</td>\n",
       "    </tr>\n",
       "    <tr>\n",
       "      <th>2</th>\n",
       "      <td>1</td>\n",
       "      <td>Кира</td>\n",
       "      <td>22</td>\n",
       "      <td>Тюмень</td>\n",
       "      <td>ultra</td>\n",
       "      <td>754.159807</td>\n",
       "      <td>7.0</td>\n",
       "      <td>2021-04-20</td>\n",
       "      <td>4</td>\n",
       "      <td>6</td>\n",
       "      <td>0</td>\n",
       "      <td>199</td>\n",
       "    </tr>\n",
       "    <tr>\n",
       "      <th>3</th>\n",
       "      <td>1</td>\n",
       "      <td>Кира</td>\n",
       "      <td>22</td>\n",
       "      <td>Тюмень</td>\n",
       "      <td>ultra</td>\n",
       "      <td>2694.783254</td>\n",
       "      <td>19.0</td>\n",
       "      <td>2021-08-11</td>\n",
       "      <td>8</td>\n",
       "      <td>6</td>\n",
       "      <td>0</td>\n",
       "      <td>199</td>\n",
       "    </tr>\n",
       "    <tr>\n",
       "      <th>4</th>\n",
       "      <td>1</td>\n",
       "      <td>Кира</td>\n",
       "      <td>22</td>\n",
       "      <td>Тюмень</td>\n",
       "      <td>ultra</td>\n",
       "      <td>4028.687306</td>\n",
       "      <td>27.0</td>\n",
       "      <td>2021-08-28</td>\n",
       "      <td>8</td>\n",
       "      <td>6</td>\n",
       "      <td>0</td>\n",
       "      <td>199</td>\n",
       "    </tr>\n",
       "  </tbody>\n",
       "</table>\n",
       "</div>"
      ],
      "text/plain": [
       "   user_id  name  age    city subscription_type     distance  duration  \\\n",
       "0        1  Кира   22  Тюмень             ultra  4409.919140      26.0   \n",
       "1        1  Кира   22  Тюмень             ultra  2617.592153      16.0   \n",
       "2        1  Кира   22  Тюмень             ultra   754.159807       7.0   \n",
       "3        1  Кира   22  Тюмень             ultra  2694.783254      19.0   \n",
       "4        1  Кира   22  Тюмень             ultra  4028.687306      27.0   \n",
       "\n",
       "        date  month_number  minute_price  start_ride_price  subscription_fee  \n",
       "0 2021-01-01             1             6                 0               199  \n",
       "1 2021-01-18             1             6                 0               199  \n",
       "2 2021-04-20             4             6                 0               199  \n",
       "3 2021-08-11             8             6                 0               199  \n",
       "4 2021-08-28             8             6                 0               199  "
      ]
     },
     "execution_count": 59,
     "metadata": {},
     "output_type": "execute_result"
    }
   ],
   "source": [
    "data.head() #вывели 5 строк исходного датафрейма для просмотра"
   ]
  },
  {
   "cell_type": "code",
   "execution_count": 60,
   "id": "53049e0a",
   "metadata": {
    "scrolled": false
   },
   "outputs": [
    {
     "data": {
      "text/html": [
       "<div>\n",
       "<style scoped>\n",
       "    .dataframe tbody tr th:only-of-type {\n",
       "        vertical-align: middle;\n",
       "    }\n",
       "\n",
       "    .dataframe tbody tr th {\n",
       "        vertical-align: top;\n",
       "    }\n",
       "\n",
       "    .dataframe thead th {\n",
       "        text-align: right;\n",
       "    }\n",
       "</style>\n",
       "<table border=\"1\" class=\"dataframe\">\n",
       "  <thead>\n",
       "    <tr style=\"text-align: right;\">\n",
       "      <th></th>\n",
       "      <th>user_id</th>\n",
       "      <th>month_number</th>\n",
       "      <th>sum_distance</th>\n",
       "      <th>count_trips</th>\n",
       "      <th>sum_duration</th>\n",
       "    </tr>\n",
       "  </thead>\n",
       "  <tbody>\n",
       "    <tr>\n",
       "      <th>0</th>\n",
       "      <td>1</td>\n",
       "      <td>1</td>\n",
       "      <td>7028.0</td>\n",
       "      <td>2</td>\n",
       "      <td>42.0</td>\n",
       "    </tr>\n",
       "    <tr>\n",
       "      <th>1</th>\n",
       "      <td>1</td>\n",
       "      <td>4</td>\n",
       "      <td>754.0</td>\n",
       "      <td>1</td>\n",
       "      <td>7.0</td>\n",
       "    </tr>\n",
       "    <tr>\n",
       "      <th>2</th>\n",
       "      <td>1</td>\n",
       "      <td>8</td>\n",
       "      <td>6723.0</td>\n",
       "      <td>2</td>\n",
       "      <td>46.0</td>\n",
       "    </tr>\n",
       "    <tr>\n",
       "      <th>3</th>\n",
       "      <td>1</td>\n",
       "      <td>10</td>\n",
       "      <td>5810.0</td>\n",
       "      <td>2</td>\n",
       "      <td>32.0</td>\n",
       "    </tr>\n",
       "    <tr>\n",
       "      <th>4</th>\n",
       "      <td>1</td>\n",
       "      <td>11</td>\n",
       "      <td>7003.0</td>\n",
       "      <td>3</td>\n",
       "      <td>56.0</td>\n",
       "    </tr>\n",
       "    <tr>\n",
       "      <th>...</th>\n",
       "      <td>...</td>\n",
       "      <td>...</td>\n",
       "      <td>...</td>\n",
       "      <td>...</td>\n",
       "      <td>...</td>\n",
       "    </tr>\n",
       "    <tr>\n",
       "      <th>11296</th>\n",
       "      <td>1534</td>\n",
       "      <td>8</td>\n",
       "      <td>7622.0</td>\n",
       "      <td>2</td>\n",
       "      <td>48.0</td>\n",
       "    </tr>\n",
       "    <tr>\n",
       "      <th>11297</th>\n",
       "      <td>1534</td>\n",
       "      <td>9</td>\n",
       "      <td>4928.0</td>\n",
       "      <td>1</td>\n",
       "      <td>23.0</td>\n",
       "    </tr>\n",
       "    <tr>\n",
       "      <th>11298</th>\n",
       "      <td>1534</td>\n",
       "      <td>11</td>\n",
       "      <td>13350.0</td>\n",
       "      <td>4</td>\n",
       "      <td>78.0</td>\n",
       "    </tr>\n",
       "    <tr>\n",
       "      <th>11299</th>\n",
       "      <td>1534</td>\n",
       "      <td>12</td>\n",
       "      <td>2372.0</td>\n",
       "      <td>1</td>\n",
       "      <td>16.0</td>\n",
       "    </tr>\n",
       "    <tr>\n",
       "      <th>11300</th>\n",
       "      <td>All</td>\n",
       "      <td></td>\n",
       "      <td>54994933.0</td>\n",
       "      <td>17973</td>\n",
       "      <td>330613.0</td>\n",
       "    </tr>\n",
       "  </tbody>\n",
       "</table>\n",
       "<p>11301 rows × 5 columns</p>\n",
       "</div>"
      ],
      "text/plain": [
       "      user_id month_number  sum_distance  count_trips  sum_duration\n",
       "0           1            1        7028.0            2          42.0\n",
       "1           1            4         754.0            1           7.0\n",
       "2           1            8        6723.0            2          46.0\n",
       "3           1           10        5810.0            2          32.0\n",
       "4           1           11        7003.0            3          56.0\n",
       "...       ...          ...           ...          ...           ...\n",
       "11296    1534            8        7622.0            2          48.0\n",
       "11297    1534            9        4928.0            1          23.0\n",
       "11298    1534           11       13350.0            4          78.0\n",
       "11299    1534           12        2372.0            1          16.0\n",
       "11300     All                 54994933.0        17973      330613.0\n",
       "\n",
       "[11301 rows x 5 columns]"
      ]
     },
     "execution_count": 60,
     "metadata": {},
     "output_type": "execute_result"
    }
   ],
   "source": [
    "# создали сводную таблицу по пользователям и месяцам с суммарным растоянием, количеством поездок и суммарным временем\n",
    "# поместили сводную таблицу в переменную data_profit\n",
    "data_profit = data.pivot_table(\n",
    "    index=['user_id', 'month_number'], values=['distance', 'duration'], aggfunc=['sum', 'count'], margins=True)\n",
    "data_profit.columns = ['sum_distance', 'sum_duration', 'count_trips', 'count_trips2']\n",
    "data_profit = data_profit[['sum_distance', 'count_trips', 'sum_duration']]\n",
    "data_profit['sum_distance'] = np.round(data_profit['sum_distance'])\n",
    "data_profit = data_profit.reset_index()\n",
    "data_profit # вывели сводную таблицу с итогами, для проверки, что количество поездок не потерялось"
   ]
  },
  {
   "cell_type": "code",
   "execution_count": 61,
   "id": "2024cb3d",
   "metadata": {
    "scrolled": false
   },
   "outputs": [
    {
     "name": "stdout",
     "output_type": "stream",
     "text": [
      "<class 'pandas.core.frame.DataFrame'>\n",
      "RangeIndex: 11301 entries, 0 to 11300\n",
      "Data columns (total 5 columns):\n",
      " #   Column        Non-Null Count  Dtype  \n",
      "---  ------        --------------  -----  \n",
      " 0   user_id       11301 non-null  object \n",
      " 1   month_number  11301 non-null  object \n",
      " 2   sum_distance  11301 non-null  float64\n",
      " 3   count_trips   11301 non-null  int64  \n",
      " 4   sum_duration  11301 non-null  float64\n",
      "dtypes: float64(2), int64(1), object(2)\n",
      "memory usage: 441.6+ KB\n"
     ]
    }
   ],
   "source": [
    "data_profit.info() # проверили общую информацию сводной таблицы, что нет пропущенных значений и корректный тип данных"
   ]
  },
  {
   "cell_type": "markdown",
   "id": "e5b84659",
   "metadata": {},
   "source": [
    "### Добавление столбца в агрегированный датафрейм с помесячной выручкой по пользователям"
   ]
  },
  {
   "cell_type": "markdown",
   "id": "85048a54",
   "metadata": {},
   "source": [
    "В датафрейм с агрегированными данными добавим столбец с помесячной выручкой, которую принёс каждый пользователь. Для этого добавим столбцы из датафрейма data_users - столбец с типом подписки и с датафрейма data_subscriptions - столбцы стоимость минуты, стоимость старта, стоимость подписки."
   ]
  },
  {
   "cell_type": "code",
   "execution_count": 62,
   "id": "6ee2719b",
   "metadata": {
    "scrolled": false
   },
   "outputs": [
    {
     "data": {
      "text/html": [
       "<div>\n",
       "<style scoped>\n",
       "    .dataframe tbody tr th:only-of-type {\n",
       "        vertical-align: middle;\n",
       "    }\n",
       "\n",
       "    .dataframe tbody tr th {\n",
       "        vertical-align: top;\n",
       "    }\n",
       "\n",
       "    .dataframe thead th {\n",
       "        text-align: right;\n",
       "    }\n",
       "</style>\n",
       "<table border=\"1\" class=\"dataframe\">\n",
       "  <thead>\n",
       "    <tr style=\"text-align: right;\">\n",
       "      <th></th>\n",
       "      <th>user_id</th>\n",
       "      <th>month_number</th>\n",
       "      <th>sum_distance</th>\n",
       "      <th>count_trips</th>\n",
       "      <th>sum_duration</th>\n",
       "      <th>subscription_type</th>\n",
       "      <th>minute_price</th>\n",
       "      <th>start_ride_price</th>\n",
       "      <th>subscription_fee</th>\n",
       "    </tr>\n",
       "  </thead>\n",
       "  <tbody>\n",
       "    <tr>\n",
       "      <th>0</th>\n",
       "      <td>1</td>\n",
       "      <td>1</td>\n",
       "      <td>7028.0</td>\n",
       "      <td>2</td>\n",
       "      <td>42.0</td>\n",
       "      <td>ultra</td>\n",
       "      <td>6.0</td>\n",
       "      <td>0.0</td>\n",
       "      <td>199.0</td>\n",
       "    </tr>\n",
       "    <tr>\n",
       "      <th>1</th>\n",
       "      <td>1</td>\n",
       "      <td>4</td>\n",
       "      <td>754.0</td>\n",
       "      <td>1</td>\n",
       "      <td>7.0</td>\n",
       "      <td>ultra</td>\n",
       "      <td>6.0</td>\n",
       "      <td>0.0</td>\n",
       "      <td>199.0</td>\n",
       "    </tr>\n",
       "    <tr>\n",
       "      <th>2</th>\n",
       "      <td>1</td>\n",
       "      <td>8</td>\n",
       "      <td>6723.0</td>\n",
       "      <td>2</td>\n",
       "      <td>46.0</td>\n",
       "      <td>ultra</td>\n",
       "      <td>6.0</td>\n",
       "      <td>0.0</td>\n",
       "      <td>199.0</td>\n",
       "    </tr>\n",
       "    <tr>\n",
       "      <th>3</th>\n",
       "      <td>1</td>\n",
       "      <td>10</td>\n",
       "      <td>5810.0</td>\n",
       "      <td>2</td>\n",
       "      <td>32.0</td>\n",
       "      <td>ultra</td>\n",
       "      <td>6.0</td>\n",
       "      <td>0.0</td>\n",
       "      <td>199.0</td>\n",
       "    </tr>\n",
       "    <tr>\n",
       "      <th>4</th>\n",
       "      <td>1</td>\n",
       "      <td>11</td>\n",
       "      <td>7003.0</td>\n",
       "      <td>3</td>\n",
       "      <td>56.0</td>\n",
       "      <td>ultra</td>\n",
       "      <td>6.0</td>\n",
       "      <td>0.0</td>\n",
       "      <td>199.0</td>\n",
       "    </tr>\n",
       "  </tbody>\n",
       "</table>\n",
       "</div>"
      ],
      "text/plain": [
       "  user_id month_number  sum_distance  count_trips  sum_duration  \\\n",
       "0       1            1        7028.0            2          42.0   \n",
       "1       1            4         754.0            1           7.0   \n",
       "2       1            8        6723.0            2          46.0   \n",
       "3       1           10        5810.0            2          32.0   \n",
       "4       1           11        7003.0            3          56.0   \n",
       "\n",
       "  subscription_type  minute_price  start_ride_price  subscription_fee  \n",
       "0             ultra           6.0               0.0             199.0  \n",
       "1             ultra           6.0               0.0             199.0  \n",
       "2             ultra           6.0               0.0             199.0  \n",
       "3             ultra           6.0               0.0             199.0  \n",
       "4             ultra           6.0               0.0             199.0  "
      ]
     },
     "execution_count": 62,
     "metadata": {},
     "output_type": "execute_result"
    }
   ],
   "source": [
    "# добавили в агрегированную таблицу недостающие столбцы для корректного расчета помесячной выручки по пользователям\n",
    "data_profit = data_profit.merge(data_users[['user_id', 'subscription_type']], on='user_id', how='left')\n",
    "data_profit = data_profit.merge(data_subscriptions, on='subscription_type', how='left')\n",
    "data_profit.head() # вывели 5 строк таблицы                             "
   ]
  },
  {
   "cell_type": "code",
   "execution_count": 63,
   "id": "25c8aeda",
   "metadata": {},
   "outputs": [],
   "source": [
    "# создали функцию для подсчета выручки по пользователям\n",
    "def profit(count_trips, start_ride_price, duration, minute_price, subscription_fee):\n",
    "    return count_trips * start_ride_price + duration * minute_price  + subscription_fee"
   ]
  },
  {
   "cell_type": "code",
   "execution_count": 64,
   "id": "a34b2543",
   "metadata": {},
   "outputs": [
    {
     "data": {
      "text/html": [
       "<div>\n",
       "<style scoped>\n",
       "    .dataframe tbody tr th:only-of-type {\n",
       "        vertical-align: middle;\n",
       "    }\n",
       "\n",
       "    .dataframe tbody tr th {\n",
       "        vertical-align: top;\n",
       "    }\n",
       "\n",
       "    .dataframe thead th {\n",
       "        text-align: right;\n",
       "    }\n",
       "</style>\n",
       "<table border=\"1\" class=\"dataframe\">\n",
       "  <thead>\n",
       "    <tr style=\"text-align: right;\">\n",
       "      <th></th>\n",
       "      <th>user_id</th>\n",
       "      <th>month_number</th>\n",
       "      <th>sum_distance</th>\n",
       "      <th>count_trips</th>\n",
       "      <th>sum_duration</th>\n",
       "      <th>subscription_type</th>\n",
       "      <th>minute_price</th>\n",
       "      <th>start_ride_price</th>\n",
       "      <th>subscription_fee</th>\n",
       "      <th>profit</th>\n",
       "    </tr>\n",
       "  </thead>\n",
       "  <tbody>\n",
       "    <tr>\n",
       "      <th>0</th>\n",
       "      <td>1</td>\n",
       "      <td>1</td>\n",
       "      <td>7028.0</td>\n",
       "      <td>2</td>\n",
       "      <td>42.0</td>\n",
       "      <td>ultra</td>\n",
       "      <td>6.0</td>\n",
       "      <td>0.0</td>\n",
       "      <td>199.0</td>\n",
       "      <td>451.0</td>\n",
       "    </tr>\n",
       "    <tr>\n",
       "      <th>1</th>\n",
       "      <td>1</td>\n",
       "      <td>4</td>\n",
       "      <td>754.0</td>\n",
       "      <td>1</td>\n",
       "      <td>7.0</td>\n",
       "      <td>ultra</td>\n",
       "      <td>6.0</td>\n",
       "      <td>0.0</td>\n",
       "      <td>199.0</td>\n",
       "      <td>241.0</td>\n",
       "    </tr>\n",
       "    <tr>\n",
       "      <th>2</th>\n",
       "      <td>1</td>\n",
       "      <td>8</td>\n",
       "      <td>6723.0</td>\n",
       "      <td>2</td>\n",
       "      <td>46.0</td>\n",
       "      <td>ultra</td>\n",
       "      <td>6.0</td>\n",
       "      <td>0.0</td>\n",
       "      <td>199.0</td>\n",
       "      <td>475.0</td>\n",
       "    </tr>\n",
       "    <tr>\n",
       "      <th>3</th>\n",
       "      <td>1</td>\n",
       "      <td>10</td>\n",
       "      <td>5810.0</td>\n",
       "      <td>2</td>\n",
       "      <td>32.0</td>\n",
       "      <td>ultra</td>\n",
       "      <td>6.0</td>\n",
       "      <td>0.0</td>\n",
       "      <td>199.0</td>\n",
       "      <td>391.0</td>\n",
       "    </tr>\n",
       "    <tr>\n",
       "      <th>4</th>\n",
       "      <td>1</td>\n",
       "      <td>11</td>\n",
       "      <td>7003.0</td>\n",
       "      <td>3</td>\n",
       "      <td>56.0</td>\n",
       "      <td>ultra</td>\n",
       "      <td>6.0</td>\n",
       "      <td>0.0</td>\n",
       "      <td>199.0</td>\n",
       "      <td>535.0</td>\n",
       "    </tr>\n",
       "  </tbody>\n",
       "</table>\n",
       "</div>"
      ],
      "text/plain": [
       "  user_id month_number  sum_distance  count_trips  sum_duration  \\\n",
       "0       1            1        7028.0            2          42.0   \n",
       "1       1            4         754.0            1           7.0   \n",
       "2       1            8        6723.0            2          46.0   \n",
       "3       1           10        5810.0            2          32.0   \n",
       "4       1           11        7003.0            3          56.0   \n",
       "\n",
       "  subscription_type  minute_price  start_ride_price  subscription_fee  profit  \n",
       "0             ultra           6.0               0.0             199.0   451.0  \n",
       "1             ultra           6.0               0.0             199.0   241.0  \n",
       "2             ultra           6.0               0.0             199.0   475.0  \n",
       "3             ultra           6.0               0.0             199.0   391.0  \n",
       "4             ultra           6.0               0.0             199.0   535.0  "
      ]
     },
     "execution_count": 64,
     "metadata": {},
     "output_type": "execute_result"
    }
   ],
   "source": [
    "# добавили столбец с месячной выручкой по пользователям\n",
    "data_profit['profit'] = profit(data_profit['count_trips'], \n",
    "                               data_profit['start_ride_price'], \n",
    "                               data_profit['sum_duration'], \n",
    "                               data_profit['minute_price'], \n",
    "                               data_profit['subscription_fee'])\n",
    "data_profit.head() # вывели 5 строк итоговой таблицы "
   ]
  },
  {
   "cell_type": "code",
   "execution_count": 65,
   "id": "c10183cc",
   "metadata": {
    "scrolled": false
   },
   "outputs": [
    {
     "name": "stdout",
     "output_type": "stream",
     "text": [
      "<class 'pandas.core.frame.DataFrame'>\n",
      "RangeIndex: 11301 entries, 0 to 11300\n",
      "Data columns (total 10 columns):\n",
      " #   Column             Non-Null Count  Dtype  \n",
      "---  ------             --------------  -----  \n",
      " 0   user_id            11301 non-null  object \n",
      " 1   month_number       11301 non-null  object \n",
      " 2   sum_distance       11301 non-null  float64\n",
      " 3   count_trips        11301 non-null  int64  \n",
      " 4   sum_duration       11301 non-null  float64\n",
      " 5   subscription_type  11300 non-null  object \n",
      " 6   minute_price       11300 non-null  float64\n",
      " 7   start_ride_price   11300 non-null  float64\n",
      " 8   subscription_fee   11300 non-null  float64\n",
      " 9   profit             11300 non-null  float64\n",
      "dtypes: float64(6), int64(1), object(3)\n",
      "memory usage: 883.0+ KB\n"
     ]
    }
   ],
   "source": [
    "data_profit.info() # вывели информацию по итоговой таблице для проверки, что ничего не потерялось.\n",
    "# в последних добавленных столбцах на 1 строчку меньше, т.к. не считались итоги"
   ]
  },
  {
   "cell_type": "code",
   "execution_count": 66,
   "id": "55f0f2e8",
   "metadata": {},
   "outputs": [
    {
     "data": {
      "text/plain": [
       "3873131.0"
      ]
     },
     "execution_count": 66,
     "metadata": {},
     "output_type": "execute_result"
    }
   ],
   "source": [
    "# check\n",
    "data_profit['profit'].sum()"
   ]
  },
  {
   "cell_type": "markdown",
   "id": "41545ac0",
   "metadata": {},
   "source": [
    "## Шаг. Проверка гипотез"
   ]
  },
  {
   "cell_type": "markdown",
   "id": "8c124440",
   "metadata": {},
   "source": [
    "### Гипотеза 1"
   ]
  },
  {
   "cell_type": "markdown",
   "id": "ca497066",
   "metadata": {},
   "source": [
    "Важно понять, тратят ли пользователи с подпиской больше времени на поездки? Если да, то пользователи с подпиской могут быть «выгоднее» для компании. Проверим данную гипотезу. \n",
    "\n",
    "Используем исходные данные о продолжительности каждой сессии — отдельно для подписчиков и тех, у кого нет подписки."
   ]
  },
  {
   "cell_type": "code",
   "execution_count": 67,
   "id": "f586bfcc",
   "metadata": {},
   "outputs": [],
   "source": [
    "alpha = 0.05 # задали коэффициент статистической значимости на уровне 5%"
   ]
  },
  {
   "cell_type": "code",
   "execution_count": 68,
   "id": "2b474794",
   "metadata": {},
   "outputs": [
    {
     "name": "stdout",
     "output_type": "stream",
     "text": [
      "Cредняя продолжительность времени поездки пользователей без подписки: 18.0\n",
      "Cредняя продолжительность времени поездки пользователей c подпиской: 19.0\n"
     ]
    }
   ],
   "source": [
    "# посчитали средняю продолжительность времени поездки пользователей\n",
    "print(\n",
    "    f'Cредняя продолжительность времени поездки пользователей без подписки: \\\n",
    "{np.round(np.mean(data_free[\"duration\"]))}'\n",
    ")\n",
    "print(\n",
    "    f'Cредняя продолжительность времени поездки пользователей c подпиской: \\\n",
    "{np.round(np.mean(data_ultra[\"duration\"]))}'\n",
    ")"
   ]
  },
  {
   "cell_type": "code",
   "execution_count": 69,
   "id": "0bf145db",
   "metadata": {},
   "outputs": [
    {
     "name": "stdout",
     "output_type": "stream",
     "text": [
      "Сумарная продолжительность времени поездки пользователей без подписки: 201131.0\n",
      "Cуммарная продолжительность времени поездки пользователей c подпиской: 120523.0\n",
      "Продолжительность времени поездки пользователей без подписки больше на: 66.9%\n"
     ]
    }
   ],
   "source": [
    "# посчитали суммарную продолжительность времени поездки пользователей\n",
    "print(\n",
    "    f'Сумарная продолжительность времени поездки пользователей без подписки: \\\n",
    "{np.round(data_free[\"duration\"].sum())}'\n",
    ")\n",
    "print(\n",
    "    f'Cуммарная продолжительность времени поездки пользователей c подпиской: \\\n",
    "{np.round(data_ultra[\"duration\"].sum())}'\n",
    ")\n",
    "print(\n",
    "    f'Продолжительность времени поездки пользователей без подписки больше на: \\\n",
    "{(data_free[\"duration\"].sum() / data_ultra[\"duration\"].sum() - 1):.1%}'\n",
    ")"
   ]
  },
  {
   "cell_type": "code",
   "execution_count": 70,
   "id": "7f2b3284",
   "metadata": {
    "scrolled": false
   },
   "outputs": [
    {
     "name": "stdout",
     "output_type": "stream",
     "text": [
      "p-значение (\"вероятность получить наблюдаемое значение или ещё более далёкое от него\"): 4.704468074453899e-28\n",
      "Отвергаем нулевую гипотезу\n"
     ]
    }
   ],
   "source": [
    "# создали двухвыборочный t-тест по времени поездки для выборок по пользователям с подпиской и без\n",
    "# нулевая гипотеза о том, что выборки равны\n",
    "# альтернативная гипотеза - среднее, из первой выборки, больше, чем среднее из второй\n",
    "results_duration = st.ttest_ind(\n",
    "    data_ultra['duration'],\n",
    "    data_free['duration'],\n",
    "    alternative='greater'\n",
    ")\n",
    "print(\n",
    "    'p-значение (\"вероятность получить наблюдаемое значение или ещё более далёкое от него\"):', \\\n",
    "results_duration.pvalue\n",
    ") # вывели полученное p-значение\n",
    "if results_duration.pvalue < alpha:\n",
    "    print('Отвергаем нулевую гипотезу')\n",
    "else:\n",
    "    print('Не получилось отвергнуть нулевую гипотезу')"
   ]
  },
  {
   "cell_type": "code",
   "execution_count": 71,
   "id": "e6a401c1",
   "metadata": {},
   "outputs": [
    {
     "name": "stdout",
     "output_type": "stream",
     "text": [
      "p-значение: 0.1912450522572209\n",
      "Не получилось отвергнуть нулевую гипотезу\n"
     ]
    }
   ],
   "source": [
    "# Приведены два датасета: сумма покупок, совершённых за месяц посетителями ...\n",
    "\n",
    "sample_1 = [3071, 3636, 3454, 3151, 2185, 3259, 1727, 2263, 2015,\n",
    "2582, 4815, 633, 3186, 887, 2028, 3589, 2564, 1422, 1785,\n",
    "3180, 1770, 2716, 2546, 1848, 4644, 3134, 475, 2686,\n",
    "1838, 3352]\n",
    "sample_2 = [1211, 1228, 2157, 3699, 600, 1898, 1688, 1420, 5048, 3007,\n",
    "509, 3777, 5583, 3949, 121, 1674, 4300, 1338, 3066,\n",
    "3562, 1010, 2311, 462, 863, 2021, 528, 1849, 255,\n",
    "1740, 2596]\n",
    "alpha = .05 # критический уровень статистической значимости\n",
    "# если p-value окажется меньше него - отвергнем гипотезу\n",
    "results = st.ttest_ind(\n",
    "sample_1,\n",
    "sample_2)\n",
    "print('p-значение:', results.pvalue)\n",
    "if (results.pvalue < alpha):\n",
    "    print(\"Отвергаем нулевую гипотезу\")\n",
    "else:\n",
    "    print(\"Не получилось отвергнуть нулевую гипотезу\")"
   ]
  },
  {
   "cell_type": "markdown",
   "id": "1e1a88a8",
   "metadata": {},
   "source": [
    "Использовав исходные данные для двухвыборочного t-теста по времени поездки для выборок по пользователям с подпиской и без, проверили одностороннею гипотезу о том, что среднее, из первой выборки, больше, чем среднее из второй. Нулевая гипотеза состояла в том, что среднее время поездки обоих категорий равно, альтернативная - у пользователей с подпиской время больше. Получив p-значение (вероятность получить наблюдаемое значение или ещё более далёкое от него) почти равным нулю, отвергли нулевую гипотезу при уровне статистической значимости, равном 5% в пользу альтернативной. Из расчетов видно, что в среднем на 2 минуты пользователи с подпиской проезжают больше. С учетом, что количество поездок пользователей без подписки больше на 76.5%, чем у пользователей с подпиской - длительность больше только на 66.9%."
   ]
  },
  {
   "cell_type": "markdown",
   "id": "ef5da534",
   "metadata": {},
   "source": [
    "### Гипотеза 2"
   ]
  },
  {
   "cell_type": "markdown",
   "id": "ca63add1",
   "metadata": {},
   "source": [
    "Расстояние одной поездки в 3130 метров — оптимальное с точки зрения износа самоката. Можно ли сказать, что среднее расстояние, которое проезжают пользователи с подпиской за одну поездку, не превышает 3130 метров? Проверим данную гипотезу."
   ]
  },
  {
   "cell_type": "code",
   "execution_count": 72,
   "id": "4d16c74d",
   "metadata": {},
   "outputs": [],
   "source": [
    "value = 3130 # задали расстояние одной поездки в 3130 метров"
   ]
  },
  {
   "cell_type": "code",
   "execution_count": 73,
   "id": "f7f6210b",
   "metadata": {},
   "outputs": [
    {
     "name": "stdout",
     "output_type": "stream",
     "text": [
      "Cреднее расстояние одной поездки пользователей c подпиской: 3115.0 метров\n"
     ]
    }
   ],
   "source": [
    "# посчитали среднюю продолжительность одной поездки пользователей с подпиской\n",
    "print(f'Cреднее расстояние одной поездки пользователей c подпиской: \\\n",
    "{np.round(np.mean(data_ultra[\"distance\"]))} метров')"
   ]
  },
  {
   "cell_type": "code",
   "execution_count": 74,
   "id": "01f61544",
   "metadata": {},
   "outputs": [
    {
     "name": "stdout",
     "output_type": "stream",
     "text": [
      "p-значение (\"вероятность получить наблюдаемое значение или ещё более далёкое от него\"): 0.9195368847849785\n",
      "Не получилось отвергнуть нулевую гипотезу\n"
     ]
    }
   ],
   "source": [
    "# создали одновыборочный t-тест по сравнению расстояний, которые проезжают пользователи с подпиской с оптимальным\n",
    "# нулевая гипотеза о том, что расстояние равно оптимальному\n",
    "# альтернативная гипотеза - расстояние, которые проезжают пользователи превышает оптимальное\n",
    "results_distance = st.ttest_1samp(\n",
    "    data_ultra['distance'],\n",
    "    value,\n",
    "    alternative='greater'\n",
    ")\n",
    "print(\n",
    "    'p-значение (\"вероятность получить наблюдаемое значение или ещё более далёкое от него\"):', \\\n",
    "results_distance.pvalue\n",
    ") # вывели полученное p-значение\n",
    "\n",
    "if results_distance.pvalue < alpha:\n",
    "    print('Отвергаем нулевую гипотезу')\n",
    "else:\n",
    "    print('Не получилось отвергнуть нулевую гипотезу')"
   ]
  },
  {
   "cell_type": "markdown",
   "id": "fcb8c027",
   "metadata": {},
   "source": [
    "Провели одновыборочный t-тест с целью проверить, что оптимальное расстояние, которое проезжают  пользовали равно в 3130 метров. Нулевая гипотеза состояла в том, что расстояния равны, альтернативная - пользователи с подпиской проезжают больше оптимального расстояния. Выборочное среднее равно 3115 метров и отличается от 3130 — предположенного в\n",
    "нулевой гипотезе значения. Но это отличие недостаточно велико, чтобы сделать вывод о том, что при уровне статистической значимости 5%  можно было отвергуть нулевую гипотезу, т.к. вероятность получить наблюдаемое значение составляет 92%, что достаточно высоко. Соответствие длительности поездки пользователей с подпиской оптимальной длительности, может быть выгодным бизнесу, т.к. самокат меньше изнашивается - компания меньше тратит средст на ремонт и восстановление."
   ]
  },
  {
   "cell_type": "markdown",
   "id": "3cafbe76",
   "metadata": {},
   "source": [
    "### Гипотеза 3"
   ]
  },
  {
   "cell_type": "markdown",
   "id": "0881f731",
   "metadata": {},
   "source": [
    "Нужно проверить гипотезу о том, будет ли помесячная выручка от пользователей с подпиской по месяцам выше, чем выручка от пользователей без подписки."
   ]
  },
  {
   "cell_type": "code",
   "execution_count": 75,
   "id": "0300a3d2",
   "metadata": {},
   "outputs": [
    {
     "name": "stdout",
     "output_type": "stream",
     "text": [
      "Среднемесячная выручка пользоватедей с подпиской 363.0\n",
      "Среднемесячная выручка пользоватедей без подписки 329.0\n",
      "Среднемесячная выручка пользоватедей c подпиской больше на 10.2%\n"
     ]
    }
   ],
   "source": [
    "# расчитали средние выручки пользователей с подпиской и без\n",
    "print(\n",
    "    'Среднемесячная выручка пользоватедей с подпиской',\n",
    "    np.round(np.mean(data_profit[data_profit['subscription_type'] == 'ultra']['profit']))\n",
    ")\n",
    "print(\n",
    "    'Среднемесячная выручка пользоватедей без подписки',\n",
    "    np.round(np.mean(data_profit[data_profit['subscription_type'] == 'free']['profit']))\n",
    ")\n",
    "print(\n",
    "    'Среднемесячная выручка пользоватедей c подпиской больше на {:.1%}'.format(\n",
    "    np.mean(data_profit[data_profit['subscription_type'] == 'ultra']['profit'])\n",
    "    / np.mean(data_profit[data_profit['subscription_type'] == 'free']['profit']) -1\n",
    "    ) \n",
    ")"
   ]
  },
  {
   "cell_type": "code",
   "execution_count": 76,
   "id": "ac3ae3e5",
   "metadata": {},
   "outputs": [
    {
     "name": "stdout",
     "output_type": "stream",
     "text": [
      "Суммарная выручка пользователей с подпиской 1644537.0\n",
      "Суммарная выручка пользователей без подписки 2228594.0\n",
      "Cуммарная выручка пользователей без подписки больше на 35.5%\n"
     ]
    }
   ],
   "source": [
    "# расчитали суммарные выручки пользователей с подпиской и без\n",
    "print(\n",
    "    'Суммарная выручка пользователей с подпиской',\n",
    "   data_profit[data_profit['subscription_type'] == 'ultra']['profit'].sum()\n",
    ")\n",
    "print(\n",
    "    'Суммарная выручка пользователей без подписки',\n",
    "   data_profit[data_profit['subscription_type'] == 'free']['profit'].sum()\n",
    ")\n",
    "\n",
    "print(\n",
    "    'Cуммарная выручка пользователей без подписки больше на {:.1%}'.format(\n",
    "    data_profit[data_profit['subscription_type'] == 'free']['profit'].sum() \n",
    "    / data_profit[data_profit['subscription_type'] == 'ultra']['profit'].sum() - 1\n",
    "    )\n",
    ")"
   ]
  },
  {
   "cell_type": "code",
   "execution_count": 77,
   "id": "6d77c6ac",
   "metadata": {
    "scrolled": true
   },
   "outputs": [
    {
     "name": "stdout",
     "output_type": "stream",
     "text": [
      "p-значение (\"вероятность получить наблюдаемое значение или ещё более далёкое от него\"): 2.0314113674863288e-30\n",
      "Отвергаем нулевую гипотезу\n"
     ]
    }
   ],
   "source": [
    "# создали двухвыборочный t-тест по месячной выручке пользователей для выборок по пользователям с подпиской и без\n",
    "# нулевая гипотеза о том, что выборки равны\n",
    "# альтернативная гипотеза - среднее, из первой выборки, больше, чем среднее из второй\n",
    "results_profit = st.ttest_ind(\n",
    "    data_profit[data_profit['subscription_type'] == 'ultra']['profit'],\n",
    "    data_profit[data_profit['subscription_type'] == 'free']['profit'],\n",
    "    alternative='greater'\n",
    ")\n",
    "print(\n",
    "    'p-значение (\"вероятность получить наблюдаемое значение или ещё более далёкое от него\"):', \\\n",
    "results_profit.pvalue\n",
    ") # вывели полученное p-значение\n",
    "if results_profit.pvalue < alpha:\n",
    "    print('Отвергаем нулевую гипотезу')\n",
    "else:\n",
    "    print('Не получилось отвергнуть нулевую гипотезу')"
   ]
  },
  {
   "cell_type": "markdown",
   "id": "f6e430a0",
   "metadata": {},
   "source": [
    "Использовав исходные данные для двухвыборочного t-теста по месячной выручке пользователей для выборок по пользователям с подпиской и без, проверили одностороннею гипотезу о том, что среднее, из первой выборки, больше, чем среднее из второй. Нулевая гипотеза состояла в том, что средние выручки обоих категорий равны, альтернативная - у пользователей с подпиской выручка больше. Получив р-значение (вероятность получить наблюдаемое значение или ещё более далёкое от него) близким к нулю, отвергли нулевую гипотезу при уровне статистической значимости, равном 5% в пользу альтернативной. Из расчетов видно, что пользователи с подпиской приносят в среднем на 35 рублей больше выручки. Несмотря на то, что количество поездок пользователей без подписки больше на 76.5% и продолжительность их поездок больше на 66.9%, выручки они приносят только на 35.5% больше, чем пользователи с подпиской."
   ]
  },
  {
   "cell_type": "markdown",
   "id": "3412767e",
   "metadata": {},
   "source": [
    "### Гипотеза 4"
   ]
  },
  {
   "cell_type": "markdown",
   "id": "fa0293a9",
   "metadata": {},
   "source": [
    "Представьте такую ситуацию: техническая команда сервиса обновила сервера, с которыми взаимодействует мобильное приложение. Она надеется, что из-за этого количество обращений в техподдержку значимо снизилось. Некоторый файл содержит для каждого пользователя данные о количестве обращений до обновления и после него. Какой тест вам понадобился бы для проверки этой гипотезы?"
   ]
  },
  {
   "cell_type": "markdown",
   "id": "59e64dff",
   "metadata": {},
   "source": [
    "**Ответ** Понадобится двухвыборочный t-тест для зависимых выборок (*метод ttest_rel*) с целью проверить одностороннюю гипотезу: о том, что до изменения\n",
    "(первая выборка) среднее значение переменной в генеральной совокупности было больше, чем после изменения (вторая выборка)."
   ]
  },
  {
   "cell_type": "markdown",
   "id": "61213c5e",
   "metadata": {},
   "source": [
    "## Шаг. Распределения"
   ]
  },
  {
   "cell_type": "markdown",
   "id": "5fe81682",
   "metadata": {},
   "source": [
    "### Выяснение по задаче от отдела маркетинга по раздаче промокодов"
   ]
  },
  {
   "cell_type": "markdown",
   "id": "33e9a091",
   "metadata": {},
   "source": [
    "Отделу маркетинга GoFast поставили задачу: нужно провести акцию с раздачей промокодов на один бесплатный месяц подписки, в рамках которой как минимум 100 существующих клиентов должны продлить эту подписку. То есть по завершении периода действия подписки пользователь может либо отказаться от неё, либо продлить, совершив соответствующий платёж. Акция уже проводилась ранее и по итогу выяснилось, что после бесплатного пробного периода подписку продлевают 10 % пользователей. \n",
    "\n",
    "Необходимо выяснить, какое минимальное количество промокодов нужно разослать, чтобы вероятность не выполнить план была примерно 5 %. Подберем параметры распределения, описывающего эту ситуацию, построим график распределения и сформулируем ответ на вопрос о количестве промокодов."
   ]
  },
  {
   "cell_type": "code",
   "execution_count": 78,
   "id": "c81f6a16",
   "metadata": {},
   "outputs": [
    {
     "name": "stdout",
     "output_type": "stream",
     "text": [
      "Вероятность выполнить план при 1161 розданных промокодов на один бесплатный месяц подписки, в рамках которой как минимум 100 и больше существующих клиентов должны продлить эту прописку, составляет 95.0%\n"
     ]
    }
   ],
   "source": [
    "#задали параметры биномиального распределения, которые описывают данную ситуацию\n",
    "k1=99 # число клиентов, которые должны продлить подписку\n",
    "n1 = 1161 # подобрали количество промокодов, которые нужно разослать\n",
    "p1 = 0.1 # вероятноть продлить подписку\n",
    "\n",
    "# применили метод cdf() для подсчета вероятности\n",
    "print(\n",
    "    'Вероятность выполнить план при {} розданных промокодов на один бесплатный месяц подписки, в рамках которой \\\n",
    "как минимум {} и больше существующих клиентов должны продлить эту прописку, составляет {:.1%}'\n",
    "    .format(n1, k1+1, (1- binom.cdf(k=k1, n=n1, p=p1)))\n",
    ")"
   ]
  },
  {
   "cell_type": "code",
   "execution_count": 79,
   "id": "a205c60f",
   "metadata": {},
   "outputs": [],
   "source": [
    "# задали диапазон значений k для построения графика:\n",
    "binom_probs = [] # создали пустой список\n",
    "for n in range(n1 + 1):\n",
    "    # рассчитываем значения вероятности для биномиального распределения\n",
    "    binom_prob = 1- binom.cdf(k1, n, p1)\n",
    "    # добавляем значения в список \n",
    "    binom_probs.append(binom_prob)"
   ]
  },
  {
   "cell_type": "code",
   "execution_count": 80,
   "id": "2f0d6744",
   "metadata": {},
   "outputs": [
    {
     "data": {
      "image/png": "[encoded data removed]",
      "text/plain": [
       "<Figure size 1200x600 with 1 Axes>"
      ]
     },
     "metadata": {},
     "output_type": "display_data"
    }
   ],
   "source": [
    "# рисуем график биномиального распредления\n",
    "plt.figure(figsize=(12,6))\n",
    "plt.plot(range(n1+1), binom_probs)\n",
    "plt.xlabel('Количество промокодов к раздаче')\n",
    "plt.ylabel('Вероятность выполнения плана')\n",
    "plt.title('Зависимость вероятности от количества промокодов')\n",
    "plt.axhline(y=0.95, color='r', linestyle='--', label='Желаемая вероятность = 95%')\n",
    "plt.legend(loc='best')\n",
    "plt.show()"
   ]
  },
  {
   "cell_type": "markdown",
   "id": "ab0674cf",
   "metadata": {},
   "source": [
    "Использовав биномиальное распределение, которое описывает указанную ситуацию. Подобрали подходящее значение параметра \n",
    "n1 для заданного параметра вероятности p=0.1 и с помощью метода cdf() определи: что необходимо раздать 1161 промокода, чтобы вероятность не выполнить план по привлечению на подписку минимум 100 пользователей составляла 5%."
   ]
  },
  {
   "cell_type": "markdown",
   "id": "d5158fca",
   "metadata": {},
   "source": [
    "### Выяснение по задаче от отдела маркетинга по push-уведомлениям"
   ]
  },
  {
   "cell_type": "markdown",
   "id": "e9d5fae9",
   "metadata": {},
   "source": [
    "Отдел маркетинга рассылает клиентам push-уведомления в мобильном приложении. Клиенты могут открыть его или не открывать. Известно, что уведомления открывают около 40 % получивших клиентов. Отдел планирует разослать 1 млн уведомлений. \n",
    "\n",
    "Необходимо с помощью аппроксимации построить примерный график распределения и оценить вероятность того, что уведомление откроют не более 399,5 тыс. пользователей."
   ]
  },
  {
   "cell_type": "code",
   "execution_count": 81,
   "id": "bc609dc4",
   "metadata": {},
   "outputs": [
    {
     "name": "stdout",
     "output_type": "stream",
     "text": [
      "Вероятность, что уведомление откроют не более 399,5 тыс. пользователей, составляет - 15.4%\n"
     ]
    }
   ],
   "source": [
    "# задали параментры биноминального распределения\n",
    "k2 = 399500 # количество пользоватлей\n",
    "n2 = 1000000 # количество уведомлений\n",
    "p2 = 0.4 # вероятность открыть уведомление\n",
    "mu2 = n2 * p2 # математическое ожидание распредления\n",
    "sigma2 = np.sqrt(mu2 * (1 - p2)) # стандартное отклонение распределения\n",
    "# применили метод cdf() для подсчета вероятности\n",
    "print(\n",
    "    'Вероятность, что уведомление откроют не более 399,5 тыс. пользователей, составляет - {:.1%}'\n",
    "      .format(binom.cdf(k=k2, n=n2, p=p2))\n",
    ")"
   ]
  },
  {
   "cell_type": "code",
   "execution_count": 82,
   "id": "42f009f2",
   "metadata": {},
   "outputs": [],
   "source": [
    "# зададим набор значений биномиальной величины на выбранном промежутке:\n",
    "# все неотрицательные целые числа от left до right\n",
    "left = int(mu2 - 4 * sigma2)\n",
    "right = int(mu2 + 4 * sigma2)\n",
    "x = np.linspace(left, right) # получим список чисел от left до right"
   ]
  },
  {
   "cell_type": "code",
   "execution_count": 83,
   "id": "da6de69d",
   "metadata": {},
   "outputs": [
    {
     "data": {
      "image/png": "[encoded data removed]",
      "text/plain": [
       "<Figure size 640x480 with 1 Axes>"
      ]
     },
     "metadata": {},
     "output_type": "display_data"
    }
   ],
   "source": [
    "plt.plot(x, norm.pdf(x, mu2, sigma2), \n",
    "    'r-', label='плотность вероятности нормального распределения')\n",
    "plt.legend(loc='upper left')\n",
    "plt.xlabel(f'k: количество успехов для B{n2,p2}')\n",
    "plt.ylabel('Вероятность k')\n",
    "plt.title('График биномиального распределения с нормальной аппроксимацией')\n",
    "plt.show()"
   ]
  },
  {
   "cell_type": "markdown",
   "id": "f58cb619",
   "metadata": {},
   "source": [
    " Вероятность того, что уведомление откроют не более 399,5 тыс. пользователей, при рассылке клиентам push-уведомления в мобильном приложении в размере 1 млн., составляет 15,4% "
   ]
  },
  {
   "cell_type": "markdown",
   "id": "faaee113",
   "metadata": {},
   "source": [
    "## Общий вывод"
   ]
  },
  {
   "cell_type": "markdown",
   "id": "37b8646a",
   "metadata": {},
   "source": [
    "Для проведения исследования были получены данные сервиса аренды самокатов GoFast. Данные содержали информацию о пользователях и их поездках, а также данные о финансовой информации сервиса. Было получено 3 датафрейма, проверили их на наличие пропусков и дубликатов. Провели исследовательский анализ данных, определили частоту встречаемости городов, соотношение пользователей с подпиской или без, возраст пользователей, расстояние и продолжительность поездок, которые пользователь преодолевает за одну поездку.\n",
    "\n",
    "Необходимо было проанализировать данные и проверить некоторые гипотезы, которые могут помочь бизнесу вырасти. Для этого объединили 3 датафрейма в один. Затем разделили пользователей с подписой и без, тут выяснили, что пользователи без подписки совершают почти в 2 раза больше поездок, чем пользователи с подпиской. Создали датафрейм с агрегированными данными по количеству поездок, расстоянию и длительности - по пользователям с помесячными результатами. Добавили столбец с выручкой по каждому пользователю.\n",
    "\n",
    "Бизнес интересовало: \n",
    "\n",
    "- Тратят ли пользователи с подпиской больше времени на поездки? \n",
    "\n",
    "Проверив нулевую гипотезу о равенстве времени на поездки обоих категорий, ее пришлось отвергнуть в пользу альтернативной - среднее время поездки пользователей с подпиской, больше, чем среднее среднее время поездки пользователей без подписки. \n",
    " \n",
    " - Также интересовал вопрос: расстояние одной поездки в 3130 метров — оптимальное с точки зрения износа самоката. Можно ли сказать, что среднее расстояние, которое проезжают пользователи с подпиской за одну поездку, не превышает 3130 метров? \n",
    " \n",
    "В данном пункте отвергнуть нулевую гипотезу о равенстве оптимального времени и среднего времени поездки пользователей с подпиской не получилось. Вероятность получить наблюдаемое значение составляет 92%, что достаточно высоко. Бизнесу это выгодно, т.к. уменьшается износ самоката.\n",
    "\n",
    "- Будет ли помесячная выручка от пользователей с подпиской по месяцам выше, чем выручка от пользователей без подписки. \n",
    "\n",
    "Проверив нулевую гипотезу о равенстве помесячной выручки обоих категорий, ее пришлось отвергнуть в пользу альтернативной - средняя помесячня выручка пользователей с подпиской, больше, чем средняя помесячня выручка пользователей без подписки.\n",
    "\n",
    "Из расчетов видно, что пользователи с подпиской приносят в среднем на 35 рублей  или 10% больше выручки. Несмотря на то, что количество поездок пользователей без подписки больше на 76.5% и продолжительность их поездок больше на 66.9%, выручки они приносят только на 35.5% больше, чем пользователи с подпиской. В данном случае пользователи с подпиской для бизнеса выгоднее. Отделу маркетинга стоит исследовать причины почему пользователи не приобритают подпису, как рекомендация провести опрос в приложении. При вероятности 10% на продление подписки при раздаче промокодов на 1 бесплатный месяц, всем пользователям без подписки, а их всего 136, получим только одного пользователя с подпиской - данная акция может быть не выгодна бизнесу. Продакт-менеджерам сервиса следуют продумать другие методы стимулирования пользователей оформить подписку."
   ]
  }
 ],
 "metadata": {
  "ExecuteTimeLog": [
   {
    "duration": 1179,
    "start_time": "2024-03-15T23:49:17.962Z"
   },
   {
    "duration": 77,
    "start_time": "2024-03-15T23:49:19.143Z"
   },
   {
    "duration": 83,
    "start_time": "2024-03-15T23:49:19.221Z"
   },
   {
    "duration": 150,
    "start_time": "2024-03-15T23:49:19.306Z"
   },
   {
    "duration": 0,
    "start_time": "2024-03-15T23:49:19.459Z"
   },
   {
    "duration": 0,
    "start_time": "2024-03-15T23:49:19.460Z"
   },
   {
    "duration": 0,
    "start_time": "2024-03-15T23:49:19.461Z"
   },
   {
    "duration": 0,
    "start_time": "2024-03-15T23:49:19.462Z"
   },
   {
    "duration": 0,
    "start_time": "2024-03-15T23:49:19.464Z"
   },
   {
    "duration": 0,
    "start_time": "2024-03-15T23:49:19.465Z"
   },
   {
    "duration": 0,
    "start_time": "2024-03-15T23:49:19.465Z"
   },
   {
    "duration": 0,
    "start_time": "2024-03-15T23:49:19.466Z"
   },
   {
    "duration": 0,
    "start_time": "2024-03-15T23:49:19.467Z"
   },
   {
    "duration": 0,
    "start_time": "2024-03-15T23:49:19.473Z"
   },
   {
    "duration": 1,
    "start_time": "2024-03-15T23:49:19.473Z"
   },
   {
    "duration": 0,
    "start_time": "2024-03-15T23:49:19.474Z"
   },
   {
    "duration": 0,
    "start_time": "2024-03-15T23:49:19.476Z"
   },
   {
    "duration": 0,
    "start_time": "2024-03-15T23:49:19.477Z"
   },
   {
    "duration": 0,
    "start_time": "2024-03-15T23:49:19.478Z"
   },
   {
    "duration": 0,
    "start_time": "2024-03-15T23:49:19.479Z"
   },
   {
    "duration": 0,
    "start_time": "2024-03-15T23:49:19.480Z"
   },
   {
    "duration": 0,
    "start_time": "2024-03-15T23:49:19.481Z"
   },
   {
    "duration": 0,
    "start_time": "2024-03-15T23:49:19.482Z"
   },
   {
    "duration": 0,
    "start_time": "2024-03-15T23:49:19.483Z"
   },
   {
    "duration": 0,
    "start_time": "2024-03-15T23:49:19.485Z"
   },
   {
    "duration": 0,
    "start_time": "2024-03-15T23:49:19.486Z"
   },
   {
    "duration": 0,
    "start_time": "2024-03-15T23:49:19.487Z"
   },
   {
    "duration": 0,
    "start_time": "2024-03-15T23:49:19.488Z"
   },
   {
    "duration": 0,
    "start_time": "2024-03-15T23:49:19.489Z"
   },
   {
    "duration": 0,
    "start_time": "2024-03-15T23:49:19.490Z"
   },
   {
    "duration": 0,
    "start_time": "2024-03-15T23:49:19.491Z"
   },
   {
    "duration": 0,
    "start_time": "2024-03-15T23:49:19.492Z"
   },
   {
    "duration": 0,
    "start_time": "2024-03-15T23:49:19.493Z"
   },
   {
    "duration": 0,
    "start_time": "2024-03-15T23:49:19.494Z"
   },
   {
    "duration": 0,
    "start_time": "2024-03-15T23:49:19.495Z"
   },
   {
    "duration": 0,
    "start_time": "2024-03-15T23:49:19.497Z"
   },
   {
    "duration": 0,
    "start_time": "2024-03-15T23:49:19.498Z"
   },
   {
    "duration": 0,
    "start_time": "2024-03-15T23:49:19.499Z"
   },
   {
    "duration": 0,
    "start_time": "2024-03-15T23:49:19.500Z"
   },
   {
    "duration": 0,
    "start_time": "2024-03-15T23:49:19.501Z"
   },
   {
    "duration": 0,
    "start_time": "2024-03-15T23:49:19.502Z"
   },
   {
    "duration": 0,
    "start_time": "2024-03-15T23:49:19.503Z"
   },
   {
    "duration": 0,
    "start_time": "2024-03-15T23:49:19.504Z"
   },
   {
    "duration": 0,
    "start_time": "2024-03-15T23:49:19.505Z"
   },
   {
    "duration": 0,
    "start_time": "2024-03-15T23:49:19.506Z"
   },
   {
    "duration": 0,
    "start_time": "2024-03-15T23:49:19.506Z"
   },
   {
    "duration": 0,
    "start_time": "2024-03-15T23:49:19.508Z"
   },
   {
    "duration": 0,
    "start_time": "2024-03-15T23:49:19.572Z"
   },
   {
    "duration": 0,
    "start_time": "2024-03-15T23:49:19.574Z"
   },
   {
    "duration": 0,
    "start_time": "2024-03-15T23:49:19.575Z"
   },
   {
    "duration": 0,
    "start_time": "2024-03-15T23:49:19.576Z"
   },
   {
    "duration": 0,
    "start_time": "2024-03-15T23:49:19.577Z"
   },
   {
    "duration": 0,
    "start_time": "2024-03-15T23:49:19.578Z"
   },
   {
    "duration": 0,
    "start_time": "2024-03-15T23:49:19.579Z"
   },
   {
    "duration": 110,
    "start_time": "2024-03-15T23:59:14.513Z"
   },
   {
    "duration": 68,
    "start_time": "2024-03-16T00:00:00.442Z"
   },
   {
    "duration": 69,
    "start_time": "2024-03-16T00:00:29.884Z"
   },
   {
    "duration": 28,
    "start_time": "2024-03-16T00:00:51.217Z"
   },
   {
    "duration": 1154,
    "start_time": "2024-03-16T00:01:21.588Z"
   },
   {
    "duration": 83,
    "start_time": "2024-03-16T00:01:22.744Z"
   },
   {
    "duration": 78,
    "start_time": "2024-03-16T00:01:22.829Z"
   },
   {
    "duration": 16,
    "start_time": "2024-03-16T00:01:22.909Z"
   },
   {
    "duration": 3,
    "start_time": "2024-03-16T00:01:22.927Z"
   },
   {
    "duration": 31,
    "start_time": "2024-03-16T00:01:22.931Z"
   },
   {
    "duration": 19,
    "start_time": "2024-03-16T00:01:22.963Z"
   },
   {
    "duration": 13,
    "start_time": "2024-03-16T00:01:22.983Z"
   },
   {
    "duration": 10,
    "start_time": "2024-03-16T00:01:22.997Z"
   },
   {
    "duration": 11,
    "start_time": "2024-03-16T00:01:23.009Z"
   },
   {
    "duration": 2,
    "start_time": "2024-03-16T00:01:23.022Z"
   },
   {
    "duration": 19,
    "start_time": "2024-03-16T00:01:23.026Z"
   },
   {
    "duration": 27,
    "start_time": "2024-03-16T00:01:23.047Z"
   },
   {
    "duration": 7,
    "start_time": "2024-03-16T00:01:23.076Z"
   },
   {
    "duration": 12,
    "start_time": "2024-03-16T00:01:23.084Z"
   },
   {
    "duration": 36,
    "start_time": "2024-03-16T00:01:23.097Z"
   },
   {
    "duration": 187,
    "start_time": "2024-03-16T00:01:23.134Z"
   },
   {
    "duration": 13,
    "start_time": "2024-03-16T00:01:23.322Z"
   },
   {
    "duration": 190,
    "start_time": "2024-03-16T00:01:23.337Z"
   },
   {
    "duration": 9,
    "start_time": "2024-03-16T00:01:23.530Z"
   },
   {
    "duration": 303,
    "start_time": "2024-03-16T00:01:23.541Z"
   },
   {
    "duration": 205,
    "start_time": "2024-03-16T00:01:23.845Z"
   },
   {
    "duration": 6,
    "start_time": "2024-03-16T00:01:24.052Z"
   },
   {
    "duration": 213,
    "start_time": "2024-03-16T00:01:24.060Z"
   },
   {
    "duration": 6,
    "start_time": "2024-03-16T00:01:24.274Z"
   },
   {
    "duration": 17,
    "start_time": "2024-03-16T00:01:24.282Z"
   },
   {
    "duration": 12,
    "start_time": "2024-03-16T00:01:24.300Z"
   },
   {
    "duration": 19,
    "start_time": "2024-03-16T00:01:24.314Z"
   },
   {
    "duration": 42,
    "start_time": "2024-03-16T00:01:24.335Z"
   },
   {
    "duration": 4,
    "start_time": "2024-03-16T00:01:24.379Z"
   },
   {
    "duration": 16,
    "start_time": "2024-03-16T00:01:24.385Z"
   },
   {
    "duration": 5,
    "start_time": "2024-03-16T00:01:24.402Z"
   },
   {
    "duration": 9,
    "start_time": "2024-03-16T00:01:24.409Z"
   },
   {
    "duration": 294,
    "start_time": "2024-03-16T00:01:24.420Z"
   },
   {
    "duration": 270,
    "start_time": "2024-03-16T00:01:24.715Z"
   },
   {
    "duration": 150,
    "start_time": "2024-03-16T00:01:24.986Z"
   },
   {
    "duration": 11,
    "start_time": "2024-03-16T00:01:25.138Z"
   },
   {
    "duration": 37,
    "start_time": "2024-03-16T00:01:25.150Z"
   },
   {
    "duration": 17,
    "start_time": "2024-03-16T00:01:25.189Z"
   },
   {
    "duration": 14,
    "start_time": "2024-03-16T00:01:25.208Z"
   },
   {
    "duration": 11,
    "start_time": "2024-03-16T00:01:25.226Z"
   },
   {
    "duration": 21,
    "start_time": "2024-03-16T00:01:25.238Z"
   },
   {
    "duration": 12,
    "start_time": "2024-03-16T00:01:25.261Z"
   },
   {
    "duration": 3,
    "start_time": "2024-03-16T00:01:25.274Z"
   },
   {
    "duration": 5,
    "start_time": "2024-03-16T00:01:25.278Z"
   },
   {
    "duration": 6,
    "start_time": "2024-03-16T00:01:25.285Z"
   },
   {
    "duration": 18,
    "start_time": "2024-03-16T00:01:25.292Z"
   },
   {
    "duration": 12,
    "start_time": "2024-03-16T00:01:25.312Z"
   },
   {
    "duration": 7,
    "start_time": "2024-03-16T00:01:25.326Z"
   },
   {
    "duration": 78,
    "start_time": "2024-03-16T00:01:25.334Z"
   },
   {
    "duration": 197,
    "start_time": "2024-03-16T00:01:25.413Z"
   },
   {
    "duration": 5,
    "start_time": "2024-03-16T00:01:25.612Z"
   },
   {
    "duration": 22,
    "start_time": "2024-03-16T00:01:25.618Z"
   },
   {
    "duration": 186,
    "start_time": "2024-03-16T00:01:25.642Z"
   },
   {
    "duration": 7,
    "start_time": "2024-03-16T00:52:36.857Z"
   },
   {
    "duration": 15,
    "start_time": "2024-03-16T00:52:51.153Z"
   },
   {
    "duration": 5,
    "start_time": "2024-03-16T00:58:17.517Z"
   },
   {
    "duration": 5,
    "start_time": "2024-03-16T00:58:41.517Z"
   },
   {
    "duration": 11,
    "start_time": "2024-03-16T01:02:16.006Z"
   },
   {
    "duration": 1221,
    "start_time": "2024-03-16T01:08:22.671Z"
   },
   {
    "duration": 81,
    "start_time": "2024-03-16T01:08:23.894Z"
   },
   {
    "duration": 80,
    "start_time": "2024-03-16T01:08:23.977Z"
   },
   {
    "duration": 16,
    "start_time": "2024-03-16T01:08:24.059Z"
   },
   {
    "duration": 3,
    "start_time": "2024-03-16T01:08:24.078Z"
   },
   {
    "duration": 25,
    "start_time": "2024-03-16T01:08:24.082Z"
   },
   {
    "duration": 22,
    "start_time": "2024-03-16T01:08:24.109Z"
   },
   {
    "duration": 13,
    "start_time": "2024-03-16T01:08:24.133Z"
   },
   {
    "duration": 27,
    "start_time": "2024-03-16T01:08:24.148Z"
   },
   {
    "duration": 11,
    "start_time": "2024-03-16T01:08:24.177Z"
   },
   {
    "duration": 3,
    "start_time": "2024-03-16T01:08:24.190Z"
   },
   {
    "duration": 14,
    "start_time": "2024-03-16T01:08:24.194Z"
   },
   {
    "duration": 21,
    "start_time": "2024-03-16T01:08:24.209Z"
   },
   {
    "duration": 10,
    "start_time": "2024-03-16T01:08:24.233Z"
   },
   {
    "duration": 10,
    "start_time": "2024-03-16T01:08:24.244Z"
   },
   {
    "duration": 25,
    "start_time": "2024-03-16T01:08:24.256Z"
   },
   {
    "duration": 194,
    "start_time": "2024-03-16T01:08:24.283Z"
   },
   {
    "duration": 12,
    "start_time": "2024-03-16T01:08:24.479Z"
   },
   {
    "duration": 168,
    "start_time": "2024-03-16T01:08:24.493Z"
   },
   {
    "duration": 15,
    "start_time": "2024-03-16T01:08:24.663Z"
   },
   {
    "duration": 301,
    "start_time": "2024-03-16T01:08:24.679Z"
   },
   {
    "duration": 192,
    "start_time": "2024-03-16T01:08:24.981Z"
   },
   {
    "duration": 7,
    "start_time": "2024-03-16T01:08:25.174Z"
   },
   {
    "duration": 203,
    "start_time": "2024-03-16T01:08:25.182Z"
   },
   {
    "duration": 6,
    "start_time": "2024-03-16T01:08:25.386Z"
   },
   {
    "duration": 30,
    "start_time": "2024-03-16T01:08:25.393Z"
   },
   {
    "duration": 11,
    "start_time": "2024-03-16T01:08:25.425Z"
   },
   {
    "duration": 26,
    "start_time": "2024-03-16T01:08:25.438Z"
   },
   {
    "duration": 17,
    "start_time": "2024-03-16T01:08:25.465Z"
   },
   {
    "duration": 4,
    "start_time": "2024-03-16T01:08:25.484Z"
   },
   {
    "duration": 16,
    "start_time": "2024-03-16T01:08:25.490Z"
   },
   {
    "duration": 4,
    "start_time": "2024-03-16T01:08:25.507Z"
   },
   {
    "duration": 8,
    "start_time": "2024-03-16T01:08:25.513Z"
   },
   {
    "duration": 292,
    "start_time": "2024-03-16T01:08:25.522Z"
   },
   {
    "duration": 278,
    "start_time": "2024-03-16T01:08:25.816Z"
   },
   {
    "duration": 162,
    "start_time": "2024-03-16T01:08:26.096Z"
   },
   {
    "duration": 15,
    "start_time": "2024-03-16T01:08:26.260Z"
   },
   {
    "duration": 25,
    "start_time": "2024-03-16T01:08:26.277Z"
   },
   {
    "duration": 17,
    "start_time": "2024-03-16T01:08:26.303Z"
   },
   {
    "duration": 19,
    "start_time": "2024-03-16T01:08:26.322Z"
   },
   {
    "duration": 29,
    "start_time": "2024-03-16T01:08:26.345Z"
   },
   {
    "duration": 4,
    "start_time": "2024-03-16T01:08:26.375Z"
   },
   {
    "duration": 5,
    "start_time": "2024-03-16T01:08:26.381Z"
   },
   {
    "duration": 5,
    "start_time": "2024-03-16T01:08:26.388Z"
   },
   {
    "duration": 5,
    "start_time": "2024-03-16T01:08:26.395Z"
   },
   {
    "duration": 15,
    "start_time": "2024-03-16T01:08:26.401Z"
   },
   {
    "duration": 7,
    "start_time": "2024-03-16T01:08:26.418Z"
   },
   {
    "duration": 9,
    "start_time": "2024-03-16T01:08:26.427Z"
   },
   {
    "duration": 8,
    "start_time": "2024-03-16T01:08:26.438Z"
   },
   {
    "duration": 5,
    "start_time": "2024-03-16T01:08:26.472Z"
   },
   {
    "duration": 27,
    "start_time": "2024-03-16T01:08:26.479Z"
   },
   {
    "duration": 187,
    "start_time": "2024-03-16T01:08:26.508Z"
   },
   {
    "duration": 5,
    "start_time": "2024-03-16T01:08:26.696Z"
   },
   {
    "duration": 10,
    "start_time": "2024-03-16T01:08:26.702Z"
   },
   {
    "duration": 181,
    "start_time": "2024-03-16T01:08:26.713Z"
   },
   {
    "duration": 1232,
    "start_time": "2024-03-16T01:08:43.784Z"
   },
   {
    "duration": 86,
    "start_time": "2024-03-16T01:08:45.018Z"
   },
   {
    "duration": 102,
    "start_time": "2024-03-16T01:08:45.106Z"
   },
   {
    "duration": 16,
    "start_time": "2024-03-16T01:08:45.211Z"
   },
   {
    "duration": 21,
    "start_time": "2024-03-16T01:08:45.228Z"
   },
   {
    "duration": 32,
    "start_time": "2024-03-16T01:08:45.250Z"
   },
   {
    "duration": 30,
    "start_time": "2024-03-16T01:08:45.284Z"
   },
   {
    "duration": 14,
    "start_time": "2024-03-16T01:08:45.316Z"
   },
   {
    "duration": 36,
    "start_time": "2024-03-16T01:08:45.331Z"
   },
   {
    "duration": 43,
    "start_time": "2024-03-16T01:08:45.369Z"
   },
   {
    "duration": 17,
    "start_time": "2024-03-16T01:08:45.413Z"
   },
   {
    "duration": 30,
    "start_time": "2024-03-16T01:08:45.432Z"
   },
   {
    "duration": 31,
    "start_time": "2024-03-16T01:08:45.464Z"
   },
   {
    "duration": 7,
    "start_time": "2024-03-16T01:08:45.496Z"
   },
   {
    "duration": 22,
    "start_time": "2024-03-16T01:08:45.505Z"
   },
   {
    "duration": 13,
    "start_time": "2024-03-16T01:08:45.529Z"
   },
   {
    "duration": 181,
    "start_time": "2024-03-16T01:08:45.544Z"
   },
   {
    "duration": 13,
    "start_time": "2024-03-16T01:08:45.726Z"
   },
   {
    "duration": 174,
    "start_time": "2024-03-16T01:08:45.741Z"
   },
   {
    "duration": 8,
    "start_time": "2024-03-16T01:08:45.917Z"
   },
   {
    "duration": 308,
    "start_time": "2024-03-16T01:08:45.926Z"
   },
   {
    "duration": 199,
    "start_time": "2024-03-16T01:08:46.236Z"
   },
   {
    "duration": 7,
    "start_time": "2024-03-16T01:08:46.437Z"
   },
   {
    "duration": 214,
    "start_time": "2024-03-16T01:08:46.445Z"
   },
   {
    "duration": 15,
    "start_time": "2024-03-16T01:08:46.660Z"
   },
   {
    "duration": 30,
    "start_time": "2024-03-16T01:08:46.676Z"
   },
   {
    "duration": 13,
    "start_time": "2024-03-16T01:08:46.707Z"
   },
   {
    "duration": 15,
    "start_time": "2024-03-16T01:08:46.723Z"
   },
   {
    "duration": 16,
    "start_time": "2024-03-16T01:08:46.740Z"
   },
   {
    "duration": 16,
    "start_time": "2024-03-16T01:08:46.757Z"
   },
   {
    "duration": 19,
    "start_time": "2024-03-16T01:08:46.775Z"
   },
   {
    "duration": 3,
    "start_time": "2024-03-16T01:08:46.796Z"
   },
   {
    "duration": 6,
    "start_time": "2024-03-16T01:08:46.801Z"
   },
   {
    "duration": 311,
    "start_time": "2024-03-16T01:08:46.808Z"
   },
   {
    "duration": 270,
    "start_time": "2024-03-16T01:08:47.121Z"
   },
   {
    "duration": 147,
    "start_time": "2024-03-16T01:08:47.393Z"
   },
   {
    "duration": 12,
    "start_time": "2024-03-16T01:08:47.541Z"
   },
   {
    "duration": 32,
    "start_time": "2024-03-16T01:08:47.555Z"
   },
   {
    "duration": 15,
    "start_time": "2024-03-16T01:08:47.589Z"
   },
   {
    "duration": 16,
    "start_time": "2024-03-16T01:08:47.606Z"
   },
   {
    "duration": 4,
    "start_time": "2024-03-16T01:08:47.623Z"
   },
   {
    "duration": 18,
    "start_time": "2024-03-16T01:08:47.629Z"
   },
   {
    "duration": 14,
    "start_time": "2024-03-16T01:08:47.649Z"
   },
   {
    "duration": 6,
    "start_time": "2024-03-16T01:08:47.673Z"
   },
   {
    "duration": 10,
    "start_time": "2024-03-16T01:08:47.680Z"
   },
   {
    "duration": 5,
    "start_time": "2024-03-16T01:08:47.691Z"
   },
   {
    "duration": 6,
    "start_time": "2024-03-16T01:08:47.698Z"
   },
   {
    "duration": 11,
    "start_time": "2024-03-16T01:08:47.706Z"
   },
   {
    "duration": 10,
    "start_time": "2024-03-16T01:08:47.718Z"
   },
   {
    "duration": 6,
    "start_time": "2024-03-16T01:08:47.729Z"
   },
   {
    "duration": 59,
    "start_time": "2024-03-16T01:08:47.736Z"
   },
   {
    "duration": 194,
    "start_time": "2024-03-16T01:08:47.800Z"
   },
   {
    "duration": 5,
    "start_time": "2024-03-16T01:08:47.996Z"
   },
   {
    "duration": 5,
    "start_time": "2024-03-16T01:08:48.002Z"
   },
   {
    "duration": 196,
    "start_time": "2024-03-16T01:08:48.009Z"
   },
   {
    "duration": 1171,
    "start_time": "2024-03-16T01:10:07.347Z"
   },
   {
    "duration": 81,
    "start_time": "2024-03-16T01:10:08.520Z"
   },
   {
    "duration": 78,
    "start_time": "2024-03-16T01:10:08.602Z"
   },
   {
    "duration": 16,
    "start_time": "2024-03-16T01:10:08.682Z"
   },
   {
    "duration": 3,
    "start_time": "2024-03-16T01:10:08.700Z"
   },
   {
    "duration": 41,
    "start_time": "2024-03-16T01:10:08.705Z"
   },
   {
    "duration": 17,
    "start_time": "2024-03-16T01:10:08.748Z"
   },
   {
    "duration": 14,
    "start_time": "2024-03-16T01:10:08.767Z"
   },
   {
    "duration": 14,
    "start_time": "2024-03-16T01:10:08.782Z"
   },
   {
    "duration": 12,
    "start_time": "2024-03-16T01:10:08.797Z"
   },
   {
    "duration": 10,
    "start_time": "2024-03-16T01:10:08.810Z"
   },
   {
    "duration": 17,
    "start_time": "2024-03-16T01:10:08.822Z"
   },
   {
    "duration": 10,
    "start_time": "2024-03-16T01:10:08.841Z"
   },
   {
    "duration": 6,
    "start_time": "2024-03-16T01:10:08.854Z"
   },
   {
    "duration": 10,
    "start_time": "2024-03-16T01:10:08.873Z"
   },
   {
    "duration": 13,
    "start_time": "2024-03-16T01:10:08.884Z"
   },
   {
    "duration": 218,
    "start_time": "2024-03-16T01:10:08.899Z"
   },
   {
    "duration": 13,
    "start_time": "2024-03-16T01:10:09.118Z"
   },
   {
    "duration": 179,
    "start_time": "2024-03-16T01:10:09.132Z"
   },
   {
    "duration": 8,
    "start_time": "2024-03-16T01:10:09.313Z"
   },
   {
    "duration": 296,
    "start_time": "2024-03-16T01:10:09.323Z"
   },
   {
    "duration": 189,
    "start_time": "2024-03-16T01:10:09.621Z"
   },
   {
    "duration": 7,
    "start_time": "2024-03-16T01:10:09.811Z"
   },
   {
    "duration": 202,
    "start_time": "2024-03-16T01:10:09.819Z"
   },
   {
    "duration": 7,
    "start_time": "2024-03-16T01:10:10.023Z"
   },
   {
    "duration": 23,
    "start_time": "2024-03-16T01:10:10.032Z"
   },
   {
    "duration": 28,
    "start_time": "2024-03-16T01:10:10.057Z"
   },
   {
    "duration": 29,
    "start_time": "2024-03-16T01:10:10.087Z"
   },
   {
    "duration": 21,
    "start_time": "2024-03-16T01:10:10.119Z"
   },
   {
    "duration": 4,
    "start_time": "2024-03-16T01:10:10.142Z"
   },
   {
    "duration": 33,
    "start_time": "2024-03-16T01:10:10.148Z"
   },
   {
    "duration": 17,
    "start_time": "2024-03-16T01:10:10.183Z"
   },
   {
    "duration": 9,
    "start_time": "2024-03-16T01:10:10.202Z"
   },
   {
    "duration": 278,
    "start_time": "2024-03-16T01:10:10.212Z"
   },
   {
    "duration": 271,
    "start_time": "2024-03-16T01:10:10.492Z"
   },
   {
    "duration": 143,
    "start_time": "2024-03-16T01:10:10.764Z"
   },
   {
    "duration": 11,
    "start_time": "2024-03-16T01:10:10.909Z"
   },
   {
    "duration": 36,
    "start_time": "2024-03-16T01:10:10.922Z"
   },
   {
    "duration": 24,
    "start_time": "2024-03-16T01:10:10.960Z"
   },
   {
    "duration": 17,
    "start_time": "2024-03-16T01:10:10.986Z"
   },
   {
    "duration": 4,
    "start_time": "2024-03-16T01:10:11.008Z"
   },
   {
    "duration": 7,
    "start_time": "2024-03-16T01:10:11.014Z"
   },
   {
    "duration": 15,
    "start_time": "2024-03-16T01:10:11.023Z"
   },
   {
    "duration": 16,
    "start_time": "2024-03-16T01:10:11.040Z"
   },
   {
    "duration": 12,
    "start_time": "2024-03-16T01:10:11.058Z"
   },
   {
    "duration": 17,
    "start_time": "2024-03-16T01:10:11.071Z"
   },
   {
    "duration": 11,
    "start_time": "2024-03-16T01:10:11.089Z"
   },
   {
    "duration": 16,
    "start_time": "2024-03-16T01:10:11.101Z"
   },
   {
    "duration": 13,
    "start_time": "2024-03-16T01:10:11.118Z"
   },
   {
    "duration": 6,
    "start_time": "2024-03-16T01:10:11.132Z"
   },
   {
    "duration": 29,
    "start_time": "2024-03-16T01:10:11.139Z"
   },
   {
    "duration": 181,
    "start_time": "2024-03-16T01:10:11.170Z"
   },
   {
    "duration": 5,
    "start_time": "2024-03-16T01:10:11.353Z"
   },
   {
    "duration": 4,
    "start_time": "2024-03-16T01:10:11.372Z"
   },
   {
    "duration": 197,
    "start_time": "2024-03-16T01:10:11.378Z"
   },
   {
    "duration": 170,
    "start_time": "2024-03-16T01:10:34.793Z"
   },
   {
    "duration": 43,
    "start_time": "2024-03-16T11:01:58.580Z"
   },
   {
    "duration": 7,
    "start_time": "2024-03-16T11:02:33.374Z"
   },
   {
    "duration": 8,
    "start_time": "2024-03-16T11:02:43.000Z"
   },
   {
    "duration": 1209,
    "start_time": "2024-03-16T11:23:37.432Z"
   },
   {
    "duration": 129,
    "start_time": "2024-03-16T11:23:38.643Z"
   },
   {
    "duration": 100,
    "start_time": "2024-03-16T11:23:38.774Z"
   },
   {
    "duration": 88,
    "start_time": "2024-03-16T11:23:38.875Z"
   },
   {
    "duration": 3,
    "start_time": "2024-03-16T11:23:38.964Z"
   },
   {
    "duration": 20,
    "start_time": "2024-03-16T11:23:38.969Z"
   },
   {
    "duration": 12,
    "start_time": "2024-03-16T11:23:38.990Z"
   },
   {
    "duration": 10,
    "start_time": "2024-03-16T11:23:39.004Z"
   },
   {
    "duration": 12,
    "start_time": "2024-03-16T11:23:39.015Z"
   },
   {
    "duration": 9,
    "start_time": "2024-03-16T11:23:39.029Z"
   },
   {
    "duration": 2,
    "start_time": "2024-03-16T11:23:39.039Z"
   },
   {
    "duration": 7,
    "start_time": "2024-03-16T11:23:39.042Z"
   },
   {
    "duration": 7,
    "start_time": "2024-03-16T11:23:39.050Z"
   },
   {
    "duration": 5,
    "start_time": "2024-03-16T11:23:39.058Z"
   },
   {
    "duration": 14,
    "start_time": "2024-03-16T11:23:39.064Z"
   },
   {
    "duration": 31,
    "start_time": "2024-03-16T11:23:39.079Z"
   },
   {
    "duration": 157,
    "start_time": "2024-03-16T11:23:39.112Z"
   },
   {
    "duration": 12,
    "start_time": "2024-03-16T11:23:39.271Z"
   },
   {
    "duration": 129,
    "start_time": "2024-03-16T11:23:39.302Z"
   },
   {
    "duration": 8,
    "start_time": "2024-03-16T11:23:39.432Z"
   },
   {
    "duration": 225,
    "start_time": "2024-03-16T11:23:39.441Z"
   },
   {
    "duration": 156,
    "start_time": "2024-03-16T11:23:39.668Z"
   },
   {
    "duration": 6,
    "start_time": "2024-03-16T11:23:39.826Z"
   },
   {
    "duration": 172,
    "start_time": "2024-03-16T11:23:39.833Z"
   },
   {
    "duration": 5,
    "start_time": "2024-03-16T11:23:40.007Z"
   },
   {
    "duration": 20,
    "start_time": "2024-03-16T11:23:40.014Z"
   },
   {
    "duration": 15,
    "start_time": "2024-03-16T11:23:40.035Z"
   },
   {
    "duration": 27,
    "start_time": "2024-03-16T11:23:40.053Z"
   },
   {
    "duration": 13,
    "start_time": "2024-03-16T11:23:40.081Z"
   },
   {
    "duration": 5,
    "start_time": "2024-03-16T11:23:40.095Z"
   },
   {
    "duration": 13,
    "start_time": "2024-03-16T11:23:40.101Z"
   },
   {
    "duration": 3,
    "start_time": "2024-03-16T11:23:40.115Z"
   },
   {
    "duration": 7,
    "start_time": "2024-03-16T11:23:40.119Z"
   },
   {
    "duration": 226,
    "start_time": "2024-03-16T11:23:40.127Z"
   },
   {
    "duration": 265,
    "start_time": "2024-03-16T11:23:40.355Z"
   },
   {
    "duration": 50,
    "start_time": "2024-03-16T11:23:40.622Z"
   },
   {
    "duration": 9,
    "start_time": "2024-03-16T11:23:40.674Z"
   },
   {
    "duration": 19,
    "start_time": "2024-03-16T11:23:40.701Z"
   },
   {
    "duration": 13,
    "start_time": "2024-03-16T11:23:40.721Z"
   },
   {
    "duration": 10,
    "start_time": "2024-03-16T11:23:40.735Z"
   },
   {
    "duration": 11,
    "start_time": "2024-03-16T11:23:40.747Z"
   },
   {
    "duration": 4,
    "start_time": "2024-03-16T11:23:40.760Z"
   },
   {
    "duration": 6,
    "start_time": "2024-03-16T11:23:40.765Z"
   },
   {
    "duration": 28,
    "start_time": "2024-03-16T11:23:40.773Z"
   },
   {
    "duration": 2,
    "start_time": "2024-03-16T11:23:40.802Z"
   },
   {
    "duration": 12,
    "start_time": "2024-03-16T11:23:40.805Z"
   },
   {
    "duration": 14,
    "start_time": "2024-03-16T11:23:40.818Z"
   },
   {
    "duration": 12,
    "start_time": "2024-03-16T11:23:40.833Z"
   },
   {
    "duration": 6,
    "start_time": "2024-03-16T11:23:40.847Z"
   },
   {
    "duration": 7,
    "start_time": "2024-03-16T11:23:40.854Z"
   },
   {
    "duration": 28,
    "start_time": "2024-03-16T11:23:40.862Z"
   },
   {
    "duration": 145,
    "start_time": "2024-03-16T11:23:40.891Z"
   },
   {
    "duration": 5,
    "start_time": "2024-03-16T11:23:41.037Z"
   },
   {
    "duration": 11,
    "start_time": "2024-03-16T11:23:41.043Z"
   },
   {
    "duration": 148,
    "start_time": "2024-03-16T11:23:41.056Z"
   },
   {
    "duration": 82,
    "start_time": "2024-03-16T12:34:04.491Z"
   },
   {
    "duration": 70,
    "start_time": "2024-03-16T12:54:04.009Z"
   },
   {
    "duration": 12,
    "start_time": "2024-03-16T12:55:16.081Z"
   },
   {
    "duration": 12,
    "start_time": "2024-03-16T12:55:44.446Z"
   },
   {
    "duration": 4,
    "start_time": "2024-03-16T12:59:42.011Z"
   },
   {
    "duration": 4,
    "start_time": "2024-03-16T13:00:16.624Z"
   },
   {
    "duration": 4,
    "start_time": "2024-03-16T13:02:03.061Z"
   },
   {
    "duration": 63,
    "start_time": "2024-03-16T13:03:12.957Z"
   },
   {
    "duration": 138,
    "start_time": "2024-03-16T13:04:45.968Z"
   },
   {
    "duration": 121,
    "start_time": "2024-03-16T13:05:10.435Z"
   },
   {
    "duration": 120,
    "start_time": "2024-03-16T13:10:24.782Z"
   },
   {
    "duration": 128,
    "start_time": "2024-03-16T13:10:34.205Z"
   },
   {
    "duration": 126,
    "start_time": "2024-03-16T13:10:41.677Z"
   },
   {
    "duration": 203,
    "start_time": "2024-03-16T13:11:20.617Z"
   },
   {
    "duration": 69,
    "start_time": "2024-03-16T13:13:03.298Z"
   },
   {
    "duration": 4,
    "start_time": "2024-03-16T13:22:08.467Z"
   },
   {
    "duration": 4,
    "start_time": "2024-03-16T13:22:35.882Z"
   },
   {
    "duration": 4,
    "start_time": "2024-03-16T13:23:00.011Z"
   },
   {
    "duration": 4,
    "start_time": "2024-03-16T13:23:15.637Z"
   },
   {
    "duration": 4,
    "start_time": "2024-03-16T13:23:25.289Z"
   },
   {
    "duration": 81,
    "start_time": "2024-03-16T13:24:25.370Z"
   },
   {
    "duration": 65,
    "start_time": "2024-03-16T13:24:35.711Z"
   },
   {
    "duration": 71,
    "start_time": "2024-03-16T13:24:40.570Z"
   },
   {
    "duration": 67,
    "start_time": "2024-03-16T13:25:38.328Z"
   },
   {
    "duration": 81,
    "start_time": "2024-03-16T13:26:20.181Z"
   },
   {
    "duration": 94,
    "start_time": "2024-03-16T13:26:36.771Z"
   },
   {
    "duration": 84,
    "start_time": "2024-03-16T13:28:08.570Z"
   },
   {
    "duration": 66,
    "start_time": "2024-03-16T13:29:09.109Z"
   },
   {
    "duration": 65,
    "start_time": "2024-03-16T13:29:40.375Z"
   },
   {
    "duration": 70,
    "start_time": "2024-03-16T13:29:45.108Z"
   },
   {
    "duration": 67,
    "start_time": "2024-03-16T13:29:56.073Z"
   },
   {
    "duration": 4,
    "start_time": "2024-03-16T13:30:23.438Z"
   },
   {
    "duration": 3,
    "start_time": "2024-03-16T13:30:44.966Z"
   },
   {
    "duration": 4,
    "start_time": "2024-03-16T13:33:31.058Z"
   },
   {
    "duration": 3,
    "start_time": "2024-03-16T13:33:47.250Z"
   },
   {
    "duration": 3,
    "start_time": "2024-03-16T13:34:29.102Z"
   },
   {
    "duration": 3,
    "start_time": "2024-03-16T13:37:16.912Z"
   },
   {
    "duration": 4,
    "start_time": "2024-03-16T13:37:21.788Z"
   },
   {
    "duration": 91,
    "start_time": "2024-03-16T13:39:42.702Z"
   },
   {
    "duration": 69,
    "start_time": "2024-03-16T13:40:04.112Z"
   },
   {
    "duration": 90,
    "start_time": "2024-03-16T13:40:53.254Z"
   },
   {
    "duration": 9,
    "start_time": "2024-03-16T13:41:11.767Z"
   },
   {
    "duration": 85,
    "start_time": "2024-03-16T13:42:14.919Z"
   },
   {
    "duration": 123,
    "start_time": "2024-03-16T13:42:30.356Z"
   },
   {
    "duration": 111,
    "start_time": "2024-03-16T13:42:58.005Z"
   },
   {
    "duration": 113,
    "start_time": "2024-03-16T13:45:31.214Z"
   },
   {
    "duration": 109,
    "start_time": "2024-03-16T13:45:44.787Z"
   },
   {
    "duration": 107,
    "start_time": "2024-03-16T13:48:42.466Z"
   },
   {
    "duration": 110,
    "start_time": "2024-03-16T13:49:32.009Z"
   },
   {
    "duration": 115,
    "start_time": "2024-03-16T13:52:11.675Z"
   },
   {
    "duration": 123,
    "start_time": "2024-03-16T13:53:20.918Z"
   },
   {
    "duration": 120,
    "start_time": "2024-03-16T13:53:25.848Z"
   },
   {
    "duration": 113,
    "start_time": "2024-03-16T13:53:34.535Z"
   },
   {
    "duration": 122,
    "start_time": "2024-03-16T13:53:42.478Z"
   },
   {
    "duration": 117,
    "start_time": "2024-03-16T13:53:50.969Z"
   },
   {
    "duration": 137,
    "start_time": "2024-03-16T13:54:00.229Z"
   },
   {
    "duration": 106,
    "start_time": "2024-03-16T13:54:47.486Z"
   },
   {
    "duration": 143,
    "start_time": "2024-03-16T14:01:46.034Z"
   },
   {
    "duration": 83,
    "start_time": "2024-03-16T14:02:03.830Z"
   },
   {
    "duration": 15,
    "start_time": "2024-03-16T14:02:51.847Z"
   },
   {
    "duration": 74,
    "start_time": "2024-03-16T14:03:16.417Z"
   },
   {
    "duration": 6,
    "start_time": "2024-03-16T14:03:20.875Z"
   },
   {
    "duration": 90,
    "start_time": "2024-03-16T14:20:16.611Z"
   },
   {
    "duration": 10,
    "start_time": "2024-03-16T14:25:39.623Z"
   },
   {
    "duration": 335,
    "start_time": "2024-03-16T14:26:12.758Z"
   },
   {
    "duration": 124,
    "start_time": "2024-03-16T14:27:07.423Z"
   },
   {
    "duration": 132,
    "start_time": "2024-03-16T14:27:16.260Z"
   },
   {
    "duration": 1170,
    "start_time": "2024-03-16T14:29:08.317Z"
   },
   {
    "duration": 11,
    "start_time": "2024-03-16T14:29:27.607Z"
   },
   {
    "duration": 119,
    "start_time": "2024-03-16T14:42:27.231Z"
   },
   {
    "duration": 66,
    "start_time": "2024-03-16T14:43:45.106Z"
   },
   {
    "duration": 97,
    "start_time": "2024-03-16T14:44:32.713Z"
   },
   {
    "duration": 117,
    "start_time": "2024-03-16T14:45:28.397Z"
   },
   {
    "duration": 72,
    "start_time": "2024-03-16T14:50:35.526Z"
   },
   {
    "duration": 11,
    "start_time": "2024-03-16T14:54:28.094Z"
   },
   {
    "duration": 10,
    "start_time": "2024-03-16T14:54:41.589Z"
   },
   {
    "duration": 10,
    "start_time": "2024-03-16T14:55:24.072Z"
   },
   {
    "duration": 10,
    "start_time": "2024-03-16T14:55:36.610Z"
   },
   {
    "duration": 11,
    "start_time": "2024-03-16T14:56:02.562Z"
   },
   {
    "duration": 5,
    "start_time": "2024-03-16T14:56:32.082Z"
   },
   {
    "duration": 6,
    "start_time": "2024-03-16T14:57:01.073Z"
   },
   {
    "duration": 80,
    "start_time": "2024-03-16T14:57:43.006Z"
   },
   {
    "duration": 7,
    "start_time": "2024-03-16T15:00:37.261Z"
   },
   {
    "duration": 8,
    "start_time": "2024-03-16T15:03:33.590Z"
   },
   {
    "duration": 8,
    "start_time": "2024-03-16T15:04:20.351Z"
   },
   {
    "duration": 6,
    "start_time": "2024-03-16T16:27:02.012Z"
   },
   {
    "duration": 7,
    "start_time": "2024-03-16T16:28:26.086Z"
   },
   {
    "duration": 68,
    "start_time": "2024-03-16T16:29:05.856Z"
   },
   {
    "duration": 11,
    "start_time": "2024-03-16T16:43:02.332Z"
   },
   {
    "duration": 10,
    "start_time": "2024-03-16T16:43:14.456Z"
   },
   {
    "duration": 4,
    "start_time": "2024-03-16T16:45:01.228Z"
   },
   {
    "duration": 4,
    "start_time": "2024-03-16T16:46:21.400Z"
   },
   {
    "duration": 4,
    "start_time": "2024-03-16T16:47:02.155Z"
   },
   {
    "duration": 8,
    "start_time": "2024-03-16T16:47:19.256Z"
   },
   {
    "duration": 6,
    "start_time": "2024-03-16T16:47:36.166Z"
   },
   {
    "duration": 155,
    "start_time": "2024-03-16T16:48:19.778Z"
   },
   {
    "duration": 10,
    "start_time": "2024-03-16T16:57:11.758Z"
   },
   {
    "duration": 7,
    "start_time": "2024-03-16T16:57:57.130Z"
   },
   {
    "duration": 8,
    "start_time": "2024-03-16T17:22:08.685Z"
   },
   {
    "duration": 7,
    "start_time": "2024-03-16T17:22:16.876Z"
   },
   {
    "duration": 7,
    "start_time": "2024-03-16T17:22:22.279Z"
   },
   {
    "duration": 12,
    "start_time": "2024-03-16T17:28:35.841Z"
   },
   {
    "duration": 10,
    "start_time": "2024-03-16T17:28:39.504Z"
   },
   {
    "duration": 1048,
    "start_time": "2024-03-16T17:28:48.522Z"
   },
   {
    "duration": 57,
    "start_time": "2024-03-16T17:28:49.572Z"
   },
   {
    "duration": 59,
    "start_time": "2024-03-16T17:28:49.631Z"
   },
   {
    "duration": 47,
    "start_time": "2024-03-16T17:28:49.693Z"
   },
   {
    "duration": 3,
    "start_time": "2024-03-16T17:28:49.741Z"
   },
   {
    "duration": 17,
    "start_time": "2024-03-16T17:28:49.745Z"
   },
   {
    "duration": 12,
    "start_time": "2024-03-16T17:28:49.764Z"
   },
   {
    "duration": 11,
    "start_time": "2024-03-16T17:28:49.778Z"
   },
   {
    "duration": 9,
    "start_time": "2024-03-16T17:28:49.790Z"
   },
   {
    "duration": 9,
    "start_time": "2024-03-16T17:28:49.801Z"
   },
   {
    "duration": 3,
    "start_time": "2024-03-16T17:28:49.811Z"
   },
   {
    "duration": 5,
    "start_time": "2024-03-16T17:28:49.815Z"
   },
   {
    "duration": 7,
    "start_time": "2024-03-16T17:28:49.821Z"
   },
   {
    "duration": 7,
    "start_time": "2024-03-16T17:28:49.829Z"
   },
   {
    "duration": 8,
    "start_time": "2024-03-16T17:28:49.838Z"
   },
   {
    "duration": 12,
    "start_time": "2024-03-16T17:28:49.847Z"
   },
   {
    "duration": 16,
    "start_time": "2024-03-16T17:28:49.860Z"
   },
   {
    "duration": 162,
    "start_time": "2024-03-16T17:28:49.877Z"
   },
   {
    "duration": 3,
    "start_time": "2024-03-16T17:28:50.040Z"
   },
   {
    "duration": 29,
    "start_time": "2024-03-16T17:28:50.044Z"
   },
   {
    "duration": 118,
    "start_time": "2024-03-16T17:28:50.074Z"
   },
   {
    "duration": 7,
    "start_time": "2024-03-16T17:28:50.193Z"
   },
   {
    "duration": 98,
    "start_time": "2024-03-16T17:28:50.201Z"
   },
   {
    "duration": 6,
    "start_time": "2024-03-16T17:28:50.301Z"
   },
   {
    "duration": 234,
    "start_time": "2024-03-16T17:28:50.308Z"
   },
   {
    "duration": 156,
    "start_time": "2024-03-16T17:28:50.543Z"
   },
   {
    "duration": 107,
    "start_time": "2024-03-16T17:28:50.701Z"
   },
   {
    "duration": 6,
    "start_time": "2024-03-16T17:28:50.812Z"
   },
   {
    "duration": 17,
    "start_time": "2024-03-16T17:28:50.820Z"
   },
   {
    "duration": 108,
    "start_time": "2024-03-16T17:28:50.838Z"
   },
   {
    "duration": 7,
    "start_time": "2024-03-16T17:28:50.947Z"
   },
   {
    "duration": 7,
    "start_time": "2024-03-16T17:28:50.956Z"
   },
   {
    "duration": 3,
    "start_time": "2024-03-16T17:28:50.964Z"
   },
   {
    "duration": 15,
    "start_time": "2024-03-16T17:28:50.968Z"
   },
   {
    "duration": 21,
    "start_time": "2024-03-16T17:28:50.985Z"
   },
   {
    "duration": 146,
    "start_time": "2024-03-16T17:28:51.007Z"
   },
   {
    "duration": 5,
    "start_time": "2024-03-16T17:28:51.154Z"
   },
   {
    "duration": 22,
    "start_time": "2024-03-16T17:28:51.160Z"
   },
   {
    "duration": 19,
    "start_time": "2024-03-16T17:28:51.183Z"
   },
   {
    "duration": 16,
    "start_time": "2024-03-16T17:28:51.203Z"
   },
   {
    "duration": 17,
    "start_time": "2024-03-16T17:28:51.221Z"
   },
   {
    "duration": 21,
    "start_time": "2024-03-16T17:28:51.240Z"
   },
   {
    "duration": 36,
    "start_time": "2024-03-16T17:28:51.263Z"
   },
   {
    "duration": 15,
    "start_time": "2024-03-16T17:28:51.300Z"
   },
   {
    "duration": 16,
    "start_time": "2024-03-16T17:28:51.316Z"
   },
   {
    "duration": 252,
    "start_time": "2024-03-16T17:28:51.333Z"
   },
   {
    "duration": 206,
    "start_time": "2024-03-16T17:28:51.587Z"
   },
   {
    "duration": 55,
    "start_time": "2024-03-16T17:28:51.795Z"
   },
   {
    "duration": 9,
    "start_time": "2024-03-16T17:28:51.851Z"
   },
   {
    "duration": 31,
    "start_time": "2024-03-16T17:28:51.861Z"
   },
   {
    "duration": 19,
    "start_time": "2024-03-16T17:28:51.893Z"
   },
   {
    "duration": 9,
    "start_time": "2024-03-16T17:28:51.914Z"
   },
   {
    "duration": 14,
    "start_time": "2024-03-16T17:28:51.924Z"
   },
   {
    "duration": 19,
    "start_time": "2024-03-16T17:28:51.940Z"
   },
   {
    "duration": 14,
    "start_time": "2024-03-16T17:28:51.961Z"
   },
   {
    "duration": 14,
    "start_time": "2024-03-16T17:28:51.977Z"
   },
   {
    "duration": 24,
    "start_time": "2024-03-16T17:28:51.993Z"
   },
   {
    "duration": 8,
    "start_time": "2024-03-16T17:28:52.018Z"
   },
   {
    "duration": 6,
    "start_time": "2024-03-16T17:28:52.027Z"
   },
   {
    "duration": 21,
    "start_time": "2024-03-16T17:28:52.034Z"
   },
   {
    "duration": 8,
    "start_time": "2024-03-16T17:28:52.057Z"
   },
   {
    "duration": 6,
    "start_time": "2024-03-16T17:28:52.066Z"
   },
   {
    "duration": 37,
    "start_time": "2024-03-16T17:28:52.073Z"
   },
   {
    "duration": 141,
    "start_time": "2024-03-16T17:28:52.112Z"
   },
   {
    "duration": 4,
    "start_time": "2024-03-16T17:28:52.255Z"
   },
   {
    "duration": 9,
    "start_time": "2024-03-16T17:28:52.261Z"
   },
   {
    "duration": 157,
    "start_time": "2024-03-16T17:28:52.272Z"
   },
   {
    "duration": 168,
    "start_time": "2024-03-16T17:29:45.240Z"
   },
   {
    "duration": 4,
    "start_time": "2024-03-16T17:29:54.989Z"
   },
   {
    "duration": 132,
    "start_time": "2024-03-16T17:29:55.609Z"
   },
   {
    "duration": 123,
    "start_time": "2024-03-16T17:29:56.509Z"
   },
   {
    "duration": 111,
    "start_time": "2024-03-16T17:30:24.767Z"
   },
   {
    "duration": 181,
    "start_time": "2024-03-16T17:31:10.743Z"
   },
   {
    "duration": 89,
    "start_time": "2024-03-16T17:31:33.385Z"
   },
   {
    "duration": 73,
    "start_time": "2024-03-16T17:32:22.428Z"
   },
   {
    "duration": 130,
    "start_time": "2024-03-16T17:32:27.594Z"
   },
   {
    "duration": 7,
    "start_time": "2024-03-16T17:47:06.996Z"
   },
   {
    "duration": 6,
    "start_time": "2024-03-16T17:47:46.726Z"
   },
   {
    "duration": 7,
    "start_time": "2024-03-16T17:48:47.651Z"
   },
   {
    "duration": 7,
    "start_time": "2024-03-16T17:49:08.745Z"
   },
   {
    "duration": 68,
    "start_time": "2024-03-16T18:26:04.449Z"
   },
   {
    "duration": 51,
    "start_time": "2024-03-17T06:03:58.680Z"
   },
   {
    "duration": 6,
    "start_time": "2024-03-17T06:04:10.145Z"
   },
   {
    "duration": 1444,
    "start_time": "2024-03-17T06:04:18.693Z"
   },
   {
    "duration": 109,
    "start_time": "2024-03-17T06:04:20.140Z"
   },
   {
    "duration": 112,
    "start_time": "2024-03-17T06:04:20.250Z"
   },
   {
    "duration": 90,
    "start_time": "2024-03-17T06:04:20.364Z"
   },
   {
    "duration": 3,
    "start_time": "2024-03-17T06:04:20.456Z"
   },
   {
    "duration": 21,
    "start_time": "2024-03-17T06:04:20.461Z"
   },
   {
    "duration": 17,
    "start_time": "2024-03-17T06:04:20.484Z"
   },
   {
    "duration": 16,
    "start_time": "2024-03-17T06:04:20.503Z"
   },
   {
    "duration": 7,
    "start_time": "2024-03-17T06:04:20.522Z"
   },
   {
    "duration": 51,
    "start_time": "2024-03-17T06:04:20.533Z"
   },
   {
    "duration": 6,
    "start_time": "2024-03-17T06:04:20.587Z"
   },
   {
    "duration": 8,
    "start_time": "2024-03-17T06:04:20.595Z"
   },
   {
    "duration": 10,
    "start_time": "2024-03-17T06:04:20.606Z"
   },
   {
    "duration": 14,
    "start_time": "2024-03-17T06:04:20.618Z"
   },
   {
    "duration": 8,
    "start_time": "2024-03-17T06:04:20.634Z"
   },
   {
    "duration": 46,
    "start_time": "2024-03-17T06:04:20.644Z"
   },
   {
    "duration": 30,
    "start_time": "2024-03-17T06:04:20.691Z"
   },
   {
    "duration": 215,
    "start_time": "2024-03-17T06:04:20.723Z"
   },
   {
    "duration": 4,
    "start_time": "2024-03-17T06:04:20.939Z"
   },
   {
    "duration": 13,
    "start_time": "2024-03-17T06:04:20.945Z"
   },
   {
    "duration": 178,
    "start_time": "2024-03-17T06:04:20.959Z"
   },
   {
    "duration": 10,
    "start_time": "2024-03-17T06:04:21.139Z"
   },
   {
    "duration": 111,
    "start_time": "2024-03-17T06:04:21.150Z"
   },
   {
    "duration": 20,
    "start_time": "2024-03-17T06:04:21.263Z"
   },
   {
    "duration": 12,
    "start_time": "2024-03-17T06:04:21.285Z"
   },
   {
    "duration": 301,
    "start_time": "2024-03-17T06:04:21.299Z"
   },
   {
    "duration": 200,
    "start_time": "2024-03-17T06:04:21.602Z"
   },
   {
    "duration": 136,
    "start_time": "2024-03-17T06:04:21.808Z"
   },
   {
    "duration": 10,
    "start_time": "2024-03-17T06:04:21.946Z"
   },
   {
    "duration": 25,
    "start_time": "2024-03-17T06:04:21.957Z"
   },
   {
    "duration": 159,
    "start_time": "2024-03-17T06:04:21.984Z"
   },
   {
    "duration": 11,
    "start_time": "2024-03-17T06:04:22.145Z"
   },
   {
    "duration": 12,
    "start_time": "2024-03-17T06:04:22.158Z"
   },
   {
    "duration": 13,
    "start_time": "2024-03-17T06:04:22.171Z"
   },
   {
    "duration": 11,
    "start_time": "2024-03-17T06:04:22.185Z"
   },
   {
    "duration": 8,
    "start_time": "2024-03-17T06:04:22.198Z"
   },
   {
    "duration": 215,
    "start_time": "2024-03-17T06:04:22.208Z"
   },
   {
    "duration": 7,
    "start_time": "2024-03-17T06:04:22.425Z"
   },
   {
    "duration": 23,
    "start_time": "2024-03-17T06:04:22.434Z"
   },
   {
    "duration": 24,
    "start_time": "2024-03-17T06:04:22.460Z"
   },
   {
    "duration": 16,
    "start_time": "2024-03-17T06:04:22.485Z"
   },
   {
    "duration": 19,
    "start_time": "2024-03-17T06:04:22.503Z"
   },
   {
    "duration": 4,
    "start_time": "2024-03-17T06:04:22.524Z"
   },
   {
    "duration": 53,
    "start_time": "2024-03-17T06:04:22.530Z"
   },
   {
    "duration": 4,
    "start_time": "2024-03-17T06:04:22.584Z"
   },
   {
    "duration": 9,
    "start_time": "2024-03-17T06:04:22.590Z"
   },
   {
    "duration": 364,
    "start_time": "2024-03-17T06:04:22.601Z"
   },
   {
    "duration": 16,
    "start_time": "2024-03-17T06:04:22.967Z"
   },
   {
    "duration": 8,
    "start_time": "2024-03-17T06:04:22.985Z"
   },
   {
    "duration": 297,
    "start_time": "2024-03-17T06:04:22.994Z"
   },
   {
    "duration": 8,
    "start_time": "2024-03-17T06:04:23.293Z"
   },
   {
    "duration": 8,
    "start_time": "2024-03-17T06:04:23.303Z"
   },
   {
    "duration": 94,
    "start_time": "2024-03-17T06:04:23.313Z"
   },
   {
    "duration": 13,
    "start_time": "2024-03-17T06:04:23.408Z"
   },
   {
    "duration": 25,
    "start_time": "2024-03-17T06:04:23.422Z"
   },
   {
    "duration": 39,
    "start_time": "2024-03-17T06:04:23.449Z"
   },
   {
    "duration": 13,
    "start_time": "2024-03-17T06:04:23.490Z"
   },
   {
    "duration": 5,
    "start_time": "2024-03-17T06:04:23.504Z"
   },
   {
    "duration": 4,
    "start_time": "2024-03-17T06:04:23.510Z"
   },
   {
    "duration": 7,
    "start_time": "2024-03-17T06:04:23.515Z"
   },
   {
    "duration": 12,
    "start_time": "2024-03-17T06:04:23.524Z"
   },
   {
    "duration": 4,
    "start_time": "2024-03-17T06:04:23.538Z"
   },
   {
    "duration": 5,
    "start_time": "2024-03-17T06:04:23.544Z"
   },
   {
    "duration": 6,
    "start_time": "2024-03-17T06:04:23.582Z"
   },
   {
    "duration": 14,
    "start_time": "2024-03-17T06:04:23.590Z"
   },
   {
    "duration": 11,
    "start_time": "2024-03-17T06:04:23.605Z"
   },
   {
    "duration": 6,
    "start_time": "2024-03-17T06:04:23.618Z"
   },
   {
    "duration": 203,
    "start_time": "2024-03-17T06:04:23.626Z"
   },
   {
    "duration": 200,
    "start_time": "2024-03-17T06:04:23.831Z"
   },
   {
    "duration": 5,
    "start_time": "2024-03-17T06:04:24.033Z"
   },
   {
    "duration": 6,
    "start_time": "2024-03-17T06:04:24.039Z"
   },
   {
    "duration": 196,
    "start_time": "2024-03-17T06:04:24.047Z"
   },
   {
    "duration": 10,
    "start_time": "2024-03-17T06:09:50.523Z"
   },
   {
    "duration": 9,
    "start_time": "2024-03-17T06:10:11.731Z"
   },
   {
    "duration": 15,
    "start_time": "2024-03-17T06:11:40.545Z"
   },
   {
    "duration": 16,
    "start_time": "2024-03-17T06:13:14.624Z"
   },
   {
    "duration": 8,
    "start_time": "2024-03-17T06:14:53.423Z"
   },
   {
    "duration": 14,
    "start_time": "2024-03-17T06:15:39.097Z"
   },
   {
    "duration": 13,
    "start_time": "2024-03-17T06:17:58.462Z"
   },
   {
    "duration": 3,
    "start_time": "2024-03-17T06:19:38.608Z"
   },
   {
    "duration": 13,
    "start_time": "2024-03-17T06:19:40.565Z"
   },
   {
    "duration": 141,
    "start_time": "2024-03-17T06:25:08.968Z"
   },
   {
    "duration": 69,
    "start_time": "2024-03-17T06:44:44.819Z"
   },
   {
    "duration": 4,
    "start_time": "2024-03-17T07:29:01.388Z"
   },
   {
    "duration": 141,
    "start_time": "2024-03-17T07:29:28.750Z"
   },
   {
    "duration": 3,
    "start_time": "2024-03-17T07:29:38.762Z"
   },
   {
    "duration": 1112,
    "start_time": "2024-03-17T07:29:39.480Z"
   },
   {
    "duration": 1151,
    "start_time": "2024-03-17T07:31:39.733Z"
   },
   {
    "duration": 61,
    "start_time": "2024-03-17T07:31:40.885Z"
   },
   {
    "duration": 68,
    "start_time": "2024-03-17T07:31:40.948Z"
   },
   {
    "duration": 48,
    "start_time": "2024-03-17T07:31:41.018Z"
   },
   {
    "duration": 4,
    "start_time": "2024-03-17T07:31:41.067Z"
   },
   {
    "duration": 20,
    "start_time": "2024-03-17T07:31:41.072Z"
   },
   {
    "duration": 16,
    "start_time": "2024-03-17T07:31:41.094Z"
   },
   {
    "duration": 14,
    "start_time": "2024-03-17T07:31:41.111Z"
   },
   {
    "duration": 5,
    "start_time": "2024-03-17T07:31:41.126Z"
   },
   {
    "duration": 11,
    "start_time": "2024-03-17T07:31:41.134Z"
   },
   {
    "duration": 38,
    "start_time": "2024-03-17T07:31:41.146Z"
   },
   {
    "duration": 2,
    "start_time": "2024-03-17T07:31:41.186Z"
   },
   {
    "duration": 10,
    "start_time": "2024-03-17T07:31:41.190Z"
   },
   {
    "duration": 16,
    "start_time": "2024-03-17T07:31:41.201Z"
   },
   {
    "duration": 6,
    "start_time": "2024-03-17T07:31:41.219Z"
   },
   {
    "duration": 9,
    "start_time": "2024-03-17T07:31:41.227Z"
   },
   {
    "duration": 50,
    "start_time": "2024-03-17T07:31:41.237Z"
   },
   {
    "duration": 186,
    "start_time": "2024-03-17T07:31:41.289Z"
   },
   {
    "duration": 6,
    "start_time": "2024-03-17T07:31:41.477Z"
   },
   {
    "duration": 20,
    "start_time": "2024-03-17T07:31:41.485Z"
   },
   {
    "duration": 159,
    "start_time": "2024-03-17T07:31:41.506Z"
   },
   {
    "duration": 16,
    "start_time": "2024-03-17T07:31:41.666Z"
   },
   {
    "duration": 107,
    "start_time": "2024-03-17T07:31:41.684Z"
   },
   {
    "duration": 7,
    "start_time": "2024-03-17T07:31:41.793Z"
   },
   {
    "duration": 9,
    "start_time": "2024-03-17T07:31:41.802Z"
   },
   {
    "duration": 10,
    "start_time": "2024-03-17T07:31:41.812Z"
   },
   {
    "duration": 324,
    "start_time": "2024-03-17T07:31:41.824Z"
   },
   {
    "duration": 193,
    "start_time": "2024-03-17T07:31:42.152Z"
   },
   {
    "duration": 140,
    "start_time": "2024-03-17T07:31:42.346Z"
   },
   {
    "duration": 9,
    "start_time": "2024-03-17T07:31:42.488Z"
   },
   {
    "duration": 15,
    "start_time": "2024-03-17T07:31:42.499Z"
   },
   {
    "duration": 15,
    "start_time": "2024-03-17T07:31:42.516Z"
   },
   {
    "duration": 11,
    "start_time": "2024-03-17T07:31:42.533Z"
   },
   {
    "duration": 161,
    "start_time": "2024-03-17T07:31:42.545Z"
   },
   {
    "duration": 9,
    "start_time": "2024-03-17T07:31:42.708Z"
   },
   {
    "duration": 23,
    "start_time": "2024-03-17T07:31:42.719Z"
   },
   {
    "duration": 8,
    "start_time": "2024-03-17T07:31:42.743Z"
   },
   {
    "duration": 5,
    "start_time": "2024-03-17T07:31:42.753Z"
   },
   {
    "duration": 31,
    "start_time": "2024-03-17T07:31:42.759Z"
   },
   {
    "duration": 16,
    "start_time": "2024-03-17T07:31:42.791Z"
   },
   {
    "duration": 11,
    "start_time": "2024-03-17T07:31:42.809Z"
   },
   {
    "duration": 205,
    "start_time": "2024-03-17T07:31:42.822Z"
   },
   {
    "duration": 7,
    "start_time": "2024-03-17T07:31:43.029Z"
   },
   {
    "duration": 15,
    "start_time": "2024-03-17T07:31:43.038Z"
   },
   {
    "duration": 31,
    "start_time": "2024-03-17T07:31:43.055Z"
   },
   {
    "duration": 14,
    "start_time": "2024-03-17T07:31:43.088Z"
   },
   {
    "duration": 17,
    "start_time": "2024-03-17T07:31:43.104Z"
   },
   {
    "duration": 5,
    "start_time": "2024-03-17T07:31:43.122Z"
   },
   {
    "duration": 21,
    "start_time": "2024-03-17T07:31:43.128Z"
   },
   {
    "duration": 32,
    "start_time": "2024-03-17T07:31:43.151Z"
   },
   {
    "duration": 5,
    "start_time": "2024-03-17T07:31:43.184Z"
   },
   {
    "duration": 373,
    "start_time": "2024-03-17T07:31:43.191Z"
   },
   {
    "duration": 8,
    "start_time": "2024-03-17T07:31:43.566Z"
   },
   {
    "duration": 10,
    "start_time": "2024-03-17T07:31:43.582Z"
   },
   {
    "duration": 289,
    "start_time": "2024-03-17T07:31:43.593Z"
   },
   {
    "duration": 9,
    "start_time": "2024-03-17T07:31:43.884Z"
   },
   {
    "duration": 9,
    "start_time": "2024-03-17T07:31:43.895Z"
   },
   {
    "duration": 4,
    "start_time": "2024-03-17T07:31:43.906Z"
   },
   {
    "duration": 72,
    "start_time": "2024-03-17T07:31:43.912Z"
   },
   {
    "duration": 0,
    "start_time": "2024-03-17T07:31:43.986Z"
   },
   {
    "duration": 0,
    "start_time": "2024-03-17T07:31:43.987Z"
   },
   {
    "duration": 0,
    "start_time": "2024-03-17T07:31:43.988Z"
   },
   {
    "duration": 0,
    "start_time": "2024-03-17T07:31:43.990Z"
   },
   {
    "duration": 0,
    "start_time": "2024-03-17T07:31:43.991Z"
   },
   {
    "duration": 0,
    "start_time": "2024-03-17T07:31:43.993Z"
   },
   {
    "duration": 0,
    "start_time": "2024-03-17T07:31:43.994Z"
   },
   {
    "duration": 0,
    "start_time": "2024-03-17T07:31:43.996Z"
   },
   {
    "duration": 0,
    "start_time": "2024-03-17T07:31:43.997Z"
   },
   {
    "duration": 0,
    "start_time": "2024-03-17T07:31:43.999Z"
   },
   {
    "duration": 0,
    "start_time": "2024-03-17T07:31:44.000Z"
   },
   {
    "duration": 0,
    "start_time": "2024-03-17T07:31:44.002Z"
   },
   {
    "duration": 0,
    "start_time": "2024-03-17T07:31:44.003Z"
   },
   {
    "duration": 0,
    "start_time": "2024-03-17T07:31:44.005Z"
   },
   {
    "duration": 0,
    "start_time": "2024-03-17T07:31:44.006Z"
   },
   {
    "duration": 0,
    "start_time": "2024-03-17T07:31:44.008Z"
   },
   {
    "duration": 0,
    "start_time": "2024-03-17T07:31:44.009Z"
   },
   {
    "duration": 0,
    "start_time": "2024-03-17T07:31:44.011Z"
   },
   {
    "duration": 0,
    "start_time": "2024-03-17T07:31:44.012Z"
   },
   {
    "duration": 0,
    "start_time": "2024-03-17T07:31:44.013Z"
   },
   {
    "duration": 0,
    "start_time": "2024-03-17T07:31:44.015Z"
   },
   {
    "duration": 0,
    "start_time": "2024-03-17T07:31:44.016Z"
   },
   {
    "duration": 12,
    "start_time": "2024-03-17T07:32:07.341Z"
   },
   {
    "duration": 68,
    "start_time": "2024-03-17T07:32:25.401Z"
   },
   {
    "duration": 13,
    "start_time": "2024-03-17T07:32:33.278Z"
   },
   {
    "duration": 31,
    "start_time": "2024-03-17T07:32:37.391Z"
   },
   {
    "duration": 4,
    "start_time": "2024-03-17T07:32:45.025Z"
   },
   {
    "duration": 18,
    "start_time": "2024-03-17T07:32:45.850Z"
   },
   {
    "duration": 17,
    "start_time": "2024-03-17T07:32:54.263Z"
   },
   {
    "duration": 3,
    "start_time": "2024-03-17T07:33:58.343Z"
   },
   {
    "duration": 17,
    "start_time": "2024-03-17T07:34:01.395Z"
   },
   {
    "duration": 16,
    "start_time": "2024-03-17T07:34:08.200Z"
   },
   {
    "duration": 13,
    "start_time": "2024-03-17T07:35:30.015Z"
   },
   {
    "duration": 5,
    "start_time": "2024-03-17T07:36:04.539Z"
   },
   {
    "duration": 69,
    "start_time": "2024-03-17T07:37:44.442Z"
   },
   {
    "duration": 5,
    "start_time": "2024-03-17T07:38:00.741Z"
   },
   {
    "duration": 81,
    "start_time": "2024-03-17T07:38:46.940Z"
   },
   {
    "duration": 7,
    "start_time": "2024-03-17T07:39:00.836Z"
   },
   {
    "duration": 6,
    "start_time": "2024-03-17T07:39:14.657Z"
   },
   {
    "duration": 5,
    "start_time": "2024-03-17T07:40:00.328Z"
   },
   {
    "duration": 5,
    "start_time": "2024-03-17T07:40:49.480Z"
   },
   {
    "duration": 6,
    "start_time": "2024-03-17T07:42:13.078Z"
   },
   {
    "duration": 4,
    "start_time": "2024-03-17T07:42:16.214Z"
   },
   {
    "duration": 5,
    "start_time": "2024-03-17T07:43:13.865Z"
   },
   {
    "duration": 71,
    "start_time": "2024-03-17T07:43:58.409Z"
   },
   {
    "duration": 132,
    "start_time": "2024-03-17T07:49:39.142Z"
   },
   {
    "duration": 15,
    "start_time": "2024-03-17T07:49:56.115Z"
   },
   {
    "duration": 3,
    "start_time": "2024-03-17T07:50:07.684Z"
   },
   {
    "duration": 5,
    "start_time": "2024-03-17T07:50:08.488Z"
   },
   {
    "duration": 5,
    "start_time": "2024-03-17T07:50:09.733Z"
   },
   {
    "duration": 5,
    "start_time": "2024-03-17T07:50:13.400Z"
   },
   {
    "duration": 6,
    "start_time": "2024-03-17T07:53:54.686Z"
   },
   {
    "duration": 74,
    "start_time": "2024-03-17T08:20:38.832Z"
   },
   {
    "duration": 7,
    "start_time": "2024-03-17T08:21:58.251Z"
   },
   {
    "duration": 6,
    "start_time": "2024-03-17T08:22:13.843Z"
   },
   {
    "duration": 4,
    "start_time": "2024-03-17T08:22:46.387Z"
   },
   {
    "duration": 4,
    "start_time": "2024-03-17T08:23:00.849Z"
   },
   {
    "duration": 5,
    "start_time": "2024-03-17T08:23:05.832Z"
   },
   {
    "duration": 6,
    "start_time": "2024-03-17T08:23:35.322Z"
   },
   {
    "duration": 5,
    "start_time": "2024-03-17T08:33:29.961Z"
   },
   {
    "duration": 67,
    "start_time": "2024-03-17T08:33:56.699Z"
   },
   {
    "duration": 90,
    "start_time": "2024-03-17T08:34:21.988Z"
   },
   {
    "duration": 78,
    "start_time": "2024-03-17T08:34:37.580Z"
   },
   {
    "duration": 89,
    "start_time": "2024-03-17T08:36:06.055Z"
   },
   {
    "duration": 6,
    "start_time": "2024-03-17T08:36:24.077Z"
   },
   {
    "duration": 6,
    "start_time": "2024-03-17T08:36:36.226Z"
   },
   {
    "duration": 6,
    "start_time": "2024-03-17T08:37:43.195Z"
   },
   {
    "duration": 5,
    "start_time": "2024-03-17T08:37:56.445Z"
   },
   {
    "duration": 5,
    "start_time": "2024-03-17T08:39:21.809Z"
   },
   {
    "duration": 4,
    "start_time": "2024-03-17T08:39:35.554Z"
   },
   {
    "duration": 11,
    "start_time": "2024-03-17T08:40:28.879Z"
   },
   {
    "duration": 4,
    "start_time": "2024-03-17T08:40:40.655Z"
   },
   {
    "duration": 4,
    "start_time": "2024-03-17T08:40:56.219Z"
   },
   {
    "duration": 6,
    "start_time": "2024-03-17T08:49:30.932Z"
   },
   {
    "duration": 4,
    "start_time": "2024-03-17T08:50:11.333Z"
   },
   {
    "duration": 3,
    "start_time": "2024-03-17T08:51:56.922Z"
   },
   {
    "duration": 4,
    "start_time": "2024-03-17T08:52:15.506Z"
   },
   {
    "duration": 105,
    "start_time": "2024-03-17T09:18:11.967Z"
   },
   {
    "duration": 69,
    "start_time": "2024-03-17T09:18:26.060Z"
   },
   {
    "duration": 10,
    "start_time": "2024-03-17T09:18:44.799Z"
   },
   {
    "duration": 8,
    "start_time": "2024-03-17T09:19:06.307Z"
   },
   {
    "duration": 6,
    "start_time": "2024-03-17T09:23:15.034Z"
   },
   {
    "duration": 9,
    "start_time": "2024-03-17T09:23:55.517Z"
   },
   {
    "duration": 2,
    "start_time": "2024-03-17T09:24:11.565Z"
   },
   {
    "duration": 3,
    "start_time": "2024-03-17T09:24:12.098Z"
   },
   {
    "duration": 6,
    "start_time": "2024-03-17T09:24:12.682Z"
   },
   {
    "duration": 11,
    "start_time": "2024-03-17T09:36:54.887Z"
   },
   {
    "duration": 9,
    "start_time": "2024-03-17T09:37:00.084Z"
   },
   {
    "duration": 10,
    "start_time": "2024-03-17T09:37:05.185Z"
   },
   {
    "duration": 9,
    "start_time": "2024-03-17T09:37:18.948Z"
   },
   {
    "duration": 8,
    "start_time": "2024-03-17T09:37:57.133Z"
   },
   {
    "duration": 4,
    "start_time": "2024-03-17T09:39:28.444Z"
   },
   {
    "duration": 9,
    "start_time": "2024-03-17T09:39:51.081Z"
   },
   {
    "duration": 10,
    "start_time": "2024-03-17T09:40:57.531Z"
   },
   {
    "duration": 14,
    "start_time": "2024-03-17T09:47:47.849Z"
   },
   {
    "duration": 72,
    "start_time": "2024-03-17T09:48:03.253Z"
   },
   {
    "duration": 71,
    "start_time": "2024-03-17T09:48:09.365Z"
   },
   {
    "duration": 73,
    "start_time": "2024-03-17T09:48:21.356Z"
   },
   {
    "duration": 76,
    "start_time": "2024-03-17T09:49:17.449Z"
   },
   {
    "duration": 72,
    "start_time": "2024-03-17T09:49:37.622Z"
   },
   {
    "duration": 16,
    "start_time": "2024-03-17T09:50:18.581Z"
   },
   {
    "duration": 15,
    "start_time": "2024-03-17T09:50:31.279Z"
   },
   {
    "duration": 66,
    "start_time": "2024-03-17T09:51:51.897Z"
   },
   {
    "duration": 77,
    "start_time": "2024-03-17T09:52:25.571Z"
   },
   {
    "duration": 16,
    "start_time": "2024-03-17T09:54:01.117Z"
   },
   {
    "duration": 13,
    "start_time": "2024-03-17T09:54:37.755Z"
   },
   {
    "duration": 92,
    "start_time": "2024-03-17T09:54:59.773Z"
   },
   {
    "duration": 14,
    "start_time": "2024-03-17T09:55:32.848Z"
   },
   {
    "duration": 76,
    "start_time": "2024-03-17T09:55:41.779Z"
   },
   {
    "duration": 12,
    "start_time": "2024-03-17T09:55:48.928Z"
   },
   {
    "duration": 13,
    "start_time": "2024-03-17T09:56:25.713Z"
   },
   {
    "duration": 73,
    "start_time": "2024-03-17T09:56:32.245Z"
   },
   {
    "duration": 71,
    "start_time": "2024-03-17T09:56:38.189Z"
   },
   {
    "duration": 14,
    "start_time": "2024-03-17T09:56:45.250Z"
   },
   {
    "duration": 68,
    "start_time": "2024-03-17T09:57:16.173Z"
   },
   {
    "duration": 15,
    "start_time": "2024-03-17T09:57:25.830Z"
   },
   {
    "duration": 82,
    "start_time": "2024-03-17T10:00:55.861Z"
   },
   {
    "duration": 97,
    "start_time": "2024-03-17T10:01:03.400Z"
   },
   {
    "duration": 19,
    "start_time": "2024-03-17T10:01:30.842Z"
   },
   {
    "duration": 71,
    "start_time": "2024-03-17T10:01:39.870Z"
   },
   {
    "duration": 79,
    "start_time": "2024-03-17T10:01:44.705Z"
   },
   {
    "duration": 74,
    "start_time": "2024-03-17T10:03:12.143Z"
   },
   {
    "duration": 74,
    "start_time": "2024-03-17T10:03:19.917Z"
   },
   {
    "duration": 11,
    "start_time": "2024-03-17T10:03:25.833Z"
   },
   {
    "duration": 19,
    "start_time": "2024-03-17T10:03:41.194Z"
   },
   {
    "duration": 84,
    "start_time": "2024-03-17T10:04:11.914Z"
   },
   {
    "duration": 96,
    "start_time": "2024-03-17T10:04:58.408Z"
   },
   {
    "duration": 19,
    "start_time": "2024-03-17T10:31:04.745Z"
   },
   {
    "duration": 14,
    "start_time": "2024-03-17T10:31:20.694Z"
   },
   {
    "duration": 14,
    "start_time": "2024-03-17T10:31:31.340Z"
   },
   {
    "duration": 17,
    "start_time": "2024-03-17T10:31:38.406Z"
   },
   {
    "duration": 14,
    "start_time": "2024-03-17T10:31:52.788Z"
   },
   {
    "duration": 13,
    "start_time": "2024-03-17T10:33:25.107Z"
   },
   {
    "duration": 14,
    "start_time": "2024-03-17T10:33:39.238Z"
   },
   {
    "duration": 13,
    "start_time": "2024-03-17T10:33:50.536Z"
   },
   {
    "duration": 13,
    "start_time": "2024-03-17T10:34:12.212Z"
   },
   {
    "duration": 14,
    "start_time": "2024-03-17T10:34:44.204Z"
   },
   {
    "duration": 15,
    "start_time": "2024-03-17T10:34:53.273Z"
   },
   {
    "duration": 17,
    "start_time": "2024-03-17T10:35:01.773Z"
   },
   {
    "duration": 16,
    "start_time": "2024-03-17T10:35:14.372Z"
   },
   {
    "duration": 13,
    "start_time": "2024-03-17T10:52:41.143Z"
   },
   {
    "duration": 76,
    "start_time": "2024-03-17T10:59:32.798Z"
   },
   {
    "duration": 11,
    "start_time": "2024-03-17T11:03:38.837Z"
   },
   {
    "duration": 1269,
    "start_time": "2024-03-17T11:03:54.489Z"
   },
   {
    "duration": 60,
    "start_time": "2024-03-17T11:03:55.760Z"
   },
   {
    "duration": 73,
    "start_time": "2024-03-17T11:03:55.821Z"
   },
   {
    "duration": 49,
    "start_time": "2024-03-17T11:03:55.895Z"
   },
   {
    "duration": 3,
    "start_time": "2024-03-17T11:03:55.946Z"
   },
   {
    "duration": 39,
    "start_time": "2024-03-17T11:03:55.951Z"
   },
   {
    "duration": 16,
    "start_time": "2024-03-17T11:03:55.991Z"
   },
   {
    "duration": 33,
    "start_time": "2024-03-17T11:03:56.008Z"
   },
   {
    "duration": 14,
    "start_time": "2024-03-17T11:03:56.042Z"
   },
   {
    "duration": 23,
    "start_time": "2024-03-17T11:03:56.058Z"
   },
   {
    "duration": 16,
    "start_time": "2024-03-17T11:03:56.083Z"
   },
   {
    "duration": 17,
    "start_time": "2024-03-17T11:03:56.100Z"
   },
   {
    "duration": 30,
    "start_time": "2024-03-17T11:03:56.119Z"
   },
   {
    "duration": 22,
    "start_time": "2024-03-17T11:03:56.153Z"
   },
   {
    "duration": 16,
    "start_time": "2024-03-17T11:03:56.177Z"
   },
   {
    "duration": 32,
    "start_time": "2024-03-17T11:03:56.195Z"
   },
   {
    "duration": 27,
    "start_time": "2024-03-17T11:03:56.229Z"
   },
   {
    "duration": 183,
    "start_time": "2024-03-17T11:03:56.258Z"
   },
   {
    "duration": 5,
    "start_time": "2024-03-17T11:03:56.442Z"
   },
   {
    "duration": 37,
    "start_time": "2024-03-17T11:03:56.449Z"
   },
   {
    "duration": 177,
    "start_time": "2024-03-17T11:03:56.488Z"
   },
   {
    "duration": 14,
    "start_time": "2024-03-17T11:03:56.668Z"
   },
   {
    "duration": 107,
    "start_time": "2024-03-17T11:03:56.684Z"
   },
   {
    "duration": 9,
    "start_time": "2024-03-17T11:03:56.793Z"
   },
   {
    "duration": 26,
    "start_time": "2024-03-17T11:03:56.804Z"
   },
   {
    "duration": 16,
    "start_time": "2024-03-17T11:03:56.832Z"
   },
   {
    "duration": 311,
    "start_time": "2024-03-17T11:03:56.850Z"
   },
   {
    "duration": 194,
    "start_time": "2024-03-17T11:03:57.163Z"
   },
   {
    "duration": 137,
    "start_time": "2024-03-17T11:03:57.358Z"
   },
   {
    "duration": 9,
    "start_time": "2024-03-17T11:03:57.496Z"
   },
   {
    "duration": 32,
    "start_time": "2024-03-17T11:03:57.506Z"
   },
   {
    "duration": 30,
    "start_time": "2024-03-17T11:03:57.540Z"
   },
   {
    "duration": 14,
    "start_time": "2024-03-17T11:03:57.572Z"
   },
   {
    "duration": 148,
    "start_time": "2024-03-17T11:03:57.588Z"
   },
   {
    "duration": 12,
    "start_time": "2024-03-17T11:03:57.738Z"
   },
   {
    "duration": 34,
    "start_time": "2024-03-17T11:03:57.752Z"
   },
   {
    "duration": 31,
    "start_time": "2024-03-17T11:03:57.788Z"
   },
   {
    "duration": 14,
    "start_time": "2024-03-17T11:03:57.821Z"
   },
   {
    "duration": 30,
    "start_time": "2024-03-17T11:03:57.836Z"
   },
   {
    "duration": 16,
    "start_time": "2024-03-17T11:03:57.868Z"
   },
   {
    "duration": 13,
    "start_time": "2024-03-17T11:03:57.890Z"
   },
   {
    "duration": 209,
    "start_time": "2024-03-17T11:03:57.905Z"
   },
   {
    "duration": 6,
    "start_time": "2024-03-17T11:03:58.116Z"
   },
   {
    "duration": 21,
    "start_time": "2024-03-17T11:03:58.123Z"
   },
   {
    "duration": 11,
    "start_time": "2024-03-17T11:03:58.146Z"
   },
   {
    "duration": 36,
    "start_time": "2024-03-17T11:03:58.158Z"
   },
   {
    "duration": 30,
    "start_time": "2024-03-17T11:03:58.195Z"
   },
   {
    "duration": 19,
    "start_time": "2024-03-17T11:03:58.226Z"
   },
   {
    "duration": 15,
    "start_time": "2024-03-17T11:03:58.246Z"
   },
   {
    "duration": 4,
    "start_time": "2024-03-17T11:03:58.263Z"
   },
   {
    "duration": 9,
    "start_time": "2024-03-17T11:03:58.268Z"
   },
   {
    "duration": 23,
    "start_time": "2024-03-17T11:03:58.278Z"
   },
   {
    "duration": 352,
    "start_time": "2024-03-17T11:03:58.302Z"
   },
   {
    "duration": 8,
    "start_time": "2024-03-17T11:03:58.655Z"
   },
   {
    "duration": 48,
    "start_time": "2024-03-17T11:03:58.665Z"
   },
   {
    "duration": 278,
    "start_time": "2024-03-17T11:03:58.715Z"
   },
   {
    "duration": 9,
    "start_time": "2024-03-17T11:03:58.995Z"
   },
   {
    "duration": 21,
    "start_time": "2024-03-17T11:03:59.006Z"
   },
   {
    "duration": 30,
    "start_time": "2024-03-17T11:03:59.029Z"
   },
   {
    "duration": 28,
    "start_time": "2024-03-17T11:03:59.061Z"
   },
   {
    "duration": 85,
    "start_time": "2024-03-17T11:03:59.091Z"
   },
   {
    "duration": 13,
    "start_time": "2024-03-17T11:03:59.178Z"
   },
   {
    "duration": 27,
    "start_time": "2024-03-17T11:03:59.193Z"
   },
   {
    "duration": 3,
    "start_time": "2024-03-17T11:03:59.222Z"
   },
   {
    "duration": 17,
    "start_time": "2024-03-17T11:03:59.227Z"
   },
   {
    "duration": 8,
    "start_time": "2024-03-17T11:03:59.245Z"
   },
   {
    "duration": 38,
    "start_time": "2024-03-17T11:03:59.254Z"
   },
   {
    "duration": 5,
    "start_time": "2024-03-17T11:03:59.294Z"
   },
   {
    "duration": 18,
    "start_time": "2024-03-17T11:03:59.301Z"
   },
   {
    "duration": 18,
    "start_time": "2024-03-17T11:03:59.321Z"
   },
   {
    "duration": 15,
    "start_time": "2024-03-17T11:03:59.341Z"
   },
   {
    "duration": 18,
    "start_time": "2024-03-17T11:03:59.358Z"
   },
   {
    "duration": 14,
    "start_time": "2024-03-17T11:03:59.377Z"
   },
   {
    "duration": 32,
    "start_time": "2024-03-17T11:03:59.393Z"
   },
   {
    "duration": 43,
    "start_time": "2024-03-17T11:03:59.426Z"
   },
   {
    "duration": 46,
    "start_time": "2024-03-17T11:03:59.471Z"
   },
   {
    "duration": 19,
    "start_time": "2024-03-17T11:03:59.518Z"
   },
   {
    "duration": 20,
    "start_time": "2024-03-17T11:03:59.539Z"
   },
   {
    "duration": 22,
    "start_time": "2024-03-17T11:03:59.561Z"
   },
   {
    "duration": 209,
    "start_time": "2024-03-17T11:03:59.584Z"
   },
   {
    "duration": 217,
    "start_time": "2024-03-17T11:03:59.795Z"
   },
   {
    "duration": 4,
    "start_time": "2024-03-17T11:04:00.014Z"
   },
   {
    "duration": 41,
    "start_time": "2024-03-17T11:04:00.020Z"
   },
   {
    "duration": 228,
    "start_time": "2024-03-17T11:04:00.063Z"
   },
   {
    "duration": 71,
    "start_time": "2024-03-17T11:04:00.293Z"
   },
   {
    "duration": 195,
    "start_time": "2024-03-17T11:05:45.596Z"
   },
   {
    "duration": 146,
    "start_time": "2024-03-17T11:07:02.619Z"
   },
   {
    "duration": 4,
    "start_time": "2024-03-17T11:07:14.591Z"
   },
   {
    "duration": 167,
    "start_time": "2024-03-17T11:07:45.206Z"
   },
   {
    "duration": 194,
    "start_time": "2024-03-17T11:08:29.654Z"
   },
   {
    "duration": 234,
    "start_time": "2024-03-17T11:08:36.421Z"
   },
   {
    "duration": 151,
    "start_time": "2024-03-17T11:08:40.615Z"
   },
   {
    "duration": 162,
    "start_time": "2024-03-17T11:08:54.939Z"
   },
   {
    "duration": 183,
    "start_time": "2024-03-17T11:10:08.160Z"
   },
   {
    "duration": 165,
    "start_time": "2024-03-17T11:11:07.361Z"
   },
   {
    "duration": 17,
    "start_time": "2024-03-17T11:39:59.870Z"
   },
   {
    "duration": 14,
    "start_time": "2024-03-17T11:40:08.164Z"
   },
   {
    "duration": 15,
    "start_time": "2024-03-17T11:44:08.628Z"
   },
   {
    "duration": 15,
    "start_time": "2024-03-17T11:44:38.190Z"
   },
   {
    "duration": 13,
    "start_time": "2024-03-17T11:46:55.436Z"
   },
   {
    "duration": 1231,
    "start_time": "2024-03-17T12:05:12.630Z"
   },
   {
    "duration": 69,
    "start_time": "2024-03-17T12:05:13.862Z"
   },
   {
    "duration": 67,
    "start_time": "2024-03-17T12:05:13.933Z"
   },
   {
    "duration": 47,
    "start_time": "2024-03-17T12:05:14.002Z"
   },
   {
    "duration": 4,
    "start_time": "2024-03-17T12:05:14.051Z"
   },
   {
    "duration": 28,
    "start_time": "2024-03-17T12:05:14.056Z"
   },
   {
    "duration": 18,
    "start_time": "2024-03-17T12:05:14.086Z"
   },
   {
    "duration": 17,
    "start_time": "2024-03-17T12:05:14.106Z"
   },
   {
    "duration": 16,
    "start_time": "2024-03-17T12:05:14.125Z"
   },
   {
    "duration": 14,
    "start_time": "2024-03-17T12:05:14.142Z"
   },
   {
    "duration": 31,
    "start_time": "2024-03-17T12:05:14.158Z"
   },
   {
    "duration": 9,
    "start_time": "2024-03-17T12:05:14.191Z"
   },
   {
    "duration": 18,
    "start_time": "2024-03-17T12:05:14.201Z"
   },
   {
    "duration": 19,
    "start_time": "2024-03-17T12:05:14.222Z"
   },
   {
    "duration": 7,
    "start_time": "2024-03-17T12:05:14.242Z"
   },
   {
    "duration": 29,
    "start_time": "2024-03-17T12:05:14.251Z"
   },
   {
    "duration": 15,
    "start_time": "2024-03-17T12:05:14.282Z"
   },
   {
    "duration": 199,
    "start_time": "2024-03-17T12:05:14.299Z"
   },
   {
    "duration": 4,
    "start_time": "2024-03-17T12:05:14.500Z"
   },
   {
    "duration": 22,
    "start_time": "2024-03-17T12:05:14.506Z"
   },
   {
    "duration": 164,
    "start_time": "2024-03-17T12:05:14.530Z"
   },
   {
    "duration": 9,
    "start_time": "2024-03-17T12:05:14.696Z"
   },
   {
    "duration": 134,
    "start_time": "2024-03-17T12:05:14.707Z"
   },
   {
    "duration": 8,
    "start_time": "2024-03-17T12:05:14.842Z"
   },
   {
    "duration": 54,
    "start_time": "2024-03-17T12:05:14.852Z"
   },
   {
    "duration": 34,
    "start_time": "2024-03-17T12:05:14.908Z"
   },
   {
    "duration": 328,
    "start_time": "2024-03-17T12:05:14.943Z"
   },
   {
    "duration": 211,
    "start_time": "2024-03-17T12:05:15.273Z"
   },
   {
    "duration": 145,
    "start_time": "2024-03-17T12:05:15.486Z"
   },
   {
    "duration": 9,
    "start_time": "2024-03-17T12:05:15.633Z"
   },
   {
    "duration": 27,
    "start_time": "2024-03-17T12:05:15.644Z"
   },
   {
    "duration": 23,
    "start_time": "2024-03-17T12:05:15.673Z"
   },
   {
    "duration": 29,
    "start_time": "2024-03-17T12:05:15.698Z"
   },
   {
    "duration": 139,
    "start_time": "2024-03-17T12:05:15.729Z"
   },
   {
    "duration": 13,
    "start_time": "2024-03-17T12:05:15.870Z"
   },
   {
    "duration": 15,
    "start_time": "2024-03-17T12:05:15.884Z"
   },
   {
    "duration": 10,
    "start_time": "2024-03-17T12:05:15.900Z"
   },
   {
    "duration": 5,
    "start_time": "2024-03-17T12:05:15.911Z"
   },
   {
    "duration": 12,
    "start_time": "2024-03-17T12:05:15.917Z"
   },
   {
    "duration": 53,
    "start_time": "2024-03-17T12:05:15.930Z"
   },
   {
    "duration": 9,
    "start_time": "2024-03-17T12:05:15.988Z"
   },
   {
    "duration": 207,
    "start_time": "2024-03-17T12:05:15.999Z"
   },
   {
    "duration": 6,
    "start_time": "2024-03-17T12:05:16.208Z"
   },
   {
    "duration": 15,
    "start_time": "2024-03-17T12:05:16.216Z"
   },
   {
    "duration": 17,
    "start_time": "2024-03-17T12:05:16.233Z"
   },
   {
    "duration": 37,
    "start_time": "2024-03-17T12:05:16.252Z"
   },
   {
    "duration": 18,
    "start_time": "2024-03-17T12:05:16.291Z"
   },
   {
    "duration": 4,
    "start_time": "2024-03-17T12:05:16.310Z"
   },
   {
    "duration": 24,
    "start_time": "2024-03-17T12:05:16.316Z"
   },
   {
    "duration": 4,
    "start_time": "2024-03-17T12:05:16.342Z"
   },
   {
    "duration": 4,
    "start_time": "2024-03-17T12:05:16.348Z"
   },
   {
    "duration": 31,
    "start_time": "2024-03-17T12:05:16.354Z"
   },
   {
    "duration": 361,
    "start_time": "2024-03-17T12:05:16.387Z"
   },
   {
    "duration": 9,
    "start_time": "2024-03-17T12:05:16.750Z"
   },
   {
    "duration": 8,
    "start_time": "2024-03-17T12:05:16.760Z"
   },
   {
    "duration": 289,
    "start_time": "2024-03-17T12:05:16.783Z"
   },
   {
    "duration": 15,
    "start_time": "2024-03-17T12:05:17.073Z"
   },
   {
    "duration": 9,
    "start_time": "2024-03-17T12:05:17.089Z"
   },
   {
    "duration": 3,
    "start_time": "2024-03-17T12:05:17.100Z"
   },
   {
    "duration": 15,
    "start_time": "2024-03-17T12:05:17.105Z"
   },
   {
    "duration": 89,
    "start_time": "2024-03-17T12:05:17.121Z"
   },
   {
    "duration": 13,
    "start_time": "2024-03-17T12:05:17.212Z"
   },
   {
    "duration": 25,
    "start_time": "2024-03-17T12:05:17.227Z"
   },
   {
    "duration": 28,
    "start_time": "2024-03-17T12:05:17.254Z"
   },
   {
    "duration": 18,
    "start_time": "2024-03-17T12:05:17.284Z"
   },
   {
    "duration": 3,
    "start_time": "2024-03-17T12:05:17.304Z"
   },
   {
    "duration": 14,
    "start_time": "2024-03-17T12:05:17.309Z"
   },
   {
    "duration": 4,
    "start_time": "2024-03-17T12:05:17.325Z"
   },
   {
    "duration": 4,
    "start_time": "2024-03-17T12:05:17.331Z"
   },
   {
    "duration": 47,
    "start_time": "2024-03-17T12:05:17.336Z"
   },
   {
    "duration": 7,
    "start_time": "2024-03-17T12:05:17.385Z"
   },
   {
    "duration": 6,
    "start_time": "2024-03-17T12:05:17.394Z"
   },
   {
    "duration": 3,
    "start_time": "2024-03-17T12:05:17.402Z"
   },
   {
    "duration": 5,
    "start_time": "2024-03-17T12:05:17.407Z"
   },
   {
    "duration": 8,
    "start_time": "2024-03-17T12:05:17.413Z"
   },
   {
    "duration": 15,
    "start_time": "2024-03-17T12:05:17.423Z"
   },
   {
    "duration": 15,
    "start_time": "2024-03-17T12:05:17.483Z"
   },
   {
    "duration": 11,
    "start_time": "2024-03-17T12:05:17.500Z"
   },
   {
    "duration": 6,
    "start_time": "2024-03-17T12:05:17.512Z"
   },
   {
    "duration": 214,
    "start_time": "2024-03-17T12:05:17.520Z"
   },
   {
    "duration": 196,
    "start_time": "2024-03-17T12:05:17.735Z"
   },
   {
    "duration": 6,
    "start_time": "2024-03-17T12:05:17.933Z"
   },
   {
    "duration": 7,
    "start_time": "2024-03-17T12:05:17.941Z"
   },
   {
    "duration": 195,
    "start_time": "2024-03-17T12:05:17.949Z"
   },
   {
    "duration": 4,
    "start_time": "2024-03-17T12:11:49.680Z"
   },
   {
    "duration": 3,
    "start_time": "2024-03-17T12:11:57.441Z"
   },
   {
    "duration": 1171,
    "start_time": "2024-03-17T12:14:24.287Z"
   },
   {
    "duration": 6,
    "start_time": "2024-03-17T12:14:36.544Z"
   },
   {
    "duration": 546,
    "start_time": "2024-03-17T12:14:49.366Z"
   },
   {
    "duration": 7,
    "start_time": "2024-03-17T12:14:55.897Z"
   },
   {
    "duration": 1102,
    "start_time": "2024-03-17T12:15:36.977Z"
   },
   {
    "duration": 1147,
    "start_time": "2024-03-17T12:15:49.452Z"
   },
   {
    "duration": 1097,
    "start_time": "2024-03-17T12:16:35.122Z"
   },
   {
    "duration": 1137,
    "start_time": "2024-03-17T12:16:46.506Z"
   },
   {
    "duration": 5,
    "start_time": "2024-03-17T12:17:07.685Z"
   },
   {
    "duration": 4,
    "start_time": "2024-03-17T12:17:16.696Z"
   },
   {
    "duration": 5,
    "start_time": "2024-03-17T12:17:26.770Z"
   },
   {
    "duration": 5,
    "start_time": "2024-03-17T12:17:43.218Z"
   },
   {
    "duration": 72,
    "start_time": "2024-03-17T12:18:35.237Z"
   },
   {
    "duration": 4,
    "start_time": "2024-03-17T12:18:43.335Z"
   },
   {
    "duration": 17,
    "start_time": "2024-03-17T12:31:37.601Z"
   },
   {
    "duration": 1237,
    "start_time": "2024-03-17T12:32:42.603Z"
   },
   {
    "duration": 61,
    "start_time": "2024-03-17T12:32:43.842Z"
   },
   {
    "duration": 68,
    "start_time": "2024-03-17T12:32:43.905Z"
   },
   {
    "duration": 49,
    "start_time": "2024-03-17T12:32:43.974Z"
   },
   {
    "duration": 4,
    "start_time": "2024-03-17T12:32:44.026Z"
   },
   {
    "duration": 20,
    "start_time": "2024-03-17T12:32:44.032Z"
   },
   {
    "duration": 15,
    "start_time": "2024-03-17T12:32:44.054Z"
   },
   {
    "duration": 14,
    "start_time": "2024-03-17T12:32:44.071Z"
   },
   {
    "duration": 6,
    "start_time": "2024-03-17T12:32:44.086Z"
   },
   {
    "duration": 14,
    "start_time": "2024-03-17T12:32:44.094Z"
   },
   {
    "duration": 5,
    "start_time": "2024-03-17T12:32:44.109Z"
   },
   {
    "duration": 5,
    "start_time": "2024-03-17T12:32:44.116Z"
   },
   {
    "duration": 9,
    "start_time": "2024-03-17T12:32:44.122Z"
   },
   {
    "duration": 12,
    "start_time": "2024-03-17T12:32:44.134Z"
   },
   {
    "duration": 7,
    "start_time": "2024-03-17T12:32:44.181Z"
   },
   {
    "duration": 9,
    "start_time": "2024-03-17T12:32:44.189Z"
   },
   {
    "duration": 14,
    "start_time": "2024-03-17T12:32:44.200Z"
   },
   {
    "duration": 209,
    "start_time": "2024-03-17T12:32:44.215Z"
   },
   {
    "duration": 4,
    "start_time": "2024-03-17T12:32:44.426Z"
   },
   {
    "duration": 13,
    "start_time": "2024-03-17T12:32:44.431Z"
   },
   {
    "duration": 173,
    "start_time": "2024-03-17T12:32:44.446Z"
   },
   {
    "duration": 3,
    "start_time": "2024-03-17T12:32:44.621Z"
   },
   {
    "duration": 9,
    "start_time": "2024-03-17T12:32:44.626Z"
   },
   {
    "duration": 117,
    "start_time": "2024-03-17T12:32:44.637Z"
   },
   {
    "duration": 8,
    "start_time": "2024-03-17T12:32:44.755Z"
   },
   {
    "duration": 19,
    "start_time": "2024-03-17T12:32:44.764Z"
   },
   {
    "duration": 11,
    "start_time": "2024-03-17T12:32:44.785Z"
   },
   {
    "duration": 314,
    "start_time": "2024-03-17T12:32:44.798Z"
   },
   {
    "duration": 217,
    "start_time": "2024-03-17T12:32:45.115Z"
   },
   {
    "duration": 137,
    "start_time": "2024-03-17T12:32:45.334Z"
   },
   {
    "duration": 15,
    "start_time": "2024-03-17T12:32:45.473Z"
   },
   {
    "duration": 16,
    "start_time": "2024-03-17T12:32:45.490Z"
   },
   {
    "duration": 15,
    "start_time": "2024-03-17T12:32:45.508Z"
   },
   {
    "duration": 23,
    "start_time": "2024-03-17T12:32:45.525Z"
   },
   {
    "duration": 149,
    "start_time": "2024-03-17T12:32:45.550Z"
   },
   {
    "duration": 10,
    "start_time": "2024-03-17T12:32:45.701Z"
   },
   {
    "duration": 15,
    "start_time": "2024-03-17T12:32:45.713Z"
   },
   {
    "duration": 17,
    "start_time": "2024-03-17T12:32:45.729Z"
   },
   {
    "duration": 5,
    "start_time": "2024-03-17T12:32:45.748Z"
   },
   {
    "duration": 12,
    "start_time": "2024-03-17T12:32:45.781Z"
   },
   {
    "duration": 15,
    "start_time": "2024-03-17T12:32:45.800Z"
   },
   {
    "duration": 12,
    "start_time": "2024-03-17T12:32:45.817Z"
   },
   {
    "duration": 230,
    "start_time": "2024-03-17T12:32:45.831Z"
   },
   {
    "duration": 6,
    "start_time": "2024-03-17T12:32:46.062Z"
   },
   {
    "duration": 26,
    "start_time": "2024-03-17T12:32:46.070Z"
   },
   {
    "duration": 12,
    "start_time": "2024-03-17T12:32:46.098Z"
   },
   {
    "duration": 15,
    "start_time": "2024-03-17T12:32:46.112Z"
   },
   {
    "duration": 17,
    "start_time": "2024-03-17T12:32:46.129Z"
   },
   {
    "duration": 4,
    "start_time": "2024-03-17T12:32:46.147Z"
   },
   {
    "duration": 15,
    "start_time": "2024-03-17T12:32:46.183Z"
   },
   {
    "duration": 5,
    "start_time": "2024-03-17T12:32:46.200Z"
   },
   {
    "duration": 5,
    "start_time": "2024-03-17T12:32:46.206Z"
   },
   {
    "duration": 4,
    "start_time": "2024-03-17T12:32:46.212Z"
   },
   {
    "duration": 391,
    "start_time": "2024-03-17T12:32:46.217Z"
   },
   {
    "duration": 11,
    "start_time": "2024-03-17T12:32:46.610Z"
   },
   {
    "duration": 29,
    "start_time": "2024-03-17T12:32:46.624Z"
   },
   {
    "duration": 276,
    "start_time": "2024-03-17T12:32:46.655Z"
   },
   {
    "duration": 8,
    "start_time": "2024-03-17T12:32:46.933Z"
   },
   {
    "duration": 9,
    "start_time": "2024-03-17T12:32:46.942Z"
   },
   {
    "duration": 3,
    "start_time": "2024-03-17T12:32:46.952Z"
   },
   {
    "duration": 36,
    "start_time": "2024-03-17T12:32:46.957Z"
   },
   {
    "duration": 69,
    "start_time": "2024-03-17T12:32:46.994Z"
   },
   {
    "duration": 27,
    "start_time": "2024-03-17T12:32:47.065Z"
   },
   {
    "duration": 26,
    "start_time": "2024-03-17T12:32:47.094Z"
   },
   {
    "duration": 3,
    "start_time": "2024-03-17T12:32:47.121Z"
   },
   {
    "duration": 21,
    "start_time": "2024-03-17T12:32:47.126Z"
   },
   {
    "duration": 41,
    "start_time": "2024-03-17T12:32:47.148Z"
   },
   {
    "duration": 4,
    "start_time": "2024-03-17T12:32:47.190Z"
   },
   {
    "duration": 10,
    "start_time": "2024-03-17T12:32:47.196Z"
   },
   {
    "duration": 5,
    "start_time": "2024-03-17T12:32:47.208Z"
   },
   {
    "duration": 13,
    "start_time": "2024-03-17T12:32:47.215Z"
   },
   {
    "duration": 5,
    "start_time": "2024-03-17T12:32:47.230Z"
   },
   {
    "duration": 3,
    "start_time": "2024-03-17T12:32:47.237Z"
   },
   {
    "duration": 6,
    "start_time": "2024-03-17T12:32:47.242Z"
   },
   {
    "duration": 32,
    "start_time": "2024-03-17T12:32:47.250Z"
   },
   {
    "duration": 15,
    "start_time": "2024-03-17T12:32:47.284Z"
   },
   {
    "duration": 13,
    "start_time": "2024-03-17T12:32:47.301Z"
   },
   {
    "duration": 10,
    "start_time": "2024-03-17T12:32:47.316Z"
   },
   {
    "duration": 5,
    "start_time": "2024-03-17T12:32:47.327Z"
   },
   {
    "duration": 214,
    "start_time": "2024-03-17T12:32:47.333Z"
   },
   {
    "duration": 186,
    "start_time": "2024-03-17T12:32:47.548Z"
   },
   {
    "duration": 5,
    "start_time": "2024-03-17T12:32:47.736Z"
   },
   {
    "duration": 4,
    "start_time": "2024-03-17T12:32:47.743Z"
   },
   {
    "duration": 221,
    "start_time": "2024-03-17T12:32:47.748Z"
   },
   {
    "duration": 4,
    "start_time": "2024-03-17T12:35:54.292Z"
   },
   {
    "duration": 178,
    "start_time": "2024-03-17T12:39:11.515Z"
   },
   {
    "duration": 6,
    "start_time": "2024-03-17T12:39:43.161Z"
   },
   {
    "duration": 147,
    "start_time": "2024-03-17T12:39:47.152Z"
   },
   {
    "duration": 1222,
    "start_time": "2024-03-17T12:49:58.421Z"
   },
   {
    "duration": 59,
    "start_time": "2024-03-17T12:49:59.648Z"
   },
   {
    "duration": 63,
    "start_time": "2024-03-17T12:49:59.709Z"
   },
   {
    "duration": 45,
    "start_time": "2024-03-17T12:49:59.773Z"
   },
   {
    "duration": 2,
    "start_time": "2024-03-17T12:49:59.820Z"
   },
   {
    "duration": 29,
    "start_time": "2024-03-17T12:49:59.824Z"
   },
   {
    "duration": 18,
    "start_time": "2024-03-17T12:49:59.855Z"
   },
   {
    "duration": 21,
    "start_time": "2024-03-17T12:49:59.875Z"
   },
   {
    "duration": 16,
    "start_time": "2024-03-17T12:49:59.900Z"
   },
   {
    "duration": 31,
    "start_time": "2024-03-17T12:49:59.918Z"
   },
   {
    "duration": 5,
    "start_time": "2024-03-17T12:49:59.951Z"
   },
   {
    "duration": 16,
    "start_time": "2024-03-17T12:49:59.957Z"
   },
   {
    "duration": 10,
    "start_time": "2024-03-17T12:49:59.974Z"
   },
   {
    "duration": 10,
    "start_time": "2024-03-17T12:49:59.986Z"
   },
   {
    "duration": 6,
    "start_time": "2024-03-17T12:49:59.998Z"
   },
   {
    "duration": 44,
    "start_time": "2024-03-17T12:50:00.006Z"
   },
   {
    "duration": 40,
    "start_time": "2024-03-17T12:50:00.052Z"
   },
   {
    "duration": 190,
    "start_time": "2024-03-17T12:50:00.093Z"
   },
   {
    "duration": 5,
    "start_time": "2024-03-17T12:50:00.285Z"
   },
   {
    "duration": 56,
    "start_time": "2024-03-17T12:50:00.296Z"
   },
   {
    "duration": 220,
    "start_time": "2024-03-17T12:50:00.354Z"
   },
   {
    "duration": 6,
    "start_time": "2024-03-17T12:50:00.576Z"
   },
   {
    "duration": 32,
    "start_time": "2024-03-17T12:50:00.584Z"
   },
   {
    "duration": 150,
    "start_time": "2024-03-17T12:50:00.618Z"
   },
   {
    "duration": 13,
    "start_time": "2024-03-17T12:50:00.770Z"
   },
   {
    "duration": 39,
    "start_time": "2024-03-17T12:50:00.785Z"
   },
   {
    "duration": 58,
    "start_time": "2024-03-17T12:50:00.828Z"
   },
   {
    "duration": 357,
    "start_time": "2024-03-17T12:50:00.888Z"
   },
   {
    "duration": 197,
    "start_time": "2024-03-17T12:50:01.247Z"
   },
   {
    "duration": 144,
    "start_time": "2024-03-17T12:50:01.446Z"
   },
   {
    "duration": 9,
    "start_time": "2024-03-17T12:50:01.592Z"
   },
   {
    "duration": 89,
    "start_time": "2024-03-17T12:50:01.603Z"
   },
   {
    "duration": 31,
    "start_time": "2024-03-17T12:50:01.694Z"
   },
   {
    "duration": 79,
    "start_time": "2024-03-17T12:50:01.727Z"
   },
   {
    "duration": 188,
    "start_time": "2024-03-17T12:50:01.807Z"
   },
   {
    "duration": 9,
    "start_time": "2024-03-17T12:50:01.997Z"
   },
   {
    "duration": 42,
    "start_time": "2024-03-17T12:50:02.007Z"
   },
   {
    "duration": 28,
    "start_time": "2024-03-17T12:50:02.051Z"
   },
   {
    "duration": 44,
    "start_time": "2024-03-17T12:50:02.081Z"
   },
   {
    "duration": 82,
    "start_time": "2024-03-17T12:50:02.126Z"
   },
   {
    "duration": 66,
    "start_time": "2024-03-17T12:50:02.210Z"
   },
   {
    "duration": 212,
    "start_time": "2024-03-17T12:50:02.278Z"
   },
   {
    "duration": 254,
    "start_time": "2024-03-17T12:50:02.491Z"
   },
   {
    "duration": 7,
    "start_time": "2024-03-17T12:50:02.746Z"
   },
   {
    "duration": 28,
    "start_time": "2024-03-17T12:50:02.755Z"
   },
   {
    "duration": 20,
    "start_time": "2024-03-17T12:50:02.785Z"
   },
   {
    "duration": 26,
    "start_time": "2024-03-17T12:50:02.807Z"
   },
   {
    "duration": 26,
    "start_time": "2024-03-17T12:50:02.834Z"
   },
   {
    "duration": 4,
    "start_time": "2024-03-17T12:50:02.862Z"
   },
   {
    "duration": 30,
    "start_time": "2024-03-17T12:50:02.867Z"
   },
   {
    "duration": 4,
    "start_time": "2024-03-17T12:50:02.899Z"
   },
   {
    "duration": 10,
    "start_time": "2024-03-17T12:50:02.904Z"
   },
   {
    "duration": 92,
    "start_time": "2024-03-17T12:50:02.915Z"
   },
   {
    "duration": 312,
    "start_time": "2024-03-17T12:50:03.009Z"
   },
   {
    "duration": 9,
    "start_time": "2024-03-17T12:50:03.323Z"
   },
   {
    "duration": 8,
    "start_time": "2024-03-17T12:50:03.333Z"
   },
   {
    "duration": 303,
    "start_time": "2024-03-17T12:50:03.343Z"
   },
   {
    "duration": 8,
    "start_time": "2024-03-17T12:50:03.648Z"
   },
   {
    "duration": 24,
    "start_time": "2024-03-17T12:50:03.658Z"
   },
   {
    "duration": 4,
    "start_time": "2024-03-17T12:50:03.684Z"
   },
   {
    "duration": 15,
    "start_time": "2024-03-17T12:50:03.689Z"
   },
   {
    "duration": 84,
    "start_time": "2024-03-17T12:50:03.706Z"
   },
   {
    "duration": 13,
    "start_time": "2024-03-17T12:50:03.792Z"
   },
   {
    "duration": 28,
    "start_time": "2024-03-17T12:50:03.807Z"
   },
   {
    "duration": 3,
    "start_time": "2024-03-17T12:50:03.837Z"
   },
   {
    "duration": 45,
    "start_time": "2024-03-17T12:50:03.842Z"
   },
   {
    "duration": 14,
    "start_time": "2024-03-17T12:50:03.889Z"
   },
   {
    "duration": 4,
    "start_time": "2024-03-17T12:50:03.905Z"
   },
   {
    "duration": 5,
    "start_time": "2024-03-17T12:50:03.911Z"
   },
   {
    "duration": 18,
    "start_time": "2024-03-17T12:50:03.918Z"
   },
   {
    "duration": 15,
    "start_time": "2024-03-17T12:50:03.938Z"
   },
   {
    "duration": 7,
    "start_time": "2024-03-17T12:50:03.954Z"
   },
   {
    "duration": 20,
    "start_time": "2024-03-17T12:50:03.963Z"
   },
   {
    "duration": 21,
    "start_time": "2024-03-17T12:50:03.985Z"
   },
   {
    "duration": 11,
    "start_time": "2024-03-17T12:50:04.008Z"
   },
   {
    "duration": 17,
    "start_time": "2024-03-17T12:50:04.021Z"
   },
   {
    "duration": 13,
    "start_time": "2024-03-17T12:50:04.040Z"
   },
   {
    "duration": 10,
    "start_time": "2024-03-17T12:50:04.055Z"
   },
   {
    "duration": 17,
    "start_time": "2024-03-17T12:50:04.067Z"
   },
   {
    "duration": 242,
    "start_time": "2024-03-17T12:50:04.086Z"
   },
   {
    "duration": 191,
    "start_time": "2024-03-17T12:50:04.334Z"
   },
   {
    "duration": 5,
    "start_time": "2024-03-17T12:50:04.527Z"
   },
   {
    "duration": 5,
    "start_time": "2024-03-17T12:50:04.533Z"
   },
   {
    "duration": 216,
    "start_time": "2024-03-17T12:50:04.540Z"
   },
   {
    "duration": 139,
    "start_time": "2024-03-17T12:53:20.611Z"
   },
   {
    "duration": 180,
    "start_time": "2024-03-17T12:53:25.117Z"
   },
   {
    "duration": 189,
    "start_time": "2024-03-17T12:53:29.320Z"
   },
   {
    "duration": 2208,
    "start_time": "2024-03-17T16:16:22.873Z"
   },
   {
    "duration": 106,
    "start_time": "2024-03-17T16:16:25.083Z"
   },
   {
    "duration": 103,
    "start_time": "2024-03-17T16:16:25.191Z"
   },
   {
    "duration": 80,
    "start_time": "2024-03-17T16:16:25.295Z"
   },
   {
    "duration": 3,
    "start_time": "2024-03-17T16:16:25.378Z"
   },
   {
    "duration": 24,
    "start_time": "2024-03-17T16:16:25.382Z"
   },
   {
    "duration": 78,
    "start_time": "2024-03-17T16:16:25.408Z"
   },
   {
    "duration": 20,
    "start_time": "2024-03-17T16:16:25.488Z"
   },
   {
    "duration": 64,
    "start_time": "2024-03-17T16:16:25.510Z"
   },
   {
    "duration": 16,
    "start_time": "2024-03-17T16:16:25.576Z"
   },
   {
    "duration": 5,
    "start_time": "2024-03-17T16:16:25.594Z"
   },
   {
    "duration": 6,
    "start_time": "2024-03-17T16:16:25.601Z"
   },
   {
    "duration": 67,
    "start_time": "2024-03-17T16:16:25.609Z"
   },
   {
    "duration": 9,
    "start_time": "2024-03-17T16:16:25.680Z"
   },
   {
    "duration": 5,
    "start_time": "2024-03-17T16:16:25.691Z"
   },
   {
    "duration": 12,
    "start_time": "2024-03-17T16:16:25.698Z"
   },
   {
    "duration": 15,
    "start_time": "2024-03-17T16:16:25.773Z"
   },
   {
    "duration": 402,
    "start_time": "2024-03-17T16:16:25.790Z"
   },
   {
    "duration": 5,
    "start_time": "2024-03-17T16:16:26.194Z"
   },
   {
    "duration": 74,
    "start_time": "2024-03-17T16:16:26.200Z"
   },
   {
    "duration": 304,
    "start_time": "2024-03-17T16:16:26.276Z"
   },
   {
    "duration": 4,
    "start_time": "2024-03-17T16:16:26.581Z"
   },
   {
    "duration": 11,
    "start_time": "2024-03-17T16:16:26.586Z"
   },
   {
    "duration": 296,
    "start_time": "2024-03-17T16:16:26.599Z"
   },
   {
    "duration": 82,
    "start_time": "2024-03-17T16:16:26.897Z"
   },
   {
    "duration": 10,
    "start_time": "2024-03-17T16:16:26.981Z"
   },
   {
    "duration": 81,
    "start_time": "2024-03-17T16:16:26.994Z"
   },
   {
    "duration": 999,
    "start_time": "2024-03-17T16:16:27.078Z"
   },
   {
    "duration": 508,
    "start_time": "2024-03-17T16:16:28.079Z"
   },
   {
    "duration": 694,
    "start_time": "2024-03-17T16:16:28.589Z"
   },
   {
    "duration": 9,
    "start_time": "2024-03-17T16:16:29.285Z"
   },
   {
    "duration": 87,
    "start_time": "2024-03-17T16:16:29.297Z"
   },
   {
    "duration": 87,
    "start_time": "2024-03-17T16:16:29.386Z"
   },
   {
    "duration": 7,
    "start_time": "2024-03-17T16:16:29.475Z"
   },
   {
    "duration": 389,
    "start_time": "2024-03-17T16:16:29.484Z"
   },
   {
    "duration": 9,
    "start_time": "2024-03-17T16:16:29.875Z"
   },
   {
    "duration": 13,
    "start_time": "2024-03-17T16:16:29.886Z"
   },
   {
    "duration": 82,
    "start_time": "2024-03-17T16:16:29.901Z"
   },
   {
    "duration": 6,
    "start_time": "2024-03-17T16:16:29.985Z"
   },
   {
    "duration": 89,
    "start_time": "2024-03-17T16:16:29.992Z"
   },
   {
    "duration": 89,
    "start_time": "2024-03-17T16:16:30.088Z"
   },
   {
    "duration": 12,
    "start_time": "2024-03-17T16:16:30.179Z"
   },
   {
    "duration": 806,
    "start_time": "2024-03-17T16:16:30.193Z"
   },
   {
    "duration": 8,
    "start_time": "2024-03-17T16:16:31.074Z"
   },
   {
    "duration": 104,
    "start_time": "2024-03-17T16:16:31.085Z"
   },
   {
    "duration": 93,
    "start_time": "2024-03-17T16:16:31.191Z"
   },
   {
    "duration": 107,
    "start_time": "2024-03-17T16:16:31.286Z"
   },
   {
    "duration": 91,
    "start_time": "2024-03-17T16:16:31.395Z"
   },
   {
    "duration": 4,
    "start_time": "2024-03-17T16:16:31.488Z"
   },
   {
    "duration": 94,
    "start_time": "2024-03-17T16:16:31.494Z"
   },
   {
    "duration": 102,
    "start_time": "2024-03-17T16:16:31.590Z"
   },
   {
    "duration": 79,
    "start_time": "2024-03-17T16:16:31.695Z"
   },
   {
    "duration": 96,
    "start_time": "2024-03-17T16:16:31.777Z"
   },
   {
    "duration": 1035,
    "start_time": "2024-03-17T16:16:31.876Z"
   },
   {
    "duration": 61,
    "start_time": "2024-03-17T16:16:32.913Z"
   },
   {
    "duration": 9,
    "start_time": "2024-03-17T16:16:32.975Z"
   },
   {
    "duration": 588,
    "start_time": "2024-03-17T16:16:32.985Z"
   },
   {
    "duration": 9,
    "start_time": "2024-03-17T16:16:33.574Z"
   },
   {
    "duration": 8,
    "start_time": "2024-03-17T16:16:33.584Z"
   },
   {
    "duration": 20,
    "start_time": "2024-03-17T16:16:33.594Z"
   },
   {
    "duration": 67,
    "start_time": "2024-03-17T16:16:33.615Z"
   },
   {
    "duration": 128,
    "start_time": "2024-03-17T16:16:33.684Z"
   },
   {
    "duration": 67,
    "start_time": "2024-03-17T16:16:33.814Z"
   },
   {
    "duration": 29,
    "start_time": "2024-03-17T16:16:33.883Z"
   },
   {
    "duration": 3,
    "start_time": "2024-03-17T16:16:33.914Z"
   },
   {
    "duration": 16,
    "start_time": "2024-03-17T16:16:33.973Z"
   },
   {
    "duration": 27,
    "start_time": "2024-03-17T16:16:33.990Z"
   },
   {
    "duration": 57,
    "start_time": "2024-03-17T16:16:34.019Z"
   },
   {
    "duration": 3,
    "start_time": "2024-03-17T16:16:34.077Z"
   },
   {
    "duration": 7,
    "start_time": "2024-03-17T16:16:34.082Z"
   },
   {
    "duration": 8,
    "start_time": "2024-03-17T16:16:34.090Z"
   },
   {
    "duration": 75,
    "start_time": "2024-03-17T16:16:34.100Z"
   },
   {
    "duration": 4,
    "start_time": "2024-03-17T16:16:34.178Z"
   },
   {
    "duration": 19,
    "start_time": "2024-03-17T16:16:34.183Z"
   },
   {
    "duration": 18,
    "start_time": "2024-03-17T16:16:34.204Z"
   },
   {
    "duration": 58,
    "start_time": "2024-03-17T16:16:34.223Z"
   },
   {
    "duration": 14,
    "start_time": "2024-03-17T16:16:34.283Z"
   },
   {
    "duration": 16,
    "start_time": "2024-03-17T16:16:34.299Z"
   },
   {
    "duration": 70,
    "start_time": "2024-03-17T16:16:34.316Z"
   },
   {
    "duration": 385,
    "start_time": "2024-03-17T16:16:34.388Z"
   },
   {
    "duration": 398,
    "start_time": "2024-03-17T16:16:34.775Z"
   },
   {
    "duration": 5,
    "start_time": "2024-03-17T16:16:35.175Z"
   },
   {
    "duration": 15,
    "start_time": "2024-03-17T16:16:35.181Z"
   },
   {
    "duration": 389,
    "start_time": "2024-03-17T16:16:35.205Z"
   },
   {
    "duration": 7,
    "start_time": "2024-03-17T16:44:46.141Z"
   },
   {
    "duration": 4,
    "start_time": "2024-03-17T16:50:19.678Z"
   },
   {
    "duration": 3,
    "start_time": "2024-03-17T16:50:31.711Z"
   },
   {
    "duration": 3,
    "start_time": "2024-03-17T16:50:32.777Z"
   },
   {
    "duration": 2,
    "start_time": "2024-03-17T16:50:33.004Z"
   },
   {
    "duration": 10,
    "start_time": "2024-03-17T16:50:33.197Z"
   },
   {
    "duration": 905,
    "start_time": "2024-03-17T16:50:33.391Z"
   },
   {
    "duration": 1299,
    "start_time": "2024-03-17T16:50:39.248Z"
   },
   {
    "duration": 81,
    "start_time": "2024-03-17T16:50:40.548Z"
   },
   {
    "duration": 78,
    "start_time": "2024-03-17T16:50:40.631Z"
   },
   {
    "duration": 59,
    "start_time": "2024-03-17T16:50:40.711Z"
   },
   {
    "duration": 3,
    "start_time": "2024-03-17T16:50:40.771Z"
   },
   {
    "duration": 32,
    "start_time": "2024-03-17T16:50:40.776Z"
   },
   {
    "duration": 15,
    "start_time": "2024-03-17T16:50:40.809Z"
   },
   {
    "duration": 14,
    "start_time": "2024-03-17T16:50:40.825Z"
   },
   {
    "duration": 8,
    "start_time": "2024-03-17T16:50:40.841Z"
   },
   {
    "duration": 30,
    "start_time": "2024-03-17T16:50:40.852Z"
   },
   {
    "duration": 4,
    "start_time": "2024-03-17T16:50:40.884Z"
   },
   {
    "duration": 5,
    "start_time": "2024-03-17T16:50:40.889Z"
   },
   {
    "duration": 10,
    "start_time": "2024-03-17T16:50:40.895Z"
   },
   {
    "duration": 17,
    "start_time": "2024-03-17T16:50:40.907Z"
   },
   {
    "duration": 11,
    "start_time": "2024-03-17T16:50:40.925Z"
   },
   {
    "duration": 8,
    "start_time": "2024-03-17T16:50:40.937Z"
   },
   {
    "duration": 29,
    "start_time": "2024-03-17T16:50:40.946Z"
   },
   {
    "duration": 186,
    "start_time": "2024-03-17T16:50:40.977Z"
   },
   {
    "duration": 9,
    "start_time": "2024-03-17T16:50:41.165Z"
   },
   {
    "duration": 25,
    "start_time": "2024-03-17T16:50:41.175Z"
   },
   {
    "duration": 149,
    "start_time": "2024-03-17T16:50:41.202Z"
   },
   {
    "duration": 4,
    "start_time": "2024-03-17T16:50:41.353Z"
   },
   {
    "duration": 18,
    "start_time": "2024-03-17T16:50:41.359Z"
   },
   {
    "duration": 108,
    "start_time": "2024-03-17T16:50:41.378Z"
   },
   {
    "duration": 8,
    "start_time": "2024-03-17T16:50:41.487Z"
   },
   {
    "duration": 12,
    "start_time": "2024-03-17T16:50:41.496Z"
   },
   {
    "duration": 10,
    "start_time": "2024-03-17T16:50:41.509Z"
   },
   {
    "duration": 315,
    "start_time": "2024-03-17T16:50:41.522Z"
   },
   {
    "duration": 190,
    "start_time": "2024-03-17T16:50:41.838Z"
   },
   {
    "duration": 144,
    "start_time": "2024-03-17T16:50:42.030Z"
   },
   {
    "duration": 9,
    "start_time": "2024-03-17T16:50:42.176Z"
   },
   {
    "duration": 23,
    "start_time": "2024-03-17T16:50:42.187Z"
   },
   {
    "duration": 14,
    "start_time": "2024-03-17T16:50:42.212Z"
   },
   {
    "duration": 6,
    "start_time": "2024-03-17T16:50:42.227Z"
   },
   {
    "duration": 150,
    "start_time": "2024-03-17T16:50:42.235Z"
   },
   {
    "duration": 9,
    "start_time": "2024-03-17T16:50:42.386Z"
   },
   {
    "duration": 15,
    "start_time": "2024-03-17T16:50:42.396Z"
   },
   {
    "duration": 8,
    "start_time": "2024-03-17T16:50:42.412Z"
   },
   {
    "duration": 6,
    "start_time": "2024-03-17T16:50:42.422Z"
   },
   {
    "duration": 43,
    "start_time": "2024-03-17T16:50:42.430Z"
   },
   {
    "duration": 14,
    "start_time": "2024-03-17T16:50:42.474Z"
   },
   {
    "duration": 12,
    "start_time": "2024-03-17T16:50:42.489Z"
   },
   {
    "duration": 219,
    "start_time": "2024-03-17T16:50:42.502Z"
   },
   {
    "duration": 8,
    "start_time": "2024-03-17T16:50:42.723Z"
   },
   {
    "duration": 20,
    "start_time": "2024-03-17T16:50:42.732Z"
   },
   {
    "duration": 29,
    "start_time": "2024-03-17T16:50:42.754Z"
   },
   {
    "duration": 17,
    "start_time": "2024-03-17T16:50:42.785Z"
   },
   {
    "duration": 17,
    "start_time": "2024-03-17T16:50:42.804Z"
   },
   {
    "duration": 3,
    "start_time": "2024-03-17T16:50:42.823Z"
   },
   {
    "duration": 46,
    "start_time": "2024-03-17T16:50:42.828Z"
   },
   {
    "duration": 4,
    "start_time": "2024-03-17T16:50:42.876Z"
   },
   {
    "duration": 5,
    "start_time": "2024-03-17T16:50:42.881Z"
   },
   {
    "duration": 91,
    "start_time": "2024-03-17T16:50:42.887Z"
   },
   {
    "duration": 276,
    "start_time": "2024-03-17T16:50:42.980Z"
   },
   {
    "duration": 17,
    "start_time": "2024-03-17T16:50:43.257Z"
   },
   {
    "duration": 8,
    "start_time": "2024-03-17T16:50:43.275Z"
   },
   {
    "duration": 296,
    "start_time": "2024-03-17T16:50:43.284Z"
   },
   {
    "duration": 8,
    "start_time": "2024-03-17T16:50:43.582Z"
   },
   {
    "duration": 8,
    "start_time": "2024-03-17T16:50:43.591Z"
   },
   {
    "duration": 3,
    "start_time": "2024-03-17T16:50:43.600Z"
   },
   {
    "duration": 14,
    "start_time": "2024-03-17T16:50:43.605Z"
   },
   {
    "duration": 92,
    "start_time": "2024-03-17T16:50:43.620Z"
   },
   {
    "duration": 15,
    "start_time": "2024-03-17T16:50:43.714Z"
   },
   {
    "duration": 43,
    "start_time": "2024-03-17T16:50:43.731Z"
   },
   {
    "duration": 3,
    "start_time": "2024-03-17T16:50:43.775Z"
   },
   {
    "duration": 30,
    "start_time": "2024-03-17T16:50:43.779Z"
   },
   {
    "duration": 19,
    "start_time": "2024-03-17T16:50:43.810Z"
   },
   {
    "duration": 7,
    "start_time": "2024-03-17T16:50:43.832Z"
   },
   {
    "duration": 3,
    "start_time": "2024-03-17T16:50:43.841Z"
   },
   {
    "duration": 30,
    "start_time": "2024-03-17T16:50:43.845Z"
   },
   {
    "duration": 5,
    "start_time": "2024-03-17T16:50:43.877Z"
   },
   {
    "duration": 7,
    "start_time": "2024-03-17T16:50:43.883Z"
   },
   {
    "duration": 8,
    "start_time": "2024-03-17T16:50:43.892Z"
   },
   {
    "duration": 11,
    "start_time": "2024-03-17T16:50:43.901Z"
   },
   {
    "duration": 13,
    "start_time": "2024-03-17T16:50:43.914Z"
   },
   {
    "duration": 6,
    "start_time": "2024-03-17T16:50:43.929Z"
   },
   {
    "duration": 45,
    "start_time": "2024-03-17T16:50:43.937Z"
   },
   {
    "duration": 13,
    "start_time": "2024-03-17T16:50:43.984Z"
   },
   {
    "duration": 35,
    "start_time": "2024-03-17T16:50:43.998Z"
   },
   {
    "duration": 6,
    "start_time": "2024-03-17T16:50:44.035Z"
   },
   {
    "duration": 193,
    "start_time": "2024-03-17T16:50:44.043Z"
   },
   {
    "duration": 182,
    "start_time": "2024-03-17T16:50:44.242Z"
   },
   {
    "duration": 5,
    "start_time": "2024-03-17T16:50:44.425Z"
   },
   {
    "duration": 14,
    "start_time": "2024-03-17T16:50:44.431Z"
   },
   {
    "duration": 189,
    "start_time": "2024-03-17T16:50:44.447Z"
   },
   {
    "duration": 7,
    "start_time": "2024-03-17T16:50:44.637Z"
   },
   {
    "duration": 9,
    "start_time": "2024-03-17T16:50:44.646Z"
   },
   {
    "duration": 6,
    "start_time": "2024-03-17T16:50:44.674Z"
   },
   {
    "duration": 14,
    "start_time": "2024-03-17T16:50:44.682Z"
   },
   {
    "duration": 15,
    "start_time": "2024-03-17T16:50:44.698Z"
   },
   {
    "duration": 14,
    "start_time": "2024-03-17T16:50:44.715Z"
   },
   {
    "duration": 48,
    "start_time": "2024-03-17T16:50:44.731Z"
   },
   {
    "duration": 18,
    "start_time": "2024-03-17T16:50:44.781Z"
   },
   {
    "duration": 5,
    "start_time": "2024-03-17T16:50:44.801Z"
   },
   {
    "duration": 5,
    "start_time": "2024-03-17T16:50:44.808Z"
   },
   {
    "duration": 5,
    "start_time": "2024-03-17T16:50:44.814Z"
   },
   {
    "duration": 25,
    "start_time": "2024-03-17T16:50:44.821Z"
   },
   {
    "duration": 901,
    "start_time": "2024-03-17T16:50:44.848Z"
   },
   {
    "duration": 3,
    "start_time": "2024-03-17T16:50:45.751Z"
   },
   {
    "duration": 26,
    "start_time": "2024-03-17T16:50:45.756Z"
   },
   {
    "duration": 17,
    "start_time": "2024-03-17T16:50:45.784Z"
   },
   {
    "duration": 14,
    "start_time": "2024-03-17T16:50:45.802Z"
   },
   {
    "duration": 11,
    "start_time": "2024-03-17T16:50:45.818Z"
   },
   {
    "duration": 831,
    "start_time": "2024-03-17T16:50:45.830Z"
   },
   {
    "duration": 1288,
    "start_time": "2024-03-17T16:52:18.903Z"
   },
   {
    "duration": 76,
    "start_time": "2024-03-17T16:52:20.193Z"
   },
   {
    "duration": 85,
    "start_time": "2024-03-17T16:52:20.270Z"
   },
   {
    "duration": 66,
    "start_time": "2024-03-17T16:52:20.357Z"
   },
   {
    "duration": 2,
    "start_time": "2024-03-17T16:52:20.425Z"
   },
   {
    "duration": 30,
    "start_time": "2024-03-17T16:52:20.429Z"
   },
   {
    "duration": 19,
    "start_time": "2024-03-17T16:52:20.461Z"
   },
   {
    "duration": 14,
    "start_time": "2024-03-17T16:52:20.481Z"
   },
   {
    "duration": 4,
    "start_time": "2024-03-17T16:52:20.497Z"
   },
   {
    "duration": 12,
    "start_time": "2024-03-17T16:52:20.504Z"
   },
   {
    "duration": 4,
    "start_time": "2024-03-17T16:52:20.517Z"
   },
   {
    "duration": 3,
    "start_time": "2024-03-17T16:52:20.523Z"
   },
   {
    "duration": 19,
    "start_time": "2024-03-17T16:52:20.527Z"
   },
   {
    "duration": 35,
    "start_time": "2024-03-17T16:52:20.548Z"
   },
   {
    "duration": 8,
    "start_time": "2024-03-17T16:52:20.585Z"
   },
   {
    "duration": 13,
    "start_time": "2024-03-17T16:52:20.595Z"
   },
   {
    "duration": 20,
    "start_time": "2024-03-17T16:52:20.610Z"
   },
   {
    "duration": 213,
    "start_time": "2024-03-17T16:52:20.632Z"
   },
   {
    "duration": 4,
    "start_time": "2024-03-17T16:52:20.848Z"
   },
   {
    "duration": 37,
    "start_time": "2024-03-17T16:52:20.854Z"
   },
   {
    "duration": 163,
    "start_time": "2024-03-17T16:52:20.893Z"
   },
   {
    "duration": 4,
    "start_time": "2024-03-17T16:52:21.057Z"
   },
   {
    "duration": 33,
    "start_time": "2024-03-17T16:52:21.062Z"
   },
   {
    "duration": 115,
    "start_time": "2024-03-17T16:52:21.097Z"
   },
   {
    "duration": 7,
    "start_time": "2024-03-17T16:52:21.214Z"
   },
   {
    "duration": 19,
    "start_time": "2024-03-17T16:52:21.223Z"
   },
   {
    "duration": 31,
    "start_time": "2024-03-17T16:52:21.244Z"
   },
   {
    "duration": 335,
    "start_time": "2024-03-17T16:52:21.279Z"
   },
   {
    "duration": 194,
    "start_time": "2024-03-17T16:52:21.616Z"
   },
   {
    "duration": 137,
    "start_time": "2024-03-17T16:52:21.812Z"
   },
   {
    "duration": 8,
    "start_time": "2024-03-17T16:52:21.951Z"
   },
   {
    "duration": 34,
    "start_time": "2024-03-17T16:52:21.973Z"
   },
   {
    "duration": 20,
    "start_time": "2024-03-17T16:52:22.008Z"
   },
   {
    "duration": 34,
    "start_time": "2024-03-17T16:52:22.030Z"
   },
   {
    "duration": 139,
    "start_time": "2024-03-17T16:52:22.065Z"
   },
   {
    "duration": 10,
    "start_time": "2024-03-17T16:52:22.205Z"
   },
   {
    "duration": 14,
    "start_time": "2024-03-17T16:52:22.217Z"
   },
   {
    "duration": 8,
    "start_time": "2024-03-17T16:52:22.233Z"
   },
   {
    "duration": 30,
    "start_time": "2024-03-17T16:52:22.243Z"
   },
   {
    "duration": 11,
    "start_time": "2024-03-17T16:52:22.275Z"
   },
   {
    "duration": 22,
    "start_time": "2024-03-17T16:52:22.288Z"
   },
   {
    "duration": 24,
    "start_time": "2024-03-17T16:52:22.312Z"
   },
   {
    "duration": 204,
    "start_time": "2024-03-17T16:52:22.338Z"
   },
   {
    "duration": 7,
    "start_time": "2024-03-17T16:52:22.544Z"
   },
   {
    "duration": 30,
    "start_time": "2024-03-17T16:52:22.552Z"
   },
   {
    "duration": 15,
    "start_time": "2024-03-17T16:52:22.584Z"
   },
   {
    "duration": 29,
    "start_time": "2024-03-17T16:52:22.600Z"
   },
   {
    "duration": 19,
    "start_time": "2024-03-17T16:52:22.631Z"
   },
   {
    "duration": 7,
    "start_time": "2024-03-17T16:52:22.652Z"
   },
   {
    "duration": 40,
    "start_time": "2024-03-17T16:52:22.661Z"
   },
   {
    "duration": 9,
    "start_time": "2024-03-17T16:52:22.703Z"
   },
   {
    "duration": 7,
    "start_time": "2024-03-17T16:52:22.713Z"
   },
   {
    "duration": 83,
    "start_time": "2024-03-17T16:52:22.722Z"
   },
   {
    "duration": 268,
    "start_time": "2024-03-17T16:52:22.807Z"
   },
   {
    "duration": 8,
    "start_time": "2024-03-17T16:52:23.077Z"
   },
   {
    "duration": 14,
    "start_time": "2024-03-17T16:52:23.087Z"
   },
   {
    "duration": 267,
    "start_time": "2024-03-17T16:52:23.102Z"
   },
   {
    "duration": 8,
    "start_time": "2024-03-17T16:52:23.373Z"
   },
   {
    "duration": 8,
    "start_time": "2024-03-17T16:52:23.382Z"
   },
   {
    "duration": 5,
    "start_time": "2024-03-17T16:52:23.391Z"
   },
   {
    "duration": 16,
    "start_time": "2024-03-17T16:52:23.397Z"
   },
   {
    "duration": 108,
    "start_time": "2024-03-17T16:52:23.414Z"
   },
   {
    "duration": 12,
    "start_time": "2024-03-17T16:52:23.523Z"
   },
   {
    "duration": 37,
    "start_time": "2024-03-17T16:52:23.537Z"
   },
   {
    "duration": 4,
    "start_time": "2024-03-17T16:52:23.575Z"
   },
   {
    "duration": 17,
    "start_time": "2024-03-17T16:52:23.581Z"
   },
   {
    "duration": 13,
    "start_time": "2024-03-17T16:52:23.600Z"
   },
   {
    "duration": 13,
    "start_time": "2024-03-17T16:52:23.615Z"
   },
   {
    "duration": 15,
    "start_time": "2024-03-17T16:52:23.630Z"
   },
   {
    "duration": 13,
    "start_time": "2024-03-17T16:52:23.646Z"
   },
   {
    "duration": 6,
    "start_time": "2024-03-17T16:52:23.672Z"
   },
   {
    "duration": 5,
    "start_time": "2024-03-17T16:52:23.680Z"
   },
   {
    "duration": 6,
    "start_time": "2024-03-17T16:52:23.687Z"
   },
   {
    "duration": 16,
    "start_time": "2024-03-17T16:52:23.694Z"
   },
   {
    "duration": 27,
    "start_time": "2024-03-17T16:52:23.711Z"
   },
   {
    "duration": 5,
    "start_time": "2024-03-17T16:52:23.739Z"
   },
   {
    "duration": 14,
    "start_time": "2024-03-17T16:52:23.745Z"
   },
   {
    "duration": 18,
    "start_time": "2024-03-17T16:52:23.760Z"
   },
   {
    "duration": 8,
    "start_time": "2024-03-17T16:52:23.779Z"
   },
   {
    "duration": 7,
    "start_time": "2024-03-17T16:52:23.788Z"
   },
   {
    "duration": 182,
    "start_time": "2024-03-17T16:52:23.796Z"
   },
   {
    "duration": 175,
    "start_time": "2024-03-17T16:52:23.984Z"
   },
   {
    "duration": 5,
    "start_time": "2024-03-17T16:52:24.160Z"
   },
   {
    "duration": 3,
    "start_time": "2024-03-17T16:52:24.173Z"
   },
   {
    "duration": 188,
    "start_time": "2024-03-17T16:52:24.178Z"
   },
   {
    "duration": 12,
    "start_time": "2024-03-17T16:52:24.368Z"
   },
   {
    "duration": 24,
    "start_time": "2024-03-17T16:52:24.381Z"
   },
   {
    "duration": 7,
    "start_time": "2024-03-17T16:52:24.407Z"
   },
   {
    "duration": 62,
    "start_time": "2024-03-17T16:52:24.416Z"
   },
   {
    "duration": 15,
    "start_time": "2024-03-17T16:52:24.480Z"
   },
   {
    "duration": 14,
    "start_time": "2024-03-17T16:52:24.497Z"
   },
   {
    "duration": 38,
    "start_time": "2024-03-17T16:52:24.513Z"
   },
   {
    "duration": 14,
    "start_time": "2024-03-17T16:52:24.553Z"
   },
   {
    "duration": 5,
    "start_time": "2024-03-17T16:52:24.568Z"
   },
   {
    "duration": 8,
    "start_time": "2024-03-17T16:52:24.575Z"
   },
   {
    "duration": 2,
    "start_time": "2024-03-17T16:52:24.585Z"
   },
   {
    "duration": 17,
    "start_time": "2024-03-17T16:52:24.589Z"
   },
   {
    "duration": 848,
    "start_time": "2024-03-17T16:52:24.608Z"
   },
   {
    "duration": 2,
    "start_time": "2024-03-17T16:52:25.458Z"
   },
   {
    "duration": 20,
    "start_time": "2024-03-17T16:52:25.462Z"
   },
   {
    "duration": 26,
    "start_time": "2024-03-17T16:52:25.483Z"
   },
   {
    "duration": 11,
    "start_time": "2024-03-17T16:52:25.511Z"
   },
   {
    "duration": 23,
    "start_time": "2024-03-17T16:52:25.523Z"
   },
   {
    "duration": 822,
    "start_time": "2024-03-17T16:52:25.547Z"
   }
  ],
  "kernelspec": {
   "display_name": "Python 3 (ipykernel)",
   "language": "python",
   "name": "python3"
  },
  "language_info": {
   "codemirror_mode": {
    "name": "ipython",
    "version": 3
   },
   "file_extension": ".py",
   "mimetype": "text/x-python",
   "name": "python",
   "nbconvert_exporter": "python",
   "pygments_lexer": "ipython3",
   "version": "3.11.5"
  },
  "toc": {
   "base_numbering": 1,
   "nav_menu": {},
   "number_sections": true,
   "sideBar": true,
   "skip_h1_title": true,
   "title_cell": "Table of Contents",
   "title_sidebar": "Contents",
   "toc_cell": false,
   "toc_position": {
    "height": "calc(100% - 180px)",
    "left": "10px",
    "top": "150px",
    "width": "260.822px"
   },
   "toc_section_display": true,
   "toc_window_display": true
  },
  "varInspector": {
   "cols": {
    "lenName": 16,
    "lenType": 16,
    "lenVar": 40
   },
   "kernels_config": {
    "python": {
     "delete_cmd_postfix": "",
     "delete_cmd_prefix": "del ",
     "library": "var_list.py",
     "varRefreshCmd": "print(var_dic_list())"
    },
    "r": {
     "delete_cmd_postfix": ") ",
     "delete_cmd_prefix": "rm(",
     "library": "var_list.r",
     "varRefreshCmd": "cat(var_dic_list()) "
    }
   },
   "types_to_exclude": [
    "module",
    "function",
    "builtin_function_or_method",
    "instance",
    "_Feature"
   ],
   "window_display": false
  }
 },
 "nbformat": 4,
 "nbformat_minor": 5
}
